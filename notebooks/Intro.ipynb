{
 "cells": [
  {
   "cell_type": "markdown",
   "id": "9ddb821d-c99d-4584-afdb-fef6e2bca6d9",
   "metadata": {
    "editable": true,
    "slideshow": {
     "slide_type": "slide"
    },
    "tags": []
   },
   "source": [
    "# EMI 2024 \n",
    "## Escuela (de verano) en Métodos Iterativos"
   ]
  },
  {
   "cell_type": "markdown",
   "id": "1bf0fc5e-8a5f-427e-940b-47948ec32be5",
   "metadata": {
    "editable": true,
    "slideshow": {
     "slide_type": "fragment"
    },
    "tags": []
   },
   "source": [
    "- The motivation\n",
    "\n",
    "  3D simulations, HPC"
   ]
  },
  {
   "cell_type": "markdown",
   "id": "877fca8d-57d2-46bc-89e4-fc4d1afbc4b9",
   "metadata": {
    "editable": true,
    "slideshow": {
     "slide_type": "fragment"
    },
    "tags": []
   },
   "source": [
    "- The actual motivation\n",
    "\n",
    "  Upscale simulations, black-box never works"
   ]
  },
  {
   "cell_type": "markdown",
   "id": "a676cc35-f190-4380-838a-781733041c34",
   "metadata": {
    "editable": true,
    "slideshow": {
     "slide_type": "slide"
    },
    "tags": []
   },
   "source": [
    "# The only requirement: Weak formulations\n",
    "\n",
    "$$ -\\Delta u = f \\quad \\Leftrightarrow \\quad \\int \\nabla u \\cdot \\nabla v\\,dx = \\int f v\\,dx \\quad \\forall v \\in V_0$$"
   ]
  },
  {
   "cell_type": "markdown",
   "id": "802f1d98-7ed0-40f8-ab9c-acca23521ae6",
   "metadata": {
    "editable": true,
    "slideshow": {
     "slide_type": "slide"
    },
    "tags": []
   },
   "source": [
    "# Motivation problem: CFD\n",
    "\n",
    "$$ \\begin{aligned}-\\Delta u + \\nabla p = f\\\\ \\mathrm{div}\\, u = 0\\end{aligned} \\Leftrightarrow \\begin{aligned}\\int \\nabla u\\cdot \\nabla v\\,dx + \\int p\\, \\mathrm{div}\\, v\\,dx && \\forall v\\in V \\\\ \\int q \\,\\mathrm{div}\\, u \\,dx = 0 &&\\forall q \\in Q \\end{aligned} \\Leftrightarrow \\begin{bmatrix} \\mathbf{A} & \\mathbf{B}^T \\\\ \\mathbf{B} & \\mathbf{0} \\end{bmatrix}\\begin{bmatrix} \\mathbf{U} \\\\ \\mathbf{P} \\end{bmatrix} = \\begin{bmatrix} \\mathbf{F} \\\\ \\mathbf{0} \\end{bmatrix}$$"
   ]
  },
  {
   "cell_type": "markdown",
   "id": "ce3dffec-4993-4727-b243-5512adb4efb6",
   "metadata": {},
   "source": [
    "# Import and Geometry"
   ]
  },
  {
   "cell_type": "code",
   "execution_count": 1,
   "id": "6ebe2304-bd9d-47e5-8bc9-88417b760b3e",
   "metadata": {
    "editable": true,
    "slideshow": {
     "slide_type": "subslide"
    },
    "tags": []
   },
   "outputs": [
    {
     "data": {
      "application/vnd.jupyter.widget-view+json": {
       "model_id": "e5cdec34b531483ab7dca6fb9fdab66b",
       "version_major": 2,
       "version_minor": 0
      },
      "text/plain": [
       "WebGuiWidget(layout=Layout(height='50vh', width='100%'), value={'ngsolve_version': 'Netgen x.x', 'mesh_dim': 3…"
      ]
     },
     "metadata": {},
     "output_type": "display_data"
    }
   ],
   "source": [
    "from ngsolve import *\n",
    "from ngsolve.krylovspace import GMResSolver\n",
    "from ngsolve.webgui import Draw\n",
    "from netgen.occ import *\n",
    "\n",
    "shape = Rectangle(2,0.41).Circle(0.2,0.2,0.05).Reverse().Face()\n",
    "shape.edges.name=\"wall\"\n",
    "shape.edges.Min(X).name=\"inlet\"\n",
    "shape.edges.Max(X).name=\"outlet\"\n",
    "Draw (shape);"
   ]
  },
  {
   "cell_type": "code",
   "execution_count": 2,
   "id": "406950fa-3628-466d-aadb-5134e5c7dbf6",
   "metadata": {
    "editable": true,
    "slideshow": {
     "slide_type": "subslide"
    },
    "tags": []
   },
   "outputs": [
    {
     "data": {
      "application/vnd.jupyter.widget-view+json": {
       "model_id": "95e74a5988d0472e8469a2759678cf63",
       "version_major": 2,
       "version_minor": 0
      },
      "text/plain": [
       "WebGuiWidget(layout=Layout(height='50vh', width='100%'), value={'gui_settings': {}, 'ngsolve_version': '6.2.23…"
      ]
     },
     "metadata": {},
     "output_type": "display_data"
    }
   ],
   "source": [
    "geo = OCCGeometry(shape, dim=2)\n",
    "mesh = Mesh(geo.GenerateMesh(maxh=0.05))\n",
    "mesh.Curve(3)\n",
    "Draw (mesh);"
   ]
  },
  {
   "cell_type": "code",
   "execution_count": 3,
   "id": "53cf4481-8f6a-4b4d-802c-17afe3de3142",
   "metadata": {
    "editable": true,
    "slideshow": {
     "slide_type": ""
    },
    "tags": []
   },
   "outputs": [
    {
     "data": {
      "application/vnd.jupyter.widget-view+json": {
       "model_id": "24a90100a546478d84d897ffca3d1928",
       "version_major": 2,
       "version_minor": 0
      },
      "text/plain": [
       "WebGuiWidget(layout=Layout(height='50vh', width='100%'), value={'gui_settings': {}, 'ngsolve_version': '6.2.23…"
      ]
     },
     "metadata": {},
     "output_type": "display_data"
    }
   ],
   "source": [
    "V = VectorH1(mesh, order=2, dirichlet=\"wall|inlet|cyl\")\n",
    "Q = H1(mesh, order=1)\n",
    "X = V*Q\n",
    "(u,p),(v,q) = X.TnT()\n",
    "\n",
    "stokes = InnerProduct(Grad(u), Grad(v))*dx + div(u)*q*dx + div(v)*p*dx\n",
    "#stokes = InnerProduct(Grad(u), Grad(v))*dx\n",
    "a = BilinearForm(stokes)\n",
    "f = LinearForm(v[0]*dx)\n",
    "gf = GridFunction(X)\n",
    "gfu, gfp = gf.components\n",
    "\n",
    "uin = CF( (1.5*4*y*(0.41-y)/(0.41*0.41), 0) )\n",
    "gfu.Set(uin, definedon=mesh.Boundaries(\"inlet\"))\n",
    "Draw(gfu, mesh, min=0, max=2)\n",
    "SetVisualization(max=2)"
   ]
  },
  {
   "cell_type": "code",
   "execution_count": 4,
   "id": "97839f6d-45f2-4f0a-a32e-e0a26d87d32b",
   "metadata": {},
   "outputs": [
    {
     "data": {
      "application/vnd.jupyter.widget-view+json": {
       "model_id": "8ea17b3fdb6248239b5f2ebe4f820adf",
       "version_major": 2,
       "version_minor": 0
      },
      "text/plain": [
       "WebGuiWidget(layout=Layout(height='50vh', width='100%'), value={'gui_settings': {}, 'ngsolve_version': '6.2.23…"
      ]
     },
     "metadata": {},
     "output_type": "display_data"
    },
    {
     "data": {
      "text/plain": [
       "BaseWebGuiScene"
      ]
     },
     "execution_count": 4,
     "metadata": {},
     "output_type": "execute_result"
    }
   ],
   "source": [
    "#pre = Preconditioner(a, \"local\")\n",
    "a.Assemble()\n",
    "f.Assemble()\n",
    "res = f.vec -a.mat * gf.vec\n",
    "#inv = CGSolver(a.mat, pre.mat, precision=1e-6, printrates=True)\n",
    "#GMResSolver(A=a.mat, pre=pre.mat, b=gf.vec, tol=1e-6, printrates=True, x=u.vec)\n",
    "inv = a.mat.Inverse(freedofs=X.FreeDofs(), inverse=\"umfpack\")\n",
    "gf.vec.data += inv * res\n",
    "#gf.vec.data += a.mat.Inverse(V.FreeDofs(), inverse=\"sparsecholesky\") * res\n",
    "Draw(gfu)"
   ]
  },
  {
   "cell_type": "code",
   "execution_count": 5,
   "id": "742128d2-ede1-4a6b-a2bf-1a876a249f00",
   "metadata": {},
   "outputs": [
    {
     "name": "stdout",
     "output_type": "stream",
     "text": [
      "Number of non-zeros of A: 110037\n",
      "Number of non-zeros of L+U: 697406\n",
      "Ratio of non-zeros: 0.15778040338052726\n"
     ]
    },
    {
     "name": "stderr",
     "output_type": "stream",
     "text": [
      "/usr/lib/python3/dist-packages/scipy/sparse/linalg/_dsolve/linsolve.py:322: SparseEfficiencyWarning: splu requires CSC matrix format\n",
      "  warn('splu requires CSC matrix format', SparseEfficiencyWarning)\n"
     ]
    },
    {
     "data": {
      "image/png": "[encoded data removed]",
      "text/plain": [
       "<Figure size 640x480 with 1 Axes>"
      ]
     },
     "metadata": {},
     "output_type": "display_data"
    }
   ],
   "source": [
    "# Now we compute the nonzeros in the LU factorization\n",
    "\n",
    "rows,cols,vals = a.mat.COO()\n",
    "print(\"Number of non-zeros of A:\", len(vals))\n",
    "\n",
    "import scipy.sparse as sp\n",
    "A = sp.csr_matrix((vals,(rows,cols)))\n",
    "from scipy.sparse.linalg import splu # Sparse LU\n",
    "\n",
    "LU= splu(A)\n",
    "nnzs = LU.L.nnz + LU.U.nnz\n",
    "print(\"Number of non-zeros of L+U:\", nnzs)\n",
    "print(\"Ratio of non-zeros:\", len(vals)/nnzs)\n",
    "import matplotlib.pylab as plt\n",
    "plt.spy(A)\n",
    "plt.show()\n"
   ]
  },
  {
   "cell_type": "code",
   "execution_count": 6,
   "id": "11bd846d-e597-4a47-bf03-6a58ca0ea8fb",
   "metadata": {},
   "outputs": [
    {
     "name": "stdout",
     "output_type": "stream",
     "text": [
      "=======================\n",
      "Using h=0.100\n",
      "Number of non-zeros of A: 35186\n",
      "Number of non-zeros of L+U: 145841\n",
      "Ratio of non-zeros: 0.24126274504426054\n",
      "Memoria para A:  0.28M\n",
      "Memoria para LU: 1.17M\n",
      "=======================\n",
      "Using h=0.050\n",
      "Number of non-zeros of A: 110037\n",
      "Number of non-zeros of L+U: 697406\n",
      "Ratio of non-zeros: 0.15778040338052726\n",
      "Memoria para A:  0.88M\n",
      "Memoria para LU: 5.58M\n",
      "=======================\n",
      "Using h=0.010\n"
     ]
    },
    {
     "name": "stderr",
     "output_type": "stream",
     "text": [
      "/usr/lib/python3/dist-packages/scipy/sparse/linalg/_dsolve/linsolve.py:322: SparseEfficiencyWarning: splu requires CSC matrix format\n",
      "  warn('splu requires CSC matrix format', SparseEfficiencyWarning)\n"
     ]
    },
    {
     "name": "stdout",
     "output_type": "stream",
     "text": [
      "Number of non-zeros of A: 2461830\n",
      "Number of non-zeros of L+U: 54514015\n",
      "Ratio of non-zeros: 0.045159579605354695\n",
      "Memoria para A:  19.69M\n",
      "Memoria para LU: 436.11M\n"
     ]
    }
   ],
   "source": [
    "import matplotlib.pylab as plt\n",
    "def computeNonzeros(maxh):\n",
    "    mesh = Mesh(geo.GenerateMesh(maxh=maxh))\n",
    "    mesh.Curve(3)\n",
    "    V = VectorH1(mesh, order=2, dirichlet=\"wall|inlet|cyl\")\n",
    "    Q = H1(mesh, order=1)\n",
    "    X = V*Q\n",
    "    (u,p),(v,q) = X.TnT()\n",
    "    \n",
    "    stokes = InnerProduct(Grad(u), Grad(v))*dx + div(u)*q*dx + div(v)*p*dx\n",
    "    a = BilinearForm(stokes)\n",
    "    a.Assemble()\n",
    "    rows,cols,vals = a.mat.COO()\n",
    "    nnzA = len(vals)\n",
    "    print(\"Number of non-zeros of A:\", len(vals))\n",
    "    \n",
    "    import scipy.sparse as sp\n",
    "    A = sp.csr_matrix((vals,(rows,cols)))\n",
    "    from scipy.sparse.linalg import splu # Sparse LU\n",
    "    \n",
    "    LU= splu(A)\n",
    "    nnzs = LU.L.nnz + LU.U.nnz\n",
    "    print(\"Number of non-zeros of L+U:\", nnzs)\n",
    "    print(\"Ratio of non-zeros:\", len(vals)/nnzs)\n",
    "    # fig, (ax1, ax2, ax3) = plt.subplots(1, 3)\n",
    "    # ax1.spy(A)\n",
    "    # ax2.spy(LU.L)\n",
    "    # ax3.spy(LU.U)\n",
    "    # plt.show()\n",
    "    return nnzA, nnzs\n",
    "\n",
    "def convertToMb(val):\n",
    "    return val * 8 * 1e-6\n",
    "\n",
    "for h in [0.1, 0.05, 0.01]:\n",
    "    print(\"=======================\")\n",
    "    print(f\"Using h={h:1.3f}\")\n",
    "    nnza, nnzlu = computeNonzeros(h)\n",
    "    memA = convertToMb(nnza)\n",
    "    memLU = convertToMb(nnzlu)\n",
    "    print(f\"Memoria para A:  {memA:.2f}M\")\n",
    "    print(f\"Memoria para LU: {memLU:.2f}M\")"
   ]
  },
  {
   "cell_type": "code",
   "execution_count": null,
   "id": "b70b47a3-ee87-4ce9-8dff-39a2aa9c9eee",
   "metadata": {
    "editable": true,
    "slideshow": {
     "slide_type": ""
    },
    "tags": []
   },
   "outputs": [
    {
     "name": "stdout",
     "output_type": "stream",
     "text": [
      "============\n",
      "Solving for h=0.100\n",
      "\u001b[2KLinearSolver converged in 93 iterations to residual 3.09314858071696e-07\n",
      "============\n",
      "Solving for h=0.050\n",
      "\u001b[2KLinearSolver converged in 98 iterations to residual 3.2063366223913405e-07\n",
      "============\n",
      "Solving for h=0.010\n"
     ]
    }
   ],
   "source": [
    "from time import perf_counter\n",
    "def solveDirect(maxh):\n",
    "    mesh = Mesh(geo.GenerateMesh(maxh=maxh))\n",
    "    mesh.Curve(3)\n",
    "    V = VectorH1(mesh, order=2, dirichlet=\"wall|inlet|cyl\")\n",
    "    Q = H1(mesh, order=1)\n",
    "    X = V*Q\n",
    "    (u,p),(v,q) = X.TnT()\n",
    "    \n",
    "    stokes = InnerProduct(Grad(u), Grad(v))*dx + div(u)*q*dx + div(v)*p*dx\n",
    "    #stokes = InnerProduct(Grad(u), Grad(v))*dx\n",
    "    a = BilinearForm(stokes)\n",
    "    f = LinearForm(v[0]*dx)\n",
    "    gf = GridFunction(X)\n",
    "    gfu, gfp = gf.components\n",
    "    \n",
    "    uin = CF( (1.5*4*y*(0.41-y)/(0.41*0.41), 0) )\n",
    "    \n",
    "    gfu.Set(uin, definedon=mesh.Boundaries(\"inlet\"))\n",
    "    a.Assemble()\n",
    "    f.Assemble()\n",
    "    t0 = perf_counter()\n",
    "    inv = a.mat.Inverse(inverse=\"umfpack\")\n",
    "    gf.vec.data += inv * f.vec\n",
    "    tf = perf_counter() - t0\n",
    "    return tf\n",
    "\n",
    "def solveIterative(maxh):\n",
    "    mesh = Mesh(geo.GenerateMesh(maxh=maxh))\n",
    "    mesh.Curve(3)\n",
    "    V = VectorH1(mesh, order=1, dirichlet=\"wall|inlet|cyl\")\n",
    "    Q = H1(mesh, order=1)\n",
    "    \n",
    "    u,v = V.TnT()\n",
    "    p,q = Q.TnT()\n",
    "\n",
    "    \n",
    "    a = BilinearForm(InnerProduct(Grad(u),Grad(v))*dx, symmetric=True)\n",
    "    b = BilinearForm(div(u)*q*dx).Assemble()\n",
    "    h = specialcf.mesh_size\n",
    "    c = BilinearForm(-0.1*h*h*grad(p)*grad(q)*dx, symmetric=True).Assemble()\n",
    "    \n",
    "    mp = BilinearForm(p*q*dx, symmetric=True)\n",
    "    f = LinearForm(V).Assemble()\n",
    "    g = LinearForm(Q).Assemble();\n",
    "    gfu = GridFunction(V, name=\"u\")\n",
    "    gfp = GridFunction(Q, name=\"p\")\n",
    "    uin = CoefficientFunction( (1.5*4*y*(0.41-y)/(0.41*0.41), 0) )\n",
    "    gfu.Set(uin, definedon=mesh.Boundaries(\"inlet\"))\n",
    "    \n",
    "    \n",
    "    Qjacobi = Preconditioner(mp, \"local\")\n",
    "    Amg = Preconditioner(a, \"h1amg\")\n",
    "    a.Assemble()\n",
    "    mp.Assemble()\n",
    "    K = BlockMatrix( [ [a.mat, b.mat.T], [b.mat, c.mat] ] )\n",
    "    #C = BlockMatrix( [ [Amg.mat, None], [None, Qjacobi.mat] ] )\n",
    "    C = BlockMatrix( [ [a.mat.Inverse(freedofs=V.FreeDofs()), None], [None, mp.mat.Inverse()] ] )\n",
    "    \n",
    "    rhs = BlockVector ( [f.vec, g.vec] )\n",
    "    sol = BlockVector( [gfu.vec, gfp.vec] )\n",
    "    t0 = perf_counter()\n",
    "    solvers.MinRes (mat=K, pre=C, rhs=rhs, sol=sol, printrates='\\r', initialize=False, maxsteps=500);\n",
    "    #solvers.GMRes (K, rhs, pre=C, x=sol, printrates='\\n', tol=1e-6, maxsteps=500);\n",
    "    \n",
    "    tf = perf_counter() - t0\n",
    "    return tf\n",
    "\n",
    "maxh = 0.01\n",
    "tfds = []\n",
    "tfis = []\n",
    "maxhs = [0.1, 0.05, 0.01]\n",
    "for maxh in maxhs:\n",
    "    print(\"============\")\n",
    "    print(f\"Solving for h={maxh:1.3f}\")\n",
    "    tfd = solveDirect(maxh)\n",
    "    tfi =solveIterative(maxh)\n",
    "    tfis.append(tfi)\n",
    "    tfds.append(tfd)"
   ]
  },
  {
   "cell_type": "code",
   "execution_count": null,
   "id": "d11fb1ab-7ad6-42fa-80d7-1cd43f9d73c7",
   "metadata": {},
   "outputs": [],
   "source": [
    "plt.loglog(maxhs, tfis, label=\"Iterative\")\n",
    "plt.loglog(maxhs, tfds, label=\"Direct\")\n",
    "plt.legend()\n",
    "plt.show()"
   ]
  },
  {
   "cell_type": "code",
   "execution_count": null,
   "id": "41146212-0f5b-4195-8fb6-59cc8a10b4ed",
   "metadata": {},
   "outputs": [],
   "source": []
  }
 ],
 "metadata": {
  "kernelspec": {
   "display_name": "Python 3 (ipykernel)",
   "language": "python",
   "name": "python3"
  },
  "language_info": {
   "codemirror_mode": {
    "name": "ipython",
    "version": 3
   },
   "file_extension": ".py",
   "mimetype": "text/x-python",
   "name": "python",
   "nbconvert_exporter": "python",
   "pygments_lexer": "ipython3",
   "version": "3.10.12"
  }
 },
 "nbformat": 4,
 "nbformat_minor": 5
}
