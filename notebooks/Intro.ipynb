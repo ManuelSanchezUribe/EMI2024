{
 "cells": [
  {
   "cell_type": "markdown",
   "id": "9ddb821d-c99d-4584-afdb-fef6e2bca6d9",
   "metadata": {
    "editable": true,
    "slideshow": {
     "slide_type": "slide"
    },
    "tags": []
   },
   "source": [
    "# EMI 2024 \n",
    "## Escuela (de verano) en Métodos Iterativos"
   ]
  },
  {
   "cell_type": "markdown",
   "id": "1bf0fc5e-8a5f-427e-940b-47948ec32be5",
   "metadata": {
    "editable": true,
    "slideshow": {
     "slide_type": "fragment"
    },
    "tags": []
   },
   "source": [
    "- The motivation\n",
    "\n",
    "  3D simulations, HPC"
   ]
  },
  {
   "cell_type": "markdown",
   "id": "877fca8d-57d2-46bc-89e4-fc4d1afbc4b9",
   "metadata": {
    "editable": true,
    "slideshow": {
     "slide_type": "fragment"
    },
    "tags": []
   },
   "source": [
    "- The actual motivation\n",
    "\n",
    "  Upscale simulations, black-box never works"
   ]
  },
  {
   "cell_type": "markdown",
   "id": "a676cc35-f190-4380-838a-781733041c34",
   "metadata": {
    "editable": true,
    "slideshow": {
     "slide_type": "slide"
    },
    "tags": []
   },
   "source": [
    "# The only requirement: Weak formulations\n",
    "\n",
    "$$ -\\Delta u = f \\quad \\Leftrightarrow \\quad \\int \\nabla u \\cdot \\nabla v\\,dx = \\int f v\\,dx \\quad \\forall v \\in V_0$$"
   ]
  },
  {
   "cell_type": "markdown",
   "id": "802f1d98-7ed0-40f8-ab9c-acca23521ae6",
   "metadata": {
    "editable": true,
    "slideshow": {
     "slide_type": "slide"
    },
    "tags": []
   },
   "source": [
    "# Motivation problem: CFD\n",
    "\n",
    "$$ \\begin{aligned}-\\Delta u + \\nabla p = f\\\\ \\mathrm{div}\\, u = 0\\end{aligned} \\Leftrightarrow \\begin{aligned}\\int \\nabla u\\cdot \\nabla v\\,dx + \\int p\\, \\mathrm{div}\\, v\\,dx && \\forall v\\in V \\\\ \\int q \\,\\mathrm{div}\\, u \\,dx = 0 &&\\forall q \\in Q \\end{aligned} \\Leftrightarrow \\begin{bmatrix} \\mathbf{A} & \\mathbf{B}^T \\\\ \\mathbf{B} & \\mathbf{0} \\end{bmatrix}\\begin{bmatrix} \\mathbf{U} \\\\ \\mathbf{P} \\end{bmatrix} = \\begin{bmatrix} \\mathbf{F} \\\\ \\mathbf{0} \\end{bmatrix}$$"
   ]
  },
  {
   "cell_type": "markdown",
   "id": "ce3dffec-4993-4727-b243-5512adb4efb6",
   "metadata": {},
   "source": [
    "# Import and Geometry"
   ]
  },
  {
   "cell_type": "code",
   "execution_count": 6,
   "id": "6ebe2304-bd9d-47e5-8bc9-88417b760b3e",
   "metadata": {
    "editable": true,
    "slideshow": {
     "slide_type": "subslide"
    },
    "tags": []
   },
   "outputs": [
    {
     "data": {
      "application/vnd.jupyter.widget-view+json": {
       "model_id": "7f73147973504e12abe67826103723c9",
       "version_major": 2,
       "version_minor": 0
      },
      "text/plain": [
       "WebGuiWidget(layout=Layout(height='50vh', width='100%'), value={'ngsolve_version': 'Netgen x.x', 'mesh_dim': 3…"
      ]
     },
     "metadata": {},
     "output_type": "display_data"
    }
   ],
   "source": [
    "from ngsolve import *\n",
    "from ngsolve.krylovspace import GMResSolver\n",
    "from ngsolve.webgui import Draw\n",
    "from netgen.occ import *\n",
    "\n",
    "shape = Rectangle(2,0.41).Circle(0.2,0.2,0.05).Reverse().Face()\n",
    "shape.edges.name=\"wall\"\n",
    "shape.edges.Min(X).name=\"inlet\"\n",
    "shape.edges.Max(X).name=\"outlet\"\n",
    "Draw (shape);\n"
   ]
  },
  {
   "cell_type": "code",
   "execution_count": 3,
   "id": "406950fa-3628-466d-aadb-5134e5c7dbf6",
   "metadata": {
    "editable": true,
    "slideshow": {
     "slide_type": "subslide"
    },
    "tags": []
   },
   "outputs": [
    {
     "data": {
      "application/vnd.jupyter.widget-view+json": {
       "model_id": "6f53e33d93d943e98d4b52ec07137e5e",
       "version_major": 2,
       "version_minor": 0
      },
      "text/plain": [
       "WebGuiWidget(layout=Layout(height='50vh', width='100%'), value={'gui_settings': {}, 'ngsolve_version': '6.2.23…"
      ]
     },
     "metadata": {},
     "output_type": "display_data"
    }
   ],
   "source": [
    "geo = OCCGeometry(shape, dim=2)\n",
    "mesh = Mesh(geo.GenerateMesh(maxh=0.05))\n",
    "mesh.Curve(3)\n",
    "Draw (mesh);"
   ]
  },
  {
   "cell_type": "code",
   "execution_count": 58,
   "id": "53cf4481-8f6a-4b4d-802c-17afe3de3142",
   "metadata": {
    "editable": true,
    "slideshow": {
     "slide_type": ""
    },
    "tags": []
   },
   "outputs": [
    {
     "data": {
      "application/vnd.jupyter.widget-view+json": {
       "model_id": "10690545072a48eab50c4736c229adc0",
       "version_major": 2,
       "version_minor": 0
      },
      "text/plain": [
       "WebGuiWidget(layout=Layout(height='50vh', width='100%'), value={'gui_settings': {}, 'ngsolve_version': '6.2.23…"
      ]
     },
     "metadata": {},
     "output_type": "display_data"
    },
    {
     "name": "stdout",
     "output_type": "stream",
     "text": [
      "39\n"
     ]
    }
   ],
   "source": [
    "V = H1(mesh, order=1, dirichlet=\"wall|inlet|cyl\")\n",
    "#Q = H1(mesh, order=1)\n",
    "#X = V*Q\n",
    "#(u,p),(v,q) = X.TnT()\n",
    "u, v = V.TnT()\n",
    "\n",
    "#stokes = InnerProduct(Grad(u), Grad(v))*dx - div(u)*q*dx - div(v)*p*dx\n",
    "stokes = InnerProduct(Grad(u), Grad(v))*dx\n",
    "a = BilinearForm(stokes, symmetric=True)\n",
    "f = LinearForm(v*dx)\n",
    "gf = GridFunction(V)\n",
    "#gfu, gfp = gf.components\n",
    "\n",
    "#uin = CF( (1.5*4*y*(0.41-y)/(0.41*0.41), 0) )\n",
    "uin = CF(1.5*4*y*(0.41-y)/(0.41*0.41))\n",
    "#gfu.Set(uin, definedon=mesh.Boundaries(\"inlet\"))\n",
    "gf.Set(uin, definedon=mesh.Boundaries(\"inlet\"))\n",
    "#Draw(gfu, mesh, min=0, max=2)\n",
    "#SetVisualization(max=2)\n",
    "\n",
    "\n",
    "pre = Preconditioner(a, \"local\")\n",
    "a.Assemble()\n",
    "f.Assemble()\n",
    "res = f.vec -a.mat * gf.vec\n",
    "inv = CGSolver(a.mat, pre.mat, precision=1e-6, printrates=True)\n",
    "#GMResSolver(A=a.mat, pre=pre.mat, b=gf.vec, tol=1e-6, printrates=True, x=u.vec)\n",
    "#inv = a.mat.Inverse(freedofs=X.FreeDofs(), inverse=\"umfpack\")\n",
    "gf.vec.data += inv * res\n",
    "#gf.vec.data += a.mat.Inverse(V.FreeDofs(), inverse=\"sparsecholesky\") * res\n",
    "Draw(gf)\n",
    "print(inv.GetSteps())"
   ]
  },
  {
   "cell_type": "code",
   "execution_count": null,
   "id": "b70b47a3-ee87-4ce9-8dff-39a2aa9c9eee",
   "metadata": {
    "editable": true,
    "slideshow": {
     "slide_type": ""
    },
    "tags": []
   },
   "outputs": [],
   "source": [
    "GM"
   ]
  }
 ],
 "metadata": {
  "kernelspec": {
   "display_name": "Python 3 (ipykernel)",
   "language": "python",
   "name": "python3"
  },
  "language_info": {
   "codemirror_mode": {
    "name": "ipython",
    "version": 3
   },
   "file_extension": ".py",
   "mimetype": "text/x-python",
   "name": "python",
   "nbconvert_exporter": "python",
   "pygments_lexer": "ipython3",
   "version": "3.10.12"
  }
 },
 "nbformat": 4,
 "nbformat_minor": 5
}
