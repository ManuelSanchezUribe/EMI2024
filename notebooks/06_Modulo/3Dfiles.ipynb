{
 "cells": [
  {
   "cell_type": "code",
   "execution_count": 1,
   "id": "ba7d4545",
   "metadata": {},
   "outputs": [],
   "source": [
    "from ngsolve import *\n",
    "from ngsolve.webgui import Draw\n",
    "from netgen.csg import *\n",
    "from netgen.meshing import MeshingStep\n",
    "# mesh = Mesh('spot_triangulated.stl')\n",
    "import netgen.stl as stl\n",
    "\n",
    "# Example:\n",
    "# geo2 = stl.LoadSTLGeometry(\"input.stl\")\n",
    "# m2 = geo2.GenerateMesh (maxh=0.05)\n",
    "# m2.Export(\"export.msh\",\"Gmsh2 Format\")\n",
    "\n",
    "# help(stl.STLGeometry)"
   ]
  },
  {
   "cell_type": "code",
   "execution_count": null,
   "id": "684b1cf0-c733-487c-ad55-477f28e642f7",
   "metadata": {},
   "outputs": [],
   "source": [
    "geo = stl.STLGeometry('spot_triangulated.stl')\n",
    "mesh = Mesh(geo.GenerateMesh())\n",
    "\n",
    "# geo = CSGeometry()\n",
    "# sphere = Sphere(Pnt(0,0,0), 1)\n",
    "# geo.Add(sphere)\n",
    "# mesh = Mesh(geo.GenerateMesh(maxh=0.3, perfstepsend=MeshingStep.MESHSURFACE))\n",
    "# mesh.Curve(2)\n",
    "# Draw(mesh)"
   ]
  },
  {
   "cell_type": "code",
   "execution_count": 6,
   "id": "4d5cc11b-ad94-4bdb-83ce-86a70179e006",
   "metadata": {},
   "outputs": [],
   "source": [
    "geo.Draw()"
   ]
  },
  {
   "cell_type": "code",
   "execution_count": 5,
   "id": "6625ef5e",
   "metadata": {},
   "outputs": [
    {
     "data": {
      "application/vnd.jupyter.widget-view+json": {
       "model_id": "3b2df98234ee4b909d03b8d4bf91437f",
       "version_major": 2,
       "version_minor": 0
      },
      "text/plain": [
       "WebGuiWidget(layout=Layout(height='50vh', width='100%'), value={'gui_settings': {}, 'ngsolve_version': '6.2.23…"
      ]
     },
     "metadata": {},
     "output_type": "display_data"
    },
    {
     "data": {
      "text/plain": [
       "BaseWebGuiScene"
      ]
     },
     "execution_count": 5,
     "metadata": {},
     "output_type": "execute_result"
    }
   ],
   "source": [
    "w = 4\n",
    "p=0.1\n",
    "F = CF((1+sin(w*pi*x))**p*(1+sin(w*pi*y))**p*(1+sin(w*pi*z))**p)\n",
    "Draw(F, mesh)"
   ]
  },
  {
   "cell_type": "code",
   "execution_count": null,
   "id": "b900f54d-f949-4b8f-b403-b52ce5ecafc7",
   "metadata": {},
   "outputs": [],
   "source": [
    "fes = H1(mesh, order=4)\n",
    "u, v = fes.TnT()\n",
    "gf = GridFunction(fes)"
   ]
  },
  {
   "cell_type": "code",
   "execution_count": 45,
   "id": "ccb7e71b",
   "metadata": {},
   "outputs": [],
   "source": [
    "a = BilinearForm(grad(u).Trace() * grad(v).Trace() * ds + u*v*ds).Assemble()\n",
    "f = LinearForm(F * v * ds).Assemble()\n",
    "inv = a.mat.Inverse(fes.FreeDofs())\n",
    "\n",
    "gf.vec.data = inv * f.vec"
   ]
  },
  {
   "cell_type": "code",
   "execution_count": 46,
   "id": "db2f785f-08f9-4907-bbeb-573ae45c5e7f",
   "metadata": {},
   "outputs": [
    {
     "data": {
      "application/vnd.jupyter.widget-view+json": {
       "model_id": "5f464df5a22546f4a7c9344e3e72a45b",
       "version_major": 2,
       "version_minor": 0
      },
      "text/plain": [
       "WebGuiWidget(layout=Layout(height='50vh', width='100%'), value={'gui_settings': {}, 'ngsolve_version': '6.2.23…"
      ]
     },
     "metadata": {},
     "output_type": "display_data"
    },
    {
     "data": {
      "text/plain": [
       "BaseWebGuiScene"
      ]
     },
     "execution_count": 46,
     "metadata": {},
     "output_type": "execute_result"
    }
   ],
   "source": [
    "Draw(gf)"
   ]
  },
  {
   "cell_type": "code",
   "execution_count": null,
   "id": "17e47e81-4b42-4ee2-9c6a-1e94ec99145f",
   "metadata": {},
   "outputs": [],
   "source": []
  }
 ],
 "metadata": {
  "kernelspec": {
   "display_name": "Python 3 (ipykernel)",
   "language": "python",
   "name": "python3"
  },
  "language_info": {
   "codemirror_mode": {
    "name": "ipython",
    "version": 3
   },
   "file_extension": ".py",
   "mimetype": "text/x-python",
   "name": "python",
   "nbconvert_exporter": "python",
   "pygments_lexer": "ipython3",
   "version": "3.10.12"
  },
  "varInspector": {
   "cols": {
    "lenName": 16,
    "lenType": 16,
    "lenVar": 40
   },
   "kernels_config": {
    "python": {
     "delete_cmd_postfix": "",
     "delete_cmd_prefix": "del ",
     "library": "var_list.py",
     "varRefreshCmd": "print(var_dic_list())"
    },
    "r": {
     "delete_cmd_postfix": ") ",
     "delete_cmd_prefix": "rm(",
     "library": "var_list.r",
     "varRefreshCmd": "cat(var_dic_list()) "
    }
   },
   "types_to_exclude": [
    "module",
    "function",
    "builtin_function_or_method",
    "instance",
    "_Feature"
   ],
   "window_display": false
  }
 },
 "nbformat": 4,
 "nbformat_minor": 5
}
