{
 "cells": [
  {
   "cell_type": "code",
   "execution_count": null,
   "id": "a4b70405",
   "metadata": {},
   "outputs": [],
   "source": [
    "from netgen.geom2d import CSG2d, Circle, Rectangle\n",
    "\n",
    "geo = CSG2d()\n",
    "\n",
    "# define some primitives\n",
    "circle = Circle( center=(0,0), radius=0.25, mat=\"circle\", bc=\"bc_circle\" )\n",
    "rect = Rectangle( pmin=(-1,-1), pmax=(1,1), mat=\"out\", bc=\"bc_rect\" )\n",
    "\n",
    "# use operators +, - and * for union, difference and intersection operations\n",
    "# domain1 = circle - rect\n",
    "domain2 = circle * rect\n",
    "# domain2.Mat(\"mat3\").Maxh(0.1) # change domain name and maxh\n",
    "domain3 = rect-circle.Mat('out')\n",
    "\n",
    "# add top level objects to geometry\n",
    "# geo.Add(domain1)\n",
    "geo.Add(domain2)\n",
    "geo.Add(domain3)\n",
    "\n",
    "# generate mesh\n",
    "m = geo.GenerateMesh(maxh=0.3)\n",
    "\n",
    "# use NGSolve just for visualization\n",
    "from ngsolve.webgui import Draw\n",
    "from ngsolve import Mesh, VOL\n",
    "mesh = Mesh(m)\n",
    "mesh.Curve(3)\n",
    "print(mesh.GetMaterials())\n",
    "cf = mesh.RegionCF(VOL, dict(circle=1, out=4))\n",
    "Draw(cf, mesh)"
   ]
  }
 ],
 "metadata": {
  "kernelspec": {
   "display_name": "Python 3 (ipykernel)",
   "language": "python",
   "name": "python3"
  },
  "language_info": {
   "codemirror_mode": {
    "name": "ipython",
    "version": 3
   },
   "file_extension": ".py",
   "mimetype": "text/x-python",
   "name": "python",
   "nbconvert_exporter": "python",
   "pygments_lexer": "ipython3",
   "version": "3.7.9"
  },
  "varInspector": {
   "cols": {
    "lenName": 16,
    "lenType": 16,
    "lenVar": 40
   },
   "kernels_config": {
    "python": {
     "delete_cmd_postfix": "",
     "delete_cmd_prefix": "del ",
     "library": "var_list.py",
     "varRefreshCmd": "print(var_dic_list())"
    },
    "r": {
     "delete_cmd_postfix": ") ",
     "delete_cmd_prefix": "rm(",
     "library": "var_list.r",
     "varRefreshCmd": "cat(var_dic_list()) "
    }
   },
   "types_to_exclude": [
    "module",
    "function",
    "builtin_function_or_method",
    "instance",
    "_Feature"
   ],
   "window_display": false
  }
 },
 "nbformat": 4,
 "nbformat_minor": 5
}
