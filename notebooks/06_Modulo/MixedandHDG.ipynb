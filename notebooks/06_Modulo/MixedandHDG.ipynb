{
 "cells": [
  {
   "cell_type": "markdown",
   "id": "565cb8b8",
   "metadata": {},
   "source": [
    "# Mixed and HDG methods"
   ]
  },
  {
   "cell_type": "code",
   "execution_count": 19,
   "id": "0414578b",
   "metadata": {},
   "outputs": [],
   "source": [
    "from ngsolve import *\n",
    "from ngsolve.webgui import Draw\n"
   ]
  },
  {
   "cell_type": "markdown",
   "id": "65fb9024",
   "metadata": {},
   "source": [
    "## Model problem\n",
    "\n",
    "Poisson equation \n",
    "\\begin{equation}\n",
    "-\\nabla \\cdot (c \\nabla u) = f, \\quad u = u_{d}, \\text{ on } \\Gamma_{D}, \\quad c\\nabla u \\cdot n = g, \\text{ on }\\Gamma_N  \n",
    "\\end{equation}"
   ]
  },
  {
   "cell_type": "code",
   "execution_count": 20,
   "id": "632f414d",
   "metadata": {},
   "outputs": [],
   "source": [
    "mesh = Mesh(unit_square.GenerateMesh(maxh=0.1))\n",
    "source = sin(3.14*x)\n",
    "ud = CF(5)\n",
    "g = mesh.BoundaryCF( {\"left\" : y*(1-y)}, default=0)\n",
    "c = 10"
   ]
  },
  {
   "cell_type": "markdown",
   "id": "949be34e",
   "metadata": {},
   "source": [
    "## Primal formulation and method"
   ]
  },
  {
   "cell_type": "code",
   "execution_count": 10,
   "id": "1d30aae0",
   "metadata": {},
   "outputs": [
    {
     "data": {
      "application/vnd.jupyter.widget-view+json": {
       "model_id": "83736de6053148cc83ab94f931b288de",
       "version_major": 2,
       "version_minor": 0
      },
      "text/plain": [
       "WebGuiWidget(layout=Layout(height='50vh', width='100%'), value={'gui_settings': {}, 'ngsolve_version': '6.2.23…"
      ]
     },
     "metadata": {},
     "output_type": "display_data"
    },
    {
     "data": {
      "application/vnd.jupyter.widget-view+json": {
       "model_id": "ba7550c0a66047daacb6471defced2e4",
       "version_major": 2,
       "version_minor": 0
      },
      "text/plain": [
       "WebGuiWidget(layout=Layout(height='50vh', width='100%'), value={'gui_settings': {}, 'ngsolve_version': '6.2.23…"
      ]
     },
     "metadata": {},
     "output_type": "display_data"
    },
    {
     "data": {
      "text/plain": [
       "BaseWebGuiScene"
      ]
     },
     "execution_count": 10,
     "metadata": {},
     "output_type": "execute_result"
    }
   ],
   "source": [
    "fesp = H1(mesh, order=4, dirichlet=\"bottom\")\n",
    "up, vp = fesp.TnT()\n",
    "\n",
    "ap = BilinearForm(lam*grad(up)*grad(vp)*dx).Assemble()\n",
    "fp = LinearForm(source*vp*dx + g*vp * ds).Assemble()\n",
    "\n",
    "gfup = GridFunction(fesp)\n",
    "gfup.Set(ud, BND)\n",
    "\n",
    "r = fp.vec - ap.mat * gfup.vec\n",
    "gfup.vec.data += ap.mat.Inverse(freedofs=fesp.FreeDofs()) * r\n",
    "Draw (-1*lam * grad(gfup), mesh, \"flux-primal\");\n",
    "Draw (gfup)\n"
   ]
  },
  {
   "cell_type": "markdown",
   "id": "c5b8ef5b",
   "metadata": {},
   "source": [
    "## Mixed formulation and method\n",
    "\\begin{equation}\n",
    "-\\nabla \\cdot (c \\nabla u) = f, \\quad u = u_{d}, \\text{ on } \\Gamma_{D}, \\quad c\\nabla u \\cdot n = g, \\text{ on }\\Gamma_N  \n",
    "\\end{equation}\n",
    "\n",
    "\\begin{equation}\n",
    "a q = \\nabla u, \\quad \\nabla \\cdot q = f, \\quad u = u_{d}, \\text{ on } \\Gamma_{D}, \\quad -q\\cdot n = g, \\text{ on }\\Gamma_N  \n",
    "\\end{equation}"
   ]
  },
  {
   "cell_type": "code",
   "execution_count": 9,
   "id": "3794416a",
   "metadata": {},
   "outputs": [
    {
     "data": {
      "application/vnd.jupyter.widget-view+json": {
       "model_id": "4835172bd8004bc4ab67c1d39d16f9c4",
       "version_major": 2,
       "version_minor": 0
      },
      "text/plain": [
       "WebGuiWidget(layout=Layout(height='50vh', width='100%'), value={'gui_settings': {}, 'ngsolve_version': '6.2.23…"
      ]
     },
     "metadata": {},
     "output_type": "display_data"
    },
    {
     "data": {
      "application/vnd.jupyter.widget-view+json": {
       "model_id": "2dac10dd9a744f33b8513fc75f1a9c46",
       "version_major": 2,
       "version_minor": 0
      },
      "text/plain": [
       "WebGuiWidget(layout=Layout(height='50vh', width='100%'), value={'gui_settings': {}, 'ngsolve_version': '6.2.23…"
      ]
     },
     "metadata": {},
     "output_type": "display_data"
    }
   ],
   "source": [
    "order_flux=1\n",
    "V = HDiv(mesh, order=order_flux, dirichlet=\"right|top|left\")\n",
    "Q = L2(mesh, order=order_flux-1)\n",
    "fesm = V*Q\n",
    "q, u = fesm.TrialFunction()\n",
    "r, v = fesm.TestFunction()\n",
    "normal = specialcf.normal(mesh.dim)\n",
    "\n",
    "afun = 1/lam\n",
    "am = BilinearForm((afun*q*r - div(q)*v - div(r)*u)*dx).Assemble()\n",
    "fm = LinearForm(-source*v*dx - ud*(r.Trace()*normal)*ds).Assemble()\n",
    "\n",
    "gfm = GridFunction(fesm)\n",
    "\n",
    "gfq, gfu = gfm.components\n",
    "gfq.Set(-g*normal, BND)\n",
    "res = fm.vec.data - am.mat * gfm.vec\n",
    "gfm.vec.data += am.mat.Inverse(freedofs=fesm.FreeDofs(), inverse=\"umfpack\") * res\n",
    "# solvers.BVP(bf=am, lf=fm, gf=gfm)\n",
    "Draw (gfsigma, mesh, \"flux-mixed\")\n",
    "Draw (gfu, mesh, \"u-mixed\");"
   ]
  },
  {
   "cell_type": "markdown",
   "id": "75a06712",
   "metadata": {},
   "source": [
    "## HDG formulation and method \n",
    "\n",
    "$$ \\widehat{q}_h\\cdot n = q_h\\cdot n + \\tau(u_h - \\widehat{u}_h)$$\n",
    "\n",
    "\\begin{align*}\n",
    "\\int_{K} a q_h \\cdot r - \\int_{K} u_h\\nabla\\cdot r +\\int_{\\partial K} \\widehat{u}_h r\\cdot n ds &= 0 \\\\\n",
    "\\int_{K} q_h \\cdot\\nabla v + \\int_{\\partial K} \\widehat{q}_h\\cdot n v ds &= -\\int_{K} f v \\\\\n",
    "\\sum_{K}\\int_{\\partial K \\backslash \\Gamma_D} \\widehat{q}_h\\cdot n \\mu & = \\int_{\\Gamma_N} g \\mu ds \\\\\n",
    "\\int_{\\Gamma_D} \\widehat{u}_h \\mu ds & = \\int_{Gamma_D} u_d \\mu ds\n",
    "\\end{align*}"
   ]
  },
  {
   "cell_type": "code",
   "execution_count": 16,
   "id": "0cda00f4",
   "metadata": {},
   "outputs": [
    {
     "data": {
      "application/vnd.jupyter.widget-view+json": {
       "model_id": "c8b475d96e204baaa8b0b81c36fd9373",
       "version_major": 2,
       "version_minor": 0
      },
      "text/plain": [
       "WebGuiWidget(layout=Layout(height='50vh', width='100%'), value={'gui_settings': {}, 'ngsolve_version': '6.2.23…"
      ]
     },
     "metadata": {},
     "output_type": "display_data"
    },
    {
     "data": {
      "application/vnd.jupyter.widget-view+json": {
       "model_id": "8d197fe2603a48478670d82cb1dcc292",
       "version_major": 2,
       "version_minor": 0
      },
      "text/plain": [
       "WebGuiWidget(layout=Layout(height='50vh', width='100%'), value={'gui_settings': {}, 'ngsolve_version': '6.2.23…"
      ]
     },
     "metadata": {},
     "output_type": "display_data"
    }
   ],
   "source": [
    "p=1; condense=False\n",
    "V = VectorL2(mesh, order=p)\n",
    "W = L2(mesh, order=p)\n",
    "M = FacetFESpace(mesh, order=p, dirichlet='bottom')\n",
    "feshdg = V*W*M\n",
    "q, u, uhat = feshdg.TrialFunction()\n",
    "r, v, mu   = feshdg.TestFunction()\n",
    "normal = specialcf.normal(mesh.dim)\n",
    "# stabilization parameter\n",
    "tau = 1.0\n",
    "ahdg = BilinearForm(feshdg, condense=condense)\n",
    "ahdg += (afun*q*r - u*div(r))*dx + uhat*r*normal*dx(element_boundary=True)\n",
    "ahdg += -div(q)*v*dx + (u-uhat)*v*dx(element_boundary=True)\n",
    "ahdg += (q*normal+tau*(u-uhat))*mu*dx(element_boundary=True)\n",
    "ahdg.Assemble()\n",
    "fhdg = LinearForm(-source*v*dx - g*mu.Trace()*ds).Assemble()\n",
    "\n",
    "\n",
    "gfhdg = GridFunction(feshdg)\n",
    "gfq, gfu, gfuhat = gfhdg.components\n",
    "gfuhat.Set(ud, BND)\n",
    "res = fhdg.vec.data - ahdg.mat * gfhdg.vec\n",
    "gfhdg.vec.data += ahdg.mat.Inverse(freedofs=feshdg.FreeDofs(), inverse=\"umfpack\") * res\n",
    "# solvers.BVP(bf=am, lf=fm, gf=gfm)\n",
    "Draw (gfq, mesh, \"flux-hdg\")\n",
    "Draw (gfu, mesh, \"u-hdg\");"
   ]
  },
  {
   "cell_type": "code",
   "execution_count": null,
   "id": "995aeedf",
   "metadata": {},
   "outputs": [],
   "source": []
  }
 ],
 "metadata": {
  "kernelspec": {
   "display_name": "Python 3 (ipykernel)",
   "language": "python",
   "name": "python3"
  },
  "language_info": {
   "codemirror_mode": {
    "name": "ipython",
    "version": 3
   },
   "file_extension": ".py",
   "mimetype": "text/x-python",
   "name": "python",
   "nbconvert_exporter": "python",
   "pygments_lexer": "ipython3",
   "version": "3.7.9"
  },
  "varInspector": {
   "cols": {
    "lenName": 16,
    "lenType": 16,
    "lenVar": 40
   },
   "kernels_config": {
    "python": {
     "delete_cmd_postfix": "",
     "delete_cmd_prefix": "del ",
     "library": "var_list.py",
     "varRefreshCmd": "print(var_dic_list())"
    },
    "r": {
     "delete_cmd_postfix": ") ",
     "delete_cmd_prefix": "rm(",
     "library": "var_list.r",
     "varRefreshCmd": "cat(var_dic_list()) "
    }
   },
   "types_to_exclude": [
    "module",
    "function",
    "builtin_function_or_method",
    "instance",
    "_Feature"
   ],
   "window_display": false
  }
 },
 "nbformat": 4,
 "nbformat_minor": 5
}
