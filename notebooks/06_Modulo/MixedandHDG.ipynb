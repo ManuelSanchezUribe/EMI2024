{
 "cells": [
  {
   "cell_type": "markdown",
   "id": "565cb8b8",
   "metadata": {},
   "source": [
    "<hr style=\"border:2px solid #0176DE\"> </hr>\n",
    "<center><h1 style=\"color:#173F8A;\"> EMI 2024 - CMM Chile</h1></center>\n",
    "<hr style=\"border:2px solid #0176DE\"> </hr>\n",
    "<h3 style=\"color:#173F8A;text-align:right;\"> Profesores: &nbsp;Nicolás Barnafi<br>Manuel A. Sánchez<br></h3>\n",
    "\n",
    "<h3 style=\"color:#03122E;text-align:right;\"> \n",
    "    Centro de Modelamiento Matemático <br> \n",
    "    Instituto de Ingeniería Matemática y Computacional - IMC UC<br>  \n",
    "</h3>\n",
    "\n",
    "<hr style=\"border:2px solid #03122E\"> </hr>\n",
    "<center><h1 style=\"color:#173F8A;\"> Módulo 5: Mixed and HDG Methods</h1></center> \n",
    "<hr style=\"border:2px solid #03122E\"> </hr>\n",
    "\n",
    "<!-- Palette colors UC:\n",
    "Primaria: \n",
    "celeste:#0176DE, azul #173F8A, azul oscuro: #03122E, amarillo: #FEC60D, amarillo oscuro: #E3AE00 \n",
    "Secundaria\n",
    "gris oscuro: #707070\n",
    "-->\n",
    "\n"
   ]
  },
  {
   "cell_type": "code",
   "execution_count": 1,
   "id": "0414578b",
   "metadata": {},
   "outputs": [],
   "source": [
    "from ngsolve import *\n",
    "from ngsolve.webgui import Draw\n"
   ]
  },
  {
   "cell_type": "markdown",
   "id": "65fb9024",
   "metadata": {},
   "source": [
    "## Model problem\n",
    "\n",
    "Poisson equation \n",
    "\\begin{equation}\n",
    "-\\nabla \\cdot (c \\nabla u) = f, \\quad u = u_{d}, \\text{ on } \\Gamma_{D}, \\quad c\\nabla u \\cdot n = g, \\text{ on }\\Gamma_N  \n",
    "\\end{equation}"
   ]
  },
  {
   "cell_type": "code",
   "execution_count": 31,
   "id": "632f414d",
   "metadata": {},
   "outputs": [],
   "source": [
    "mesh = Mesh(unit_square.GenerateMesh(maxh=0.01))\n",
    "source = sin(3.14*x)\n",
    "ud = CF(5)\n",
    "g = mesh.BoundaryCF( {\"left\" : y*(1-y)}, default=0)\n",
    "c = 10"
   ]
  },
  {
   "cell_type": "markdown",
   "id": "949be34e",
   "metadata": {},
   "source": [
    "## Primal formulation and method"
   ]
  },
  {
   "cell_type": "code",
   "execution_count": 5,
   "id": "1d30aae0",
   "metadata": {},
   "outputs": [
    {
     "data": {
      "application/vnd.jupyter.widget-view+json": {
       "model_id": "53d7d81bed254f71bd9c5bf01552f79c",
       "version_major": 2,
       "version_minor": 0
      },
      "text/plain": [
       "WebGuiWidget(layout=Layout(height='50vh', width='100%'), value={'gui_settings': {}, 'ngsolve_version': '6.2.23…"
      ]
     },
     "metadata": {},
     "output_type": "display_data"
    },
    {
     "data": {
      "application/vnd.jupyter.widget-view+json": {
       "model_id": "02ac0477b1a34434a7753e97d1fdcf9e",
       "version_major": 2,
       "version_minor": 0
      },
      "text/plain": [
       "WebGuiWidget(layout=Layout(height='50vh', width='100%'), value={'gui_settings': {}, 'ngsolve_version': '6.2.23…"
      ]
     },
     "metadata": {},
     "output_type": "display_data"
    },
    {
     "data": {
      "text/plain": [
       "BaseWebGuiScene"
      ]
     },
     "execution_count": 5,
     "metadata": {},
     "output_type": "execute_result"
    }
   ],
   "source": [
    "fesp = H1(mesh, order=4, dirichlet=\"bottom\")\n",
    "up, vp = fesp.TnT()\n",
    "\n",
    "ap = BilinearForm(c*grad(up)*grad(vp)*dx).Assemble()\n",
    "fp = LinearForm(source*vp*dx + g*vp * ds).Assemble()\n",
    "\n",
    "gfup = GridFunction(fesp)\n",
    "gfup.Set(ud, BND)\n",
    "\n",
    "r = fp.vec - ap.mat * gfup.vec\n",
    "gfup.vec.data += ap.mat.Inverse(freedofs=fesp.FreeDofs()) * r\n",
    "Draw (-1*c* grad(gfup), mesh, \"flux-primal\");\n",
    "Draw (gfup)\n"
   ]
  },
  {
   "cell_type": "markdown",
   "id": "c5b8ef5b",
   "metadata": {},
   "source": [
    "## Mixed formulation and method\n",
    "\\begin{equation}\n",
    "-\\nabla \\cdot (c \\nabla u) = f, \\quad u = u_{d}, \\text{ on } \\Gamma_{D}, \\quad c\\nabla u \\cdot n = g, \\text{ on }\\Gamma_N  \n",
    "\\end{equation}\n",
    "\n",
    "\\begin{equation}\n",
    "a q = \\nabla u, \\quad \\nabla \\cdot q = f, \\quad u = u_{d}, \\text{ on } \\Gamma_{D}, \\quad -q\\cdot n = g, \\text{ on }\\Gamma_N  \n",
    "\\end{equation}"
   ]
  },
  {
   "cell_type": "code",
   "execution_count": 11,
   "id": "3794416a",
   "metadata": {},
   "outputs": [
    {
     "data": {
      "application/vnd.jupyter.widget-view+json": {
       "model_id": "35b95677455e46adaf6f6c90849d2788",
       "version_major": 2,
       "version_minor": 0
      },
      "text/plain": [
       "WebGuiWidget(layout=Layout(height='50vh', width='100%'), value={'gui_settings': {}, 'ngsolve_version': '6.2.23…"
      ]
     },
     "metadata": {},
     "output_type": "display_data"
    },
    {
     "data": {
      "application/vnd.jupyter.widget-view+json": {
       "model_id": "5ee4307641d24660bbac217b021df546",
       "version_major": 2,
       "version_minor": 0
      },
      "text/plain": [
       "WebGuiWidget(layout=Layout(height='50vh', width='100%'), value={'gui_settings': {}, 'ngsolve_version': '6.2.23…"
      ]
     },
     "metadata": {},
     "output_type": "display_data"
    }
   ],
   "source": [
    "order_flux=1\n",
    "V = HDiv(mesh, order=order_flux, dirichlet=\"right|top|left\")\n",
    "Q = L2(mesh, order=order_flux-1)\n",
    "fesm = V*Q\n",
    "q, u = fesm.TrialFunction()\n",
    "r, v = fesm.TestFunction()\n",
    "normal = specialcf.normal(mesh.dim)\n",
    "\n",
    "afun = 1/c\n",
    "am = BilinearForm((afun*q*r - div(q)*v - div(r)*u)*dx).Assemble()\n",
    "fm = LinearForm(-source*v*dx - ud*(r.Trace()*normal)*ds).Assemble()\n",
    "\n",
    "gfm = GridFunction(fesm)\n",
    "\n",
    "gfq, gfu = gfm.components\n",
    "gfq.Set(-g*normal, BND)\n",
    "res = fm.vec.data - am.mat * gfm.vec\n",
    "gfm.vec.data += am.mat.Inverse(freedofs=fesm.FreeDofs(), inverse=\"umfpack\") * res\n",
    "# solvers.BVP(bf=am, lf=fm, gf=gfm)\n",
    "Draw (gfq, mesh, \"flux-mixed\")\n",
    "Draw (gfu, mesh, \"u-mixed\");"
   ]
  },
  {
   "cell_type": "markdown",
   "id": "75a06712",
   "metadata": {},
   "source": [
    "## HDG formulation and method \n",
    "\n",
    "$$ \\widehat{q}_h\\cdot n = q_h\\cdot n + \\tau(u_h - \\widehat{u}_h)$$\n",
    "\n",
    "\\begin{align*}\n",
    "\\int_{K} a q_h \\cdot r - \\int_{K} u_h\\nabla\\cdot r +\\int_{\\partial K} \\widehat{u}_h r\\cdot n ds &= 0 \\\\\n",
    "\\int_{K} q_h \\cdot\\nabla v + \\int_{\\partial K} \\widehat{q}_h\\cdot n v ds &= -\\int_{K} f v \\\\\n",
    "\\sum_{K}\\int_{\\partial K \\backslash \\Gamma_D} \\widehat{q}_h\\cdot n \\mu & = \\int_{\\Gamma_N} g \\mu ds \\\\\n",
    "\\int_{\\Gamma_D} \\widehat{u}_h \\mu ds & = \\int_{Gamma_D} u_d \\mu ds\n",
    "\\end{align*}"
   ]
  },
  {
   "cell_type": "code",
   "execution_count": 33,
   "id": "0cda00f4",
   "metadata": {},
   "outputs": [
    {
     "name": "stdout",
     "output_type": "stream",
     "text": [
      "CG iteration 1, residual = 844.5383359807186     \n",
      "CG iteration 2, residual = 305.61915847527973     \n",
      "CG iteration 3, residual = 144.2102421160451     \n",
      "CG iteration 4, residual = 141.17929102007065     \n",
      "CG iteration 5, residual = 48.28657278051534     \n",
      "CG iteration 6, residual = 32.36851128508233     \n",
      "CG iteration 7, residual = 35.53779638150786     \n",
      "CG iteration 8, residual = 22.750640545369286     \n",
      "CG iteration 9, residual = 15.412567712583922     \n",
      "CG iteration 10, residual = 18.45094205093878     \n",
      "CG iteration 11, residual = 11.815672067262154     \n",
      "CG iteration 12, residual = 9.322418785799579     \n",
      "CG iteration 13, residual = 10.862639139197134     \n",
      "CG iteration 14, residual = 7.587991949533158     \n",
      "CG iteration 15, residual = 7.462009806048984     \n",
      "CG iteration 16, residual = 7.095758336585243     \n",
      "CG iteration 17, residual = 5.5264471845176     \n",
      "CG iteration 18, residual = 3.8553624119084016     \n",
      "CG iteration 19, residual = 3.9912870745137674     \n",
      "CG iteration 20, residual = 3.779720677801743     \n",
      "CG iteration 21, residual = 2.7653995040129007     \n",
      "CG iteration 22, residual = 2.2944781220204553     \n",
      "CG iteration 23, residual = 1.604319130560439     \n",
      "CG iteration 24, residual = 1.5177614477639507     \n",
      "CG iteration 25, residual = 1.2552413198894767     \n",
      "CG iteration 26, residual = 0.7196145384014481     \n",
      "CG iteration 27, residual = 0.650074942705515     \n",
      "CG iteration 28, residual = 0.5661570765050201     \n",
      "CG iteration 29, residual = 0.35056250827054614     \n",
      "CG iteration 30, residual = 0.34801009848684195     \n",
      "CG iteration 31, residual = 0.2811743929438679     \n",
      "CG iteration 32, residual = 0.22750050868306593     \n",
      "CG iteration 33, residual = 0.15821208414018095     \n",
      "CG iteration 34, residual = 0.1461867913858803     \n",
      "CG iteration 35, residual = 0.10028162676750942     \n",
      "CG iteration 36, residual = 0.06973834727993657     \n",
      "CG iteration 37, residual = 0.05981979166363736     \n",
      "CG iteration 38, residual = 0.04795154456492866     \n",
      "CG iteration 39, residual = 0.03454501739365751     \n",
      "CG iteration 40, residual = 0.027683378171432     \n",
      "CG iteration 41, residual = 0.02102688613943863     \n",
      "CG iteration 42, residual = 0.01631942846445123     \n",
      "CG iteration 43, residual = 0.012259053231780129     \n",
      "CG iteration 44, residual = 0.0075288319739838325     \n",
      "CG iteration 45, residual = 0.0063784394863406904     \n",
      "CG iteration 46, residual = 0.006005433250659901     \n",
      "CG iteration 47, residual = 0.0032025148234031374     \n",
      "CG iteration 48, residual = 0.0024771542032857863     \n",
      "CG iteration 49, residual = 0.002359265761467951     \n",
      "CG iteration 50, residual = 0.0017100684634962996     \n",
      "CG iteration 51, residual = 0.0012121977959285884     \n",
      "CG iteration 52, residual = 0.0012429115767187578     \n",
      "CG iteration 53, residual = 0.0009691103559914357     \n",
      "CG iteration 54, residual = 0.000674661397752939     \n",
      "CG iteration 55, residual = 0.0005443564299327608     \n",
      "CG iteration 56, residual = 0.0005373072100212369     \n",
      "CG iteration 57, residual = 0.0003160732086613191     \n",
      "CG iteration 58, residual = 0.0002734540508902861     \n",
      "CG iteration 59, residual = 0.00026023780691623725     \n",
      "CG iteration 60, residual = 0.0001928867632828222     \n",
      "CG iteration 61, residual = 0.0001361523761630752     \n",
      "CG iteration 62, residual = 0.0001169826051939151     \n",
      "CG iteration 63, residual = 7.469919450902467e-05     \n",
      "CG iteration 64, residual = 6.459139309108862e-05     \n",
      "CG iteration 65, residual = 4.472839556474994e-05     \n",
      "CG iteration 66, residual = 2.7695694747115328e-05     \n",
      "CG iteration 67, residual = 2.1845321408865206e-05     \n",
      "CG iteration 68, residual = 1.6992969917308344e-05     \n",
      "CG iteration 69, residual = 1.0382836596774485e-05     \n",
      "CG iteration 70, residual = 9.04573648205047e-06     \n",
      "CG iteration 71, residual = 7.920421465211334e-06     \n",
      "CG iteration 72, residual = 5.139472397713416e-06     \n",
      "CG iteration 73, residual = 3.087825490905604e-06     \n",
      "CG iteration 74, residual = 2.7378023619241962e-06     \n",
      "CG iteration 75, residual = 1.7249812454544396e-06     \n",
      "CG iteration 76, residual = 1.1530637111962298e-06     \n",
      "CG iteration 77, residual = 1.0191291382751304e-06     \n",
      "CG iteration 78, residual = 6.731970895022866e-07     \n",
      "CG iteration 79, residual = 4.232401190302662e-07     \n",
      "CG iteration 80, residual = 4.002457686930232e-07     \n",
      "CG iteration 81, residual = 3.4819967115881484e-07     \n",
      "CG iteration 82, residual = 2.1444434354427818e-07     \n",
      "CG iteration 83, residual = 1.8045155820554267e-07     \n",
      "CG iteration 84, residual = 1.2539689244989422e-07     \n",
      "CG iteration 85, residual = 9.917208699415326e-08     \n",
      "CG iteration 86, residual = 7.956982703653809e-08     \n",
      "CG iteration 87, residual = 5.601141731102132e-08     \n",
      "CG iteration 88, residual = 4.209748580807438e-08     \n",
      "CG iteration 89, residual = 4.21477052446574e-08     \n",
      "CG iteration 90, residual = 2.7610873510484785e-08     \n",
      "CG iteration 91, residual = 1.4940899757028846e-08     \n",
      "CG iteration 92, residual = 1.4276457942194101e-08     \n",
      "CG iteration 93, residual = 1.1332724485554379e-08     \n",
      "CG iteration 94, residual = 6.4220392534972895e-09     \n",
      "CG iteration 95, residual = 5.576261293791182e-09     \n",
      "CG iteration 96, residual = 4.404926140889773e-09     \n",
      "CG iteration 97, residual = 3.3974937434655854e-09     \n",
      "CG iteration 98, residual = 2.6245206295723737e-09     \n",
      "CG iteration 99, residual = 2.3738134551924906e-09     \n",
      "CG iteration 100, residual = 1.8491123973935154e-09     \n",
      "WARNING: CG did not converge to TOL\n"
     ]
    },
    {
     "data": {
      "application/vnd.jupyter.widget-view+json": {
       "model_id": "df3fe793c84d4a4a8654453056f06f2c",
       "version_major": 2,
       "version_minor": 0
      },
      "text/plain": [
       "WebGuiWidget(layout=Layout(height='50vh', width='100%'), value={'gui_settings': {}, 'ngsolve_version': '6.2.23…"
      ]
     },
     "metadata": {},
     "output_type": "display_data"
    },
    {
     "data": {
      "application/vnd.jupyter.widget-view+json": {
       "model_id": "1f45693579d44ac693726354f84897fe",
       "version_major": 2,
       "version_minor": 0
      },
      "text/plain": [
       "WebGuiWidget(layout=Layout(height='50vh', width='100%'), value={'gui_settings': {}, 'ngsolve_version': '6.2.23…"
      ]
     },
     "metadata": {},
     "output_type": "display_data"
    }
   ],
   "source": [
    "p=6; condense=True\n",
    "V = VectorL2(mesh, order=p)\n",
    "W = L2(mesh, order=p)\n",
    "M = FacetFESpace(mesh, order=p, dirichlet='bottom')\n",
    "feshdg = V*W*M\n",
    "q, u, uhat = feshdg.TrialFunction()\n",
    "r, v, mu   = feshdg.TestFunction()\n",
    "normal = specialcf.normal(mesh.dim)\n",
    "# stabilization parameter\n",
    "tau = 1.0\n",
    "ahdg = BilinearForm(feshdg, condense=condense)\n",
    "ahdg += (afun*q*r - u*div(r))*dx + uhat*r*normal*dx(element_boundary=True)\n",
    "ahdg += -div(q)*v*dx + (u-uhat)*v*dx(element_boundary=True)\n",
    "ahdg += (q*normal+tau*(u-uhat))*mu*dx(element_boundary=True)\n",
    "pre = Preconditioner(ahdg, \"bddc\", coarsetype=\"h1amg\")\n",
    "\n",
    "ahdg.Assemble()\n",
    "fhdg = LinearForm(-source*v*dx - g*mu.Trace()*ds).Assemble()\n",
    "\n",
    "\n",
    "gfhdg = GridFunction(feshdg)\n",
    "gfq, gfu, gfuhat = gfhdg.components\n",
    "gfuhat.Set(ud, BND)\n",
    "\n",
    "# solvers.BVP(bf=ahdg, lf=fhdg, gf=gfhdg, pre=pre)\n",
    "\n",
    "fmod = (fhdg.vec + ahdg.harmonic_extension_trans * fhdg.vec).Evaluate()\n",
    "solvers.CG(mat=ahdg.mat, pre=pre.mat, rhs=fmod, sol=gfhdg.vec, initialize=False)\n",
    "gfhdg.vec.data += ahdg.harmonic_extension * gfhdg.vec\n",
    "gfhdg.vec.data += ahdg.inner_solve * fhdg.vec\n",
    "\n",
    "\n",
    "# solvers.BVP(bf=am, lf=fm, gf=gfm)\n",
    "Draw (gfq, mesh, \"flux-hdg\")\n",
    "Draw (gfu, mesh, \"u-hdg\");"
   ]
  },
  {
   "cell_type": "code",
   "execution_count": null,
   "id": "995aeedf",
   "metadata": {},
   "outputs": [],
   "source": []
  }
 ],
 "metadata": {
  "kernelspec": {
   "display_name": "Python 3 (ipykernel)",
   "language": "python",
   "name": "python3"
  },
  "language_info": {
   "codemirror_mode": {
    "name": "ipython",
    "version": 3
   },
   "file_extension": ".py",
   "mimetype": "text/x-python",
   "name": "python",
   "nbconvert_exporter": "python",
   "pygments_lexer": "ipython3",
   "version": "3.7.9"
  },
  "varInspector": {
   "cols": {
    "lenName": 16,
    "lenType": 16,
    "lenVar": 40
   },
   "kernels_config": {
    "python": {
     "delete_cmd_postfix": "",
     "delete_cmd_prefix": "del ",
     "library": "var_list.py",
     "varRefreshCmd": "print(var_dic_list())"
    },
    "r": {
     "delete_cmd_postfix": ") ",
     "delete_cmd_prefix": "rm(",
     "library": "var_list.r",
     "varRefreshCmd": "cat(var_dic_list()) "
    }
   },
   "types_to_exclude": [
    "module",
    "function",
    "builtin_function_or_method",
    "instance",
    "_Feature"
   ],
   "window_display": false
  }
 },
 "nbformat": 4,
 "nbformat_minor": 5
}
