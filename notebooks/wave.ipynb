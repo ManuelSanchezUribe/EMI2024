{
 "cells": [
  {
   "cell_type": "code",
   "execution_count": 2,
   "id": "0946a672-e199-4ab4-be4e-a2879d2d8085",
   "metadata": {},
   "outputs": [
    {
     "name": "stdout",
     "output_type": "stream",
     "text": [
      "Help on built-in function IfPos in module ngsolve.fem:\n",
      "\n",
      "IfPos(...) method of builtins.PyCapsule instance\n",
      "    IfPos(c1: ngfem::CoefficientFunction, then_obj: object, else_obj: object) -> ngfem::CoefficientFunction\n",
      "    \n",
      "    \n",
      "    Returns new CoefficientFunction with values then_obj if c1 is positive and else_obj else.\n",
      "    \n",
      "    Parameters:\n",
      "    \n",
      "    c1 : ngsolve.CoefficientFunction\n",
      "      Indicator function\n",
      "    \n",
      "    then_obj : object\n",
      "      Values of new CF if c1 is positive, object must be implicitly convertible to\n",
      "      ngsolve.CoefficientFunction. See help(CoefficientFunction ) for information.\n",
      "    \n",
      "    else_obj : object\n",
      "      Values of new CF if c1 is not positive, object must be implicitly convertible to\n",
      "      ngsolve.CoefficientFunction. See help(CoefficientFunction ) for information.\n",
      "\n"
     ]
    }
   ],
   "source": []
  },
  {
   "cell_type": "code",
   "execution_count": 11,
   "id": "c1ab14f1",
   "metadata": {
    "scrolled": true
   },
   "outputs": [
    {
     "name": "stdout",
     "output_type": "stream",
     "text": [
      "('circle', 'out')\n"
     ]
    },
    {
     "data": {
      "application/vnd.jupyter.widget-view+json": {
       "model_id": "c5f8a71d34c2492eaacca2abe21a9061",
       "version_major": 2,
       "version_minor": 0
      },
      "text/plain": [
       "WebGuiWidget(layout=Layout(height='50vh', width='100%'), value={'gui_settings': {}, 'ngsolve_version': '6.2.23…"
      ]
     },
     "metadata": {},
     "output_type": "display_data"
    },
    {
     "data": {
      "text/plain": [
       "BaseWebGuiScene"
      ]
     },
     "execution_count": 11,
     "metadata": {},
     "output_type": "execute_result"
    }
   ],
   "source": [
    "from netgen.geom2d import CSG2d, Circle, Rectangle\n",
    "\n",
    "geo = CSG2d()\n",
    "\n",
    "# define some primitives\n",
    "circle = Circle( center=(0,0), radius=0.25, mat=\"mat1\", bc=\"bc_circle\" )\n",
    "rect = Rectangle( pmin=(-1,1), pmax=(1,1), mat=\"mat2\", bc=\"bc_rect\" )\n",
    "\n",
    "# use operators +, - and * for union, difference and intersection operations\n",
    "domain1 = circle - rect\n",
    "domain2 = circle * rect\n",
    "# domain2.Mat(\"mat3\").Maxh(0.1) # change domain name and maxh\n",
    "domain3 = rect-circle\n",
    "\n",
    "# add top level objects to geometry\n",
    "geo.Add(domain1)\n",
    "geo.Add(domain2)\n",
    "# geo.Add(domain3)\n",
    "\n",
    "# generate mesh\n",
    "m = geo.GenerateMesh(maxh=0.3)\n",
    "\n",
    "# use NGSolve just for visualization\n",
    "from ngsolve.webgui import Draw\n",
    "from ngsolve import Mesh, VOL\n",
    "mesh = Mesh(m)\n",
    "mesh.Curve(3)\n",
    "cf = mesh.RegionCF(VOL, dict(mat1=0, mat2=4))\n",
    "Draw(cf, mesh)"
   ]
  },
  {
   "cell_type": "code",
   "execution_count": 14,
   "id": "5fd1b7c8",
   "metadata": {},
   "outputs": [
    {
     "data": {
      "application/vnd.jupyter.widget-view+json": {
       "model_id": "a7ced94d60d54a6183bbfc550eabfd48",
       "version_major": 2,
       "version_minor": 0
      },
      "text/plain": [
       "WebGuiWidget(layout=Layout(height='50vh', width='100%'), value={'gui_settings': {}, 'ngsolve_version': '6.2.23…"
      ]
     },
     "metadata": {},
     "output_type": "display_data"
    },
    {
     "data": {
      "text/plain": [
       "BaseWebGuiScene"
      ]
     },
     "execution_count": 14,
     "metadata": {},
     "output_type": "execute_result"
    }
   ],
   "source": []
  },
  {
   "cell_type": "code",
   "execution_count": null,
   "id": "ad2927a9",
   "metadata": {},
   "outputs": [],
   "source": []
  }
 ],
 "metadata": {
  "kernelspec": {
   "display_name": "Python 3 (ipykernel)",
   "language": "python",
   "name": "python3"
  },
  "language_info": {
   "codemirror_mode": {
    "name": "ipython",
    "version": 3
   },
   "file_extension": ".py",
   "mimetype": "text/x-python",
   "name": "python",
   "nbconvert_exporter": "python",
   "pygments_lexer": "ipython3",
   "version": "3.7.9"
  },
  "varInspector": {
   "cols": {
    "lenName": 16,
    "lenType": 16,
    "lenVar": 40
   },
   "kernels_config": {
    "python": {
     "delete_cmd_postfix": "",
     "delete_cmd_prefix": "del ",
     "library": "var_list.py",
     "varRefreshCmd": "print(var_dic_list())"
    },
    "r": {
     "delete_cmd_postfix": ") ",
     "delete_cmd_prefix": "rm(",
     "library": "var_list.r",
     "varRefreshCmd": "cat(var_dic_list()) "
    }
   },
   "types_to_exclude": [
    "module",
    "function",
    "builtin_function_or_method",
    "instance",
    "_Feature"
   ],
   "window_display": false
  }
 },
 "nbformat": 4,
 "nbformat_minor": 5
}
