{
 "cells": [
  {
   "cell_type": "markdown",
   "id": "c9f88d19",
   "metadata": {},
   "source": [
    "<hr style=\"border:2px solid #0176DE\"> </hr>\n",
    "<center><h1 style=\"color:#173F8A;\"> EMI 2024 - CMM Chile</h1></center>\n",
    "<hr style=\"border:2px solid #0176DE\"> </hr>\n",
    "<h3 style=\"color:#173F8A;text-align:right;\"> Profesores: &nbsp;Nicolás Barnafi<br>Manuel A. Sánchez<br></h3>\n",
    "\n",
    "<h3 style=\"color:#03122E;text-align:right;\"> \n",
    "    Centro de Modelamiento Matemático <br> \n",
    "    Instituto de Ingeniería Matemática y Computacional - IMC UC<br>  \n",
    "</h3>\n",
    "\n",
    "<hr style=\"border:2px solid #03122E\"> </hr>\n",
    "<center><h1 style=\"color:#173F8A;\"> Módulo 5: The wave equations - NGSolve</h1></center> \n",
    "<hr style=\"border:2px solid #03122E\"> </hr>\n",
    "\n",
    "<!-- Palette colors UC:\n",
    "Primaria:\n",
    "celeste:#0176DE, azul #173F8A, azul oscuro: #03122E, amarillo: #FEC60D, amarillo oscuro: #E3AE00 \n",
    "Secundaria\n",
    "gris oscuro: #707070\n",
    "-->"
   ]
  },
  {
   "cell_type": "code",
   "execution_count": 33,
   "id": "bce5df33",
   "metadata": {},
   "outputs": [],
   "source": [
    "from ngsolve import *\n",
    "from netgen.geom2d import SplineGeometry\n",
    "from ngsolve.webgui import Draw\n",
    "# from netgen.occ import *\n",
    "from netgen.geom2d import CSG2d, Circle, Rectangle\n",
    "\n",
    "from netgen.webgui import Draw as DrawGeo\n",
    "from ngsolve.krylovspace import GMResSolver\n",
    "from time import perf_counter as time\n"
   ]
  },
  {
   "cell_type": "code",
   "execution_count": 40,
   "id": "46fb1673",
   "metadata": {},
   "outputs": [
    {
     "data": {
      "application/vnd.jupyter.widget-view+json": {
       "model_id": "e5a4aecf0a0447ceb0a4cad55a165809",
       "version_major": 2,
       "version_minor": 0
      },
      "text/plain": [
       "WebGuiWidget(layout=Layout(height='50vh', width='100%'), value={'gui_settings': {}, 'ngsolve_version': '6.2.23…"
      ]
     },
     "metadata": {},
     "output_type": "display_data"
    },
    {
     "name": "stdout",
     "output_type": "stream",
     "text": [
      "4.9900"
     ]
    },
    {
     "data": {
      "application/vnd.jupyter.widget-view+json": {
       "model_id": "45965d4ffd8040a98dee0e8a519a54dc",
       "version_major": 2,
       "version_minor": 0
      },
      "text/plain": [
       "WebGuiWidget(layout=Layout(height='50vh', width='100%'), value={'gui_settings': {}, 'ngsolve_version': '6.2.23…"
      ]
     },
     "metadata": {},
     "output_type": "display_data"
    },
    {
     "name": "stdout",
     "output_type": "stream",
     "text": [
      "\n",
      "Solve time direct=0.000\n",
      "Solve time iterative=12.067\n",
      "Ratio: 162186.1540755925\n"
     ]
    }
   ],
   "source": [
    "\n",
    "tend = 5\n",
    "maxh = 0.1\n",
    "\n",
    "\n",
    "def test1mesh(maxh=0.2):\n",
    "    geo = CSG2d()\n",
    "    # define some primitives\n",
    "    circle = Circle( center=(0,0), radius=0.25, mat=\"circle\", bc=\"bc_circle\" )\n",
    "    rect = Rectangle( pmin=(-1,-1), pmax=(1,1), mat=\"out\", bc=\"bc_rect\" )\n",
    "    # use operators +, - and * for union, difference and intersection operations\n",
    "    domain1 = circle * rect\n",
    "    domain2 = (rect-circle).Mat('out')\n",
    "    # add top level objects to geometry\n",
    "    geo.Add(domain1)\n",
    "    geo.Add(domain2)\n",
    "    # generate mesh\n",
    "    m = geo.GenerateMesh(maxh=maxh)\n",
    "    mesh = Mesh(m)\n",
    "    mesh.Curve(3)\n",
    "    return mesh\n",
    "    \n",
    "def solveWaveEq(maxh, method, draw=False): #for maxh in [0.2, 0.1, 0.05, 0.025]: \n",
    "#     shape = Rectangle(2,2).Face().Move((-1,-1,0))\n",
    "    \n",
    "    ic = 2\n",
    "    if ic == 1:\n",
    "#         mesh = Mesh(OCCGeometry(shape, dim=2).GenerateMesh(maxh=maxh))\n",
    "        geo = CSG2d()\n",
    "        rect = Rectangle( pmin=(-1,-1), pmax=(1,1), mat=\"out\", bc=\"bc_rect\" )\n",
    "        geo.Add(rect)\n",
    "        m = geo.GenerateMesh(maxh=maxh)\n",
    "        mesh = Mesh(m)\n",
    "        rr = x**2 + y**2 \n",
    "#         def tanh(xx): return (exp(xx) - exp(-xx)) / (exp(xx) + exp(-xx))\n",
    "#         u0 = 1 - tanh(10 * rr) #(exp(rr) - exp(-rr)) / (exp(rr) + exp(-rr))\n",
    "        u0 = IfPos( x*x+y*y-(0.25)**2, 0, 1.0)\n",
    "    elif ic == 2:\n",
    "        \n",
    "        mesh = test1mesh(maxh)\n",
    "        u0 = mesh.RegionCF(VOL, dict(circle=1, out=0))\n",
    "#         Draw(u0,mesh)\n",
    "    \n",
    "    fes = H1(mesh, order=1)\n",
    "    X = fes * fes\n",
    "    (u,v), (ut, vt) = X.TnT()\n",
    "    t = 0.0\n",
    "    dt = 0.01\n",
    "    idt = 1/dt\n",
    "    mu = 0.1\n",
    "    \n",
    "    a = BilinearForm(X, symmetric=False)\n",
    "    a += idt * v * vt * dx + idt * u * ut * dx - v * ut * dx #mu*grad(u)*grad(vt)*dx \n",
    "    aP = Preconditioner(a, \"local\")\n",
    "    a.Assemble()\n",
    "    \n",
    "    g = BilinearForm(X, symmetric=False)\n",
    "    g += -idt * v * vt * dx - idt * u * ut * dx + mu*grad(u)*grad(vt)*dx \n",
    "    g.Assemble()\n",
    "    \n",
    "    gf = GridFunction(X)\n",
    "    gfu, gfv = gf.components\n",
    "    \n",
    "    C = 10.\n",
    "    \n",
    "    gfu.Set(u0)\n",
    "    if draw:\n",
    "        scene = Draw(u0, mesh)\n",
    "    \n",
    "    def TimeStepping(inv, t0 = 0, tend = 0.2,\n",
    "                     saveEvery=10):\n",
    "        cnt = 0; t = t0\n",
    "        gfut = GridFunction(gfu.space,multidim=0)\n",
    "        gfut.AddMultiDimComponent(gfu.vec)\n",
    "        while t < tend - 0.5 * dt:\n",
    "            res = -g.mat * gf.vec\n",
    "            gf.vec.data = inv * res\n",
    "            print(\"\\r{:1.4f}\".format(t),end=\"\")\n",
    "            if draw: scene.Redraw()\n",
    "            if cnt % saveEvery == 0:\n",
    "                gfut.AddMultiDimComponent(gfu.vec)\n",
    "            cnt += 1; t = cnt * dt\n",
    "        return gfut\n",
    "    \n",
    "    t0 = time()\n",
    "    if method == \"direct\": \n",
    "        inv = a.mat.Inverse()\n",
    "    elif method == \"iterative\":\n",
    "        inv = GMResSolver(a.mat, aP.mat, printrates=None, maxiter=200, tol=1e-6)\n",
    "    gfu.Set(u0)\n",
    "    gfv.Set(0.0)\n",
    "    gfut = TimeStepping(inv, tend=tend)\n",
    "    tf = time() - t0\n",
    "    if draw:\n",
    "        Draw(gfut, mesh, interpolate_multidim=True, animate=True)\n",
    "    return tf\n",
    "\n",
    "\n",
    "t0 = time()\n",
    "# solveWaveEq(maxh, 'direct', draw=False)\n",
    "t_direct = time() - t0\n",
    "\n",
    "t0 = time()\n",
    "solveWaveEq(maxh, 'iterative', draw=True)\n",
    "t_iter = time() - t0\n",
    "\n",
    "print(\"\\nSolve time direct={:2.3f}\".format(t_direct))\n",
    "print(\"Solve time iterative={:2.3f}\".format(t_iter))\n",
    "print(\"Ratio:\", t_iter/t_direct)"
   ]
  },
  {
   "cell_type": "code",
   "execution_count": 36,
   "id": "c1ab14f1",
   "metadata": {
    "scrolled": true
   },
   "outputs": [
    {
     "data": {
      "application/vnd.jupyter.widget-view+json": {
       "model_id": "39fe7201d3084bbab6f4ad14ab833f5b",
       "version_major": 2,
       "version_minor": 0
      },
      "text/plain": [
       "WebGuiWidget(layout=Layout(height='50vh', width='100%'), value={'gui_settings': {}, 'ngsolve_version': '6.2.23…"
      ]
     },
     "metadata": {},
     "output_type": "display_data"
    },
    {
     "ename": "NameError",
     "evalue": "name 'cf' is not defined",
     "output_type": "error",
     "traceback": [
      "\u001b[1;31m---------------------------------------------------------------------------\u001b[0m",
      "\u001b[1;31mNameError\u001b[0m                                 Traceback (most recent call last)",
      "\u001b[1;32m~\\AppData\\Local\\Temp\\ipykernel_19052\\3231280485.py\u001b[0m in \u001b[0;36m<module>\u001b[1;34m\u001b[0m\n\u001b[0;32m     26\u001b[0m \u001b[0mu0\u001b[0m \u001b[1;33m=\u001b[0m \u001b[0mmesh\u001b[0m\u001b[1;33m.\u001b[0m\u001b[0mRegionCF\u001b[0m\u001b[1;33m(\u001b[0m\u001b[0mVOL\u001b[0m\u001b[1;33m,\u001b[0m \u001b[0mdict\u001b[0m\u001b[1;33m(\u001b[0m\u001b[0mcircle\u001b[0m\u001b[1;33m=\u001b[0m\u001b[1;36m1\u001b[0m\u001b[1;33m,\u001b[0m \u001b[0mout\u001b[0m\u001b[1;33m=\u001b[0m\u001b[1;36m0\u001b[0m\u001b[1;33m)\u001b[0m\u001b[1;33m)\u001b[0m\u001b[1;33m\u001b[0m\u001b[1;33m\u001b[0m\u001b[0m\n\u001b[0;32m     27\u001b[0m \u001b[0mDraw\u001b[0m\u001b[1;33m(\u001b[0m\u001b[0mu0\u001b[0m\u001b[1;33m,\u001b[0m \u001b[0mmesh\u001b[0m\u001b[1;33m)\u001b[0m\u001b[1;33m\u001b[0m\u001b[1;33m\u001b[0m\u001b[0m\n\u001b[1;32m---> 28\u001b[1;33m \u001b[0mtype\u001b[0m\u001b[1;33m(\u001b[0m\u001b[0mcf\u001b[0m\u001b[1;33m)\u001b[0m\u001b[1;33m\u001b[0m\u001b[1;33m\u001b[0m\u001b[0m\n\u001b[0m",
      "\u001b[1;31mNameError\u001b[0m: name 'cf' is not defined"
     ]
    }
   ],
   "source": [
    "from netgen.geom2d import CSG2d, Circle, Rectangle\n",
    "\n",
    "geo = CSG2d()\n",
    "\n",
    "# define some primitives\n",
    "circle = Circle( center=(0,0), radius=0.25, mat=\"circle\", bc=\"bc_circle\" )\n",
    "rect = Rectangle( pmin=(-1,-1), pmax=(1,1), mat=\"out\", bc=\"bc_rect\" )\n",
    "\n",
    "# use operators +, - and * for union, difference and intersection operations\n",
    "domain1 = circle * rect\n",
    "# domain2.Mat(\"mat3\").Maxh(0.1) # change domain name and maxh\n",
    "domain2 = (rect-circle).Mat('out')\n",
    "\n",
    "# add top level objects to geometry\n",
    "geo.Add(domain1)\n",
    "geo.Add(domain2)\n",
    "\n",
    "# generate mesh\n",
    "m = geo.GenerateMesh(maxh=0.3)\n",
    "\n",
    "# use NGSolve just for visualization\n",
    "from ngsolve.webgui import Draw\n",
    "from ngsolve import Mesh, VOL\n",
    "mesh = Mesh(m)\n",
    "mesh.Curve(3)\n",
    "u0 = mesh.RegionCF(VOL, dict(circle=1, out=0))\n",
    "Draw(u0, mesh)\n",
    "type(cf)"
   ]
  },
  {
   "cell_type": "code",
   "execution_count": 14,
   "id": "5fd1b7c8",
   "metadata": {},
   "outputs": [
    {
     "data": {
      "application/vnd.jupyter.widget-view+json": {
       "model_id": "a7ced94d60d54a6183bbfc550eabfd48",
       "version_major": 2,
       "version_minor": 0
      },
      "text/plain": [
       "WebGuiWidget(layout=Layout(height='50vh', width='100%'), value={'gui_settings': {}, 'ngsolve_version': '6.2.23…"
      ]
     },
     "metadata": {},
     "output_type": "display_data"
    },
    {
     "data": {
      "text/plain": [
       "BaseWebGuiScene"
      ]
     },
     "execution_count": 14,
     "metadata": {},
     "output_type": "execute_result"
    }
   ],
   "source": []
  },
  {
   "cell_type": "code",
   "execution_count": null,
   "id": "ad2927a9",
   "metadata": {},
   "outputs": [],
   "source": []
  }
 ],
 "metadata": {
  "kernelspec": {
   "display_name": "Python 3 (ipykernel)",
   "language": "python",
   "name": "python3"
  },
  "language_info": {
   "codemirror_mode": {
    "name": "ipython",
    "version": 3
   },
   "file_extension": ".py",
   "mimetype": "text/x-python",
   "name": "python",
   "nbconvert_exporter": "python",
   "pygments_lexer": "ipython3",
   "version": "3.7.9"
  },
  "varInspector": {
   "cols": {
    "lenName": 16,
    "lenType": 16,
    "lenVar": 40
   },
   "kernels_config": {
    "python": {
     "delete_cmd_postfix": "",
     "delete_cmd_prefix": "del ",
     "library": "var_list.py",
     "varRefreshCmd": "print(var_dic_list())"
    },
    "r": {
     "delete_cmd_postfix": ") ",
     "delete_cmd_prefix": "rm(",
     "library": "var_list.r",
     "varRefreshCmd": "cat(var_dic_list()) "
    }
   },
   "types_to_exclude": [
    "module",
    "function",
    "builtin_function_or_method",
    "instance",
    "_Feature"
   ],
   "window_display": false
  }
 },
 "nbformat": 4,
 "nbformat_minor": 5
}
