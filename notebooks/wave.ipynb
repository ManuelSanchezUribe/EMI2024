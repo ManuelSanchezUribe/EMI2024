{
 "cells": [
  {
   "cell_type": "code",
   "execution_count": 22,
   "id": "e4fd36bc-c516-49b9-80f1-72cbf027b4b2",
   "metadata": {},
   "outputs": [
    {
     "name": "stdout",
     "output_type": "stream",
     "text": [
      "0.4900"
     ]
    },
    {
     "data": {
      "application/vnd.jupyter.widget-view+json": {
       "model_id": "b3c67e27704c465a9a310922ba250ccc",
       "version_major": 2,
       "version_minor": 0
      },
      "text/plain": [
       "WebGuiWidget(layout=Layout(height='50vh', width='100%'), value={'gui_settings': {}, 'ngsolve_version': '6.2.23…"
      ]
     },
     "metadata": {},
     "output_type": "display_data"
    },
    {
     "name": "stdout",
     "output_type": "stream",
     "text": [
      "0.4900"
     ]
    },
    {
     "data": {
      "application/vnd.jupyter.widget-view+json": {
       "model_id": "a283819576384de8a176c0228795bafd",
       "version_major": 2,
       "version_minor": 0
      },
      "text/plain": [
       "WebGuiWidget(layout=Layout(height='50vh', width='100%'), value={'gui_settings': {}, 'ngsolve_version': '6.2.23…"
      ]
     },
     "metadata": {},
     "output_type": "display_data"
    },
    {
     "name": "stdout",
     "output_type": "stream",
     "text": [
      "\n",
      "Solve time direct=0.426\n",
      "Solve time iterative=6.384\n",
      "Ratio: 14.969362044990156\n"
     ]
    }
   ],
   "source": [
    "from ngsolve import *\n",
    "from netgen.geom2d import SplineGeometry\n",
    "from ngsolve.webgui import Draw\n",
    "from netgen.occ import *\n",
    "from netgen.webgui import Draw as DrawGeo\n",
    "from ngsolve.krylovspace import GMResSolver\n",
    "from time import perf_counter as time\n",
    "\n",
    "tend = 0.5\n",
    "maxh = 0.2\n",
    "\n",
    "def solveWaveEq(maxh, method, draw=False): #for maxh in [0.2, 0.1, 0.05, 0.025]: \n",
    "    shape = Rectangle(2,2).Face().Move((-1,-1,0))\n",
    "    mesh = Mesh(OCCGeometry(shape, dim=2).GenerateMesh(maxh=maxh))\n",
    "    \n",
    "    fes = H1(mesh, order=4)\n",
    "    X = fes * fes\n",
    "    (u,v), (ut, vt) = X.TnT()\n",
    "    t = 0.0\n",
    "    dt = 0.01\n",
    "    idt = 1/dt\n",
    "    mu = 0.1\n",
    "    \n",
    "    a = BilinearForm(X, symmetric=False)\n",
    "    a += idt * v * vt * dx + idt * u * ut * dx - v * ut * dx #mu*grad(u)*grad(vt)*dx \n",
    "    aP = Preconditioner(a, \"local\")\n",
    "    a.Assemble()\n",
    "    \n",
    "    g = BilinearForm(X, symmetric=False)\n",
    "    g += -idt * v * vt * dx - idt * u * ut * dx + mu*grad(u)*grad(vt)*dx \n",
    "    g.Assemble()\n",
    "    \n",
    "    gf = GridFunction(X)\n",
    "    gfu, gfv = gf.components\n",
    "    rr = x**2 + y**2 \n",
    "    C = 10.\n",
    "    def tanh(xx): return (exp(xx) - exp(-xx)) / (exp(xx) + exp(-xx))\n",
    "    u0 = 1 - tanh(10 * rr) #(exp(rr) - exp(-rr)) / (exp(rr) + exp(-rr))\n",
    "    gfu.Set(u0)\n",
    "    if draw:\n",
    "        scene = Draw(u0, mesh)\n",
    "    \n",
    "    def TimeStepping(inv, t0 = 0, tend = 0.2,\n",
    "                     saveEvery=10):\n",
    "        cnt = 0; t = t0\n",
    "        gfut = GridFunction(gfu.space,multidim=0)\n",
    "        gfut.AddMultiDimComponent(gfu.vec)\n",
    "        while t < tend - 0.5 * dt:\n",
    "            res = -g.mat * gf.vec\n",
    "            gf.vec.data = inv * res\n",
    "            print(\"\\r{:1.4f}\".format(t),end=\"\")\n",
    "            if draw: scene.Redraw()\n",
    "            if cnt % saveEvery == 0:\n",
    "                gfut.AddMultiDimComponent(gfu.vec)\n",
    "            cnt += 1; t = cnt * dt\n",
    "        return gfut\n",
    "    \n",
    "    t0 = time()\n",
    "    if method == \"direct\": \n",
    "        inv = a.mat.Inverse()\n",
    "    elif method == \"iterative\":\n",
    "        inv = GMResSolver(a.mat, aP.mat, printrates=False, maxiter=200, tol=1e-6)\n",
    "    gfu.Set(u0)\n",
    "    gfv.Set(0.0)\n",
    "    gfut = TimeStepping(inv, tend=tend)\n",
    "    tf = time() - t0\n",
    "    if draw:\n",
    "        Draw(gfut, mesh, interpolate_multidim=True, animate=True)\n",
    "    return tf\n",
    "\n",
    "\n",
    "t0 = time()\n",
    "solveWaveEq(maxh, 'direct', draw=False)\n",
    "t_direct = time() - t0\n",
    "\n",
    "t0 = time()\n",
    "solveWaveEq(maxh, 'iterative', draw=True)\n",
    "t_iter = time() - t0\n",
    "\n",
    "print(\"\\nSolve time direct={:2.3f}\".format(t_direct))\n",
    "print(\"Solve time iterative={:2.3f}\".format(t_iter))\n",
    "print(\"Ratio:\", t_iter/t_direct)\n",
    "    "
   ]
  },
  {
   "cell_type": "code",
   "execution_count": null,
   "id": "0946a672-e199-4ab4-be4e-a2879d2d8085",
   "metadata": {},
   "outputs": [],
   "source": []
  }
 ],
 "metadata": {
  "kernelspec": {
   "display_name": "Python 3 (ipykernel)",
   "language": "python",
   "name": "python3"
  },
  "language_info": {
   "codemirror_mode": {
    "name": "ipython",
    "version": 3
   },
   "file_extension": ".py",
   "mimetype": "text/x-python",
   "name": "python",
   "nbconvert_exporter": "python",
   "pygments_lexer": "ipython3",
   "version": "3.10.12"
  }
 },
 "nbformat": 4,
 "nbformat_minor": 5
}
