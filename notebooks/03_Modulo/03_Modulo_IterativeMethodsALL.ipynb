{
 "cells": [
  {
   "cell_type": "markdown",
   "id": "32764dd4",
   "metadata": {
    "slideshow": {
     "slide_type": "slide"
    }
   },
   "source": [
    "<hr style=\"border:2px solid #0176DE\"> </hr>\n",
    "<center><h1 style=\"color:#173F8A;\"> EMI 2024 - CMM Chile</h1></center>\n",
    "<hr style=\"border:2px solid #0176DE\"> </hr>\n",
    "<h3 style=\"color:#173F8A;text-align:right;\"> Profesores: &nbsp;Nicolás Barnafi<br>Manuel A. Sánchez<br></h3>\n",
    "\n",
    "<h3 style=\"color:#03122E;text-align:right;\"> \n",
    "    Centro de Modelamiento Matemático <br> \n",
    "    Instituto de Ingeniería Matemática y Computacional - IMC UC<br>  \n",
    "</h3>\n",
    "\n",
    "<hr style=\"border:2px solid #03122E\"> </hr>\n",
    "<center><h1 style=\"color:#173F8A;\"> Módulo 3: MinRes, GMRES - NGSolve</h1></center> \n",
    "<hr style=\"border:2px solid #03122E\"> </hr>\n",
    "\n",
    "<!-- Palette colors UC:\n",
    "Primaria: \n",
    "celeste:#0176DE, azul #173F8A, azul oscuro: #03122E, amarillo: #FEC60D, amarillo oscuro: #E3AE00 \n",
    "Secundaria\n",
    "gris oscuro: #707070\n",
    "-->"
   ]
  },
  {
   "cell_type": "code",
   "execution_count": 1,
   "id": "1b5627dc",
   "metadata": {
    "slideshow": {
     "slide_type": "slide"
    }
   },
   "outputs": [],
   "source": [
    "from ngsolve import *\n",
    "from ngsolve.webgui import Draw\n",
    "from ngsolve.la import EigenValues_Preconditioner\n",
    "import matplotlib.pyplot as plt\n",
    "from time import perf_counter as time"
   ]
  },
  {
   "cell_type": "code",
   "execution_count": 2,
   "id": "f1990c78",
   "metadata": {
    "slideshow": {
     "slide_type": "slide"
    }
   },
   "outputs": [],
   "source": [
    "# help(solvers.PreconditionedRichardson)\n",
    "# help(solvers.CG)\n",
    "# help(solvers.GMRes)\n",
    "# help(solvers.MinRes)\n",
    "# help(solvers.QMR)\n",
    "# help(krylovspace.CG)\n",
    "# help(krylovspace.RichardsonSolver)\n",
    "# help(krylovspace.GMRes)\n",
    "# help(krylovspace.MinRes)\n",
    "# help(krylovspace.QMR)"
   ]
  },
  {
   "cell_type": "markdown",
   "id": "db309865",
   "metadata": {
    "slideshow": {
     "slide_type": "slide"
    }
   },
   "source": [
    "## TEST 1: Model Problem the $L^2$ projection\n",
    "\n",
    "We will test the algorithm with the solution of $L^2$ projection onto the space of continuous piecewise linear functions in $(0,1)^2$ of a function\n",
    "$$ f= \\sin(\\pi(x-y)) $$ "
   ]
  },
  {
   "cell_type": "code",
   "execution_count": 3,
   "id": "4b3ba5ce",
   "metadata": {
    "slideshow": {
     "slide_type": "subslide"
    }
   },
   "outputs": [],
   "source": [
    "def SetL2Proj(mesh, fun=1, p=1, condense=False):\n",
    "    # H1-conforming Finite Element Space\n",
    "    fes = H1(mesh, order=p)\n",
    "    # Trial and Test Functions\n",
    "    u, v = fes.TnT()\n",
    "    # Bilinear form \n",
    "    a = BilinearForm(fes, symmetric=True, condense=condense)\n",
    "    a += (u*v)*dx \n",
    "    # Linear form\n",
    "    b = LinearForm(fun*v*dx)\n",
    "    # Gridfunction\n",
    "    gfu = GridFunction(fes)\n",
    "    return fes, a, b, gfu"
   ]
  },
  {
   "cell_type": "markdown",
   "id": "4f413c28",
   "metadata": {
    "slideshow": {
     "slide_type": "slide"
    }
   },
   "source": [
    "### Iterative method : Iterative method solver (no preconditioner) "
   ]
  },
  {
   "cell_type": "code",
   "execution_count": 4,
   "id": "527f9c39",
   "metadata": {
    "slideshow": {
     "slide_type": "slide"
    }
   },
   "outputs": [],
   "source": [
    "def SolveL2ProjIterative(a, b, gfu, fes, itermethod='CG', condense=False, compute_condnum=False):\n",
    "    a.Assemble()\n",
    "    b.Assemble()\n",
    "    preI = Projector(mask=fes.FreeDofs(), range=True)\n",
    "    # Solve\n",
    "    if itermethod=='Richardson':\n",
    "        lams = EigenValues_Preconditioner(mat=a.mat, pre=preI)\n",
    "        alpha=2.0/(min(lams)+max(lams))\n",
    "        gfu.vec.data = solvers.PreconditionedRichardson(a =a, \n",
    "                      rhs = b.vec, \n",
    "                      pre=None, freedofs=fes.FreeDofs(),\n",
    "                      tol=1e-8,\n",
    "                      maxit=10000, dampfactor=alpha,\n",
    "                      printing='\\r')\n",
    "    elif itermethod=='CG':\n",
    "        solvers.CG(mat =a.mat, \n",
    "                      rhs = b.vec, \n",
    "                      pre=None, freedofs=fes.FreeDofs(), \n",
    "                      sol =gfu.vec, \n",
    "                      tol=1e-8,\n",
    "                      maxsteps=10000, \n",
    "                      printrates='\\r')\n",
    "    elif itermethod=='GMRes':\n",
    "        solvers.GMRes(A =a.mat, \n",
    "                      b = b.vec, \n",
    "                      pre=None, freedofs=fes.FreeDofs(), \n",
    "                      x =gfu.vec, \n",
    "                      tol=1e-8,\n",
    "                      maxsteps=10000, \n",
    "                      printrates='\\r')\n",
    "    elif itermethod=='MinRes':\n",
    "        solvers.MinRes(mat =a.mat, \n",
    "                      rhs = b.vec, \n",
    "                      pre=preI, #freedofs=fes.FreeDofs(), \n",
    "                      sol =gfu.vec, \n",
    "                      tol=1e-8,\n",
    "                      maxsteps=10000, \n",
    "                      printrates='\\r')\n",
    "    elif itermethod=='QMR':\n",
    "        solvers.QMR(mat =a.mat, \n",
    "                      rhs = b.vec, \n",
    "                      fdofs=fes.FreeDofs(), \n",
    "                      sol =gfu.vec, \n",
    "                      tol=1e-8,\n",
    "                      maxsteps=10000, \n",
    "                      printrates='\\r')\n",
    "    if compute_condnum is False:\n",
    "        return gfu, ()\n",
    "    else:\n",
    "        lams = EigenValues_Preconditioner(mat=a.mat, pre=preI)\n",
    "        kappa = max(lams)/min(lams)\n",
    "        return gfu, kappa"
   ]
  },
  {
   "cell_type": "markdown",
   "id": "31c15673",
   "metadata": {
    "slideshow": {
     "slide_type": "slide"
    }
   },
   "source": [
    "### Test 1 parameters"
   ]
  },
  {
   "cell_type": "code",
   "execution_count": 5,
   "id": "179fb6aa",
   "metadata": {
    "slideshow": {
     "slide_type": "subslide"
    }
   },
   "outputs": [],
   "source": [
    "# parametros\n",
    "paramt1 = dict()\n",
    "paramt1['h'] = 0.05\n",
    "paramt1['f'] = sin(2*pi*(x-y))*cos(2*pi*(x+y))\n",
    "paramt1['p'] = 1\n",
    "paramt1['levels'] = 6 # <=8 for p=1\n",
    "paramt1['h0'] = 0.05\n",
    "paramt1['condense'] = False"
   ]
  },
  {
   "cell_type": "code",
   "execution_count": 6,
   "id": "6fbfcae7",
   "metadata": {
    "slideshow": {
     "slide_type": "slide"
    }
   },
   "outputs": [
    {
     "ename": "NameError",
     "evalue": "name 'time' is not defined",
     "output_type": "error",
     "traceback": [
      "\u001b[0;31m---------------------------------------------------------------------------\u001b[0m",
      "\u001b[0;31mNameError\u001b[0m                                 Traceback (most recent call last)",
      "Cell \u001b[0;32mIn[6], line 17\u001b[0m\n\u001b[1;32m     15\u001b[0m         steps\u001b[38;5;241m.\u001b[39mappend ( (fes\u001b[38;5;241m.\u001b[39mndof, invsteps ))\n\u001b[1;32m     16\u001b[0m     \u001b[38;5;28;01mreturn\u001b[39;00m gfu, tiempo, steps\n\u001b[0;32m---> 17\u001b[0m _, time_cg, steps \u001b[38;5;241m=\u001b[39m \u001b[43mSolveL2ProjIterative_levels\u001b[49m\u001b[43m(\u001b[49m\u001b[43mh\u001b[49m\u001b[38;5;241;43m=\u001b[39;49m\u001b[43mparamt1\u001b[49m\u001b[43m[\u001b[49m\u001b[38;5;124;43m'\u001b[39;49m\u001b[38;5;124;43mh0\u001b[39;49m\u001b[38;5;124;43m'\u001b[39;49m\u001b[43m]\u001b[49m\u001b[43m,\u001b[49m\u001b[43m \u001b[49m\u001b[43mlevels\u001b[49m\u001b[38;5;241;43m=\u001b[39;49m\u001b[43mparamt1\u001b[49m\u001b[43m[\u001b[49m\u001b[38;5;124;43m'\u001b[39;49m\u001b[38;5;124;43mlevels\u001b[39;49m\u001b[38;5;124;43m'\u001b[39;49m\u001b[43m]\u001b[49m\u001b[43m,\u001b[49m\u001b[43m \u001b[49m\u001b[43mitermethod\u001b[49m\u001b[38;5;241;43m=\u001b[39;49m\u001b[38;5;124;43m'\u001b[39;49m\u001b[38;5;124;43mRichardson\u001b[39;49m\u001b[38;5;124;43m'\u001b[39;49m\u001b[43m,\u001b[49m\u001b[43m \u001b[49m\u001b[43mcondense\u001b[49m\u001b[38;5;241;43m=\u001b[39;49m\u001b[43mparamt1\u001b[49m\u001b[43m[\u001b[49m\u001b[38;5;124;43m'\u001b[39;49m\u001b[38;5;124;43mcondense\u001b[39;49m\u001b[38;5;124;43m'\u001b[39;49m\u001b[43m]\u001b[49m\u001b[43m,\u001b[49m\u001b[43m \u001b[49m\u001b[43mcompute_condnum\u001b[49m\u001b[38;5;241;43m=\u001b[39;49m\u001b[38;5;28;43;01mFalse\u001b[39;49;00m\u001b[43m)\u001b[49m\n",
      "Cell \u001b[0;32mIn[6], line 11\u001b[0m, in \u001b[0;36mSolveL2ProjIterative_levels\u001b[0;34m(h, levels, itermethod, condense, compute_condnum)\u001b[0m\n\u001b[1;32m      9\u001b[0m gfu\u001b[38;5;241m.\u001b[39mUpdate()\n\u001b[1;32m     10\u001b[0m \u001b[38;5;28;01mwith\u001b[39;00m TaskManager():\n\u001b[0;32m---> 11\u001b[0m     start \u001b[38;5;241m=\u001b[39m \u001b[43mtime\u001b[49m()\n\u001b[1;32m     12\u001b[0m     gfu, invsteps \u001b[38;5;241m=\u001b[39m SolveL2ProjIterative(a, b, gfu, fes, itermethod, condense\u001b[38;5;241m=\u001b[39mcondense, compute_condnum\u001b[38;5;241m=\u001b[39mcompute_condnum)\n\u001b[1;32m     13\u001b[0m     \u001b[38;5;28mprint\u001b[39m (\u001b[38;5;124mf\u001b[39m\u001b[38;5;124m\"\u001b[39m\u001b[38;5;124mndof = \u001b[39m\u001b[38;5;132;01m{\u001b[39;00mfes\u001b[38;5;241m.\u001b[39mndof\u001b[38;5;132;01m}\u001b[39;00m\u001b[38;5;124m, time = \u001b[39m\u001b[38;5;132;01m{\u001b[39;00mtime()\u001b[38;5;241m-\u001b[39mstart\u001b[38;5;132;01m}\u001b[39;00m\u001b[38;5;124m, steps = \u001b[39m\u001b[38;5;132;01m{\u001b[39;00minvsteps\u001b[38;5;132;01m}\u001b[39;00m\u001b[38;5;124m\"\u001b[39m)\n",
      "\u001b[0;31mNameError\u001b[0m: name 'time' is not defined"
     ]
    },
    {
     "name": "stdout",
     "output_type": "stream",
     "text": [
      "it = 0  ||res||_2 = 0.0015146582226189058\n",
      "it = 1  ||res||_2 = 0.0002601384628239488\n",
      "it = 2  ||res||_2 = 0.00012744586431613162\n",
      "it = 3  ||res||_2 = 9.604893782334374e-05\n",
      "it = 4  ||res||_2 = 8.067563818140916e-05\n",
      "it = 5  ||res||_2 = 6.967908009054862e-05\n",
      "it = 6  ||res||_2 = 6.0812053297753465e-05\n",
      "it = 7  ||res||_2 = 5.338737881625649e-05\n",
      "it = 8  ||res||_2 = 4.707330190117497e-05\n",
      "it = 9  ||res||_2 = 4.165610790890744e-05\n",
      "it = 10  ||res||_2 = 3.697858294912466e-05\n",
      "it = 11  ||res||_2 = 3.291830311758581e-05\n",
      "it = 12  ||res||_2 = 2.937734069821493e-05\n",
      "it = 13  ||res||_2 = 2.6276192098601603e-05\n",
      "it = 14  ||res||_2 = 2.354968724129297e-05\n",
      "it = 15  ||res||_2 = 2.1144019113818204e-05\n",
      "it = 16  ||res||_2 = 1.901449313268155e-05\n",
      "it = 17  ||res||_2 = 1.7123779235320562e-05\n",
      "it = 18  ||res||_2 = 1.5440534130067342e-05\n",
      "it = 19  ||res||_2 = 1.393830522786641e-05\n",
      "it = 20  ||res||_2 = 1.259465332247389e-05\n",
      "it = 21  ||res||_2 = 1.139044726302e-05\n",
      "it = 22  ||res||_2 = 1.0309294882688838e-05\n",
      "it = 23  ||res||_2 = 9.337082381859596e-06\n",
      "it = 24  ||res||_2 = 8.4616003049121e-06\n",
      "it = 25  ||res||_2 = 7.67223881400128e-06\n",
      "it = 26  ||res||_2 = 6.9597385259268e-06\n",
      "it = 27  ||res||_2 = 6.315985985489504e-06\n",
      "it = 28  ||res||_2 = 5.733845071923853e-06\n",
      "it = 29  ||res||_2 = 5.207017400030804e-06\n",
      "it = 30  ||res||_2 = 4.729926180333885e-06\n",
      "it = 31  ||res||_2 = 4.297619117576927e-06\n",
      "it = 32  ||res||_2 = 3.9056868130963035e-06\n",
      "it = 33  ||res||_2 = 3.550193840875463e-06\n",
      "it = 34  ||res||_2 = 3.2276202267691005e-06\n",
      "it = 35  ||res||_2 = 2.934811505256423e-06\n",
      "it = 36  ||res||_2 = 2.6689358818836117e-06\n",
      "it = 37  ||res||_2 = 2.4274473111727397e-06\n",
      "it = 38  ||res||_2 = 2.208053524209638e-06\n",
      "it = 39  ||res||_2 = 2.0086882192732334e-06\n",
      "it = 40  ||res||_2 = 1.8274867721527276e-06\n",
      "it = 41  ||res||_2 = 1.6627649376655256e-06\n",
      "it = 42  ||res||_2 = 1.513000106223598e-06\n",
      "it = 43  ||res||_2 = 1.3768147537459132e-06\n",
      "it = 44  ||res||_2 = 1.2529617834485282e-06\n",
      "it = 45  ||res||_2 = 1.1403115069580632e-06\n",
      "it = 46  ||res||_2 = 1.037840052076156e-06\n",
      "it = 47  ||res||_2 = 9.446190171797553e-07\n",
      "it = 48  ||res||_2 = 8.598062191052105e-07\n",
      "it = 49  ||res||_2 = 7.826374035657483e-07\n",
      "it = 50  ||res||_2 = 7.124188055910688e-07\n",
      "it = 51  ||res||_2 = 6.485204628689567e-07\n",
      "it = 52  ||res||_2 = 5.903701977810885e-07\n",
      "it = 53  ||res||_2 = 5.374481948130663e-07\n",
      "it = 54  ||res||_2 = 4.892821092462361e-07\n",
      "it = 55  ||res||_2 = 4.4544265089806184e-07\n",
      "it = 56  ||res||_2 = 4.055395934043629e-07\n",
      "it = 57  ||res||_2 = 3.69218165320982e-07\n",
      "it = 58  ||res||_2 = 3.361557843187818e-07\n",
      "it = 59  ||res||_2 = 3.06059100080379e-07\n",
      "it = 60  ||res||_2 = 2.7866131528260395e-07\n",
      "it = 61  ||res||_2 = 2.5371975734997315e-07\n",
      "it = 62  ||res||_2 = 2.310136765614587e-07\n",
      "it = 63  ||res||_2 = 2.103422486433904e-07\n",
      "it = 64  ||res||_2 = 1.9152276223383324e-07\n",
      "it = 65  ||res||_2 = 1.7438897359865512e-07\n",
      "it = 66  ||res||_2 = 1.5878961275070982e-07\n",
      "it = 67  ||res||_2 = 1.4458702670000228e-07\n",
      "it = 68  ||res||_2 = 1.316559469687576e-07\n",
      "it = 69  ||res||_2 = 1.1988236976182072e-07\n",
      "it = 70  ||res||_2 = 1.0916253830768391e-07\n",
      "it = 71  ||res||_2 = 9.940201789413675e-08\n",
      "it = 72  ||res||_2 = 9.051485502819058e-08\n",
      "it = 73  ||res||_2 = 8.242281296437579e-08\n",
      "it = 74  ||res||_2 = 7.505467657854921e-08\n",
      "it = 75  ||res||_2 = 6.834562022500117e-08\n",
      "it = 76  ||res||_2 = 6.223663281052982e-08\n",
      "it = 77  ||res||_2 = 5.667399485712038e-08\n",
      "it = 78  ||res||_2 = 5.160880281085902e-08\n",
      "it = 79  ||res||_2 = 4.699653629417244e-08\n",
      "it = 80  ||res||_2 = 4.279666439602255e-08\n",
      "it = 81  ||res||_2 = 3.897228745452439e-08\n",
      "it = 82  ||res||_2 = 3.548981111236495e-08\n",
      "it = 83  ||res||_2 = 3.231864972069157e-08\n",
      "it = 84  ||res||_2 = 2.943095643482802e-08\n",
      "it = 85  ||res||_2 = 2.680137758788001e-08\n",
      "it = 86  ||res||_2 = 2.440682914847553e-08\n",
      "it = 87  ||res||_2 = 2.222629326870453e-08\n",
      "it = 88  ||res||_2 = 2.024063310961939e-08\n",
      "it = 89  ||res||_2 = 1.8432424296334624e-08\n",
      "it = 90  ||res||_2 = 1.6785801504264808e-08\n",
      "it = 91  ||res||_2 = 1.528631881382523e-08\n",
      "it = 92  ||res||_2 = 1.3920822594293715e-08\n",
      "it = 93  ||res||_2 = 1.2677335789621e-08\n",
      "it = 94  ||res||_2 = 1.1544952580897577e-08\n",
      "it = 95  ||res||_2 = 1.0513742492702963e-08\n",
      "it = 96  ||res||_2 = 9.574663094786567e-09\n",
      "it = 97  ||res||_2 = 8.719480527047489e-09\n",
      "it = 98  ||res||_2 = 7.940697145351743e-09\n",
      "it = 99  ||res||_2 = 7.231485648998648e-09\n",
      "it = 100  ||res||_2 = 6.585629108202172e-09\n",
      "it = 101  ||res||_2 = 5.997466362290181e-09\n",
      "it = 102  ||res||_2 = 5.461842306922605e-09\n",
      "it = 103  ||res||_2 = 4.9740626319409926e-09\n",
      "it = 104  ||res||_2 = 4.529852610875888e-09\n",
      "it = 105  ||res||_2 = 4.1253195789517795e-09\n",
      "it = 106  ||res||_2 = 3.756918769067264e-09\n",
      "it = 107  ||res||_2 = 3.421422204893916e-09\n",
      "it = 108  ||res||_2 = 3.11589037723025e-09\n",
      "it = 109  ||res||_2 = 2.8376464543546317e-09\n",
      "it = 110  ||res||_2 = 2.5842527994253143e-09\n",
      "it = 111  ||res||_2 = 2.3534895883790713e-09\n",
      "it = 112  ||res||_2 = 2.1433353402769323e-09\n",
      "it = 113  ||res||_2 = 1.9519491889049754e-09\n",
      "it = 114  ||res||_2 = 1.77765473977381e-09\n",
      "it = 115  ||res||_2 = 1.6189253706408772e-09\n",
      "it = 116  ||res||_2 = 1.4743708463974001e-09\n",
      "it = 117  ||res||_2 = 1.342725130696055e-09\n",
      "it = 118  ||res||_2 = 1.2228352872617865e-09\n",
      "it = 119  ||res||_2 = 1.1136513734094274e-09\n",
      "it = 120  ||res||_2 = 1.0142172370051884e-09\n",
      "it = 121  ||res||_2 = 9.236621360830459e-10\n",
      "it = 122  ||res||_2 = 8.411931075315009e-10\n",
      "it = 123  ||res||_2 = 7.660880178438012e-10\n",
      "it = 124  ||res||_2 = 6.976892349799377e-10\n",
      "it = 125  ||res||_2 = 6.353978657731386e-10\n",
      "it = 126  ||res||_2 = 5.786685083252587e-10\n",
      "it = 127  ||res||_2 = 5.270044733539111e-10\n",
      "it = 128  ||res||_2 = 4.799534325503305e-10\n",
      "it = 129  ||res||_2 = 4.3710345578807643e-10\n",
      "it = 130  ||res||_2 = 3.980794024275289e-10\n",
      "it = 131  ||res||_2 = 3.625396350544633e-10\n",
      "it = 132  ||res||_2 = 3.301730268390932e-10\n",
      "it = 133  ||res||_2 = 3.006962362752475e-10\n",
      "it = 134  ||res||_2 = 2.7385122538595345e-10\n",
      "it = 135  ||res||_2 = 2.4940299967134704e-10\n",
      "it = 136  ||res||_2 = 2.2713754994815725e-10\n",
      "it = 137  ||res||_2 = 2.0685997805100845e-10\n",
      "it = 138  ||res||_2 = 1.8839278997836168e-10\n",
      "it = 139  ||res||_2 = 1.7157434150489024e-10\n",
      "it = 140  ||res||_2 = 1.5625742265107816e-10\n",
      "it = 141  ||res||_2 = 1.4230796857800593e-10\n",
      "it = 142  ||res||_2 = 1.2960388564593486e-10\n",
      "it = 143  ||res||_2 = 1.1803398232626954e-10\n",
      "it = 144  ||res||_2 = 1.0749699560407834e-10\n",
      "it = 145  ||res||_2 = 9.790070433445036e-11\n",
      "it = 146  ||res||_2 = 8.916112179375754e-11\n",
      "it = 147  ||res||_2 = 8.120176035331709e-11\n",
      "it = 148  ||res||_2 = 7.39529618153815e-11\n",
      "it = 149  ||res||_2 = 6.735128756646303e-11\n",
      "it = 150  ||res||_2 = 6.13389631913027e-11\n",
      "it = 151  ||res||_2 = 5.5863372687948476e-11\n",
      "it = 152  ||res||_2 = 5.08765978566965e-11\n",
      "it = 153  ||res||_2 = 4.633499881478636e-11\n",
      "it = 154  ||res||_2 = 4.219883197688586e-11\n",
      "it = 155  ||res||_2 = 3.8431902152029343e-11\n",
      "it = 156  ||res||_2 = 3.50012457151281e-11\n",
      "it = 157  ||res||_2 = 3.1876842057038514e-11\n",
      "it = 158  ||res||_2 = 2.9031350807330823e-11\n",
      "it = 159  ||res||_2 = 2.643987252781982e-11\n",
      "it = 160  ||res||_2 = 2.4079730768927628e-11\n",
      "it = 161  ||res||_2 = 2.1930273589928548e-11\n",
      "it = 162  ||res||_2 = 1.9972692800828764e-11\n",
      "it = 163  ||res||_2 = 1.8189859347201304e-11\n",
      "it = 164  ||res||_2 = 1.6566173392480122e-11\n",
      "it = 165  ||res||_2 = 1.5087427781131058e-11\n",
      "ndof = 120193, time = 0.6437170505523682, steps = ()\n",
      "it = 0  ||res||_2 = 0.0007580750846579688\n",
      "it = 1  ||res||_2 = 0.00013209889095410965\n",
      "it = 2  ||res||_2 = 6.37880471218659e-05\n",
      "it = 3  ||res||_2 = 4.7976162212786344e-05\n",
      "it = 4  ||res||_2 = 4.033323495189694e-05\n",
      "it = 5  ||res||_2 = 3.4850954634135204e-05\n",
      "it = 6  ||res||_2 = 3.0401392144001552e-05\n",
      "it = 7  ||res||_2 = 2.665391876462065e-05\n",
      "it = 8  ||res||_2 = 2.345319860817867e-05\n",
      "it = 9  ||res||_2 = 2.06991630479113e-05\n",
      "it = 10  ||res||_2 = 1.831726632930592e-05\n",
      "it = 11  ||res||_2 = 1.624858205104111e-05\n",
      "it = 12  ||res||_2 = 1.4445293851024208e-05\n",
      "it = 13  ||res||_2 = 1.286806669645922e-05\n",
      "it = 14  ||res||_2 = 1.1484265956619084e-05\n",
      "it = 15  ||res||_2 = 1.026664862533948e-05\n",
      "it = 16  ||res||_2 = 9.192358287145188e-06\n",
      "it = 17  ||res||_2 = 8.242133850611679e-06\n",
      "it = 18  ||res||_2 = 7.3996771907676805e-06\n",
      "it = 19  ||res||_2 = 6.651142952944549e-06\n",
      "it = 20  ||res||_2 = 5.984724247911995e-06\n",
      "it = 21  ||res||_2 = 5.390314616838441e-06\n",
      "it = 22  ||res||_2 = 4.859231180414212e-06\n",
      "it = 23  ||res||_2 = 4.3839871532141504e-06\n",
      "it = 24  ||res||_2 = 3.958104350087512e-06\n",
      "it = 25  ||res||_2 = 3.5759581918540754e-06\n",
      "it = 26  ||res||_2 = 3.232649189476591e-06\n",
      "it = 27  ||res||_2 = 2.9238960514919235e-06\n",
      "it = 28  ||res||_2 = 2.6459464895557264e-06\n",
      "it = 29  ||res||_2 = 2.395502542697753e-06\n",
      "it = 30  ||res||_2 = 2.1696578407013167e-06\n",
      "it = 31  ||res||_2 = 1.9658447104516266e-06\n",
      "it = 32  ||res||_2 = 1.781789419273646e-06\n",
      "it = 33  ||res||_2 = 1.615474164522211e-06\n",
      "it = 34  ||res||_2 = 1.4651046736188085e-06\n",
      "it = 35  ||res||_2 = 1.3290824850731623e-06\n",
      "it = 36  ||res||_2 = 1.2059811482076427e-06\n",
      "it = 37  ||res||_2 = 1.0945257149019948e-06\n",
      "it = 38  ||res||_2 = 9.935750068032255e-07\n"
     ]
    },
    {
     "name": "stdout",
     "output_type": "stream",
     "text": [
      "it = 39  ||res||_2 = 9.021062310186831e-07\n",
      "it = 40  ||res||_2 = 8.192015902904856e-07\n",
      "it = 41  ||res||_2 = 7.440365932251428e-07\n",
      "it = 42  ||res||_2 = 6.758698188900233e-07\n",
      "it = 43  ||res||_2 = 6.140339300544323e-07\n",
      "it = 44  ||res||_2 = 5.579277622104952e-07\n",
      "it = 45  ||res||_2 = 5.070093425969325e-07\n",
      "it = 46  ||res||_2 = 4.6078971584605876e-07\n",
      "it = 47  ||res||_2 = 4.1882747145068536e-07\n",
      "it = 48  ||res||_2 = 3.807238837047651e-07\n",
      "it = 49  ||res||_2 = 3.461185876766583e-07\n",
      "it = 50  ||res||_2 = 3.146857255851608e-07\n",
      "it = 51  ||res||_2 = 2.8613050703773804e-07\n",
      "it = 52  ||res||_2 = 2.601861342589426e-07\n",
      "it = 53  ||res||_2 = 2.3661104993017436e-07\n",
      "it = 54  ||res||_2 = 2.1518647077943455e-07\n",
      "it = 55  ||res||_2 = 1.9571417476472522e-07\n",
      "it = 56  ||res||_2 = 1.7801451372094458e-07\n",
      "it = 57  ||res||_2 = 1.6192462679714097e-07\n",
      "it = 58  ||res||_2 = 1.4729683298920036e-07\n",
      "it = 59  ||res||_2 = 1.3399718364702553e-07\n",
      "it = 60  ||res||_2 = 1.219041580667742e-07\n",
      "it = 61  ||res||_2 = 1.1090748721910861e-07\n",
      "it = 62  ||res||_2 = 1.0090709235644727e-07\n",
      "it = 63  ||res||_2 = 9.181212672169311e-08\n",
      "it = 64  ||res||_2 = 8.354010987783362e-08\n",
      "it = 65  ||res||_2 = 7.601614531753226e-08\n",
      "it = 66  ||res||_2 = 6.917221301560275e-08\n",
      "it = 67  ||res||_2 = 6.294652947328908e-08\n",
      "it = 68  ||res||_2 = 5.728296858690484e-08\n",
      "it = 69  ||res||_2 = 5.213053736777857e-08\n",
      "it = 70  ||res||_2 = 4.7442901156843855e-08\n",
      "it = 71  ||res||_2 = 4.317795352529366e-08\n",
      "it = 72  ||res||_2 = 3.929742654078494e-08\n",
      "it = 73  ||res||_2 = 3.5766537513926494e-08\n",
      "it = 74  ||res||_2 = 3.255366872846195e-08\n",
      "it = 75  ||res||_2 = 2.963007700607792e-08\n",
      "it = 76  ||res||_2 = 2.696963026781898e-08\n",
      "it = 77  ||res||_2 = 2.4548568532839054e-08\n",
      "it = 78  ||res||_2 = 2.234528704523752e-08\n",
      "it = 79  ||res||_2 = 2.034013944420293e-08\n",
      "it = 80  ||res||_2 = 1.851525909439515e-08\n",
      "it = 81  ||res||_2 = 1.685439687489122e-08\n",
      "it = 82  ||res||_2 = 1.534277388827007e-08\n",
      "it = 83  ||res||_2 = 1.396694769844204e-08\n",
      "it = 84  ||res||_2 = 1.2714690838324516e-08\n",
      "it = 85  ||res||_2 = 1.157488044793848e-08\n",
      "it = 86  ||res||_2 = 1.0537398011293991e-08\n",
      "it = 87  ||res||_2 = 9.593038257751687e-09\n",
      "it = 88  ||res||_2 = 8.73342638142252e-09\n",
      "it = 89  ||res||_2 = 7.950942811577767e-09\n",
      "it = 90  ||res||_2 = 7.238654838826884e-09\n",
      "it = 91  ||res||_2 = 6.590254466734472e-09\n",
      "it = 92  ||res||_2 = 6.0000019172699676e-09\n",
      "it = 93  ||res||_2 = 5.462674271628621e-09\n",
      "it = 94  ||res||_2 = 4.973518776072865e-09\n",
      "it = 95  ||res||_2 = 4.5282103860086545e-09\n",
      "it = 96  ||res||_2 = 4.122813160973433e-09\n",
      "it = 97  ||res||_2 = 3.753745158968183e-09\n",
      "it = 98  ||res||_2 = 3.4177465109714584e-09\n",
      "it = 99  ||res||_2 = 3.11185038584701e-09\n",
      "it = 100  ||res||_2 = 2.8333565824917553e-09\n",
      "it = 101  ||res||_2 = 2.5798075102278116e-09\n",
      "it = 102  ||res||_2 = 2.348966340352568e-09\n",
      "it = 103  ||res||_2 = 2.138797131641635e-09\n",
      "it = 104  ||res||_2 = 1.9474467506324926e-09\n",
      "it = 105  ||res||_2 = 1.7732284238964821e-09\n",
      "it = 106  ||res||_2 = 1.6146067743641188e-09\n",
      "it = 107  ||res||_2 = 1.4701842072573893e-09\n",
      "it = 108  ||res||_2 = 1.3386885234366107e-09\n",
      "it = 109  ||res||_2 = 1.218961649096035e-09\n",
      "it = 110  ||res||_2 = 1.109949380839727e-09\n",
      "it = 111  ||res||_2 = 1.0106920543502193e-09\n",
      "it = 112  ||res||_2 = 9.203160532045862e-10\n",
      "it = 113  ||res||_2 = 8.38026081953013e-10\n",
      "it = 114  ||res||_2 = 7.630981344752699e-10\n",
      "it = 115  ||res||_2 = 6.948730948740336e-10\n",
      "it = 116  ||res||_2 = 6.327509138474228e-10\n",
      "it = 117  ||res||_2 = 5.761853086554014e-10\n",
      "it = 118  ||res||_2 = 5.246789394840495e-10\n",
      "it = 119  ||res||_2 = 4.777790192855513e-10\n",
      "it = 120  ||res||_2 = 4.350733180499318e-10\n",
      "it = 121  ||res||_2 = 3.96186525988935e-10\n",
      "it = 122  ||res||_2 = 3.607769433329975e-10\n",
      "it = 123  ||res||_2 = 3.285334673384308e-10\n",
      "it = 124  ||res||_2 = 2.9917284977298534e-10\n",
      "it = 125  ||res||_2 = 2.7243720055483613e-10\n",
      "it = 126  ||res||_2 = 2.4809171540456686e-10\n",
      "it = 127  ||res||_2 = 2.2592260737954683e-10\n",
      "it = 128  ||res||_2 = 2.0573522396387957e-10\n",
      "it = 129  ||res||_2 = 1.87352333039956e-10\n",
      "it = 130  ||res||_2 = 1.7061256257452327e-10\n",
      "it = 131  ||res||_2 = 1.5536898020918246e-10\n",
      "it = 132  ||res||_2 = 1.4148780019602153e-10\n",
      "it = 133  ||res||_2 = 1.2884720624222493e-10\n",
      "it = 134  ||res||_2 = 1.173362798621892e-10\n",
      "it = 135  ||res||_2 = 1.0685402476713013e-10\n",
      "it = 136  ||res||_2 = 9.730847867482565e-11\n",
      "it = 137  ||res||_2 = 8.861590469804342e-11\n",
      "it = 138  ||res||_2 = 8.070005516836989e-11\n",
      "it = 139  ||res||_2 = 7.3491501406954e-11\n",
      "it = 140  ||res||_2 = 6.692702352305089e-11\n",
      "it = 141  ||res||_2 = 6.09490548576852e-11\n",
      "it = 142  ||res||_2 = 5.550517617640322e-11\n",
      "it = 143  ||res||_2 = 5.0547655152230823e-11\n",
      "it = 144  ||res||_2 = 4.6033027075986495e-11\n",
      "it = 145  ||res||_2 = 4.1921713104821234e-11\n",
      "it = 146  ||res||_2 = 3.817767267977575e-11\n",
      "it = 147  ||res||_2 = 3.476808705504241e-11\n",
      "it = 148  ||res||_2 = 3.166307114989998e-11\n",
      "it = 149  ||res||_2 = 2.8835411189734554e-11\n",
      "it = 150  ||res||_2 = 2.6260325821248915e-11\n",
      "it = 151  ||res||_2 = 2.3915248602702558e-11\n",
      "it = 152  ||res||_2 = 2.1779629957073276e-11\n",
      "it = 153  ||res||_2 = 1.9834756841759445e-11\n",
      "it = 154  ||res||_2 = 1.806358854889536e-11\n",
      "it = 155  ||res||_2 = 1.645060719649321e-11\n",
      "it = 156  ||res||_2 = 1.4981681590902274e-11\n",
      "it = 157  ||res||_2 = 1.3643943265455048e-11\n",
      "it = 158  ||res||_2 = 1.2425673607860345e-11\n",
      "it = 159  ||res||_2 = 1.1316201078058996e-11\n",
      "it = 160  ||res||_2 = 1.030580761940316e-11\n",
      "it = 161  ||res||_2 = 9.38564344016844e-12\n",
      "it = 162  ||res||_2 = 8.547649412288969e-12\n",
      "it = 163  ||res||_2 = 7.784486407741832e-12\n",
      "it = 164  ||res||_2 = 7.089470956673657e-12\n",
      "ndof = 479489, time = 2.289625644683838, steps = ()\n"
     ]
    }
   ],
   "source": [
    "def SolveL2ProjIterative_levels(h, levels, itermethod='CG', condense=False, compute_condnum=False):\n",
    "    mesh = Mesh(unit_square.GenerateMesh(maxh=h))\n",
    "    fes, a, b, gfu = SetL2Proj(mesh, p=paramt1['p'], fun=paramt1['f'], condense=condense)\n",
    "    tiempo = []\n",
    "    steps = []\n",
    "    for l in range(levels):\n",
    "        if l > 0: mesh.Refine()\n",
    "        fes.Update()\n",
    "        gfu.Update()\n",
    "        with TaskManager():\n",
    "            start = time()\n",
    "            gfu, invsteps = SolveL2ProjIterative(a, b, gfu, fes, itermethod, condense=condense, compute_condnum=compute_condnum)\n",
    "            print (f\"ndof = {fes.ndof}, time = {time()-start}, steps = {invsteps}\")\n",
    "            tiempo.append ( (fes.ndof, time()-start ))\n",
    "        steps.append ( (fes.ndof, invsteps ))\n",
    "    return gfu, tiempo, steps\n",
    "_, time_cg, steps = SolveL2ProjIterative_levels(h=paramt1['h0'], levels=paramt1['levels'], itermethod='Richardson', condense=paramt1['condense'], compute_condnum=False)"
   ]
  },
  {
   "cell_type": "code",
   "execution_count": null,
   "id": "80c0c1fe",
   "metadata": {
    "slideshow": {
     "slide_type": "skip"
    }
   },
   "outputs": [],
   "source": []
  },
  {
   "cell_type": "markdown",
   "id": "6a8475b3",
   "metadata": {
    "slideshow": {
     "slide_type": "slide"
    }
   },
   "source": [
    "## TEST 2: Model problem the Poisson equation\n",
    "We will test the algorithm in this notebook with the solution of the following Poisson problem\n",
    "\n",
    "\\begin{equation}\n",
    "-\\Delta u = 1, \\quad \\text{in } (0,1)^{2}, \\qquad u=0, \\quad \\text{sobre } x=0 \\text{ e }y=0.\n",
    "\\end{equation}"
   ]
  },
  {
   "cell_type": "code",
   "execution_count": null,
   "id": "c112749d",
   "metadata": {
    "scrolled": true,
    "slideshow": {
     "slide_type": "subslide"
    }
   },
   "outputs": [],
   "source": [
    "def SetPoisson(mesh, f=1, p=1, dirichlet_bndry=None, condense=False):\n",
    "    # H1-conforming Finite Element Space\n",
    "    fes = H1(mesh, order=p, dirichlet=dirichlet_bndry)\n",
    "    # Trial and Test Functions\n",
    "    u, v = fes.TnT()\n",
    "    # Bilinear form \n",
    "    a = BilinearForm(fes, symmetric=True, condense=condense)\n",
    "    a += (grad(u)*grad(v))*dx \n",
    "    # Linear form\n",
    "    b = LinearForm(f*v*dx)\n",
    "    # Gridfunction\n",
    "    gfu = GridFunction(fes)\n",
    "    return fes, a, b, gfu"
   ]
  },
  {
   "cell_type": "markdown",
   "id": "e2f39308",
   "metadata": {
    "slideshow": {
     "slide_type": "slide"
    }
   },
   "source": [
    "### Iterative method : Iterative method solver (no preconditioner) "
   ]
  },
  {
   "cell_type": "code",
   "execution_count": null,
   "id": "cefd75ad",
   "metadata": {
    "slideshow": {
     "slide_type": "subslide"
    }
   },
   "outputs": [],
   "source": [
    "def SolvePoissonIterative(a, b, gfu, fes, itermethod='CG', condense=False, compute_condnum=False):\n",
    "    a.Assemble()\n",
    "    b.Assemble()\n",
    "    preI = Projector(mask=fes.FreeDofs(), range=True)\n",
    "    # Solve\n",
    "    if itermethod=='Richardson':\n",
    "        lams = EigenValues_Preconditioner(mat=a.mat, pre=preI)\n",
    "        alpha=2.0/(min(lams)+max(lams))\n",
    "        gfu.vec.data = solvers.PreconditionedRichardson(a =a, \n",
    "                      rhs = b.vec, \n",
    "                      pre=None, freedofs=fes.FreeDofs(),\n",
    "                      tol=1e-8,\n",
    "                      maxit=10000, dampfactor=alpha,\n",
    "                      printing='\\r')\n",
    "    elif itermethod=='CG':\n",
    "        solvers.CG(mat =a.mat, \n",
    "                      rhs = b.vec, \n",
    "                      pre=None, freedofs=fes.FreeDofs(), \n",
    "                      sol =gfu.vec, \n",
    "                      tol=1e-8,\n",
    "                      maxsteps=10000, \n",
    "                      printrates='\\r')\n",
    "    elif itermethod=='GMRes':\n",
    "        solvers.GMRes(A =a.mat, \n",
    "                      b = b.vec, \n",
    "                      pre=None, freedofs=fes.FreeDofs(), \n",
    "                      x =gfu.vec, \n",
    "                      tol=1e-8,\n",
    "                      maxsteps=10000,\n",
    "                      printrates='\\r')\n",
    "    elif itermethod=='MinRes':\n",
    "        solvers.MinRes(mat =a.mat, \n",
    "                      rhs = b.vec, \n",
    "                      pre=preI, #freedofs=fes.FreeDofs(), \n",
    "                      sol =gfu.vec, \n",
    "                      tol=1e-8,\n",
    "                      maxsteps=10000, \n",
    "                      printrates='\\r')\n",
    "    elif itermethod=='QMR':\n",
    "        solvers.QMR(mat =a.mat, \n",
    "                      rhs = b.vec, \n",
    "                      fdofs=fes.FreeDofs(), \n",
    "                      sol =gfu.vec, \n",
    "                      tol=1e-8,\n",
    "                      maxsteps=10000, \n",
    "                      printrates='\\r')\n",
    "    if compute_condnum is False:\n",
    "        return gfu, () \n",
    "    else:\n",
    "        lams = EigenValues_Preconditioner(mat=a.mat, pre=preI)\n",
    "        kappa = max(lams)/min(lams)\n",
    "        return gfu,kappa"
   ]
  },
  {
   "cell_type": "code",
   "execution_count": null,
   "id": "87fa8934",
   "metadata": {
    "slideshow": {
     "slide_type": "skip"
    }
   },
   "outputs": [],
   "source": [
    "class iter_countercg(object): # for CG\n",
    "    def __init__(self):\n",
    "        self.niter = 0\n",
    "    def __call__(self, iterations, residual):\n",
    "#         self.niter += 1\n",
    "        self.iterations=iterations\n",
    "        self.residual = residual\n",
    "countercg = iter_countercg()\n",
    "solvers.CG(mat =a.mat, \n",
    "                      rhs = b.vec, \n",
    "                      pre=None, freedofs=fes.FreeDofs(), \n",
    "                      sol =gfu.vec, \n",
    "                      tol=1e-8,\n",
    "                      maxsteps=10000, \n",
    "                      callback=countercg,\n",
    "                      printrates='\\r')        "
   ]
  },
  {
   "cell_type": "markdown",
   "id": "f149eb51",
   "metadata": {
    "slideshow": {
     "slide_type": "slide"
    }
   },
   "source": [
    "### Test 2 parameters"
   ]
  },
  {
   "cell_type": "code",
   "execution_count": null,
   "id": "347d3535",
   "metadata": {
    "slideshow": {
     "slide_type": "subslide"
    }
   },
   "outputs": [],
   "source": [
    "# parameters\n",
    "paramt2 = dict()\n",
    "paramt2['h'] = 0.05\n",
    "paramt2['f'] = 1\n",
    "paramt2['p'] = 1 # p = 6 try h0=0.25\n",
    "paramt2['h0'] = 0.05\n",
    "paramt2['levels'] = 4 # <=6 if p=1\n",
    "paramt2['condense'] = False # True does not work"
   ]
  },
  {
   "cell_type": "markdown",
   "id": "56bc90ab",
   "metadata": {
    "slideshow": {
     "slide_type": "slide"
    }
   },
   "source": [
    "## Iterative Methods Richardson, CG, MinRes, GMRES, QMR (no preconditioner)"
   ]
  },
  {
   "cell_type": "code",
   "execution_count": null,
   "id": "86c403db",
   "metadata": {
    "scrolled": true,
    "slideshow": {
     "slide_type": "subslide"
    }
   },
   "outputs": [],
   "source": [
    "def SolvePoissonIterative_levels(h, levels, itermethod='CG', condense=False, compute_condnum=False):\n",
    "    mesh = Mesh(unit_square.GenerateMesh(maxh=h))\n",
    "    fes, a, b, gfu = SetPoisson(mesh, p=paramt2['p'], dirichlet_bndry='bottom|left', condense=condense)\n",
    "    tiempo = []\n",
    "    steps = []\n",
    "    for l in range(levels):\n",
    "        if l > 0: mesh.Refine()\n",
    "        fes.Update()\n",
    "        gfu.Update()\n",
    "        with TaskManager():\n",
    "            start = time()\n",
    "            gfu, invsteps = SolvePoissonIterative(a, b, gfu, fes, itermethod, condense=condense, compute_condnum=compute_condnum)\n",
    "            print (f\"ndof = {fes.ndof}, time = {time()-start}, steps = {invsteps}\")\n",
    "            tiempo.append ( (fes.ndof, time()-start ))\n",
    "        steps.append ( (fes.ndof, invsteps ))\n",
    "    return gfu, tiempo, steps\n",
    "\n",
    "_, time_cg, steps = SolvePoissonIterative_levels(h=paramt2['h0'], levels=paramt2['levels'], itermethod='QMR', condense=paramt2['condense'], compute_condnum=False)"
   ]
  },
  {
   "cell_type": "markdown",
   "id": "d76cdc60",
   "metadata": {
    "slideshow": {
     "slide_type": "slide"
    }
   },
   "source": [
    "### CGSolver from ngsolve.la vs. krylovspace.CG"
   ]
  },
  {
   "cell_type": "code",
   "execution_count": null,
   "id": "6ff4d9bd",
   "metadata": {
    "slideshow": {
     "slide_type": "subslide"
    }
   },
   "outputs": [],
   "source": [
    "help(CGSolver)\n",
    "help(krylovspace.CG)"
   ]
  },
  {
   "cell_type": "code",
   "execution_count": null,
   "id": "cfa8a351",
   "metadata": {},
   "outputs": [],
   "source": []
  }
 ],
 "metadata": {
  "celltoolbar": "Slideshow",
  "kernelspec": {
   "display_name": "Python 3 (ipykernel)",
   "language": "python",
   "name": "python3"
  },
  "language_info": {
   "codemirror_mode": {
    "name": "ipython",
    "version": 3
   },
   "file_extension": ".py",
   "mimetype": "text/x-python",
   "name": "python",
   "nbconvert_exporter": "python",
   "pygments_lexer": "ipython3",
   "version": "3.10.12"
  },
  "varInspector": {
   "cols": {
    "lenName": 16,
    "lenType": 16,
    "lenVar": 40
   },
   "kernels_config": {
    "python": {
     "delete_cmd_postfix": "",
     "delete_cmd_prefix": "del ",
     "library": "var_list.py",
     "varRefreshCmd": "print(var_dic_list())"
    },
    "r": {
     "delete_cmd_postfix": ") ",
     "delete_cmd_prefix": "rm(",
     "library": "var_list.r",
     "varRefreshCmd": "cat(var_dic_list()) "
    }
   },
   "types_to_exclude": [
    "module",
    "function",
    "builtin_function_or_method",
    "instance",
    "_Feature"
   ],
   "window_display": false
  }
 },
 "nbformat": 4,
 "nbformat_minor": 5
}
