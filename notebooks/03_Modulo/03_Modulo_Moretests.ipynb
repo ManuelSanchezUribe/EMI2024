{
 "cells": [
  {
   "cell_type": "markdown",
   "id": "7b5791c7",
   "metadata": {
    "slideshow": {
     "slide_type": "slide"
    }
   },
   "source": [
    "<hr style=\"border:2px solid #0176DE\"> </hr>\n",
    "<center><h1 style=\"color:#173F8A;\"> EMI 2024 - CMM Chile</h1></center>\n",
    "<hr style=\"border:2px solid #0176DE\"> </hr>\n",
    "<h3 style=\"color:#173F8A;text-align:right;\"> Profesores: &nbsp;Nicolás Barnafi<br>Manuel A. Sánchez<br></h3>\n",
    "\n",
    "<h3 style=\"color:#03122E;text-align:right;\"> \n",
    "    Centro de Modelamiento Matematico <br> \n",
    "    Instituto de Ingenieria Matematica y Computacional - IMC UC<br>  \n",
    "</h3>\n",
    "\n",
    "<hr style=\"border:2px solid #03122E\"> </hr>\n",
    "<center><h1 style=\"color:#173F8A;\"> Modulo 3: The Conjugate Gradient Method - NGSolve</h1></center> \n",
    "<hr style=\"border:2px solid #03122E\"> </hr>\n",
    "\n",
    "<!-- Palette colors UC:\n",
    "Primaria: \n",
    "celeste:#0176DE, azul #173F8A, azul oscuro: #03122E, amarillo: #FEC60D, amarillo oscuro: #E3AE00 \n",
    "Secundaria\n",
    "gris oscuro: #707070\n",
    "-->"
   ]
  },
  {
   "cell_type": "markdown",
   "id": "5f143361",
   "metadata": {
    "slideshow": {
     "slide_type": "slide"
    }
   },
   "source": [
    "## TEST 3: Model Problem Linear Elasticity\n",
    "\n",
    "We will test the algorithm with the solution of the Linear Elasticity problem over a domain $\\Omega\\subseteq \\mathbb R^{3}$\n",
    "$$ -\\nabla \\sigma = f, \\quad \\sigma = \\varepsilon (u) = \\frac{1}{2}(\\nabla u + \\nabla u^\\top)$$ \n",
    "and displacement and traction boundary conditions\n",
    "\\begin{align*}\n",
    "u & = u_{D}, \\quad \\text{on } \\Gamma_{D} \\\\\n",
    "\\sigma n & = g, \\quad \\text{on } \\Gamma_{N}\n",
    "\\end{align*}"
   ]
  },
  {
   "cell_type": "code",
   "execution_count": 1,
   "id": "0dfe0b8a",
   "metadata": {
    "slideshow": {
     "slide_type": "subslide"
    }
   },
   "outputs": [],
   "source": [
    "from netgen.occ import *\n",
    "from netgen.webgui import Draw as DrawGeo\n",
    "import ngsolve"
   ]
  },
  {
   "cell_type": "code",
   "execution_count": 20,
   "id": "c5b844f4",
   "metadata": {
    "slideshow": {
     "slide_type": "subslide"
    }
   },
   "outputs": [
    {
     "data": {
      "application/vnd.jupyter.widget-view+json": {
       "model_id": "c8496993e4444674b83c7971a914f582",
       "version_major": 2,
       "version_minor": 0
      },
      "text/plain": [
       "WebGuiWidget(layout=Layout(height='50vh', width='100%'), value={'ngsolve_version': 'Netgen x.x', 'mesh_dim': 3…"
      ]
     },
     "metadata": {},
     "output_type": "display_data"
    }
   ],
   "source": [
    "# Geometry \\Omega\n",
    "box = Box((0,0,0), (3,0.6,1))\n",
    "box.faces.name=\"outer\"\n",
    "cyl = sum( [Cylinder((0.5+i,0,0.5), Y, 0.25,0.8) for i in range(3)] )\n",
    "cyl.faces.name=\"cyl\"\n",
    "geo = box-cyl\n",
    "geo.faces.Min(X).name = \"fix\"\n",
    "geo.faces.Max(X).name = \"force\"\n",
    "DrawGeo(geo);"
   ]
  },
  {
   "cell_type": "code",
   "execution_count": 21,
   "id": "479309d8",
   "metadata": {
    "slideshow": {
     "slide_type": "subslide"
    }
   },
   "outputs": [
    {
     "data": {
      "application/vnd.jupyter.widget-view+json": {
       "model_id": "ff1be0db1564441f8d0c0b810d2d1762",
       "version_major": 2,
       "version_minor": 0
      },
      "text/plain": [
       "WebGuiWidget(layout=Layout(height='50vh', width='100%'), value={'gui_settings': {}, 'ngsolve_version': '6.2.23…"
      ]
     },
     "metadata": {},
     "output_type": "display_data"
    }
   ],
   "source": [
    "# Generate Mesh\n",
    "from ngsolve import *\n",
    "from ngsolve.webgui import Draw\n",
    "mesh = Mesh(OCCGeometry(geo).GenerateMesh(maxh=0.5)).Curve(3)\n",
    "Draw (mesh);"
   ]
  },
  {
   "cell_type": "code",
   "execution_count": 24,
   "id": "a843d563",
   "metadata": {
    "slideshow": {
     "slide_type": "subslide"
    }
   },
   "outputs": [],
   "source": [
    "# Solution\n",
    "# Lame parameters\n",
    "E, nu = 210, 0.2\n",
    "mu  = E / 2 / (1+nu)\n",
    "lam = E * nu / ((1+nu)*(1-2*nu))\n",
    "\n",
    "def Stress(strain):\n",
    "    return 2*mu*strain + lam*Trace(strain)*Id(3)\n",
    "\n",
    "# Finite element space\n",
    "fes = VectorH1(mesh, order=3, dirichlet=\"fix\")\n",
    "u,v = fes.TnT()\n",
    "gfu = GridFunction(fes)\n",
    "with TaskManager():\n",
    "    a = BilinearForm(InnerProduct(Stress(Sym(Grad(u))), Sym(Grad(v))).Compile()*dx)\n",
    "    pre = Preconditioner(a, \"bddc\")\n",
    "    a.Assemble()\n",
    "\n",
    "g = CF( (1e-3,0,0) )\n",
    "f = LinearForm(g*v*ds(\"force\")).Assemble()\n",
    "gfu.vec.data = a.mat.Inverse(freedofs=fes.FreeDofs())*f.vec\n"
   ]
  },
  {
   "cell_type": "code",
   "execution_count": 23,
   "id": "59481a02",
   "metadata": {
    "slideshow": {
     "slide_type": "subslide"
    }
   },
   "outputs": [
    {
     "data": {
      "application/vnd.jupyter.widget-view+json": {
       "model_id": "4c970842948349e4a1e8aea430b5c5ba",
       "version_major": 2,
       "version_minor": 0
      },
      "text/plain": [
       "WebGuiWidget(layout=Layout(height='50vh', width='100%'), value={'gui_settings': {}, 'ngsolve_version': '6.2.23…"
      ]
     },
     "metadata": {},
     "output_type": "display_data"
    },
    {
     "data": {
      "text/plain": [
       "BaseWebGuiScene"
      ]
     },
     "execution_count": 23,
     "metadata": {},
     "output_type": "execute_result"
    }
   ],
   "source": [
    "# Plot displacement\n",
    "Draw(5e4*gfu, mesh)"
   ]
  },
  {
   "cell_type": "markdown",
   "id": "073cde9c",
   "metadata": {
    "slideshow": {
     "slide_type": "slide"
    }
   },
   "source": [
    "## TEST 4: Model Problem Stokes equation\n",
    "\n",
    "We will test the algorithm with the solution of the Stokes problem over a domain $\\Omega\\subseteq \\mathbb R^{3}$\n",
    "\n",
    "$$ -\\Delta u + \\nabla p = f, \\quad \\nabla \\cdot u = 0$$ \n",
    "\n",
    " boundary conditions\n",
    "\\begin{align*}\n",
    "u & = u_{D}, \\quad \\text{on } \\Gamma_{D} \\\\\n",
    "(\\nabla u + pI)n & = g, \\quad \\text{on } \\Gamma_{N}\n",
    "\\end{align*}"
   ]
  },
  {
   "cell_type": "code",
   "execution_count": 20,
   "id": "41d747cc",
   "metadata": {
    "slideshow": {
     "slide_type": "subslide"
    }
   },
   "outputs": [
    {
     "data": {
      "application/vnd.jupyter.widget-view+json": {
       "model_id": "0538ada3129c42788912928772ff64d3",
       "version_major": 2,
       "version_minor": 0
      },
      "text/plain": [
       "WebGuiWidget(layout=Layout(height='50vh', width='100%'), value={'gui_settings': {}, 'ngsolve_version': '6.2.23…"
      ]
     },
     "metadata": {},
     "output_type": "display_data"
    },
    {
     "data": {
      "text/plain": [
       "BaseWebGuiScene"
      ]
     },
     "execution_count": 20,
     "metadata": {},
     "output_type": "execute_result"
    }
   ],
   "source": [
    "from ngsolve import *\n",
    "from ngsolve.webgui import Draw\n",
    "from netgen.csg import *\n",
    "\n",
    "cube = OrthoBrick( Pnt(0,0,0), Pnt(2,0.41,0.41) ).bc('wall')\n",
    "hole = Cylinder ( Pnt(0.2, 0.2, 0), Pnt(0.2, 0.2, 1), 0.05).bc('cyl')\n",
    "\n",
    "geo = CSGeometry()\n",
    "geo.Add (cube-hole.maxh(0.025))\n",
    "ngmesh = geo.GenerateMesh(maxh=0.1)\n",
    "# ngmesh.Save(\"cube_hole.vol\")\n",
    "ngmesh.SetBCName(0, 'fluid')\n",
    "ngmesh.SetBCName(4, 'fluid')\n",
    "ngmesh.SetBCName(1, 'inlet')\n",
    "ngmesh.SetBCName(3, 'outlet')\n",
    "mesh= Mesh(ngmesh)\n",
    "Draw(mesh)"
   ]
  },
  {
   "cell_type": "code",
   "execution_count": 26,
   "id": "13e9ebdf",
   "metadata": {
    "slideshow": {
     "slide_type": "subslide"
    }
   },
   "outputs": [
    {
     "data": {
      "application/vnd.jupyter.widget-view+json": {
       "model_id": "06381c1965c944d292c965fb937a2c5c",
       "version_major": 2,
       "version_minor": 0
      },
      "text/plain": [
       "WebGuiWidget(layout=Layout(height='50vh', width='100%'), value={'gui_settings': {}, 'ngsolve_version': '6.2.23…"
      ]
     },
     "metadata": {},
     "output_type": "display_data"
    }
   ],
   "source": [
    "# Finite Element Spaces\n",
    "V = VectorH1(mesh, order=2, dirichlet=\"wall|inlet|cyl\", dirichletz=\"fluid\")\n",
    "Q = H1(mesh, order=1)\n",
    "X = V*Q\n",
    "(u,p),(v,q) = X.TnT()\n",
    "\n",
    "stokes = InnerProduct(Grad(u), Grad(v))*dx + div(u)*q*dx + div(v)*p*dx\n",
    "a = BilinearForm(stokes).Assemble()\n",
    "gf = GridFunction(X)\n",
    "gfu, gfp = gf.components\n",
    "\n",
    "uin = CF ( (1.5*4*y*(0.41-y)/(0.41*0.41), 0,0) )\n",
    "gfu.Set(uin, definedon=mesh.Boundaries(\"inlet\"))\n",
    "\n",
    "res = -a.mat * gf.vec\n",
    "inv = a.mat.Inverse(freedofs=X.FreeDofs(), inverse=\"umfpack\")\n",
    "gf.vec.data += inv * res\n",
    "Draw(gfu, mesh);"
   ]
  },
  {
   "cell_type": "code",
   "execution_count": null,
   "id": "e6a8bda0",
   "metadata": {
    "slideshow": {
     "slide_type": "skip"
    }
   },
   "outputs": [],
   "source": []
  },
  {
   "cell_type": "code",
   "execution_count": null,
   "id": "c6ccc788",
   "metadata": {
    "slideshow": {
     "slide_type": "skip"
    }
   },
   "outputs": [],
   "source": []
  }
 ],
 "metadata": {
  "celltoolbar": "Slideshow",
  "kernelspec": {
   "display_name": "Python 3 (ipykernel)",
   "language": "python",
   "name": "python3"
  },
  "language_info": {
   "codemirror_mode": {
    "name": "ipython",
    "version": 3
   },
   "file_extension": ".py",
   "mimetype": "text/x-python",
   "name": "python",
   "nbconvert_exporter": "python",
   "pygments_lexer": "ipython3",
   "version": "3.7.9"
  },
  "varInspector": {
   "cols": {
    "lenName": 16,
    "lenType": 16,
    "lenVar": 40
   },
   "kernels_config": {
    "python": {
     "delete_cmd_postfix": "",
     "delete_cmd_prefix": "del ",
     "library": "var_list.py",
     "varRefreshCmd": "print(var_dic_list())"
    },
    "r": {
     "delete_cmd_postfix": ") ",
     "delete_cmd_prefix": "rm(",
     "library": "var_list.r",
     "varRefreshCmd": "cat(var_dic_list()) "
    }
   },
   "types_to_exclude": [
    "module",
    "function",
    "builtin_function_or_method",
    "instance",
    "_Feature"
   ],
   "window_display": false
  }
 },
 "nbformat": 4,
 "nbformat_minor": 5
}
