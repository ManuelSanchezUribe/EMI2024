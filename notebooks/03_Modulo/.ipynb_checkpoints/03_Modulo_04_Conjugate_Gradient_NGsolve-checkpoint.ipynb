{
 "cells": [
  {
   "cell_type": "markdown",
   "id": "18f3fb68",
   "metadata": {},
   "source": [
    "<hr style=\"border:2px solid #0176DE\"> </hr>\n",
    "<center><h1 style=\"color:#173F8A;\"> Escuela de Verano en Metodos Iterativos</h1></center> \n",
    "<center><h1 style=\"color:#173F8A;\"> EMI 2024 - CMM Chile</h1></center>\n",
    "<hr style=\"border:2px solid #0176DE\"> </hr>\n",
    "<h3 style=\"color:#173F8A;text-align:right;\"> Profesores: &nbsp;Nicolás Barnafi<br>Manuel A. Sánchez<br></h3>\n",
    "\n",
    "<h3 style=\"color:#03122E;text-align:right;\"> \n",
    "    Centro de Modelamiento Matematico <br> \n",
    "    Instituto de Ingenieria Matematica y Computacional - IMC UC<br>  \n",
    "</h3>\n",
    "\n",
    "<hr style=\"border:2px solid #03122E\"> </hr>\n",
    "<center><h1 style=\"color:#173F8A;\"> Modulo 3: The Conjugate Gradient Method - NGSolve</h1></center> \n",
    "<hr style=\"border:2px solid #03122E\"> </hr>\n",
    "\n",
    "<!-- Palette colors UC:\n",
    "Primaria: \n",
    "celeste:#0176DE, azul #173F8A, azul oscuro: #03122E, amarillo: #FEC60D, amarillo oscuro: #E3AE00 \n",
    "Secundaria\n",
    "gris oscuro: #707070\n",
    "-->"
   ]
  },
  {
   "cell_type": "code",
   "execution_count": 1,
   "id": "e0d300eb",
   "metadata": {},
   "outputs": [],
   "source": [
    "from ngsolve import *\n",
    "from ngsolve.webgui import Draw\n",
    "from ngsolve.la import EigenValues_Preconditioner\n",
    "import matplotlib.pyplot as plt"
   ]
  },
  {
   "cell_type": "markdown",
   "id": "a7be27ba",
   "metadata": {},
   "source": [
    "## TEST 1: Model Problem the $L^2$ projection\n",
    "\n",
    "We will test the algorithm with the solution of $L^2$ projection onto the space of continuous piecewise linear functions in $(0,1)^2$ of a function\n",
    "$$ f= \\sin(\\pi(x-y)) $$ "
   ]
  },
  {
   "cell_type": "code",
   "execution_count": 2,
   "id": "665cba96",
   "metadata": {},
   "outputs": [
    {
     "data": {
      "application/vnd.jupyter.widget-view+json": {
       "model_id": "391ce7fe0aa74aff8b800f52784a8c20",
       "version_major": 2,
       "version_minor": 0
      },
      "text/plain": [
       "WebGuiWidget(layout=Layout(height='50vh', width='100%'), value={'gui_settings': {}, 'ngsolve_version': '6.2.23…"
      ]
     },
     "metadata": {},
     "output_type": "display_data"
    },
    {
     "data": {
      "text/plain": [
       "BaseWebGuiScene"
      ]
     },
     "execution_count": 2,
     "metadata": {},
     "output_type": "execute_result"
    }
   ],
   "source": [
    "# Ejemplo de la solucion\n",
    "mesh = Mesh(unit_square.GenerateMesh(maxh=0.05))\n",
    "fes = H1(mesh, order=1)\n",
    "u, v = fes.TnT()\n",
    "a = BilinearForm(u*v*dx).Assemble()\n",
    "f = sin(2*pi*(x-y))*cos(2*pi*(x+y))\n",
    "b = LinearForm(f*v*dx).Assemble()\n",
    "gfu = GridFunction(fes)\n",
    "gfu.vec.data = a.mat.Inverse(freedofs=fes.FreeDofs())*b.vec\n",
    "Draw(gfu)"
   ]
  },
  {
   "cell_type": "code",
   "execution_count": 3,
   "id": "3deb33f7",
   "metadata": {},
   "outputs": [],
   "source": [
    "def SetL2Proj(mesh, fun=1,p=1, condense=False):\n",
    "    # H1-conforming Finite Element Space\n",
    "    fes = H1(mesh, order=p)\n",
    "    # Trial and Test Functions\n",
    "    u, v = fes.TnT()\n",
    "    # Bilinear form \n",
    "    a = BilinearForm(fes, symmetric=True, condense=condense)\n",
    "    a += (u*v)*dx \n",
    "    # Linear form\n",
    "    b = LinearForm(fun*v*dx)\n",
    "    # Gridfunction\n",
    "    gfu = GridFunction(fes)\n",
    "    return fes, a, b, gfu"
   ]
  },
  {
   "cell_type": "code",
   "execution_count": 50,
   "id": "5b8b22cf",
   "metadata": {},
   "outputs": [],
   "source": [
    "def SolveL2ProjDirect(a, b, gfu, fes, condense=False):\n",
    "    a.Assemble()\n",
    "    b.Assemble()\n",
    "    # Direct solver\n",
    "    inv = a.mat.Inverse(freedofs=fes.FreeDofs(coupling=condense))\n",
    "    # Solve steps depend on condense\n",
    "    if condense:\n",
    "        b.vec.data += a.harmonic_extension_trans * b.vec\n",
    "        gfu.vec.data = inv * b.vec\n",
    "        gfu.vec.data += a.harmonic_extension * gfu.vec\n",
    "        gfu.vec.data += a.inner_solve * b.vec\n",
    "    else: \n",
    "        gfu.vec.data = inv * b.vec\n",
    "    return gfu, fes.ndof"
   ]
  },
  {
   "cell_type": "code",
   "execution_count": 63,
   "id": "966be1ee",
   "metadata": {},
   "outputs": [],
   "source": [
    "def SolveL2ProjIterativeCG(a, b, gfu, fes, condense=False, compute_condnum=False):\n",
    "    a.Assemble()\n",
    "    b.Assemble()\n",
    "    preI = Projector(mask=fes.FreeDofs(coupling=condense), range=True)\n",
    "    inv = CGSolver(a.mat, pre=preI, maxsteps=10000)\n",
    "    \n",
    "    # Solve steps depend on condense\n",
    "    if condense:\n",
    "        b.vec.data += a.harmonic_extension_trans * b.vec\n",
    "        gfu.vec.data = inv * b.vec\n",
    "        gfu.vec.data += a.harmonic_extension * gfu.vec\n",
    "        gfu.vec.data += a.inner_solve * b.vec\n",
    "    else: \n",
    "        gfu.vec.data = inv * b.vec\n",
    "    if compute_condnum is False:\n",
    "        return gfu, inv.GetSteps()\n",
    "    else:\n",
    "        lams = EigenValues_Preconditioner(mat=a.mat, pre=preI)\n",
    "        kappa = max(lams)/min(lams)\n",
    "        return gfu, ((inv.GetSteps(), kappa))"
   ]
  },
  {
   "cell_type": "markdown",
   "id": "09a682ed",
   "metadata": {},
   "source": [
    "### Test 1: parameters"
   ]
  },
  {
   "cell_type": "code",
   "execution_count": 104,
   "id": "348066bf",
   "metadata": {},
   "outputs": [],
   "source": [
    "# parametros\n",
    "paramt1 = dict()\n",
    "paramt1['h'] = 0.05\n",
    "paramt1['f'] = sin(2*pi*(x-y))*cos(2*pi*(x+y))\n",
    "paramt1['p'] = 1\n",
    "paramt1['levels'] = 6 # <=8 for p=1\n",
    "paramt1['h0'] = 0.05\n",
    "paramt1['condense'] = False"
   ]
  },
  {
   "cell_type": "code",
   "execution_count": 105,
   "id": "c04e9302",
   "metadata": {},
   "outputs": [
    {
     "name": "stdout",
     "output_type": "stream",
     "text": [
      "number steps of CG iteration: (28, 18.753228624610458)\n"
     ]
    }
   ],
   "source": [
    "mesh = Mesh(unit_square.GenerateMesh(maxh=paramt1['h']))\n",
    "fes, a, b, gfu = SetL2Proj(mesh, p=paramt1['p'], fun=paramt1['f'], condense=paramt1['condense'])\n",
    "gfu_direct, steps = SolveL2ProjDirect(a, b, gfu, fes, condense=paramt1['condense'])\n",
    "gfu_cg, steps = SolveL2ProjIterativeCG(a, b, gfu, fes, condense=paramt1['condense'], compute_condnum=True)\n",
    "print(f\"number steps of CG iteration: {steps}\")"
   ]
  },
  {
   "cell_type": "code",
   "execution_count": 106,
   "id": "4861dcb0",
   "metadata": {},
   "outputs": [
    {
     "data": {
      "application/vnd.jupyter.widget-view+json": {
       "model_id": "371c756595754dd390829894702fe436",
       "version_major": 2,
       "version_minor": 0
      },
      "text/plain": [
       "WebGuiWidget(layout=Layout(height='50vh', width='100%'), value={'gui_settings': {}, 'ngsolve_version': '6.2.23…"
      ]
     },
     "metadata": {},
     "output_type": "display_data"
    },
    {
     "data": {
      "application/vnd.jupyter.widget-view+json": {
       "model_id": "e55906d966464b7893275ca8c9410b49",
       "version_major": 2,
       "version_minor": 0
      },
      "text/plain": [
       "WebGuiWidget(layout=Layout(height='50vh', width='100%'), value={'gui_settings': {}, 'ngsolve_version': '6.2.23…"
      ]
     },
     "metadata": {},
     "output_type": "display_data"
    },
    {
     "data": {
      "text/plain": [
       "BaseWebGuiScene"
      ]
     },
     "execution_count": 106,
     "metadata": {},
     "output_type": "execute_result"
    }
   ],
   "source": [
    "Draw(gfu_direct)\n",
    "Draw(gfu_cg)"
   ]
  },
  {
   "cell_type": "code",
   "execution_count": 107,
   "id": "a5d2da01",
   "metadata": {},
   "outputs": [
    {
     "name": "stdout",
     "output_type": "stream",
     "text": [
      "ndof = 508, time = 0.006342887878417969\n",
      "ndof = 1949, time = 0.009566068649291992\n",
      "ndof = 7633, time = 0.035161495208740234\n",
      "ndof = 30209, time = 0.13750910758972168\n",
      "ndof = 120193, time = 0.38902711868286133\n",
      "ndof = 479489, time = 2.367001533508301\n",
      "ndof = 1915393, time = 27.81180453300476\n",
      "ndof = 7656449, time = 318.98743534088135\n"
     ]
    }
   ],
   "source": [
    "from time import time\n",
    "\n",
    "def SolveL2ProjDirect_levels(h, levels, condense=False):\n",
    "    mesh = Mesh(unit_square.GenerateMesh(maxh=h))\n",
    "    fes, a, b, gfu = SetL2Proj(mesh, p=paramt1['p'], fun=paramt1['f'], condense=condense)\n",
    "    steps = []\n",
    "    for l in range(levels):\n",
    "        if l > 0: mesh.Refine()\n",
    "        fes.Update()\n",
    "        gfu.Update()\n",
    "        with TaskManager():\n",
    "            start = time()\n",
    "            SolveL2ProjDirect(a, b, gfu, fes, condense=condense)\n",
    "        print (f\"ndof = {fes.ndof}, time = {time()-start}\")\n",
    "        steps.append ( (fes.ndof, time()-start) )\n",
    "    return gfu, steps\n",
    "\n",
    "_, time_direct = SolveL2ProjDirect_levels(h=paramt1['h0'], levels=paramt1['levels'], condense=paramt1['condense'])"
   ]
  },
  {
   "cell_type": "code",
   "execution_count": 108,
   "id": "c70a3ef8",
   "metadata": {},
   "outputs": [
    {
     "name": "stdout",
     "output_type": "stream",
     "text": [
      "ndof = 508, time = 0.0400850772857666, steps = 28\n",
      "ndof = 1949, time = 0.002991914749145508, steps = 32\n",
      "ndof = 7633, time = 0.008975982666015625, steps = 35\n",
      "ndof = 30209, time = 0.048325538635253906, steps = 38\n",
      "ndof = 120193, time = 0.1606152057647705, steps = 38\n",
      "ndof = 479489, time = 0.7459032535552979, steps = 39\n",
      "ndof = 1915393, time = 3.2770845890045166, steps = 39\n",
      "ndof = 7656449, time = 17.06169891357422, steps = 39\n"
     ]
    }
   ],
   "source": [
    "def SolveL2ProjIterativeCG_levels(h, levels, condense=False, compute_condnum=False):\n",
    "    mesh = Mesh(unit_square.GenerateMesh(maxh=h))\n",
    "    fes, a, b, gfu = SetL2Proj(mesh, p=paramt1['p'], fun=paramt1['f'], condense=condense)\n",
    "    tiempo = []\n",
    "    steps = []\n",
    "    for l in range(levels):\n",
    "        if l > 0: mesh.Refine()\n",
    "        fes.Update()\n",
    "        gfu.Update()\n",
    "        with TaskManager():\n",
    "            start = time()\n",
    "            \n",
    "            gfu, invsteps = SolveL2ProjIterativeCG(a, b, gfu, fes, condense=condense, compute_condnum=compute_condnum)\n",
    "            print (f\"ndof = {fes.ndof}, time = {time()-start}, steps = {invsteps}\")\n",
    "            tiempo.append ( (fes.ndof, time()-start ))\n",
    "        steps.append ( (fes.ndof, invsteps ))\n",
    "    return gfu, tiempo, steps\n",
    "\n",
    "_, time_cg, steps = SolveL2ProjIterativeCG_levels(h=paramt1['h0'], levels=paramt1['levels'], condense=paramt1['condense'], compute_condnum=False)"
   ]
  },
  {
   "cell_type": "code",
   "execution_count": 112,
   "id": "dcab57b0",
   "metadata": {},
   "outputs": [
    {
     "data": {
      "image/png": "[encoded data removed]",
      "text/plain": [
       "<Figure size 640x480 with 1 Axes>"
      ]
     },
     "metadata": {},
     "output_type": "display_data"
    }
   ],
   "source": [
    "plt.xscale(\"log\")\n",
    "plt.yscale(\"log\")\n",
    "plt.plot(*zip(*time_direct), \"-*\")\n",
    "plt.plot(*zip(*time_cg), \"-+\")\n",
    "plt.legend(['Direct', 'Iterative CG'])\n",
    "plt.xlabel('N. dof')\n",
    "plt.ylabel('time exec.')\n",
    "# plt.savefig('03_Module_Test1.png')\n",
    "plt.show()\n",
    "\n",
    "# from IPython.display import Image\n",
    "# Image(filename='03_Module_Test1.png') "
   ]
  },
  {
   "cell_type": "code",
   "execution_count": 111,
   "id": "eaa5f394",
   "metadata": {},
   "outputs": [
    {
     "name": "stdout",
     "output_type": "stream",
     "text": [
      "ndof = 508, time = 0.010970115661621094, steps = (28, 18.41841700078874)\n",
      "ndof = 1949, time = 0.005110025405883789, steps = (32, 19.443261047015486)\n",
      "ndof = 7633, time = 0.01296234130859375, steps = (35, 22.191191986080025)\n",
      "ndof = 30209, time = 0.08078408241271973, steps = (38, 23.24088929155316)\n",
      "ndof = 120193, time = 0.18251919746398926, steps = (38, 23.237449882568875)\n",
      "ndof = 479489, time = 0.9915549755096436, steps = (39, 19.935764798063285)\n",
      "ndof = 1915393, time = 4.972740411758423, steps = (39, 20.108238437672977)\n",
      "ndof = 7656449, time = 22.377387762069702, steps = (39, 20.094819425326904)\n"
     ]
    },
    {
     "data": {
      "text/html": [
       "<div>\n",
       "<style scoped>\n",
       "    .dataframe tbody tr th:only-of-type {\n",
       "        vertical-align: middle;\n",
       "    }\n",
       "\n",
       "    .dataframe tbody tr th {\n",
       "        vertical-align: top;\n",
       "    }\n",
       "\n",
       "    .dataframe thead th {\n",
       "        text-align: right;\n",
       "    }\n",
       "</style>\n",
       "<table border=\"1\" class=\"dataframe\">\n",
       "  <thead>\n",
       "    <tr style=\"text-align: right;\">\n",
       "      <th></th>\n",
       "      <th>ndof</th>\n",
       "      <th>time</th>\n",
       "      <th>Condition number</th>\n",
       "      <th>number of CG iterations</th>\n",
       "    </tr>\n",
       "  </thead>\n",
       "  <tbody>\n",
       "    <tr>\n",
       "      <th>0</th>\n",
       "      <td>508</td>\n",
       "      <td>0.041259</td>\n",
       "      <td>18.418417</td>\n",
       "      <td>28</td>\n",
       "    </tr>\n",
       "    <tr>\n",
       "      <th>1</th>\n",
       "      <td>1949</td>\n",
       "      <td>0.002992</td>\n",
       "      <td>19.443261</td>\n",
       "      <td>32</td>\n",
       "    </tr>\n",
       "    <tr>\n",
       "      <th>2</th>\n",
       "      <td>7633</td>\n",
       "      <td>0.008976</td>\n",
       "      <td>22.191192</td>\n",
       "      <td>35</td>\n",
       "    </tr>\n",
       "    <tr>\n",
       "      <th>3</th>\n",
       "      <td>30209</td>\n",
       "      <td>0.049323</td>\n",
       "      <td>23.240889</td>\n",
       "      <td>38</td>\n",
       "    </tr>\n",
       "    <tr>\n",
       "      <th>4</th>\n",
       "      <td>120193</td>\n",
       "      <td>0.160615</td>\n",
       "      <td>23.237450</td>\n",
       "      <td>38</td>\n",
       "    </tr>\n",
       "    <tr>\n",
       "      <th>5</th>\n",
       "      <td>479489</td>\n",
       "      <td>0.745903</td>\n",
       "      <td>19.935765</td>\n",
       "      <td>39</td>\n",
       "    </tr>\n",
       "    <tr>\n",
       "      <th>6</th>\n",
       "      <td>1915393</td>\n",
       "      <td>3.278082</td>\n",
       "      <td>20.108238</td>\n",
       "      <td>39</td>\n",
       "    </tr>\n",
       "    <tr>\n",
       "      <th>7</th>\n",
       "      <td>7656449</td>\n",
       "      <td>17.083212</td>\n",
       "      <td>20.094819</td>\n",
       "      <td>39</td>\n",
       "    </tr>\n",
       "  </tbody>\n",
       "</table>\n",
       "</div>"
      ],
      "text/plain": [
       "      ndof       time  Condition number  number of CG iterations\n",
       "0      508   0.041259         18.418417                       28\n",
       "1     1949   0.002992         19.443261                       32\n",
       "2     7633   0.008976         22.191192                       35\n",
       "3    30209   0.049323         23.240889                       38\n",
       "4   120193   0.160615         23.237450                       38\n",
       "5   479489   0.745903         19.935765                       39\n",
       "6  1915393   3.278082         20.108238                       39\n",
       "7  7656449  17.083212         20.094819                       39"
      ]
     },
     "execution_count": 111,
     "metadata": {},
     "output_type": "execute_result"
    }
   ],
   "source": [
    "_, _, steps = SolveL2ProjIterativeCG_levels(h=paramt1['h0'], levels=paramt1['levels'], condense=paramt1['condense'], compute_condnum=True)\n",
    "ndofs = [steps[j][0] for j in range(len(steps))]\n",
    "nsteps = [steps[j][1][0] for j in range(len(steps))]\n",
    "kappas = [steps[j][1][1] for j in range(len(steps))]\n",
    "import pandas as pd\n",
    "tab = pd.DataFrame({'ndof':ndofs, 'time':np.asarray(time_cg)[:,1], 'Condition number':kappas, 'number of CG iterations': nsteps})\n",
    "tab     "
   ]
  },
  {
   "cell_type": "code",
   "execution_count": null,
   "id": "d696275d",
   "metadata": {},
   "outputs": [],
   "source": []
  },
  {
   "cell_type": "markdown",
   "id": "80d113f9",
   "metadata": {},
   "source": [
    "<hr style=\"border:2px solid #03122E\"> </hr>"
   ]
  },
  {
   "cell_type": "markdown",
   "id": "b8ca5bb6",
   "metadata": {},
   "source": [
    "## TEST 2: Model problem the Poisson equation\n",
    "We will test the algorithm in this notebook with the solution of the following Poisson problem\n",
    "\n",
    "\\begin{equation}\n",
    "-\\Delta u = 1, \\quad \\text{in } (0,1)^{2}, \\qquad u=0, \\quad \\text{sobre } x=0 \\text{ e }y=0.\n",
    "\\end{equation}"
   ]
  },
  {
   "cell_type": "code",
   "execution_count": 2,
   "id": "74d3d2fc",
   "metadata": {},
   "outputs": [
    {
     "data": {
      "application/vnd.jupyter.widget-view+json": {
       "model_id": "0d27a6a18ffa4f14828a4dadfeec6ca3",
       "version_major": 2,
       "version_minor": 0
      },
      "text/plain": [
       "WebGuiWidget(layout=Layout(height='50vh', width='100%'), value={'gui_settings': {}, 'ngsolve_version': '6.2.23…"
      ]
     },
     "metadata": {},
     "output_type": "display_data"
    },
    {
     "data": {
      "text/plain": [
       "BaseWebGuiScene"
      ]
     },
     "execution_count": 2,
     "metadata": {},
     "output_type": "execute_result"
    }
   ],
   "source": [
    "# Solution\n",
    "mesh = Mesh(unit_square.GenerateMesh(maxh=0.05))\n",
    "fes = H1(mesh, order=1, dirichlet='left|bottom')\n",
    "u, v = fes.TnT()\n",
    "a = BilinearForm(InnerProduct(grad(u), grad(v))*dx).Assemble()\n",
    "b = LinearForm(1*v*dx).Assemble()\n",
    "gfu = GridFunction(fes)\n",
    "gfu.vec.data = a.mat.Inverse(freedofs=fes.FreeDofs())*b.vec\n",
    "Draw(gfu)"
   ]
  },
  {
   "cell_type": "markdown",
   "id": "0bf09574",
   "metadata": {},
   "source": [
    "### Set Poisson problem "
   ]
  },
  {
   "cell_type": "code",
   "execution_count": 3,
   "id": "8af8a66a",
   "metadata": {},
   "outputs": [],
   "source": [
    "def SetPoisson(mesh, f=1, p=1, dirichlet_bndry=None, condense=False):\n",
    "    # H1-conforming Finite Element Space\n",
    "    fes = H1(mesh, order=p, dirichlet=dirichlet_bndry)\n",
    "    # Trial and Test Functions\n",
    "    u, v = fes.TnT()\n",
    "    # Bilinear form \n",
    "    a = BilinearForm(fes, symmetric=True, condense=condense)\n",
    "    a += (grad(u)*grad(v))*dx \n",
    "    # Linear form\n",
    "    b = LinearForm(f*v*dx)\n",
    "    # Gridfunction\n",
    "    gfu = GridFunction(fes)\n",
    "    return fes, a, b, gfu"
   ]
  },
  {
   "cell_type": "markdown",
   "id": "5c836a49",
   "metadata": {},
   "source": [
    "### Direct solver"
   ]
  },
  {
   "cell_type": "code",
   "execution_count": 4,
   "id": "d2c6dfac",
   "metadata": {},
   "outputs": [],
   "source": [
    "def SolvePoissonDirect(a, b, gfu, fes, condense=False):\n",
    "    a.Assemble()\n",
    "    b.Assemble()\n",
    "    # Direct solver\n",
    "    inv = a.mat.Inverse(freedofs=fes.FreeDofs(coupling=condense))\n",
    "    # Solve steps depend on condense\n",
    "    if condense:\n",
    "        b.vec.data += a.harmonic_extension_trans * b.vec\n",
    "        gfu.vec.data = inv * b.vec\n",
    "        gfu.vec.data += a.harmonic_extension * gfu.vec\n",
    "        gfu.vec.data += a.inner_solve * b.vec\n",
    "    else: \n",
    "        gfu.vec.data = inv * b.vec\n",
    "    return gfu, fes.ndof"
   ]
  },
  {
   "cell_type": "markdown",
   "id": "efca3ab5",
   "metadata": {},
   "source": [
    "### Iterative method : Conjugate Gradient solver (no preconditioner)"
   ]
  },
  {
   "cell_type": "code",
   "execution_count": 5,
   "id": "f1c4fa06",
   "metadata": {},
   "outputs": [],
   "source": [
    "def SolvePoissonIterativeCG(a, b, gfu, fes, condense=False, compute_condnum=False):\n",
    "    a.Assemble()\n",
    "    b.Assemble()\n",
    "#     inv = CGSolver(a.mat, pre=NoPrec(a,fes), maxsteps=10000)\n",
    "    preI = Projector(mask=fes.FreeDofs(coupling=condense), range=True)\n",
    "    inv = CGSolver(a.mat, pre=preI, maxsteps=10000)\n",
    "    \n",
    "    # Solve steps depend on condense\n",
    "    if condense:\n",
    "        b.vec.data += a.harmonic_extension_trans * b.vec\n",
    "        gfu.vec.data = inv * b.vec\n",
    "        gfu.vec.data += a.harmonic_extension * gfu.vec\n",
    "        gfu.vec.data += a.inner_solve * b.vec\n",
    "    else: \n",
    "        gfu.vec.data = inv * b.vec\n",
    "    if compute_condnum is False:\n",
    "        return gfu, inv.GetSteps()\n",
    "    else:\n",
    "        lams = EigenValues_Preconditioner(mat=a.mat, pre=preI)\n",
    "        kappa = max(lams)/min(lams)\n",
    "        return gfu, ((inv.GetSteps(), kappa))"
   ]
  },
  {
   "cell_type": "code",
   "execution_count": 6,
   "id": "4bb85d9c",
   "metadata": {},
   "outputs": [],
   "source": [
    "# class Preconditioner identity\n",
    "class NoPrec(BaseMatrix):\n",
    "    def __init__ (self, a, fes):\n",
    "        super(NoPrec, self).__init__()\n",
    "        self.a = a\n",
    "        self.fes = fes\n",
    "    def Mult (self, x, y):\n",
    "        y[:] = 0.0\n",
    "        FreeDofsindex = np.where(self.fes.FreeDofs())[0]\n",
    "        y.FV().NumPy()[FreeDofsindex] = x.FV().NumPy()[FreeDofsindex]\n",
    "    def Height (self):\n",
    "        return self.a.mat.shape[0]\n",
    "    def Width (self):\n",
    "        return self.a.mat.shape[1]"
   ]
  },
  {
   "cell_type": "markdown",
   "id": "2aab98f3",
   "metadata": {},
   "source": [
    "### TEST 2 parameters "
   ]
  },
  {
   "cell_type": "code",
   "execution_count": 14,
   "id": "017eeffc",
   "metadata": {},
   "outputs": [],
   "source": [
    "# parameters\n",
    "paramt2 = dict()\n",
    "paramt2['h'] = 0.05\n",
    "paramt2['f'] = 1\n",
    "paramt2['p'] = 6 # p = 4 try h0=0.5\n",
    "paramt2['h0'] = 0.5\n",
    "paramt2['levels'] = 6 # <=6 if p=1\n",
    "paramt2['condense'] = True"
   ]
  },
  {
   "cell_type": "code",
   "execution_count": 12,
   "id": "3ff219a0",
   "metadata": {},
   "outputs": [
    {
     "name": "stdout",
     "output_type": "stream",
     "text": [
      "number steps of CG iteration: (700, 3630.674756351147)\n"
     ]
    }
   ],
   "source": [
    "# Mesh\n",
    "mesh = Mesh(unit_square.GenerateMesh(maxh=paramt2['h']))\n",
    "# Set Poisson\n",
    "fes, a, b, gfu = SetPoisson(mesh, p=paramt2['p'], f=paramt2['f'], dirichlet_bndry='bottom|left', condense=paramt2['condense'])\n",
    "# Solve direct method\n",
    "gfu_direct, steps = SolvePoissonDirect(a, b, gfu, fes, condense=paramt2['condense'])\n",
    "# Solve iterative method\n",
    "gfu_cg, steps = SolvePoissonIterativeCG(a, b, gfu, fes, condense=paramt2['condense'], compute_condnum=True)\n",
    "print(f\"number steps of CG iteration: {steps}\")"
   ]
  },
  {
   "cell_type": "code",
   "execution_count": null,
   "id": "749ae426",
   "metadata": {},
   "outputs": [],
   "source": [
    "Draw(gfu_direct)\n",
    "Draw(gfu_cg)"
   ]
  },
  {
   "cell_type": "markdown",
   "id": "c5a5988d",
   "metadata": {},
   "source": [
    "### Solving for a sequence of meshes"
   ]
  },
  {
   "cell_type": "code",
   "execution_count": 18,
   "id": "5c01ce9b",
   "metadata": {},
   "outputs": [
    {
     "ename": "TypeError",
     "evalue": "__rmul__(): incompatible function arguments. The following argument types are supported:\n    1. (self: ngsolve.la.BaseVector, arg0: float) -> ngla::DynamicVectorExpression\n    2. (self: ngsolve.la.BaseVector, arg0: complex) -> ngla::DynamicVectorExpression\n\nInvoked with: basevector, None",
     "output_type": "error",
     "traceback": [
      "\u001b[1;31m---------------------------------------------------------------------------\u001b[0m",
      "\u001b[1;31mTypeError\u001b[0m                                 Traceback (most recent call last)",
      "\u001b[1;32m~\\AppData\\Local\\Temp\\ipykernel_31252\\1922970515.py\u001b[0m in \u001b[0;36m<module>\u001b[1;34m\u001b[0m\n\u001b[0;32m     17\u001b[0m     \u001b[1;32mreturn\u001b[0m \u001b[0mgfu\u001b[0m\u001b[1;33m,\u001b[0m \u001b[0msteps\u001b[0m\u001b[1;33m\u001b[0m\u001b[1;33m\u001b[0m\u001b[0m\n\u001b[0;32m     18\u001b[0m \u001b[1;33m\u001b[0m\u001b[0m\n\u001b[1;32m---> 19\u001b[1;33m \u001b[0m_\u001b[0m\u001b[1;33m,\u001b[0m \u001b[0mtime_direct\u001b[0m \u001b[1;33m=\u001b[0m \u001b[0mSolvePoissonDirect_levels\u001b[0m\u001b[1;33m(\u001b[0m\u001b[0mh\u001b[0m\u001b[1;33m=\u001b[0m\u001b[0mparamt2\u001b[0m\u001b[1;33m[\u001b[0m\u001b[1;34m'h0'\u001b[0m\u001b[1;33m]\u001b[0m\u001b[1;33m,\u001b[0m \u001b[0mlevels\u001b[0m\u001b[1;33m=\u001b[0m\u001b[0mparamt2\u001b[0m\u001b[1;33m[\u001b[0m\u001b[1;34m'levels'\u001b[0m\u001b[1;33m]\u001b[0m\u001b[1;33m,\u001b[0m \u001b[0mcondense\u001b[0m\u001b[1;33m=\u001b[0m\u001b[0mparamt2\u001b[0m\u001b[1;33m[\u001b[0m\u001b[1;34m'condense'\u001b[0m\u001b[1;33m]\u001b[0m\u001b[1;33m)\u001b[0m\u001b[1;33m\u001b[0m\u001b[1;33m\u001b[0m\u001b[0m\n\u001b[0m",
      "\u001b[1;32m~\\AppData\\Local\\Temp\\ipykernel_31252\\1922970515.py\u001b[0m in \u001b[0;36mSolvePoissonDirect_levels\u001b[1;34m(h, levels, condense)\u001b[0m\n\u001b[0;32m     12\u001b[0m         \u001b[0mstart\u001b[0m \u001b[1;33m=\u001b[0m \u001b[0mtime\u001b[0m\u001b[1;33m(\u001b[0m\u001b[1;33m)\u001b[0m\u001b[1;33m\u001b[0m\u001b[1;33m\u001b[0m\u001b[0m\n\u001b[0;32m     13\u001b[0m \u001b[1;31m#             print(condense)\u001b[0m\u001b[1;33m\u001b[0m\u001b[1;33m\u001b[0m\u001b[1;33m\u001b[0m\u001b[0m\n\u001b[1;32m---> 14\u001b[1;33m         \u001b[0mgfu\u001b[0m\u001b[1;33m,\u001b[0m\u001b[0m_\u001b[0m \u001b[1;33m=\u001b[0m \u001b[0mSolvePoissonDirect\u001b[0m\u001b[1;33m(\u001b[0m\u001b[0ma\u001b[0m\u001b[1;33m,\u001b[0m \u001b[0mb\u001b[0m\u001b[1;33m,\u001b[0m \u001b[0mgfu\u001b[0m\u001b[1;33m,\u001b[0m \u001b[0mfes\u001b[0m\u001b[1;33m,\u001b[0m \u001b[0mcondense\u001b[0m\u001b[1;33m=\u001b[0m\u001b[0mcondense\u001b[0m\u001b[1;33m)\u001b[0m\u001b[1;33m\u001b[0m\u001b[1;33m\u001b[0m\u001b[0m\n\u001b[0m\u001b[0;32m     15\u001b[0m         \u001b[0mprint\u001b[0m \u001b[1;33m(\u001b[0m\u001b[1;34mf\"ndof = {fes.ndof}, time = {time()-start}\"\u001b[0m\u001b[1;33m)\u001b[0m\u001b[1;33m\u001b[0m\u001b[1;33m\u001b[0m\u001b[0m\n\u001b[0;32m     16\u001b[0m         \u001b[0msteps\u001b[0m\u001b[1;33m.\u001b[0m\u001b[0mappend\u001b[0m \u001b[1;33m(\u001b[0m \u001b[1;33m(\u001b[0m\u001b[0mfes\u001b[0m\u001b[1;33m.\u001b[0m\u001b[0mndof\u001b[0m\u001b[1;33m,\u001b[0m \u001b[0mtime\u001b[0m\u001b[1;33m(\u001b[0m\u001b[1;33m)\u001b[0m\u001b[1;33m-\u001b[0m\u001b[0mstart\u001b[0m\u001b[1;33m)\u001b[0m \u001b[1;33m)\u001b[0m\u001b[1;33m\u001b[0m\u001b[1;33m\u001b[0m\u001b[0m\n",
      "\u001b[1;32m~\\AppData\\Local\\Temp\\ipykernel_31252\\2807963653.py\u001b[0m in \u001b[0;36mSolvePoissonDirect\u001b[1;34m(a, b, gfu, fes, condense)\u001b[0m\n\u001b[0;32m      6\u001b[0m     \u001b[1;31m# Solve steps depend on condense\u001b[0m\u001b[1;33m\u001b[0m\u001b[1;33m\u001b[0m\u001b[1;33m\u001b[0m\u001b[0m\n\u001b[0;32m      7\u001b[0m     \u001b[1;32mif\u001b[0m \u001b[0mcondense\u001b[0m\u001b[1;33m:\u001b[0m\u001b[1;33m\u001b[0m\u001b[1;33m\u001b[0m\u001b[0m\n\u001b[1;32m----> 8\u001b[1;33m         \u001b[0mb\u001b[0m\u001b[1;33m.\u001b[0m\u001b[0mvec\u001b[0m\u001b[1;33m.\u001b[0m\u001b[0mdata\u001b[0m \u001b[1;33m+=\u001b[0m \u001b[0ma\u001b[0m\u001b[1;33m.\u001b[0m\u001b[0mharmonic_extension_trans\u001b[0m \u001b[1;33m*\u001b[0m \u001b[0mb\u001b[0m\u001b[1;33m.\u001b[0m\u001b[0mvec\u001b[0m\u001b[1;33m\u001b[0m\u001b[1;33m\u001b[0m\u001b[0m\n\u001b[0m\u001b[0;32m      9\u001b[0m         \u001b[0mgfu\u001b[0m\u001b[1;33m.\u001b[0m\u001b[0mvec\u001b[0m\u001b[1;33m.\u001b[0m\u001b[0mdata\u001b[0m \u001b[1;33m=\u001b[0m \u001b[0minv\u001b[0m \u001b[1;33m*\u001b[0m \u001b[0mb\u001b[0m\u001b[1;33m.\u001b[0m\u001b[0mvec\u001b[0m\u001b[1;33m\u001b[0m\u001b[1;33m\u001b[0m\u001b[0m\n\u001b[0;32m     10\u001b[0m         \u001b[0mgfu\u001b[0m\u001b[1;33m.\u001b[0m\u001b[0mvec\u001b[0m\u001b[1;33m.\u001b[0m\u001b[0mdata\u001b[0m \u001b[1;33m+=\u001b[0m \u001b[0ma\u001b[0m\u001b[1;33m.\u001b[0m\u001b[0mharmonic_extension\u001b[0m \u001b[1;33m*\u001b[0m \u001b[0mgfu\u001b[0m\u001b[1;33m.\u001b[0m\u001b[0mvec\u001b[0m\u001b[1;33m\u001b[0m\u001b[1;33m\u001b[0m\u001b[0m\n",
      "\u001b[1;31mTypeError\u001b[0m: __rmul__(): incompatible function arguments. The following argument types are supported:\n    1. (self: ngsolve.la.BaseVector, arg0: float) -> ngla::DynamicVectorExpression\n    2. (self: ngsolve.la.BaseVector, arg0: complex) -> ngla::DynamicVectorExpression\n\nInvoked with: basevector, None"
     ]
    }
   ],
   "source": [
    "from time import time\n",
    "def SolvePoissonDirect_levels(h, levels, condense=False):\n",
    "    mesh = Mesh(unit_square.GenerateMesh(maxh=h))\n",
    "    fes, a, b, gfu = SetPoisson(mesh, p =paramt2['p'], dirichlet_bndry='bottom|left')\n",
    "    steps = []\n",
    "    for l in range(levels):\n",
    "        if l > 0: mesh.Refine()\n",
    "        fes.Update()\n",
    "        gfu.Update()\n",
    "        with TaskManager():\n",
    "            start = time()\n",
    "            gfu,_ = SolvePoissonDirect(a, b, gfu, fes, condense=condense)\n",
    "        print (f\"ndof = {fes.ndof}, time = {time()-start}\")\n",
    "        steps.append ( (fes.ndof, time()-start) )\n",
    "    return gfu, steps\n",
    "\n",
    "_, time_direct = SolvePoissonDirect_levels(h=paramt2['h0'], levels=paramt2['levels'], condense=paramt2['condense'])"
   ]
  },
  {
   "cell_type": "code",
   "execution_count": 15,
   "id": "2182a569",
   "metadata": {},
   "outputs": [
    {
     "ename": "TypeError",
     "evalue": "__rmul__(): incompatible function arguments. The following argument types are supported:\n    1. (self: ngsolve.la.BaseVector, arg0: float) -> ngla::DynamicVectorExpression\n    2. (self: ngsolve.la.BaseVector, arg0: complex) -> ngla::DynamicVectorExpression\n\nInvoked with: basevector, None",
     "output_type": "error",
     "traceback": [
      "\u001b[1;31m---------------------------------------------------------------------------\u001b[0m",
      "\u001b[1;31mTypeError\u001b[0m                                 Traceback (most recent call last)",
      "\u001b[1;32m~\\AppData\\Local\\Temp\\ipykernel_31252\\1776743909.py\u001b[0m in \u001b[0;36m<module>\u001b[1;34m\u001b[0m\n\u001b[0;32m     16\u001b[0m     \u001b[1;32mreturn\u001b[0m \u001b[0mgfu\u001b[0m\u001b[1;33m,\u001b[0m \u001b[0mtiempo\u001b[0m\u001b[1;33m,\u001b[0m \u001b[0msteps\u001b[0m\u001b[1;33m\u001b[0m\u001b[1;33m\u001b[0m\u001b[0m\n\u001b[0;32m     17\u001b[0m \u001b[1;33m\u001b[0m\u001b[0m\n\u001b[1;32m---> 18\u001b[1;33m \u001b[0m_\u001b[0m\u001b[1;33m,\u001b[0m \u001b[0mtime_cg\u001b[0m\u001b[1;33m,\u001b[0m \u001b[0msteps\u001b[0m \u001b[1;33m=\u001b[0m \u001b[0mSolvePoissonIterativeCG_levels\u001b[0m\u001b[1;33m(\u001b[0m\u001b[0mh\u001b[0m\u001b[1;33m=\u001b[0m\u001b[0mparamt2\u001b[0m\u001b[1;33m[\u001b[0m\u001b[1;34m'h0'\u001b[0m\u001b[1;33m]\u001b[0m\u001b[1;33m,\u001b[0m \u001b[0mlevels\u001b[0m\u001b[1;33m=\u001b[0m\u001b[0mparamt2\u001b[0m\u001b[1;33m[\u001b[0m\u001b[1;34m'levels'\u001b[0m\u001b[1;33m]\u001b[0m\u001b[1;33m,\u001b[0m \u001b[0mcondense\u001b[0m\u001b[1;33m=\u001b[0m\u001b[0mparamt2\u001b[0m\u001b[1;33m[\u001b[0m\u001b[1;34m'condense'\u001b[0m\u001b[1;33m]\u001b[0m\u001b[1;33m,\u001b[0m \u001b[0mcompute_condnum\u001b[0m\u001b[1;33m=\u001b[0m\u001b[1;32mFalse\u001b[0m\u001b[1;33m)\u001b[0m\u001b[1;33m\u001b[0m\u001b[1;33m\u001b[0m\u001b[0m\n\u001b[0m",
      "\u001b[1;32m~\\AppData\\Local\\Temp\\ipykernel_31252\\1776743909.py\u001b[0m in \u001b[0;36mSolvePoissonIterativeCG_levels\u001b[1;34m(h, levels, condense, compute_condnum)\u001b[0m\n\u001b[0;32m     10\u001b[0m         \u001b[1;32mwith\u001b[0m \u001b[0mTaskManager\u001b[0m\u001b[1;33m(\u001b[0m\u001b[1;33m)\u001b[0m\u001b[1;33m:\u001b[0m\u001b[1;33m\u001b[0m\u001b[1;33m\u001b[0m\u001b[0m\n\u001b[0;32m     11\u001b[0m             \u001b[0mstart\u001b[0m \u001b[1;33m=\u001b[0m \u001b[0mtime\u001b[0m\u001b[1;33m(\u001b[0m\u001b[1;33m)\u001b[0m\u001b[1;33m\u001b[0m\u001b[1;33m\u001b[0m\u001b[0m\n\u001b[1;32m---> 12\u001b[1;33m             \u001b[0mgfu\u001b[0m\u001b[1;33m,\u001b[0m \u001b[0minvsteps\u001b[0m \u001b[1;33m=\u001b[0m \u001b[0mSolvePoissonIterativeCG\u001b[0m\u001b[1;33m(\u001b[0m\u001b[0ma\u001b[0m\u001b[1;33m,\u001b[0m \u001b[0mb\u001b[0m\u001b[1;33m,\u001b[0m \u001b[0mgfu\u001b[0m\u001b[1;33m,\u001b[0m \u001b[0mfes\u001b[0m\u001b[1;33m,\u001b[0m \u001b[0mcondense\u001b[0m\u001b[1;33m=\u001b[0m\u001b[0mcondense\u001b[0m\u001b[1;33m,\u001b[0m \u001b[0mcompute_condnum\u001b[0m\u001b[1;33m=\u001b[0m\u001b[0mcompute_condnum\u001b[0m\u001b[1;33m)\u001b[0m\u001b[1;33m\u001b[0m\u001b[1;33m\u001b[0m\u001b[0m\n\u001b[0m\u001b[0;32m     13\u001b[0m             \u001b[0mprint\u001b[0m \u001b[1;33m(\u001b[0m\u001b[1;34mf\"ndof = {fes.ndof}, time = {time()-start}, steps = {invsteps}\"\u001b[0m\u001b[1;33m)\u001b[0m\u001b[1;33m\u001b[0m\u001b[1;33m\u001b[0m\u001b[0m\n\u001b[0;32m     14\u001b[0m             \u001b[0mtiempo\u001b[0m\u001b[1;33m.\u001b[0m\u001b[0mappend\u001b[0m \u001b[1;33m(\u001b[0m \u001b[1;33m(\u001b[0m\u001b[0mfes\u001b[0m\u001b[1;33m.\u001b[0m\u001b[0mndof\u001b[0m\u001b[1;33m,\u001b[0m \u001b[0mtime\u001b[0m\u001b[1;33m(\u001b[0m\u001b[1;33m)\u001b[0m\u001b[1;33m-\u001b[0m\u001b[0mstart\u001b[0m \u001b[1;33m)\u001b[0m\u001b[1;33m)\u001b[0m\u001b[1;33m\u001b[0m\u001b[1;33m\u001b[0m\u001b[0m\n",
      "\u001b[1;32m~\\AppData\\Local\\Temp\\ipykernel_31252\\1963150774.py\u001b[0m in \u001b[0;36mSolvePoissonIterativeCG\u001b[1;34m(a, b, gfu, fes, condense, compute_condnum)\u001b[0m\n\u001b[0;32m      8\u001b[0m     \u001b[1;31m# Solve steps depend on condense\u001b[0m\u001b[1;33m\u001b[0m\u001b[1;33m\u001b[0m\u001b[1;33m\u001b[0m\u001b[0m\n\u001b[0;32m      9\u001b[0m     \u001b[1;32mif\u001b[0m \u001b[0mcondense\u001b[0m\u001b[1;33m:\u001b[0m\u001b[1;33m\u001b[0m\u001b[1;33m\u001b[0m\u001b[0m\n\u001b[1;32m---> 10\u001b[1;33m         \u001b[0mb\u001b[0m\u001b[1;33m.\u001b[0m\u001b[0mvec\u001b[0m\u001b[1;33m.\u001b[0m\u001b[0mdata\u001b[0m \u001b[1;33m+=\u001b[0m \u001b[0ma\u001b[0m\u001b[1;33m.\u001b[0m\u001b[0mharmonic_extension_trans\u001b[0m \u001b[1;33m*\u001b[0m \u001b[0mb\u001b[0m\u001b[1;33m.\u001b[0m\u001b[0mvec\u001b[0m\u001b[1;33m\u001b[0m\u001b[1;33m\u001b[0m\u001b[0m\n\u001b[0m\u001b[0;32m     11\u001b[0m         \u001b[0mgfu\u001b[0m\u001b[1;33m.\u001b[0m\u001b[0mvec\u001b[0m\u001b[1;33m.\u001b[0m\u001b[0mdata\u001b[0m \u001b[1;33m=\u001b[0m \u001b[0minv\u001b[0m \u001b[1;33m*\u001b[0m \u001b[0mb\u001b[0m\u001b[1;33m.\u001b[0m\u001b[0mvec\u001b[0m\u001b[1;33m\u001b[0m\u001b[1;33m\u001b[0m\u001b[0m\n\u001b[0;32m     12\u001b[0m         \u001b[0mgfu\u001b[0m\u001b[1;33m.\u001b[0m\u001b[0mvec\u001b[0m\u001b[1;33m.\u001b[0m\u001b[0mdata\u001b[0m \u001b[1;33m+=\u001b[0m \u001b[0ma\u001b[0m\u001b[1;33m.\u001b[0m\u001b[0mharmonic_extension\u001b[0m \u001b[1;33m*\u001b[0m \u001b[0mgfu\u001b[0m\u001b[1;33m.\u001b[0m\u001b[0mvec\u001b[0m\u001b[1;33m\u001b[0m\u001b[1;33m\u001b[0m\u001b[0m\n",
      "\u001b[1;31mTypeError\u001b[0m: __rmul__(): incompatible function arguments. The following argument types are supported:\n    1. (self: ngsolve.la.BaseVector, arg0: float) -> ngla::DynamicVectorExpression\n    2. (self: ngsolve.la.BaseVector, arg0: complex) -> ngla::DynamicVectorExpression\n\nInvoked with: basevector, None"
     ]
    }
   ],
   "source": [
    "def SolvePoissonIterativeCG_levels(h, levels, condense=False, compute_condnum=False):\n",
    "    mesh = Mesh(unit_square.GenerateMesh(maxh=h))\n",
    "    fes, a, b, gfu = SetPoisson(mesh, p=paramt2['p'], dirichlet_bndry='bottom|left')\n",
    "    tiempo = []\n",
    "    steps = []\n",
    "    for l in range(levels):\n",
    "        if l > 0: mesh.Refine()\n",
    "        fes.Update()\n",
    "        gfu.Update()\n",
    "        with TaskManager():\n",
    "            start = time()\n",
    "            gfu, invsteps = SolvePoissonIterativeCG(a, b, gfu, fes, condense=condense, compute_condnum=compute_condnum)\n",
    "            print (f\"ndof = {fes.ndof}, time = {time()-start}, steps = {invsteps}\")\n",
    "            tiempo.append ( (fes.ndof, time()-start ))\n",
    "        steps.append ( (fes.ndof, invsteps ))\n",
    "    return gfu, tiempo, steps\n",
    "\n",
    "_, time_cg, steps = SolvePoissonIterativeCG_levels(h=paramt2['h0'], levels=paramt2['levels'], condense=paramt2['condense'], compute_condnum=False)"
   ]
  },
  {
   "cell_type": "markdown",
   "id": "51085d1c",
   "metadata": {},
   "source": [
    "### Comparison plot of execution times"
   ]
  },
  {
   "cell_type": "code",
   "execution_count": 159,
   "id": "8fdecb29",
   "metadata": {},
   "outputs": [
    {
     "data": {
      "image/png": "[encoded data removed]",
      "text/plain": [
       "<Figure size 640x480 with 1 Axes>"
      ]
     },
     "metadata": {},
     "output_type": "display_data"
    }
   ],
   "source": [
    "plt.xscale(\"log\")\n",
    "plt.yscale(\"log\")\n",
    "plt.plot(*zip(*time_direct), \"-*\")\n",
    "plt.plot(*zip(*time_cg), \"-+\")\n",
    "plt.legend(['Direct', 'Iterative CG'])\n",
    "plt.xlabel('N. dof')\n",
    "plt.ylabel('time exec.')\n",
    "# plt.savefig('03_Module_Test2.png')\n",
    "plt.show()\n",
    "\n",
    "# from IPython.display import Image\n",
    "# Image(filename='03_Module_Test2.png') "
   ]
  },
  {
   "cell_type": "code",
   "execution_count": 125,
   "id": "05029cb9",
   "metadata": {},
   "outputs": [
    {
     "name": "stdout",
     "output_type": "stream",
     "text": [
      "ndof = 508, time = 0.006488323211669922, steps = (86, 547.3097089156645)\n",
      "ndof = 1949, time = 0.009973526000976562, steps = (224, 3058.065497952003)\n",
      "ndof = 7633, time = 0.03989291191101074, steps = (442, 7330.754110315545)\n",
      "ndof = 30209, time = 0.25696349143981934, steps = (885, 15779.791013850694)\n",
      "ndof = 120193, time = 1.765066146850586, steps = (1780, 31129.283095626164)\n",
      "ndof = 479489, time = 26.466697454452515, steps = (3595, 62110.122215131465)\n"
     ]
    },
    {
     "data": {
      "text/html": [
       "<div>\n",
       "<style scoped>\n",
       "    .dataframe tbody tr th:only-of-type {\n",
       "        vertical-align: middle;\n",
       "    }\n",
       "\n",
       "    .dataframe tbody tr th {\n",
       "        vertical-align: top;\n",
       "    }\n",
       "\n",
       "    .dataframe thead th {\n",
       "        text-align: right;\n",
       "    }\n",
       "</style>\n",
       "<table border=\"1\" class=\"dataframe\">\n",
       "  <thead>\n",
       "    <tr style=\"text-align: right;\">\n",
       "      <th></th>\n",
       "      <th>ndof</th>\n",
       "      <th>time</th>\n",
       "      <th>Condition number</th>\n",
       "      <th>number of CG iterations</th>\n",
       "    </tr>\n",
       "  </thead>\n",
       "  <tbody>\n",
       "    <tr>\n",
       "      <th>0</th>\n",
       "      <td>508</td>\n",
       "      <td>0.002992</td>\n",
       "      <td>547.309709</td>\n",
       "      <td>86</td>\n",
       "    </tr>\n",
       "    <tr>\n",
       "      <th>1</th>\n",
       "      <td>1949</td>\n",
       "      <td>0.007979</td>\n",
       "      <td>3058.065498</td>\n",
       "      <td>224</td>\n",
       "    </tr>\n",
       "    <tr>\n",
       "      <th>2</th>\n",
       "      <td>7633</td>\n",
       "      <td>0.026928</td>\n",
       "      <td>7330.754110</td>\n",
       "      <td>442</td>\n",
       "    </tr>\n",
       "    <tr>\n",
       "      <th>3</th>\n",
       "      <td>30209</td>\n",
       "      <td>0.189009</td>\n",
       "      <td>15779.791014</td>\n",
       "      <td>885</td>\n",
       "    </tr>\n",
       "    <tr>\n",
       "      <th>4</th>\n",
       "      <td>120193</td>\n",
       "      <td>1.649873</td>\n",
       "      <td>31129.283096</td>\n",
       "      <td>1780</td>\n",
       "    </tr>\n",
       "    <tr>\n",
       "      <th>5</th>\n",
       "      <td>479489</td>\n",
       "      <td>24.567690</td>\n",
       "      <td>62110.122215</td>\n",
       "      <td>3595</td>\n",
       "    </tr>\n",
       "  </tbody>\n",
       "</table>\n",
       "</div>"
      ],
      "text/plain": [
       "     ndof       time  Condition number  number of CG iterations\n",
       "0     508   0.002992        547.309709                       86\n",
       "1    1949   0.007979       3058.065498                      224\n",
       "2    7633   0.026928       7330.754110                      442\n",
       "3   30209   0.189009      15779.791014                      885\n",
       "4  120193   1.649873      31129.283096                     1780\n",
       "5  479489  24.567690      62110.122215                     3595"
      ]
     },
     "execution_count": 125,
     "metadata": {},
     "output_type": "execute_result"
    }
   ],
   "source": [
    "_, _, steps = SolvePoissonIterativeCG_levels(h=paramt2['h0'], levels=paramt2['levels'], condense=False, compute_condnum=True)\n",
    "ndofs = [steps[j][0] for j in range(len(steps))]\n",
    "nsteps = [steps[j][1][0] for j in range(len(steps))]\n",
    "kappas = [steps[j][1][1] for j in range(len(steps))]\n",
    "import pandas as pd\n",
    "tab = pd.DataFrame({'ndof':ndofs, 'time':np.asarray(time_cg)[:,1], 'Condition number':kappas, 'number of CG iterations': nsteps})\n",
    "tab     "
   ]
  },
  {
   "cell_type": "code",
   "execution_count": null,
   "id": "d0d734da",
   "metadata": {},
   "outputs": [],
   "source": []
  }
 ],
 "metadata": {
  "kernelspec": {
   "display_name": "Python 3 (ipykernel)",
   "language": "python",
   "name": "python3"
  },
  "language_info": {
   "codemirror_mode": {
    "name": "ipython",
    "version": 3
   },
   "file_extension": ".py",
   "mimetype": "text/x-python",
   "name": "python",
   "nbconvert_exporter": "python",
   "pygments_lexer": "ipython3",
   "version": "3.7.9"
  },
  "varInspector": {
   "cols": {
    "lenName": 16,
    "lenType": 16,
    "lenVar": 40
   },
   "kernels_config": {
    "python": {
     "delete_cmd_postfix": "",
     "delete_cmd_prefix": "del ",
     "library": "var_list.py",
     "varRefreshCmd": "print(var_dic_list())"
    },
    "r": {
     "delete_cmd_postfix": ") ",
     "delete_cmd_prefix": "rm(",
     "library": "var_list.r",
     "varRefreshCmd": "cat(var_dic_list()) "
    }
   },
   "types_to_exclude": [
    "module",
    "function",
    "builtin_function_or_method",
    "instance",
    "_Feature"
   ],
   "window_display": false
  }
 },
 "nbformat": 4,
 "nbformat_minor": 5
}
