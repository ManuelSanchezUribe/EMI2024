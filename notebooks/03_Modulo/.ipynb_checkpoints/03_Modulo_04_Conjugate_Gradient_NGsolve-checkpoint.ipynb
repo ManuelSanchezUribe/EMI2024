{
 "cells": [
  {
   "cell_type": "markdown",
   "id": "18f3fb68",
   "metadata": {
    "slideshow": {
     "slide_type": "slide"
    }
   },
   "source": [
    "<hr style=\"border:2px solid #0176DE\"> </hr>\n",
    "<center><h1 style=\"color:#173F8A;\"> EMI 2024 - CMM Chile</h1></center>\n",
    "<hr style=\"border:2px solid #0176DE\"> </hr>\n",
    "<h3 style=\"color:#173F8A;text-align:right;\"> Profesores: &nbsp;Nicolás Barnafi<br>Manuel A. Sánchez<br></h3>\n",
    "\n",
    "<h3 style=\"color:#03122E;text-align:right;\"> \n",
    "    Centro de Modelamiento Matemático <br> \n",
    "    Instituto de Ingeniería Matemática y Computacional - IMC UC<br>  \n",
    "</h3>\n",
    "\n",
    "<hr style=\"border:2px solid #03122E\"> </hr>\n",
    "<center><h1 style=\"color:#173F8A;\"> Módulo 3: The Conjugate Gradient Method - NGSolve</h1></center> \n",
    "<hr style=\"border:2px solid #03122E\"> </hr>\n",
    "\n",
    "<!-- Palette colors UC:\n",
    "Primaria:\n",
    "celeste:#0176DE, azul #173F8A, azul oscuro: #03122E, amarillo: #FEC60D, amarillo oscuro: #E3AE00 \n",
    "Secundaria\n",
    "gris oscuro: #707070\n",
    "-->"
   ]
  },
  {
   "cell_type": "code",
   "execution_count": 13,
   "id": "e0d300eb",
   "metadata": {
    "slideshow": {
     "slide_type": "slide"
    }
   },
   "outputs": [],
   "source": [
    "from ngsolve import *\n",
    "from ngsolve.webgui import Draw\n",
    "from ngsolve.la import EigenValues_Preconditioner\n",
    "import matplotlib.pyplot as plt"
   ]
  },
  {
   "cell_type": "markdown",
   "id": "8a3c9bad",
   "metadata": {
    "slideshow": {
     "slide_type": "slide"
    }
   },
   "source": [
    "## TEST 1: Model Problem the $L^2$ projection\n",
    "\n",
    "We will test the algorithm with the solution of $L^2$ projection onto the space of continuous piecewise linear functions in $(0,1)^2$ of a function\n",
    "$$ f= \\sin(\\pi(x-y)) $$ "
   ]
  },
  {
   "cell_type": "code",
   "execution_count": 14,
   "id": "4392310c",
   "metadata": {
    "slideshow": {
     "slide_type": "slide"
    }
   },
   "outputs": [
    {
     "data": {
      "application/vnd.jupyter.widget-view+json": {
       "model_id": "ea32ad760cdd4521914e1a3429d9a966",
       "version_major": 2,
       "version_minor": 0
      },
      "text/plain": [
       "WebGuiWidget(layout=Layout(height='50vh', width='100%'), value={'gui_settings': {}, 'ngsolve_version': '6.2.23…"
      ]
     },
     "metadata": {},
     "output_type": "display_data"
    },
    {
     "data": {
      "text/plain": [
       "BaseWebGuiScene"
      ]
     },
     "execution_count": 14,
     "metadata": {},
     "output_type": "execute_result"
    }
   ],
   "source": [
    "# Solution\n",
    "mesh = Mesh(unit_square.GenerateMesh(maxh=0.05))\n",
    "fes = H1(mesh, order=1)\n",
    "u, v = fes.TnT()\n",
    "a = BilinearForm(u*v*dx).Assemble()\n",
    "f = sin(2*pi*(x-y))*cos(2*pi*(x+y))\n",
    "b = LinearForm(f*v*dx).Assemble()\n",
    "gfu = GridFunction(fes)\n",
    "gfu.vec.data = a.mat.Inverse(freedofs=fes.FreeDofs())*b.vec\n",
    "Draw(gfu)"
   ]
  },
  {
   "cell_type": "code",
   "execution_count": 15,
   "id": "39d6cec1",
   "metadata": {
    "slideshow": {
     "slide_type": "slide"
    }
   },
   "outputs": [],
   "source": [
    "def SetL2Proj(mesh, fun=1,p=1, condense=False):\n",
    "    # H1-conforming Finite Element Space\n",
    "    fes = H1(mesh, order=p)\n",
    "    # Trial and Test Functions\n",
    "    u, v = fes.TnT()\n",
    "    # Bilinear form \n",
    "    a = BilinearForm(fes, symmetric=True, condense=condense)\n",
    "    a += (u*v)*dx \n",
    "    # Linear form\n",
    "    b = LinearForm(fun*v*dx)\n",
    "    # Gridfunction\n",
    "    gfu = GridFunction(fes)\n",
    "    return fes, a, b, gfu"
   ]
  },
  {
   "cell_type": "code",
   "execution_count": 16,
   "id": "06671aa1",
   "metadata": {
    "slideshow": {
     "slide_type": "subslide"
    }
   },
   "outputs": [],
   "source": [
    "def SolveL2ProjDirect(a, b, gfu, fes, condense=False):\n",
    "    a.Assemble()\n",
    "    b.Assemble()\n",
    "    # Direct solver\n",
    "    inv = a.mat.Inverse(freedofs=fes.FreeDofs(coupling=condense))\n",
    "    # Solve steps depend on condense\n",
    "    if condense:\n",
    "        b.vec.data += a.harmonic_extension_trans * b.vec\n",
    "        gfu.vec.data = inv * b.vec\n",
    "        gfu.vec.data += a.harmonic_extension * gfu.vec\n",
    "        gfu.vec.data += a.inner_solve * b.vec\n",
    "    else: \n",
    "        gfu.vec.data = inv * b.vec\n",
    "    return gfu, fes.ndof"
   ]
  },
  {
   "cell_type": "code",
   "execution_count": 17,
   "id": "286de62d",
   "metadata": {
    "slideshow": {
     "slide_type": "subslide"
    }
   },
   "outputs": [],
   "source": [
    "def SolveL2ProjIterativeCG(a, b, gfu, fes, condense=False, compute_condnum=False):\n",
    "    a.Assemble()\n",
    "    b.Assemble()\n",
    "    preI = Projector(mask=fes.FreeDofs(coupling=condense), range=True)\n",
    "    inv = CGSolver(a.mat, pre=preI, maxsteps=10000)\n",
    "    \n",
    "    # Solve steps depend on condense\n",
    "    if condense:\n",
    "        b.vec.data += a.harmonic_extension_trans * b.vec\n",
    "        gfu.vec.data = inv * b.vec\n",
    "        gfu.vec.data += a.harmonic_extension * gfu.vec\n",
    "        gfu.vec.data += a.inner_solve * b.vec\n",
    "    else: \n",
    "        gfu.vec.data = inv * b.vec\n",
    "    if compute_condnum is False:\n",
    "        return gfu, inv.GetSteps()\n",
    "    else:\n",
    "        lams = EigenValues_Preconditioner(mat=a.mat, pre=preI)\n",
    "        kappa = max(lams)/min(lams)\n",
    "        return gfu, ((inv.GetSteps(), kappa))"
   ]
  },
  {
   "cell_type": "markdown",
   "id": "19a8abaf",
   "metadata": {
    "slideshow": {
     "slide_type": "slide"
    }
   },
   "source": [
    "### Test 1: parameters"
   ]
  },
  {
   "cell_type": "code",
   "execution_count": 18,
   "id": "8b78d0de",
   "metadata": {
    "slideshow": {
     "slide_type": "subslide"
    }
   },
   "outputs": [],
   "source": [
    "# parametros\n",
    "paramt1 = dict()\n",
    "paramt1['h'] = 0.05\n",
    "paramt1['f'] = sin(2*pi*(x-y))*cos(2*pi*(x+y))\n",
    "paramt1['p'] = 1\n",
    "paramt1['levels'] = 6 # <=8 for p=1\n",
    "paramt1['h0'] = 0.05\n",
    "paramt1['condense'] = False"
   ]
  },
  {
   "cell_type": "code",
   "execution_count": 19,
   "id": "b135e13c",
   "metadata": {
    "slideshow": {
     "slide_type": "slide"
    }
   },
   "outputs": [
    {
     "name": "stdout",
     "output_type": "stream",
     "text": [
      "number steps of CG iteration: (27, 16.974414804700736)\n"
     ]
    }
   ],
   "source": [
    "mesh = Mesh(unit_square.GenerateMesh(maxh=paramt1['h']))\n",
    "fes, a, b, gfu = SetL2Proj(mesh, p=paramt1['p'], fun=paramt1['f'], condense=paramt1['condense'])\n",
    "gfu_direct, steps = SolveL2ProjDirect(a, b, gfu, fes, condense=paramt1['condense'])\n",
    "gfu_cg, steps = SolveL2ProjIterativeCG(a, b, gfu, fes, condense=paramt1['condense'], compute_condnum=True)\n",
    "print(f\"number steps of CG iteration: {steps}\")"
   ]
  },
  {
   "cell_type": "code",
   "execution_count": 20,
   "id": "71eb16a2",
   "metadata": {
    "slideshow": {
     "slide_type": "subslide"
    }
   },
   "outputs": [
    {
     "data": {
      "application/vnd.jupyter.widget-view+json": {
       "model_id": "7bc7592d69fe4f09919240ed6e8e9cee",
       "version_major": 2,
       "version_minor": 0
      },
      "text/plain": [
       "WebGuiWidget(layout=Layout(height='50vh', width='100%'), value={'gui_settings': {}, 'ngsolve_version': '6.2.23…"
      ]
     },
     "metadata": {},
     "output_type": "display_data"
    },
    {
     "data": {
      "application/vnd.jupyter.widget-view+json": {
       "model_id": "48f0ae556b4f49f7b4b7e18d6a3210da",
       "version_major": 2,
       "version_minor": 0
      },
      "text/plain": [
       "WebGuiWidget(layout=Layout(height='50vh', width='100%'), value={'gui_settings': {}, 'ngsolve_version': '6.2.23…"
      ]
     },
     "metadata": {},
     "output_type": "display_data"
    },
    {
     "data": {
      "text/plain": [
       "BaseWebGuiScene"
      ]
     },
     "execution_count": 20,
     "metadata": {},
     "output_type": "execute_result"
    }
   ],
   "source": [
    "Draw(gfu_direct)\n",
    "Draw(gfu_cg)"
   ]
  },
  {
   "cell_type": "code",
   "execution_count": 21,
   "id": "0de60122",
   "metadata": {
    "slideshow": {
     "slide_type": "slide"
    }
   },
   "outputs": [
    {
     "name": "stdout",
     "output_type": "stream",
     "text": [
      "ndof = 514, time = 0.0032062530517578125\n",
      "ndof = 1973, time = 0.009422540664672852\n",
      "ndof = 7729, time = 0.039258718490600586\n",
      "ndof = 30593, time = 0.15630555152893066\n",
      "ndof = 121729, time = 0.8141801357269287\n",
      "ndof = 485633, time = 5.843654155731201\n"
     ]
    }
   ],
   "source": [
    "from time import time\n",
    "\n",
    "def SolveL2ProjDirect_levels(h, levels, condense=False):\n",
    "    mesh = Mesh(unit_square.GenerateMesh(maxh=h))\n",
    "    fes, a, b, gfu = SetL2Proj(mesh, p=paramt1['p'], fun=paramt1['f'], condense=condense)\n",
    "    steps = []\n",
    "    for l in range(levels):\n",
    "        if l > 0: mesh.Refine()\n",
    "        fes.Update()\n",
    "        gfu.Update()\n",
    "        with TaskManager():\n",
    "            start = time()\n",
    "            SolveL2ProjDirect(a, b, gfu, fes, condense=condense)\n",
    "        print (f\"ndof = {fes.ndof}, time = {time()-start}\")\n",
    "        steps.append ( (fes.ndof, time()-start) )\n",
    "    return gfu, steps\n",
    "\n",
    "_, time_direct = SolveL2ProjDirect_levels(h=paramt1['h0'], levels=paramt1['levels'], condense=paramt1['condense'])"
   ]
  },
  {
   "cell_type": "code",
   "execution_count": 22,
   "id": "58127ee7",
   "metadata": {
    "slideshow": {
     "slide_type": "slide"
    }
   },
   "outputs": [
    {
     "name": "stdout",
     "output_type": "stream",
     "text": [
      "ndof = 514, time = 0.0017201900482177734, steps = 27\n",
      "ndof = 1973, time = 0.0032715797424316406, steps = 32\n",
      "ndof = 7729, time = 0.00813913345336914, steps = 35\n",
      "ndof = 30593, time = 0.03236103057861328, steps = 35\n",
      "ndof = 121729, time = 0.19130468368530273, steps = 36\n",
      "ndof = 485633, time = 0.7755396366119385, steps = 36\n"
     ]
    }
   ],
   "source": [
    "def SolveL2ProjIterativeCG_levels(h, levels, condense=False, compute_condnum=False):\n",
    "    mesh = Mesh(unit_square.GenerateMesh(maxh=h))\n",
    "    fes, a, b, gfu = SetL2Proj(mesh, p=paramt1['p'], fun=paramt1['f'], condense=condense)\n",
    "    tiempo = []\n",
    "    steps = []\n",
    "    for l in range(levels):\n",
    "        if l > 0: mesh.Refine()\n",
    "        fes.Update()\n",
    "        gfu.Update()\n",
    "        with TaskManager():\n",
    "            start = time()\n",
    "            \n",
    "            gfu, invsteps = SolveL2ProjIterativeCG(a, b, gfu, fes, condense=condense, compute_condnum=compute_condnum)\n",
    "            print (f\"ndof = {fes.ndof}, time = {time()-start}, steps = {invsteps}\")\n",
    "            tiempo.append ( (fes.ndof, time()-start ))\n",
    "        steps.append ( (fes.ndof, invsteps ))\n",
    "    return gfu, tiempo, steps\n",
    "\n",
    "_, time_cg, steps = SolveL2ProjIterativeCG_levels(h=paramt1['h0'], levels=paramt1['levels'], condense=paramt1['condense'], compute_condnum=False)"
   ]
  },
  {
   "cell_type": "code",
   "execution_count": 23,
   "id": "77e99d5f",
   "metadata": {
    "slideshow": {
     "slide_type": "slide"
    }
   },
   "outputs": [
    {
     "data": {
      "image/png": "[encoded data removed]",
      "text/plain": [
       "<Figure size 640x480 with 1 Axes>"
      ]
     },
     "metadata": {},
     "output_type": "display_data"
    }
   ],
   "source": [
    "plt.xscale(\"log\")\n",
    "plt.yscale(\"log\")\n",
    "plt.plot(*zip(*time_direct), \"-*\")\n",
    "plt.plot(*zip(*time_cg), \"-+\")\n",
    "plt.legend(['Direct', 'Iterative CG'])\n",
    "plt.xlabel('N. dof')\n",
    "plt.ylabel('time exec.')\n",
    "# plt.savefig('03_Module_Test1.png')\n",
    "plt.show()\n",
    "\n",
    "# from IPython.display import Image\n",
    "# Image(filename='03_Module_Test1.png') "
   ]
  },
  {
   "cell_type": "code",
   "execution_count": 24,
   "id": "db2c6288",
   "metadata": {
    "slideshow": {
     "slide_type": "slide"
    }
   },
   "outputs": [
    {
     "name": "stdout",
     "output_type": "stream",
     "text": [
      "ndof = 514, time = 0.0029947757720947266, steps = (27, 17.046243874104785)\n",
      "ndof = 1973, time = 0.004835605621337891, steps = (32, 17.061686014459344)\n",
      "ndof = 7729, time = 0.013957500457763672, steps = (35, 17.70447739369251)\n",
      "ndof = 30593, time = 0.03125405311584473, steps = (35, 18.420518892059622)\n",
      "ndof = 121729, time = 0.22727179527282715, steps = (36, 18.52058224829701)\n",
      "ndof = 485633, time = 1.1872029304504395, steps = (36, 18.66150777286405)\n"
     ]
    },
    {
     "ename": "NameError",
     "evalue": "name 'np' is not defined",
     "output_type": "error",
     "traceback": [
      "\u001b[0;31m---------------------------------------------------------------------------\u001b[0m",
      "\u001b[0;31mNameError\u001b[0m                                 Traceback (most recent call last)",
      "Cell \u001b[0;32mIn[24], line 6\u001b[0m\n\u001b[1;32m      4\u001b[0m kappas \u001b[38;5;241m=\u001b[39m [steps[j][\u001b[38;5;241m1\u001b[39m][\u001b[38;5;241m1\u001b[39m] \u001b[38;5;28;01mfor\u001b[39;00m j \u001b[38;5;129;01min\u001b[39;00m \u001b[38;5;28mrange\u001b[39m(\u001b[38;5;28mlen\u001b[39m(steps))]\n\u001b[1;32m      5\u001b[0m \u001b[38;5;28;01mimport\u001b[39;00m \u001b[38;5;21;01mpandas\u001b[39;00m \u001b[38;5;28;01mas\u001b[39;00m \u001b[38;5;21;01mpd\u001b[39;00m\n\u001b[0;32m----> 6\u001b[0m tab \u001b[38;5;241m=\u001b[39m pd\u001b[38;5;241m.\u001b[39mDataFrame({\u001b[38;5;124m'\u001b[39m\u001b[38;5;124mndof\u001b[39m\u001b[38;5;124m'\u001b[39m:ndofs, \u001b[38;5;124m'\u001b[39m\u001b[38;5;124mtime\u001b[39m\u001b[38;5;124m'\u001b[39m:\u001b[43mnp\u001b[49m\u001b[38;5;241m.\u001b[39masarray(time_cg)[:,\u001b[38;5;241m1\u001b[39m], \u001b[38;5;124m'\u001b[39m\u001b[38;5;124mCondition number\u001b[39m\u001b[38;5;124m'\u001b[39m:kappas, \u001b[38;5;124m'\u001b[39m\u001b[38;5;124mnumber of CG iterations\u001b[39m\u001b[38;5;124m'\u001b[39m: nsteps})\n\u001b[1;32m      7\u001b[0m tab     \n",
      "\u001b[0;31mNameError\u001b[0m: name 'np' is not defined"
     ]
    }
   ],
   "source": [
    "_, _, steps = SolveL2ProjIterativeCG_levels(h=paramt1['h0'], levels=paramt1['levels'], condense=paramt1['condense'], compute_condnum=True)\n",
    "ndofs = [steps[j][0] for j in range(len(steps))]\n",
    "nsteps = [steps[j][1][0] for j in range(len(steps))]\n",
    "kappas = [steps[j][1][1] for j in range(len(steps))]\n",
    "import pandas as pd\n",
    "tab = pd.DataFrame({'ndof':ndofs, 'time':np.asarray(time_cg)[:,1], 'Condition number':kappas, 'number of CG iterations': nsteps})\n",
    "tab     "
   ]
  },
  {
   "cell_type": "markdown",
   "id": "0e62a371",
   "metadata": {
    "slideshow": {
     "slide_type": "notes"
    }
   },
   "source": [
    "<hr style=\"border:2px solid #03122E\"> </hr>"
   ]
  },
  {
   "cell_type": "markdown",
   "id": "d4ec6ba1",
   "metadata": {
    "slideshow": {
     "slide_type": "slide"
    }
   },
   "source": [
    "## TEST 2: Model problem the Poisson equation\n",
    "We will test the algorithm in this notebook with the solution of the following Poisson problem\n",
    "\n",
    "\\begin{equation}\n",
    "-\\Delta u = 1, \\quad \\text{in } (0,1)^{2}, \\qquad u=0, \\quad \\text{sobre } x=0 \\text{ e }y=0.\n",
    "\\end{equation}"
   ]
  },
  {
   "cell_type": "code",
   "execution_count": null,
   "id": "74d3d2fc",
   "metadata": {
    "slideshow": {
     "slide_type": "subslide"
    }
   },
   "outputs": [],
   "source": [
    "# Solution\n",
    "mesh = Mesh(unit_square.GenerateMesh(maxh=0.05))\n",
    "fes = H1(mesh, order=1, dirichlet='left|bottom')\n",
    "u, v = fes.TnT()\n",
    "a = BilinearForm(InnerProduct(grad(u), grad(v))*dx).Assemble()\n",
    "b = LinearForm(1*v*dx).Assemble()\n",
    "gfu = GridFunction(fes)\n",
    "gfu.vec.data = a.mat.Inverse(freedofs=fes.FreeDofs())*b.vec\n",
    "Draw(gfu)"
   ]
  },
  {
   "cell_type": "markdown",
   "id": "5faace58",
   "metadata": {
    "slideshow": {
     "slide_type": "slide"
    }
   },
   "source": [
    "### Set Poisson problem "
   ]
  },
  {
   "cell_type": "code",
   "execution_count": null,
   "id": "8af8a66a",
   "metadata": {
    "slideshow": {
     "slide_type": "subslide"
    }
   },
   "outputs": [],
   "source": [
    "def SetPoisson(mesh, f=1, p=1, dirichlet_bndry=None, condense=False):\n",
    "    # H1-conforming Finite Element Space\n",
    "    fes = H1(mesh, order=p, dirichlet=dirichlet_bndry)\n",
    "    # Trial and Test Functions\n",
    "    u, v = fes.TnT()\n",
    "    # Bilinear form \n",
    "    a = BilinearForm(fes, symmetric=True, condense=condense)\n",
    "    a += (grad(u)*grad(v))*dx \n",
    "    # Linear form\n",
    "    b = LinearForm(f*v*dx)\n",
    "    # Gridfunction\n",
    "    gfu = GridFunction(fes)\n",
    "    return fes, a, b, gfu"
   ]
  },
  {
   "cell_type": "markdown",
   "id": "82f766a4",
   "metadata": {
    "slideshow": {
     "slide_type": "slide"
    }
   },
   "source": [
    "### Direct solver"
   ]
  },
  {
   "cell_type": "code",
   "execution_count": null,
   "id": "c8327d8a",
   "metadata": {
    "slideshow": {
     "slide_type": "subslide"
    }
   },
   "outputs": [],
   "source": [
    "def SolvePoissonDirect(a, b, gfu, fes, condense=False):\n",
    "    a.Assemble()\n",
    "    b.Assemble()\n",
    "    # Direct solver\n",
    "    inv = a.mat.Inverse(freedofs=fes.FreeDofs(coupling=condense))\n",
    "    # Solve steps depend on condense\n",
    "    if condense:\n",
    "        b.vec.data += a.harmonic_extension_trans * b.vec\n",
    "        gfu.vec.data = inv * b.vec\n",
    "        gfu.vec.data += a.harmonic_extension * gfu.vec\n",
    "        gfu.vec.data += a.inner_solve * b.vec\n",
    "    else: \n",
    "        gfu.vec.data = inv * b.vec\n",
    "    return gfu, fes.ndof"
   ]
  },
  {
   "cell_type": "markdown",
   "id": "c2d57c69",
   "metadata": {
    "slideshow": {
     "slide_type": "slide"
    }
   },
   "source": [
    "### Iterative method : Conjugate Gradient solver (no preconditioner)"
   ]
  },
  {
   "cell_type": "code",
   "execution_count": null,
   "id": "cb78a5db",
   "metadata": {
    "slideshow": {
     "slide_type": "subslide"
    }
   },
   "outputs": [],
   "source": [
    "def SolvePoissonIterativeCG(a, b, gfu, fes, condense=False, compute_condnum=False):\n",
    "    a.Assemble()\n",
    "    b.Assemble()\n",
    "#     inv = CGSolver(a.mat, pre=NoPrec(a,fes), maxsteps=10000)\n",
    "    preI = Projector(mask=fes.FreeDofs(coupling=condense), range=True)\n",
    "    inv = CGSolver(a.mat, pre=preI, maxsteps=10000)\n",
    "    \n",
    "    # Solve steps depend on condense\n",
    "    if condense:\n",
    "        b.vec.data += a.harmonic_extension_trans * b.vec\n",
    "        gfu.vec.data = inv * b.vec\n",
    "        gfu.vec.data += a.harmonic_extension * gfu.vec\n",
    "        gfu.vec.data += a.inner_solve * b.vec\n",
    "    else: \n",
    "        gfu.vec.data = inv * b.vec\n",
    "    if compute_condnum is False:\n",
    "        return gfu, inv.GetSteps()\n",
    "    else:\n",
    "        lams = EigenValues_Preconditioner(mat=a.mat, pre=preI)\n",
    "        kappa = max(lams)/min(lams)\n",
    "        return gfu, ((inv.GetSteps(), kappa))"
   ]
  },
  {
   "cell_type": "code",
   "execution_count": null,
   "id": "2f816e32",
   "metadata": {
    "slideshow": {
     "slide_type": "skip"
    }
   },
   "outputs": [],
   "source": [
    "# class Preconditioner identity\n",
    "class NoPrec(BaseMatrix):\n",
    "    def __init__ (self, a, fes):\n",
    "        super(NoPrec, self).__init__()\n",
    "        self.a = a\n",
    "        self.fes = fes\n",
    "    def Mult (self, x, y):\n",
    "        y[:] = 0.0\n",
    "        FreeDofsindex = np.where(self.fes.FreeDofs())[0]\n",
    "        y.FV().NumPy()[FreeDofsindex] = x.FV().NumPy()[FreeDofsindex]\n",
    "    def Height (self):\n",
    "        return self.a.mat.shape[0]\n",
    "    def Width (self):\n",
    "        return self.a.mat.shape[1]"
   ]
  },
  {
   "cell_type": "markdown",
   "id": "2aab98f3",
   "metadata": {
    "slideshow": {
     "slide_type": "slide"
    }
   },
   "source": [
    "### TEST 2 parameters "
   ]
  },
  {
   "cell_type": "code",
   "execution_count": null,
   "id": "017eeffc",
   "metadata": {
    "slideshow": {
     "slide_type": "subslide"
    }
   },
   "outputs": [],
   "source": [
    "# parameters\n",
    "paramt2 = dict()\n",
    "paramt2['h'] = 0.05\n",
    "paramt2['f'] = 1\n",
    "paramt2['p'] = 1 # p = 6 try h0=0.25\n",
    "paramt2['h0'] = 0.05\n",
    "paramt2['levels'] = 5 # <=6 if p=1\n",
    "paramt2['condense'] = False # True does not work"
   ]
  },
  {
   "cell_type": "code",
   "execution_count": null,
   "id": "3ff219a0",
   "metadata": {
    "slideshow": {
     "slide_type": "slide"
    }
   },
   "outputs": [],
   "source": [
    "# Mesh\n",
    "mesh = Mesh(unit_square.GenerateMesh(maxh=paramt2['h']))\n",
    "# Set Poisson\n",
    "fes, a, b, gfu = SetPoisson(mesh, p=paramt2['p'], f=paramt2['f'], dirichlet_bndry='bottom|left', condense=paramt2['condense'])\n",
    "# Solve direct method\n",
    "gfu_direct, steps = SolvePoissonDirect(a, b, gfu, fes, condense=paramt2['condense'])\n",
    "# Solve iterative method\n",
    "gfu_cg, steps = SolvePoissonIterativeCG(a, b, gfu, fes, condense=paramt2['condense'], compute_condnum=True)\n",
    "print(f\"number steps of CG iteration: {steps}\")"
   ]
  },
  {
   "cell_type": "code",
   "execution_count": null,
   "id": "749ae426",
   "metadata": {
    "slideshow": {
     "slide_type": "subslide"
    }
   },
   "outputs": [],
   "source": [
    "Draw(gfu_direct)\n",
    "Draw(gfu_cg)"
   ]
  },
  {
   "cell_type": "markdown",
   "id": "3ab350c6",
   "metadata": {
    "slideshow": {
     "slide_type": "slide"
    }
   },
   "source": [
    "### Solving for a sequence of meshes"
   ]
  },
  {
   "cell_type": "code",
   "execution_count": null,
   "id": "5c01ce9b",
   "metadata": {
    "slideshow": {
     "slide_type": "subslide"
    }
   },
   "outputs": [],
   "source": [
    "from time import time\n",
    "def SolvePoissonDirect_levels(h, levels, condense=False):\n",
    "    mesh = Mesh(unit_square.GenerateMesh(maxh=h))\n",
    "    fes, a, b, gfu = SetPoisson(mesh, p =paramt2['p'], dirichlet_bndry='bottom|left', condense=condense)\n",
    "    steps = []\n",
    "    for l in range(levels):\n",
    "        if l > 0: mesh.Refine()\n",
    "        fes.Update()\n",
    "        gfu.Update()\n",
    "        with TaskManager():\n",
    "            start = time()\n",
    "            gfu,_ = SolvePoissonDirect(a, b, gfu, fes, condense=condense)\n",
    "        print (f\"ndof = {fes.ndof}, time = {time()-start}\")\n",
    "        steps.append ( (fes.ndof, time()-start) )\n",
    "    return gfu, steps\n",
    "\n",
    "_, time_direct = SolvePoissonDirect_levels(h=paramt2['h0'], levels=paramt2['levels'], condense=paramt2['condense'])"
   ]
  },
  {
   "cell_type": "code",
   "execution_count": null,
   "id": "2182a569",
   "metadata": {
    "slideshow": {
     "slide_type": "subslide"
    }
   },
   "outputs": [],
   "source": [
    "def SolvePoissonIterativeCG_levels(h, levels, condense=False, compute_condnum=False):\n",
    "    mesh = Mesh(unit_square.GenerateMesh(maxh=h))\n",
    "    fes, a, b, gfu = SetPoisson(mesh, p=paramt2['p'], dirichlet_bndry='bottom|left', condense=condense)\n",
    "    tiempo = []\n",
    "    steps = []\n",
    "    for l in range(levels):\n",
    "        if l > 0: mesh.Refine()\n",
    "        fes.Update()\n",
    "        gfu.Update()\n",
    "        with TaskManager():\n",
    "            start = time()\n",
    "            gfu, invsteps = SolvePoissonIterativeCG(a, b, gfu, fes, condense=condense, compute_condnum=compute_condnum)\n",
    "            print (f\"ndof = {fes.ndof}, time = {time()-start}, steps = {invsteps}\")\n",
    "            tiempo.append ( (fes.ndof, time()-start ))\n",
    "        steps.append ( (fes.ndof, invsteps ))\n",
    "    return gfu, tiempo, steps\n",
    "\n",
    "_, time_cg, steps = SolvePoissonIterativeCG_levels(h=paramt2['h0'], levels=paramt2['levels'], condense=paramt2['condense'], compute_condnum=False)"
   ]
  },
  {
   "cell_type": "markdown",
   "id": "93bd659c",
   "metadata": {
    "slideshow": {
     "slide_type": "slide"
    }
   },
   "source": [
    "### Comparison plot of execution times"
   ]
  },
  {
   "cell_type": "code",
   "execution_count": null,
   "id": "8fdecb29",
   "metadata": {
    "slideshow": {
     "slide_type": "subslide"
    }
   },
   "outputs": [],
   "source": [
    "plt.xscale(\"log\")\n",
    "plt.yscale(\"log\")\n",
    "plt.plot(*zip(*time_direct), \"-*\")\n",
    "plt.plot(*zip(*time_cg), \"-+\")\n",
    "plt.legend(['Direct', 'Iterative CG'])\n",
    "plt.xlabel('N. dof')\n",
    "plt.ylabel('time exec.')\n",
    "# plt.savefig('03_Module_Test2.png')\n",
    "plt.show()\n",
    "\n",
    "# from IPython.display import Image\n",
    "# Image(filename='03_Module_Test2.png') "
   ]
  },
  {
   "cell_type": "code",
   "execution_count": null,
   "id": "282ef2fd",
   "metadata": {
    "slideshow": {
     "slide_type": "subslide"
    }
   },
   "outputs": [],
   "source": [
    "_, _, steps = SolvePoissonIterativeCG_levels(h=paramt2['h0'], levels=paramt2['levels'], condense=False, compute_condnum=True)\n",
    "ndofs = [steps[j][0] for j in range(len(steps))]\n",
    "nsteps = [steps[j][1][0] for j in range(len(steps))]\n",
    "kappas = [steps[j][1][1] for j in range(len(steps))]\n",
    "import pandas as pd\n",
    "tab = pd.DataFrame({'ndof':ndofs, 'time':np.asarray(time_cg)[:,1], 'Condition number':kappas, 'number of CG iterations': nsteps})\n",
    "tab     "
   ]
  },
  {
   "cell_type": "code",
   "execution_count": null,
   "id": "26f0b8ca",
   "metadata": {
    "slideshow": {
     "slide_type": "skip"
    }
   },
   "outputs": [],
   "source": []
  }
 ],
 "metadata": {
  "celltoolbar": "Slideshow",
  "kernelspec": {
   "display_name": "Python 3 (ipykernel)",
   "language": "python",
   "name": "python3"
  },
  "language_info": {
   "codemirror_mode": {
    "name": "ipython",
    "version": 3
   },
   "file_extension": ".py",
   "mimetype": "text/x-python",
   "name": "python",
   "nbconvert_exporter": "python",
   "pygments_lexer": "ipython3",
   "version": "3.10.12"
  },
  "varInspector": {
   "cols": {
    "lenName": 16,
    "lenType": 16,
    "lenVar": 40
   },
   "kernels_config": {
    "python": {
     "delete_cmd_postfix": "",
     "delete_cmd_prefix": "del ",
     "library": "var_list.py",
     "varRefreshCmd": "print(var_dic_list())"
    },
    "r": {
     "delete_cmd_postfix": ") ",
     "delete_cmd_prefix": "rm(",
     "library": "var_list.r",
     "varRefreshCmd": "cat(var_dic_list()) "
    }
   },
   "types_to_exclude": [
    "module",
    "function",
    "builtin_function_or_method",
    "instance",
    "_Feature"
   ],
   "window_display": false
  }
 },
 "nbformat": 4,
 "nbformat_minor": 5
}
