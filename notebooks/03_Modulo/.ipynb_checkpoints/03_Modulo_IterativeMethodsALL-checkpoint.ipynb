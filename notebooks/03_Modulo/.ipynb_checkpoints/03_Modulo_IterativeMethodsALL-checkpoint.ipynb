{
 "cells": [
  {
   "cell_type": "markdown",
   "id": "38634a14",
   "metadata": {},
   "source": [
    "<hr style=\"border:2px solid #0176DE\"> </hr>\n",
    "<center><h1 style=\"color:#173F8A;\"> Escuela de Verano en Metodos Iterativos</h1></center> \n",
    "<center><h1 style=\"color:#173F8A;\"> EMI 2024 - CMM Chile</h1></center>\n",
    "<hr style=\"border:2px solid #0176DE\"> </hr>\n",
    "<h3 style=\"color:#173F8A;text-align:right;\"> Profesores: &nbsp;Nicolás Barnafi<br>Manuel A. Sánchez<br></h3>\n",
    "\n",
    "<h3 style=\"color:#03122E;text-align:right;\"> \n",
    "    Centro de Modelamiento Matematico <br> \n",
    "    Instituto de Ingenieria Matematica y Computacional - IMC UC<br>  \n",
    "</h3>\n",
    "\n",
    "<hr style=\"border:2px solid #03122E\"> </hr>\n",
    "<center><h1 style=\"color:#173F8A;\"> Modulo 3: MinRes, GMRES - NGSolve</h1></center> \n",
    "<hr style=\"border:2px solid #03122E\"> </hr>\n",
    "\n",
    "<!-- Palette colors UC:\n",
    "Primaria: \n",
    "celeste:#0176DE, azul #173F8A, azul oscuro: #03122E, amarillo: #FEC60D, amarillo oscuro: #E3AE00 \n",
    "Secundaria\n",
    "gris oscuro: #707070\n",
    "-->"
   ]
  },
  {
   "cell_type": "code",
   "execution_count": 1,
   "id": "f7ac7920",
   "metadata": {},
   "outputs": [],
   "source": [
    "from ngsolve import *\n",
    "from ngsolve.webgui import Draw\n",
    "from ngsolve.la import EigenValues_Preconditioner\n",
    "import matplotlib.pyplot as plt\n",
    "from ngsolve.krylovspace import MinResSolver"
   ]
  },
  {
   "cell_type": "code",
   "execution_count": 2,
   "id": "ddabfc7b",
   "metadata": {},
   "outputs": [
    {
     "name": "stdout",
     "output_type": "stream",
     "text": [
      "Help on class MinResSolver in module ngsolve.krylovspace:\n",
      "\n",
      "class MinResSolver(LinearSolver)\n",
      " |  MinResSolver(*args, **kwargs)\n",
      " |  \n",
      " |  #Source: Michael Kolmbauer https://www.numa.uni-linz.ac.at/Teaching/PhD/Finished/kolmbauer-diss.pdf\n",
      " |  \n",
      " |  Method resolution order:\n",
      " |      MinResSolver\n",
      " |      LinearSolver\n",
      " |      ngsolve.la.BaseMatrix\n",
      " |      pybind11_builtins.pybind11_object\n",
      " |      builtins.object\n",
      " |  \n",
      " |  Methods defined here:\n",
      " |  \n",
      " |  __init__(self, *args, **kwargs)\n",
      " |      __init__(*args, **kwargs)\n",
      " |      Overloaded function.\n",
      " |      \n",
      " |      1. __init__(self: ngsolve.la.BaseMatrix) -> None\n",
      " |      \n",
      " |      2. __init__(self: ngsolve.la.BaseMatrix, arg0: ngsolve.la.BaseVector) -> None\n",
      " |      \n",
      " |      3. __init__(self: ngsolve.la.BaseMatrix, arg0: ngsolve.la.MultiVector) -> None\n",
      " |      \n",
      " |      4. __init__(self: ngsolve.la.BaseMatrix, arg0: ngsolve.bla.MatrixD) -> None\n",
      " |      \n",
      " |      5. __init__(self: ngsolve.la.BaseMatrix, arg0: object) -> None\n",
      " |  \n",
      " |  ----------------------------------------------------------------------\n",
      " |  Methods inherited from LinearSolver:\n",
      " |  \n",
      " |  CheckResidual(self, residual)\n",
      " |  \n",
      " |  Height(self) -> int\n",
      " |  \n",
      " |  IsComplex(self) -> bool\n",
      " |  \n",
      " |  Mult(self, x: ngsolve.la.BaseVector, y: ngsolve.la.BaseVector) -> None\n",
      " |      Mult(self: ngsolve.la.BaseMatrix, x: ngsolve.la.BaseVector, y: ngsolve.la.BaseVector) -> None\n",
      " |  \n",
      " |  Solve = retfunc(*args, **kwargs)\n",
      " |  \n",
      " |  Update(self)\n",
      " |      Update(self: ngsolve.la.BaseMatrix) -> None\n",
      " |      \n",
      " |      Update matrix\n",
      " |  \n",
      " |  Width(self) -> int\n",
      " |  \n",
      " |  ----------------------------------------------------------------------\n",
      " |  Data descriptors inherited from LinearSolver:\n",
      " |  \n",
      " |  __dict__\n",
      " |      dictionary for instance variables (if defined)\n",
      " |  \n",
      " |  ----------------------------------------------------------------------\n",
      " |  Data and other attributes inherited from LinearSolver:\n",
      " |  \n",
      " |  name = 'LinearSolver'\n",
      " |  \n",
      " |  ----------------------------------------------------------------------\n",
      " |  Methods inherited from ngsolve.la.BaseMatrix:\n",
      " |  \n",
      " |  AsVector(...)\n",
      " |      AsVector(self: ngsolve.la.BaseMatrix) -> ngsolve.la.BaseVector\n",
      " |      \n",
      " |      Interprets the matrix values as a vector\n",
      " |  \n",
      " |  CreateColVector(...)\n",
      " |      CreateColVector(self: ngsolve.la.BaseMatrix) -> ngsolve.la.BaseVector\n",
      " |  \n",
      " |  CreateDeviceMatrix(...)\n",
      " |      CreateDeviceMatrix(self: ngsolve.la.BaseMatrix) -> BaseMatrix\n",
      " |  \n",
      " |  CreateMatrix(...)\n",
      " |      CreateMatrix(self: ngsolve.la.BaseMatrix) -> BaseMatrix\n",
      " |      \n",
      " |      Create matrix of same dimension and same sparsestructure\n",
      " |  \n",
      " |  CreateRowVector(...)\n",
      " |      CreateRowVector(self: ngsolve.la.BaseMatrix) -> ngsolve.la.BaseVector\n",
      " |  \n",
      " |  CreateVector(...)\n",
      " |      CreateVector(self: ngsolve.la.BaseMatrix, colvector: bool = False) -> ngsolve.la.BaseVector\n",
      " |  \n",
      " |  GetInverseType(...)\n",
      " |      GetInverseType(self: ngsolve.la.BaseMatrix) -> str\n",
      " |  \n",
      " |  GetOperatorInfo(...)\n",
      " |      GetOperatorInfo(self: ngsolve.la.BaseMatrix) -> str\n",
      " |  \n",
      " |  Inverse(...)\n",
      " |      Inverse(self: ngsolve.la.BaseMatrix, freedofs: pyngcore.pyngcore.BitArray = None, inverse: str = '') -> BaseMatrix\n",
      " |      \n",
      " |      Calculate inverse of sparse matrix\n",
      " |      Parameters:\n",
      " |      \n",
      " |      freedofs : BitArray\n",
      " |        If set, invert only the rows/columns the matrix defined by the bit array, otherwise invert the whole matrix\n",
      " |      \n",
      " |      inverse : string\n",
      " |        Solver to use, allowed values are:\n",
      " |          sparsecholesky - internal solver of NGSolve for symmetric matrices\n",
      " |          umfpack        - solver by Suitesparse/UMFPACK (if NGSolve was configured with USE_UMFPACK=ON)\n",
      " |          pardiso        - PARDISO, either provided by libpardiso (USE_PARDISO=ON) or Intel MKL (USE_MKL=ON).\n",
      " |                           If neither Pardiso nor Intel MKL was linked at compile-time, NGSolve will look\n",
      " |                           for libmkl_rt in LD_LIBRARY_PATH (Unix) or PATH (Windows) at run-time.\n",
      " |  \n",
      " |  MultAdd(...)\n",
      " |      MultAdd(*args, **kwargs)\n",
      " |      Overloaded function.\n",
      " |      \n",
      " |      1. MultAdd(self: ngsolve.la.BaseMatrix, value: float, x: ngsolve.la.BaseVector, y: ngsolve.la.BaseVector) -> None\n",
      " |      \n",
      " |      2. MultAdd(self: ngsolve.la.BaseMatrix, value: complex, x: ngsolve.la.BaseVector, y: ngsolve.la.BaseVector) -> None\n",
      " |  \n",
      " |  MultScale(...)\n",
      " |      MultScale(*args, **kwargs)\n",
      " |      Overloaded function.\n",
      " |      \n",
      " |      1. MultScale(self: ngsolve.la.BaseMatrix, value: float, x: ngsolve.la.BaseVector, y: ngsolve.la.BaseVector) -> None\n",
      " |      \n",
      " |      2. MultScale(self: ngsolve.la.BaseMatrix, value: complex, x: ngsolve.la.BaseVector, y: ngsolve.la.BaseVector) -> None\n",
      " |  \n",
      " |  MultTrans(...)\n",
      " |      MultTrans(*args, **kwargs)\n",
      " |      Overloaded function.\n",
      " |      \n",
      " |      1. MultTrans(self: ngsolve.la.BaseMatrix, value: float, x: ngsolve.la.BaseVector, y: ngsolve.la.BaseVector) -> None\n",
      " |      \n",
      " |      2. MultTrans(self: ngsolve.la.BaseMatrix, value: complex, x: ngsolve.la.BaseVector, y: ngsolve.la.BaseVector) -> None\n",
      " |  \n",
      " |  MultTransAdd(...)\n",
      " |      MultTransAdd(*args, **kwargs)\n",
      " |      Overloaded function.\n",
      " |      \n",
      " |      1. MultTransAdd(self: ngsolve.la.BaseMatrix, value: float, x: ngsolve.la.BaseVector, y: ngsolve.la.BaseVector) -> None\n",
      " |      \n",
      " |      2. MultTransAdd(self: ngsolve.la.BaseMatrix, value: complex, x: ngsolve.la.BaseVector, y: ngsolve.la.BaseVector) -> None\n",
      " |  \n",
      " |  ToDense(...)\n",
      " |      ToDense(self: ngsolve.la.BaseMatrix) -> object\n",
      " |  \n",
      " |  __add__(...)\n",
      " |      __add__(self: BaseMatrix, mat: BaseMatrix) -> BaseMatrix\n",
      " |  \n",
      " |  __iadd__(...)\n",
      " |      __iadd__(self: ngsolve.la.BaseMatrix, mat: ngsolve.la.BaseMatrix) -> None\n",
      " |  \n",
      " |  __matmul__(...)\n",
      " |      __matmul__(self: BaseMatrix, mat: BaseMatrix) -> BaseMatrix\n",
      " |  \n",
      " |  __mul__(...)\n",
      " |      __mul__(*args, **kwargs)\n",
      " |      Overloaded function.\n",
      " |      \n",
      " |      1. __mul__(self: BaseMatrix, arg0: ngsolve.la.BaseVector) -> ngla::DynamicVectorExpression\n",
      " |      \n",
      " |      2. __mul__(self: BaseMatrix, arg0: ngsolve.la.MultiVector) -> ngsolve.la.MultiVectorExpr\n",
      " |  \n",
      " |  __neg__(...)\n",
      " |      __neg__(self: BaseMatrix) -> BaseMatrix\n",
      " |  \n",
      " |  __radd__(...)\n",
      " |      __radd__(self: BaseMatrix, arg0: int) -> BaseMatrix\n",
      " |  \n",
      " |  __rmul__(...)\n",
      " |      __rmul__(*args, **kwargs)\n",
      " |      Overloaded function.\n",
      " |      \n",
      " |      1. __rmul__(self: BaseMatrix, value: float) -> BaseMatrix\n",
      " |      \n",
      " |      2. __rmul__(self: BaseMatrix, value: complex) -> BaseMatrix\n",
      " |  \n",
      " |  __str__(...)\n",
      " |      __str__(self: ngsolve.la.BaseMatrix) -> str\n",
      " |  \n",
      " |  __sub__(...)\n",
      " |      __sub__(self: BaseMatrix, mat: BaseMatrix) -> BaseMatrix\n",
      " |  \n",
      " |  matvec(...)\n",
      " |      matvec(self: BaseMatrix, arg0: ngsolve.la.BaseVector) -> ngsolve.la.BaseVector\n",
      " |  \n",
      " |  ----------------------------------------------------------------------\n",
      " |  Data descriptors inherited from ngsolve.la.BaseMatrix:\n",
      " |  \n",
      " |  H\n",
      " |      Return conjugate transpose of matrix (WIP, only partially supported)\n",
      " |  \n",
      " |  T\n",
      " |      Return transpose of matrix\n",
      " |  \n",
      " |  comm\n",
      " |  \n",
      " |  dtype\n",
      " |  \n",
      " |  height\n",
      " |      Height of the matrix\n",
      " |  \n",
      " |  is_complex\n",
      " |      is the matrix complex-valued ?\n",
      " |  \n",
      " |  local_mat\n",
      " |  \n",
      " |  nze\n",
      " |      number of non-zero elements\n",
      " |  \n",
      " |  shape\n",
      " |  \n",
      " |  width\n",
      " |      Width of the matrix\n",
      " |  \n",
      " |  ----------------------------------------------------------------------\n",
      " |  Static methods inherited from pybind11_builtins.pybind11_object:\n",
      " |  \n",
      " |  __new__(*args, **kwargs) from pybind11_builtins.pybind11_type\n",
      " |      Create and return a new object.  See help(type) for accurate signature.\n",
      "\n"
     ]
    }
   ],
   "source": [
    "help(MinResSolver)"
   ]
  },
  {
   "cell_type": "markdown",
   "id": "8b77af57",
   "metadata": {},
   "source": [
    "## Model problem\n",
    "We will test the algorithm in this notebook with the solution of the following Poisson problem\n",
    "\n",
    "\\begin{equation}\n",
    "-\\Delta u = 1, \\quad \\text{in } (0,1)^{2}, \\qquad u=0, \\quad \\text{sobre } x=0 \\text{ e }y=0.\n",
    "\\end{equation}"
   ]
  },
  {
   "cell_type": "code",
   "execution_count": 3,
   "id": "ebda17d9",
   "metadata": {
    "scrolled": true
   },
   "outputs": [
    {
     "data": {
      "application/vnd.jupyter.widget-view+json": {
       "model_id": "032a65cf5d74480599c58a67875c2cca",
       "version_major": 2,
       "version_minor": 0
      },
      "text/plain": [
       "WebGuiWidget(layout=Layout(height='50vh', width='100%'), value={'gui_settings': {}, 'ngsolve_version': '6.2.23…"
      ]
     },
     "metadata": {},
     "output_type": "display_data"
    },
    {
     "data": {
      "text/plain": [
       "BaseWebGuiScene"
      ]
     },
     "execution_count": 3,
     "metadata": {},
     "output_type": "execute_result"
    }
   ],
   "source": [
    "# Ejemplo de la solucion\n",
    "mesh = Mesh(unit_square.GenerateMesh(maxh=0.05))\n",
    "fes = H1(mesh, order=1, dirichlet='left|bottom')\n",
    "u, v = fes.TnT()\n",
    "a = BilinearForm(InnerProduct(grad(u), grad(v))*dx).Assemble()\n",
    "b = LinearForm(1*v*dx).Assemble()\n",
    "gfu = GridFunction(fes)\n",
    "gfu.vec.data = a.mat.Inverse(freedofs=fes.FreeDofs())*b.vec\n",
    "Draw(gfu)"
   ]
  },
  {
   "cell_type": "markdown",
   "id": "3fb13177",
   "metadata": {},
   "source": [
    "## Set Poisson "
   ]
  },
  {
   "cell_type": "code",
   "execution_count": 4,
   "id": "4a224691",
   "metadata": {},
   "outputs": [],
   "source": [
    "def SetPoisson(mesh, f=1, p=1, dirichlet_bndry=None, condense=False):\n",
    "    # H1-conforming Finite Element Space\n",
    "    fes = H1(mesh, order=p, dirichlet=dirichlet_bndry)\n",
    "    # Trial and Test Functions\n",
    "    u, v = fes.TnT()\n",
    "    # Bilinear form \n",
    "    a = BilinearForm(fes, symmetric=True, condense=condense)\n",
    "    a += (grad(u)*grad(v))*dx \n",
    "    # Linear form\n",
    "    b = LinearForm(f*v*dx)\n",
    "    # Gridfunction\n",
    "    gfu = GridFunction(fes)\n",
    "    return fes, a, b, gfu"
   ]
  },
  {
   "cell_type": "markdown",
   "id": "6ee112f7",
   "metadata": {},
   "source": [
    "## Direct solver"
   ]
  },
  {
   "cell_type": "code",
   "execution_count": 5,
   "id": "af8ac955",
   "metadata": {},
   "outputs": [],
   "source": [
    "def SolvePoissonDirect(a, b, gfu, fes, condense=False):\n",
    "    a.Assemble()\n",
    "    b.Assemble()\n",
    "    # Direct solver\n",
    "    inv = a.mat.Inverse(freedofs=fes.FreeDofs())\n",
    "    # Solve steps depend on condense\n",
    "    if condense:\n",
    "        f.vec.data += a.harmonic_extension_trans * b.vec\n",
    "        gfu.vec.data = inv * b.vec\n",
    "        gfu.vec.data += a.harmonic_extension * gfu.vec\n",
    "        gfu.vec.data += a.inner_solve * b.vec\n",
    "    else: \n",
    "        gfu.vec.data = inv * b.vec\n",
    "    return gfu, fes.ndof\n",
    "       "
   ]
  },
  {
   "cell_type": "markdown",
   "id": "490a2bfa",
   "metadata": {},
   "source": [
    "## Iterative MinRes, GMRES (no preconditioner)"
   ]
  },
  {
   "cell_type": "code",
   "execution_count": 38,
   "id": "e06241c8",
   "metadata": {},
   "outputs": [],
   "source": [
    "def SolvePoissonIterative(a, b, gfu, fes, itermethod='CG', condense=False, compute_condnum=False):\n",
    "    a.Assemble()\n",
    "    b.Assemble()\n",
    "    preI = Projector(mask=fes.FreeDofs(), range=True)\n",
    "    # Solve\n",
    "    if itermethod=='CG':\n",
    "        solvers.CG(mat =a.mat, \n",
    "                      rhs = b.vec, \n",
    "                      pre=None, freedofs=fes.FreeDofs(), \n",
    "                      sol =gfu.vec, \n",
    "                      tol=1e-8,\n",
    "                      maxsteps=10000, \n",
    "                      printrates='\\r')\n",
    "    elif itermethod=='GMRes':\n",
    "        solvers.GMRes(A =a.mat, \n",
    "                      b = b.vec, \n",
    "                      pre=None, freedofs=fes.FreeDofs(), \n",
    "                      x =gfu.vec, \n",
    "                      tol=1e-8,\n",
    "                      maxsteps=10000, \n",
    "                      printrates='\\r')\n",
    "    elif itermethod=='MinRes':\n",
    "        solvers.MinRes(mat =a.mat, \n",
    "                      rhs = b.vec, \n",
    "                      pre=None, freedofs=fes.FreeDofs(), \n",
    "                      sol =gfu.vec, \n",
    "                      tol=1e-8,\n",
    "                      maxsteps=10000, \n",
    "                      printrates='\\r')\n",
    "    if compute_condnum is False:\n",
    "        return gfu, ()\n",
    "    else:\n",
    "        lams = EigenValues_Preconditioner(mat=a.mat, pre=preI)\n",
    "        kappa = max(lams)/min(lams)\n",
    "        return gfu, kappa\n",
    "def SolvePoissonIterativeGMRes(a, b, gfu, fes, condense=False, compute_condnum=False):\n",
    "    a.Assemble()\n",
    "    b.Assemble()\n",
    "    preI = Projector(mask=fes.FreeDofs(), range=True)\n",
    "    inv = GMRESSolver(a.mat, pre=preI, maxsteps=10000)\n",
    "    # Solve steps depend on condense\n",
    "    if condense:\n",
    "        f.vec.data += a.harmonic_extension_trans * b.vec\n",
    "        gfu.vec.data = inv * b.vec\n",
    "        gfu.vec.data += a.harmonic_extension * gfu.vec\n",
    "        gfu.vec.data += a.inner_solve * b.vec\n",
    "    else: \n",
    "        gfu.vec.data = inv * b.vec\n",
    "    if compute_condnum is False:\n",
    "        return gfu, inv.GetSteps()\n",
    "    else:\n",
    "        lams = EigenValues_Preconditioner(mat=a.mat, pre=preI)\n",
    "        kappa = max(lams)/min(lams)\n",
    "        return gfu, ((inv.GetSteps(), kappa))"
   ]
  },
  {
   "cell_type": "code",
   "execution_count": 39,
   "id": "5c8c2289",
   "metadata": {},
   "outputs": [],
   "source": [
    "def SolvePoissonIterativeGMRes2(a, b, gfu, fes, condense=False, compute_condnum=False):\n",
    "    a.Assemble()\n",
    "    b.Assemble()\n",
    "    preI = Projector(mask=fes.FreeDofs(), range=True)\n",
    "    # Solve\n",
    "    solvers.GMRes(A =a.mat, \n",
    "                  b = b.vec, \n",
    "                  pre=None, freedofs=fes.FreeDofs(), \n",
    "                  x =gfu.vec, \n",
    "                  tol=1e-8,\n",
    "                  maxsteps=10000, \n",
    "                  printrates='\\r')\n",
    "    if compute_condnum is False:\n",
    "        return gfu, ()\n",
    "    else:\n",
    "        lams = EigenValues_Preconditioner(mat=a.mat, pre=preI)\n",
    "        kappa = max(lams)/min(lams)\n",
    "        return gfu, kappa"
   ]
  },
  {
   "cell_type": "code",
   "execution_count": 40,
   "id": "e4b6c96a",
   "metadata": {},
   "outputs": [],
   "source": [
    "# parametros\n",
    "param = dict()\n",
    "param['h'] = 0.05\n",
    "param['f'] = 1\n",
    "param['p'] = 1\n",
    "param['condense'] = False\n",
    "mesh = Mesh(unit_square.GenerateMesh(maxh=param['h']))\n",
    "fes, a, b, gfu = SetPoisson(mesh, p=param['p'], f=param['f'], dirichlet_bndry='bottom|left', condense=param['condense'])"
   ]
  },
  {
   "cell_type": "code",
   "execution_count": 41,
   "id": "f7fbe40e",
   "metadata": {},
   "outputs": [
    {
     "name": "stdout",
     "output_type": "stream",
     "text": [
      "CG iteration 1, residual = 0.045387126994665176     \r",
      "CG iteration 2, residual = 0.14160049026040408     \r",
      "CG iteration 3, residual = 0.14977299201137795     \r",
      "CG iteration 4, residual = 0.1441002533418429     \r",
      "CG iteration 5, residual = 0.12851186280185348     \r",
      "CG iteration 6, residual = 0.11378320862262083     \r",
      "CG iteration 7, residual = 0.11063053621944846     \r",
      "CG iteration 8, residual = 0.10769816570559518     \r",
      "CG iteration 9, residual = 0.10117153241016306     \r",
      "CG iteration 10, residual = 0.0947957122736521     \r",
      "CG iteration 11, residual = 0.08984271086444123     \r",
      "CG iteration 12, residual = 0.08165182371361948     \r",
      "CG iteration 13, residual = 0.08072810825006774     \r",
      "CG iteration 14, residual = 0.08629035140610762     \r",
      "CG iteration 15, residual = 0.06307348583260752     \r",
      "CG iteration 16, residual = 0.05537697373388595     \r",
      "CG iteration 17, residual = 0.0517183598710165     \r",
      "CG iteration 18, residual = 0.045435277900375534     \r",
      "CG iteration 19, residual = 0.04072139634797545     \r",
      "CG iteration 20, residual = 0.039421522466696175     \r",
      "CG iteration 21, residual = 0.029890445392020355     \r",
      "CG iteration 22, residual = 0.024980988360249715     \r",
      "CG iteration 23, residual = 0.020973527588765407     \r",
      "CG iteration 24, residual = 0.015238097177266772     \r",
      "CG iteration 25, residual = 0.011448068989703145     \r",
      "CG iteration 26, residual = 0.009090807119239671     \r",
      "CG iteration 27, residual = 0.007705268803422033     \r",
      "CG iteration 28, residual = 0.006659856246796272     \r",
      "CG iteration 29, residual = 0.004177551107169114     \r",
      "CG iteration 30, residual = 0.003320341578112834     \r",
      "CG iteration 31, residual = 0.0031272480092918195     \r",
      "CG iteration 32, residual = 0.00287794512171043     \r",
      "CG iteration 33, residual = 0.0019540084737008916     \r",
      "CG iteration 34, residual = 0.0013902038754866329     \r",
      "CG iteration 35, residual = 0.0011998872983326216     \r",
      "CG iteration 36, residual = 0.0009204766072786612     \r",
      "CG iteration 37, residual = 0.000651313144874086     \r",
      "CG iteration 38, residual = 0.00046829568486109115     \r",
      "CG iteration 39, residual = 0.0003654564241990972     \r",
      "CG iteration 40, residual = 0.0003145964704163993     \r",
      "CG iteration 41, residual = 0.000254732061411921     \r",
      "CG iteration 42, residual = 0.00019483057043493955     \r",
      "CG iteration 43, residual = 0.00012227283359481523     \r",
      "CG iteration 44, residual = 8.085332514023076e-05     \r",
      "CG iteration 45, residual = 5.4945127040864424e-05     \r",
      "CG iteration 46, residual = 3.767491645742245e-05     \r",
      "CG iteration 47, residual = 2.557464843261669e-05     \r",
      "CG iteration 48, residual = 1.4751063280932918e-05     \r",
      "CG iteration 49, residual = 8.551406549127449e-06     \r",
      "CG iteration 50, residual = 5.476381172645014e-06     \r",
      "CG iteration 51, residual = 3.5046587442115185e-06     \r",
      "CG iteration 52, residual = 2.3973749383223444e-06     \r",
      "CG iteration 53, residual = 2.0370397998183357e-06     \r",
      "CG iteration 54, residual = 1.8697237323311316e-06     \r",
      "CG iteration 55, residual = 1.5968205014316377e-06     \r",
      "CG iteration 56, residual = 1.0857611560327837e-06     \r",
      "CG iteration 57, residual = 8.063703504424081e-07     \r",
      "CG iteration 58, residual = 7.048946807206396e-07     \r",
      "CG iteration 59, residual = 5.608344749752495e-07     \r",
      "CG iteration 60, residual = 4.923990050415148e-07     \r",
      "CG iteration 61, residual = 4.694188789551335e-07     \r",
      "CG iteration 62, residual = 4.0130435309240514e-07     \r",
      "CG iteration 63, residual = 3.73973433513846e-07     \r",
      "CG iteration 64, residual = 3.8418104855146327e-07     \r",
      "CG iteration 65, residual = 3.213474284502454e-07     \r",
      "CG iteration 66, residual = 2.545490078813571e-07     \r",
      "CG iteration 67, residual = 2.0269788338064208e-07     \r",
      "CG iteration 68, residual = 1.5770683750943276e-07     \r",
      "CG iteration 69, residual = 1.0864619992772918e-07     \r",
      "CG iteration 70, residual = 8.839907578030338e-08     \r",
      "CG iteration 71, residual = 7.067320382371927e-08     \r",
      "CG iteration 72, residual = 5.449005293721803e-08     \r",
      "CG iteration 73, residual = 4.691057417207128e-08     \r",
      "CG iteration 74, residual = 3.6174176296641003e-08     \r",
      "CG iteration 75, residual = 2.6125653098263012e-08     \r",
      "CG iteration 76, residual = 1.984595738416218e-08     \r",
      "CG iteration 77, residual = 1.4143963625166453e-08     \r",
      "CG iteration 78, residual = 9.236196955686661e-09     \r",
      "CG iteration 79, residual = 5.66577280913205e-09     \r",
      "CG iteration 80, residual = 3.8706243751929045e-09     \r",
      "CG iteration 81, residual = 2.7040322819180292e-09     \r",
      "CG iteration 82, residual = 1.68173048002101e-09     \r",
      "CG iteration 83, residual = 9.297398382631295e-10     \r",
      "CG iteration 84, residual = 6.538182571212554e-10     \r",
      "CG iteration 85, residual = 4.94330951762849e-10     \r",
      "CG iteration 86, residual = 3.385502685189542e-10     \r",
      "CG converged in 86 iterations to residual 3.385502685189542e-10\n",
      "condition number of the system: ()\n",
      "Wall time: 17.7 ms\n"
     ]
    }
   ],
   "source": [
    "%%time\n",
    "# gfu_GMRes, steps = SolvePoissonIterativeGMRes(a, b, gfu, fes, condense=False,compute_condnum=True)\n",
    "# gfu_GMRes, kappa = SolvePoissonIterativeGMRes2(a, b, gfu, fes, condense=False,compute_condnum=False)\n",
    "gfu_CG, kappa = SolvePoissonIterative(a, b, gfu, fes, itermethod='CG', condense=False,compute_condnum=False)\n",
    "\n",
    "print(f\"condition number of the system: {kappa}\")"
   ]
  },
  {
   "cell_type": "code",
   "execution_count": 42,
   "id": "746aefc2",
   "metadata": {},
   "outputs": [
    {
     "data": {
      "application/vnd.jupyter.widget-view+json": {
       "model_id": "136789f05c14401ab7bb8f285aaf5c72",
       "version_major": 2,
       "version_minor": 0
      },
      "text/plain": [
       "WebGuiWidget(layout=Layout(height='50vh', width='100%'), value={'gui_settings': {}, 'ngsolve_version': '6.2.23…"
      ]
     },
     "metadata": {},
     "output_type": "display_data"
    },
    {
     "data": {
      "text/plain": [
       "BaseWebGuiScene"
      ]
     },
     "execution_count": 42,
     "metadata": {},
     "output_type": "execute_result"
    }
   ],
   "source": [
    "Draw(gfu_CG)"
   ]
  },
  {
   "cell_type": "code",
   "execution_count": 20,
   "id": "c29d4872",
   "metadata": {},
   "outputs": [],
   "source": [
    "# from time import time\n",
    "# h0 = 0.05\n",
    "# levels = 5\n",
    "# def SolvePoissonIterativeGMRes_levels(h=h0, levels=levels, condense=False, compute_condnum=False):\n",
    "#     mesh = Mesh(unit_square.GenerateMesh(maxh=h))\n",
    "#     fes, a, b, gfu = SetPoisson(mesh, dirichlet_bndry='bottom|left')\n",
    "#     tiempo = []\n",
    "#     steps = []\n",
    "#     for l in range(levels):\n",
    "#         if l > 0: mesh.Refine()\n",
    "#         fes.Update()\n",
    "#         gfu.Update()\n",
    "#         with TaskManager():\n",
    "#             start = time()\n",
    "#             gfu, invsteps = SolvePoissonIterativeGMRes(a, b, gfu, fes, condense=condense, compute_condnum=compute_condnum)\n",
    "#             print (f\"ndof = {fes.ndof}, time = {time()-start}, steps = {invsteps}\")\n",
    "#             tiempo.append ( (fes.ndof, time()-start ))\n",
    "#         steps.append ( (fes.ndof, invsteps ))\n",
    "#     return gfu, tiempo, steps\n",
    "\n",
    "# _, time_cg, steps = SolvePoissonIterativeGMRes_levels(h=h0, levels=levels, condense=False, compute_condnum=False)"
   ]
  },
  {
   "cell_type": "code",
   "execution_count": 21,
   "id": "6770d474",
   "metadata": {},
   "outputs": [
    {
     "name": "stdout",
     "output_type": "stream",
     "text": [
      "GMRes converged in 77 iterations to residual 9.492291226890242e-09\n",
      "ndof = 508, time = 0.22079753875732422, steps = ()\n",
      "GMRes converged in 189 iterations to residual 9.40615247100902e-09\n",
      "ndof = 1949, time = 1.2626373767852783, steps = ()\n",
      "GMRes converged in 361 iterations to residual 9.908136985843355e-09\n",
      "ndof = 7633, time = 5.3175742626190186, steps = ()\n",
      "GMRes converged in 678 iterations to residual 9.997995817401705e-09\n",
      "ndof = 30209, time = 25.673316478729248, steps = ()\n",
      "GMRes converged in 1248 iterations to residual 9.97846339744554e-09\n",
      "ndof = 120193, time = 158.08091568946838, steps = ()\n"
     ]
    }
   ],
   "source": [
    "from time import time\n",
    "h0 = 0.05\n",
    "levels = 5\n",
    "def SolvePoissonIterativeGMRes2_levels(h=h0, levels=levels, condense=False, compute_condnum=False):\n",
    "    mesh = Mesh(unit_square.GenerateMesh(maxh=h))\n",
    "    fes, a, b, gfu = SetPoisson(mesh, dirichlet_bndry='bottom|left')\n",
    "    tiempo = []\n",
    "    steps = []\n",
    "    for l in range(levels):\n",
    "        if l > 0: mesh.Refine()\n",
    "        fes.Update()\n",
    "        gfu.Update()\n",
    "        with TaskManager():\n",
    "            start = time()\n",
    "            gfu, kappa = SolvePoissonIterativeGMRes2(a, b, gfu, fes,  condense=condense, compute_condnum=compute_condnum)\n",
    "            print (f\"ndof = {fes.ndof}, time = {time()-start}, steps = {kappa}\")\n",
    "            tiempo.append ( (fes.ndof, time()-start ))\n",
    "        steps.append ( (fes.ndof, kappa ))\n",
    "    return gfu, tiempo, kappa\n",
    "\n",
    "_, time_cg, kappa = SolvePoissonIterativeGMRes2_levels(h=h0, levels=levels, condense=False, compute_condnum=False)"
   ]
  },
  {
   "cell_type": "code",
   "execution_count": null,
   "id": "f446726b",
   "metadata": {},
   "outputs": [],
   "source": [
    "help(solvers.CG)"
   ]
  },
  {
   "cell_type": "code",
   "execution_count": null,
   "id": "9fe26d9d",
   "metadata": {},
   "outputs": [],
   "source": [
    "help(solvers.GMRes)"
   ]
  },
  {
   "cell_type": "code",
   "execution_count": null,
   "id": "a86e43d9",
   "metadata": {},
   "outputs": [],
   "source": [
    "help(CGSolver)"
   ]
  },
  {
   "cell_type": "code",
   "execution_count": null,
   "id": "5be431a7",
   "metadata": {
    "scrolled": true
   },
   "outputs": [],
   "source": [
    "help(la)"
   ]
  },
  {
   "cell_type": "code",
   "execution_count": null,
   "id": "e575ee0d",
   "metadata": {
    "scrolled": true
   },
   "outputs": [],
   "source": [
    "help(GMRESSolver)\n",
    "help(QMRSolver)\n",
    "help(MINRESSolver)"
   ]
  },
  {
   "cell_type": "code",
   "execution_count": null,
   "id": "ed940fb2",
   "metadata": {},
   "outputs": [],
   "source": [
    "help(krylovspace)"
   ]
  },
  {
   "cell_type": "code",
   "execution_count": null,
   "id": "6e79ad6c",
   "metadata": {},
   "outputs": [],
   "source": [
    "help(krylovspace.MinResSolver)"
   ]
  },
  {
   "cell_type": "code",
   "execution_count": null,
   "id": "6def6f6e",
   "metadata": {},
   "outputs": [],
   "source": []
  }
 ],
 "metadata": {
  "kernelspec": {
   "display_name": "Python 3 (ipykernel)",
   "language": "python",
   "name": "python3"
  },
  "language_info": {
   "codemirror_mode": {
    "name": "ipython",
    "version": 3
   },
   "file_extension": ".py",
   "mimetype": "text/x-python",
   "name": "python",
   "nbconvert_exporter": "python",
   "pygments_lexer": "ipython3",
   "version": "3.7.9"
  },
  "varInspector": {
   "cols": {
    "lenName": 16,
    "lenType": 16,
    "lenVar": 40
   },
   "kernels_config": {
    "python": {
     "delete_cmd_postfix": "",
     "delete_cmd_prefix": "del ",
     "library": "var_list.py",
     "varRefreshCmd": "print(var_dic_list())"
    },
    "r": {
     "delete_cmd_postfix": ") ",
     "delete_cmd_prefix": "rm(",
     "library": "var_list.r",
     "varRefreshCmd": "cat(var_dic_list()) "
    }
   },
   "types_to_exclude": [
    "module",
    "function",
    "builtin_function_or_method",
    "instance",
    "_Feature"
   ],
   "window_display": false
  }
 },
 "nbformat": 4,
 "nbformat_minor": 5
}
