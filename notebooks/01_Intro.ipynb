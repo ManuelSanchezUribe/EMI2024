{
 "cells": [
  {
   "cell_type": "markdown",
   "id": "9ddb821d-c99d-4584-afdb-fef6e2bca6d9",
   "metadata": {
    "editable": true,
    "slideshow": {
     "slide_type": "slide"
    },
    "tags": []
   },
   "source": [
    "<hr style=\"border:2px solid #0176DE\"> </hr>\n",
    "<center><h1 style=\"color:#173F8A;\"> Escuela de Verano en Metodos Iterativos</h1></center> \n",
    "<center><h1 style=\"color:#173F8A;\"> EMI 2024 - CMM Chile</h1></center>\n",
    "<hr style=\"border:2px solid #0176DE\"> </hr>\n",
    "<h3 style=\"color:#173F8A;text-align:right;\"> Profesores: &nbsp;Nicolás Barnafi<br>Manuel A. Sanchez<br></h3>\n",
    "\n",
    "<h3 style=\"color:#03122E;text-align:right;\"> \n",
    "    Centro de Modelamiento Matematico <br> \n",
    "    Instituto de Ingenieria Matematica y Computacional - IMC UC<br>  \n",
    "</h3>\n",
    "\n",
    "<hr style=\"border:2px solid #03122E\"> </hr>\n",
    "<center><h1 style=\"color:#173F8A;\"> Modulo 1: Introducción</h1></center> \n",
    "<hr style=\"border:2px solid #03122E\"> </hr>\n",
    "\n",
    "<!-- Palette colors UC:\n",
    "Primaria: \n",
    "celeste:#0176DE, azul #173F8A, azul oscuro: #03122E, amarillo: #FEC60D, amarillo oscuro: #E3AE00 \n",
    "Secundaria\n",
    "gris oscuro: #707070\n",
    "-->"
   ]
  },
  {
   "cell_type": "markdown",
   "id": "1bf0fc5e-8a5f-427e-940b-47948ec32be5",
   "metadata": {
    "editable": true,
    "slideshow": {
     "slide_type": "fragment"
    },
    "tags": []
   },
   "source": [
    "- The motivation\n",
    "\n",
    "  3D simulations, HPC"
   ]
  },
  {
   "cell_type": "markdown",
   "id": "877fca8d-57d2-46bc-89e4-fc4d1afbc4b9",
   "metadata": {
    "editable": true,
    "slideshow": {
     "slide_type": "fragment"
    },
    "tags": []
   },
   "source": [
    "- The actual motivation\n",
    "\n",
    "  Upscale simulations, black-box never works"
   ]
  },
  {
   "cell_type": "markdown",
   "id": "a676cc35-f190-4380-838a-781733041c34",
   "metadata": {
    "editable": true,
    "slideshow": {
     "slide_type": "slide"
    },
    "tags": []
   },
   "source": [
    "# The only requirement: Weak formulations\n",
    "\n",
    "$$ -\\Delta u = f \\quad \\Leftrightarrow \\quad \\int \\nabla u \\cdot \\nabla v\\,dx = \\int f v\\,dx \\quad \\forall v \\in V_0$$"
   ]
  },
  {
   "cell_type": "markdown",
   "id": "802f1d98-7ed0-40f8-ab9c-acca23521ae6",
   "metadata": {
    "editable": true,
    "slideshow": {
     "slide_type": "slide"
    },
    "tags": []
   },
   "source": [
    "# Motivation problem: CFD\n",
    "\n",
    "$$ \\begin{aligned}-\\Delta u + \\nabla p = f\\\\ \\mathrm{div}\\, u = 0\\end{aligned} \\Leftrightarrow \\begin{aligned}\\int \\nabla u\\cdot \\nabla v\\,dx + \\int p\\, \\mathrm{div}\\, v\\,dx && \\forall v\\in V \\\\ \\int q \\,\\mathrm{div}\\, u \\,dx = 0 &&\\forall q \\in Q \\end{aligned} \\Leftrightarrow \\begin{bmatrix} \\mathbf{A} & \\mathbf{B}^T \\\\ \\mathbf{B} & \\mathbf{0} \\end{bmatrix}\\begin{bmatrix} \\mathbf{U} \\\\ \\mathbf{P} \\end{bmatrix} = \\begin{bmatrix} \\mathbf{F} \\\\ \\mathbf{0} \\end{bmatrix}$$"
   ]
  },
  {
   "cell_type": "code",
   "execution_count": 1,
   "id": "6ebe2304-bd9d-47e5-8bc9-88417b760b3e",
   "metadata": {
    "editable": true,
    "slideshow": {
     "slide_type": "slide"
    },
    "tags": []
   },
   "outputs": [
    {
     "data": {
      "application/vnd.jupyter.widget-view+json": {
       "model_id": "6c4349f55c2e48a6a1e484ccd6ef910e",
       "version_major": 2,
       "version_minor": 0
      },
      "text/plain": [
       "WebGuiWidget(layout=Layout(height='50vh', width='100%'), value={'ngsolve_version': 'Netgen x.x', 'mesh_dim': 3…"
      ]
     },
     "metadata": {},
     "output_type": "display_data"
    }
   ],
   "source": [
    "from ngsolve import *\n",
    "from ngsolve.webgui import Draw\n",
    "from netgen.occ import *\n",
    "import scipy.sparse as sp\n",
    "import matplotlib.pylab as plt\n",
    "\n",
    "# Define geometry\n",
    "#shape = Rectangle(2,0.41).Circle(0.2,0.2,0.05).Reverse().Face()\n",
    "shape = Rectangle(2,0.41).Face()\n",
    "shape.edges.name=\"wall\"\n",
    "shape.edges.Min(X).name=\"inlet\"\n",
    "shape.edges.Max(X).name=\"outlet\"\n",
    "geo = OCCGeometry(shape, dim=2)\n",
    "Draw (shape);"
   ]
  },
  {
   "cell_type": "code",
   "execution_count": 17,
   "id": "406950fa-3628-466d-aadb-5134e5c7dbf6",
   "metadata": {
    "editable": true,
    "slideshow": {
     "slide_type": "subslide"
    },
    "tags": []
   },
   "outputs": [
    {
     "data": {
      "application/vnd.jupyter.widget-view+json": {
       "model_id": "e1b37a52cf2f450e84087e77985c77ee",
       "version_major": 2,
       "version_minor": 0
      },
      "text/plain": [
       "WebGuiWidget(layout=Layout(height='50vh', width='100%'), value={'gui_settings': {}, 'ngsolve_version': '6.2.23…"
      ]
     },
     "metadata": {},
     "output_type": "display_data"
    }
   ],
   "source": [
    "# Approximate geometry with a mesh\n",
    "mesh = Mesh(geo.GenerateMesh(maxh=0.1))\n",
    "#mesh.Curve(1)\n",
    "Draw (mesh);"
   ]
  },
  {
   "cell_type": "code",
   "execution_count": 18,
   "id": "53cf4481-8f6a-4b4d-802c-17afe3de3142",
   "metadata": {
    "editable": true,
    "slideshow": {
     "slide_type": "subslide"
    },
    "tags": []
   },
   "outputs": [
    {
     "data": {
      "application/vnd.jupyter.widget-view+json": {
       "model_id": "d22fd655b7894117a040fdf88b8a3717",
       "version_major": 2,
       "version_minor": 0
      },
      "text/plain": [
       "WebGuiWidget(layout=Layout(height='50vh', width='100%'), value={'gui_settings': {}, 'ngsolve_version': '6.2.23…"
      ]
     },
     "metadata": {},
     "output_type": "display_data"
    }
   ],
   "source": [
    "V = VectorH1(mesh, order=2, dirichlet=\"wall|inlet|cyl\")\n",
    "Q = H1(mesh, order=1)\n",
    "X = V*Q\n",
    "(u,p),(v,q) = X.TnT()\n",
    "\n",
    "stokes = InnerProduct(Grad(u), Grad(v))*dx + div(u)*q*dx + div(v)*p*dx\n",
    "a = BilinearForm(stokes)\n",
    "f = LinearForm(v[0]*dx)\n",
    "gf = GridFunction(X)\n",
    "gfu, gfp = gf.components\n",
    "\n",
    "uin = CF( (1.5*4*y*(0.41-y)/(0.41*0.41), 0) )\n",
    "gfu.Set(uin, definedon=mesh.Boundaries(\"inlet\"))\n",
    "Draw(gfu, mesh, min=0, max=2)\n",
    "SetVisualization(max=2)"
   ]
  },
  {
   "cell_type": "code",
   "execution_count": 19,
   "id": "97839f6d-45f2-4f0a-a32e-e0a26d87d32b",
   "metadata": {
    "editable": true,
    "slideshow": {
     "slide_type": "subslide"
    },
    "tags": []
   },
   "outputs": [
    {
     "data": {
      "application/vnd.jupyter.widget-view+json": {
       "model_id": "4a9f116f4da84d3e8c00e96e7197abd8",
       "version_major": 2,
       "version_minor": 0
      },
      "text/plain": [
       "WebGuiWidget(layout=Layout(height='50vh', width='100%'), value={'gui_settings': {}, 'ngsolve_version': '6.2.23…"
      ]
     },
     "metadata": {},
     "output_type": "display_data"
    },
    {
     "data": {
      "text/plain": [
       "BaseWebGuiScene"
      ]
     },
     "execution_count": 19,
     "metadata": {},
     "output_type": "execute_result"
    }
   ],
   "source": [
    "# Assembly operations do pending communication\n",
    "a.Assemble()\n",
    "f.Assemble()\n",
    "res = f.vec -a.mat * gf.vec\n",
    "inv = a.mat.Inverse(freedofs=X.FreeDofs(), inverse=\"umfpack\")\n",
    "gf.vec.data += inv * res\n",
    "Draw(gfu)"
   ]
  },
  {
   "cell_type": "code",
   "execution_count": 20,
   "id": "8384df6c-936e-49ef-b869-fa6e4906a3b1",
   "metadata": {
    "editable": true,
    "slideshow": {
     "slide_type": "slide"
    },
    "tags": []
   },
   "outputs": [
    {
     "name": "stdout",
     "output_type": "stream",
     "text": [
      "Number of non-zeros of A: 24024\n",
      "Number of non-zeros of L+U: 74931\n",
      "Ratio of non-zeros: 0.320614965768507\n"
     ]
    }
   ],
   "source": [
    "# Now we compute the nonzeros in the LU factorization\n",
    "from scipy.sparse.linalg import splu\n",
    "rows,cols,vals = a.mat.COO()\n",
    "nnzA = len(vals)\n",
    "A = sp.csr_matrix((vals,(rows,cols))) # NGSolve mat to scipy.sparse\n",
    "LU = splu(A)\n",
    "nnzs = LU.L.nnz + LU.U.nnz\n",
    "print(\"Number of non-zeros of A:\", nnzA)\n",
    "print(\"Number of non-zeros of L+U:\", nnzs)\n",
    "print(\"Ratio of non-zeros:\", len(vals)/nnzs)"
   ]
  },
  {
   "cell_type": "code",
   "execution_count": 13,
   "id": "742128d2-ede1-4a6b-a2bf-1a876a249f00",
   "metadata": {
    "editable": true,
    "slideshow": {
     "slide_type": "slide"
    },
    "tags": []
   },
   "outputs": [
    {
     "data": {
      "image/png": "[encoded data removed]",
      "text/plain": [
       "<Figure size 640x480 with 1 Axes>"
      ]
     },
     "metadata": {},
     "output_type": "display_data"
    }
   ],
   "source": [
    "# Spy arrays\n",
    "plt.spy(A, markersize=5.0)\n",
    "plt.title(\"A matrix\")\n",
    "plt.show()"
   ]
  },
  {
   "cell_type": "code",
   "execution_count": 21,
   "id": "98c621a8-893f-4025-9818-4f8a4fb729a9",
   "metadata": {
    "editable": true,
    "slideshow": {
     "slide_type": "slide"
    },
    "tags": []
   },
   "outputs": [
    {
     "data": {
      "image/png": "[encoded data removed]",
      "text/plain": [
       "<Figure size 640x480 with 2 Axes>"
      ]
     },
     "metadata": {},
     "output_type": "display_data"
    }
   ],
   "source": [
    "plt.subplot(1,2,1)\n",
    "plt.spy(LU.L, markersize=5)\n",
    "plt.title(\"L matrix\")\n",
    "plt.subplot(1,2,2)\n",
    "plt.spy(LU.U, markersize=5)\n",
    "plt.title(\"U matrix\")\n",
    "plt.show()"
   ]
  },
  {
   "cell_type": "code",
   "execution_count": 22,
   "id": "9b3f771c-0427-4264-bb7a-944e41362625",
   "metadata": {
    "editable": true,
    "slideshow": {
     "slide_type": "skip"
    },
    "tags": []
   },
   "outputs": [],
   "source": [
    "def convertToMb(nval):\n",
    "    # 8 bytes per val \n",
    "    return nval * 8 * 1e-6\n",
    "    \n",
    "def computeNonzeros(maxh):\n",
    "    mesh = Mesh(geo.GenerateMesh(maxh=maxh))\n",
    "    mesh.Curve(3)\n",
    "    V = VectorH1(mesh, order=2, dirichlet=\"wall|inlet|cyl\")\n",
    "    Q = H1(mesh, order=1)\n",
    "    X = V*Q\n",
    "    (u,p),(v,q) = X.TnT()\n",
    "    \n",
    "    stokes = InnerProduct(Grad(u), Grad(v))*dx + div(u)*q*dx + div(v)*p*dx\n",
    "    a = BilinearForm(stokes)\n",
    "    a.Assemble()\n",
    "    rows,cols,vals = a.mat.COO()\n",
    "    nnzA = len(vals)\n",
    "    \n",
    "    import scipy.sparse as sp\n",
    "    A = sp.csr_matrix((vals,(rows,cols)))\n",
    "    from scipy.sparse.linalg import splu # Sparse LU\n",
    "    \n",
    "    LU= splu(A)\n",
    "    nnzs = LU.L.nnz + LU.U.nnz\n",
    "    print(\"Number of non-zeros of A:\", nnzA, \"(in {:1.3f} Mb)\".format(convertToMb(nnzA)))\n",
    "    print(\"Number of non-zeros of L+U:\", nnzs, \"(in {:1.3f} Mb)\".format(convertToMb(nnzs)))\n",
    "    print(\"Ratio A.nnz / LU.nnz:\", nnzA/nnzs)\n",
    "    return nnzA, nnzs"
   ]
  },
  {
   "cell_type": "code",
   "execution_count": 23,
   "id": "11bd846d-e597-4a47-bf03-6a58ca0ea8fb",
   "metadata": {
    "editable": true,
    "slideshow": {
     "slide_type": "slide"
    },
    "tags": []
   },
   "outputs": [
    {
     "name": "stdout",
     "output_type": "stream",
     "text": [
      "========= Using h=0.100\n",
      "Number of non-zeros of A: 24024 (in 0.192 Mb)\n",
      "Number of non-zeros of L+U: 74931 (in 0.599 Mb)\n",
      "Ratio A.nnz / LU.nnz: 0.320614965768507\n",
      "========= Using h=0.050\n",
      "Number of non-zeros of A: 103041 (in 0.824 Mb)\n",
      "Number of non-zeros of L+U: 642311 (in 5.138 Mb)\n",
      "Ratio A.nnz / LU.nnz: 0.16042228764570435\n",
      "========= Using h=0.010\n",
      "Number of non-zeros of A: 2532409 (in 20.259 Mb)\n",
      "Number of non-zeros of L+U: 57382418 (in 459.059 Mb)\n",
      "Ratio A.nnz / LU.nnz: 0.04413214166053442\n",
      "========= Using h=0.005\n",
      "Number of non-zeros of A: 10091084 (in 80.729 Mb)\n",
      "Number of non-zeros of L+U: 315893683 (in 2527.149 Mb)\n",
      "Ratio A.nnz / LU.nnz: 0.0319445577517294\n"
     ]
    }
   ],
   "source": [
    "for h in [0.1, 0.05, 0.01, 0.005]:\n",
    "    print(f\"========= Using h={h:1.3f}\")\n",
    "    nnza, nnzlu = computeNonzeros(h)"
   ]
  },
  {
   "cell_type": "code",
   "execution_count": 32,
   "id": "120969c1-a0c3-45e4-b699-08f73712d050",
   "metadata": {
    "editable": true,
    "slideshow": {
     "slide_type": "skip"
    },
    "tags": []
   },
   "outputs": [],
   "source": [
    "from time import perf_counter\n",
    "def solveDirect(maxh):\n",
    "    mesh = Mesh(geo.GenerateMesh(maxh=maxh))\n",
    "    mesh.Curve(3)\n",
    "    V = VectorH1(mesh, order=1, dirichlet=\"wall|inlet|cyl\")\n",
    "    Q = H1(mesh, order=1)\n",
    "    X = V*Q\n",
    "    (u,p),(v,q) = X.TnT()\n",
    "    \n",
    "    stokes = InnerProduct(Grad(u), Grad(v))*dx + div(u)*q*dx + div(v)*p*dx -0.1*h*h*grad(p)*grad(q)*dx\n",
    "    #stokes = InnerProduct(Grad(u), Grad(v))*dx\n",
    "    a = BilinearForm(stokes)\n",
    "    f = LinearForm(v[0]*dx)\n",
    "    gf = GridFunction(X)\n",
    "    gfu, gfp = gf.components\n",
    "    \n",
    "    uin = CF( (1.5*4*y*(0.41-y)/(0.41*0.41), 0) )\n",
    "    \n",
    "    gfu.Set(uin, definedon=mesh.Boundaries(\"inlet\"))\n",
    "    a.Assemble()\n",
    "    f.Assemble()\n",
    "    t0 = perf_counter()\n",
    "    inv = a.mat.Inverse(inverse=\"umfpack\")\n",
    "    gf.vec.data += inv * f.vec\n",
    "    tf = perf_counter() - t0\n",
    "    return tf\n",
    "\n",
    "def solveIterative(maxh):\n",
    "    mesh = Mesh(geo.GenerateMesh(maxh=maxh))\n",
    "    mesh.Curve(3)\n",
    "    V = VectorH1(mesh, order=1, dirichlet=\"wall|inlet|cyl\")\n",
    "    Q = H1(mesh, order=1)\n",
    "    \n",
    "    u,v = V.TnT()\n",
    "    p,q = Q.TnT()\n",
    "\n",
    "    \n",
    "    a = BilinearForm(InnerProduct(Grad(u),Grad(v))*dx, symmetric=True)\n",
    "    b = BilinearForm(div(u)*q*dx).Assemble()\n",
    "    h = specialcf.mesh_size\n",
    "    c = BilinearForm(-0.1*h*h*grad(p)*grad(q)*dx, symmetric=True).Assemble()\n",
    "    \n",
    "    mp = BilinearForm(p*q*dx, symmetric=True)\n",
    "    f = LinearForm(V).Assemble()\n",
    "    g = LinearForm(Q).Assemble();\n",
    "    gfu = GridFunction(V, name=\"u\")\n",
    "    gfp = GridFunction(Q, name=\"p\")\n",
    "    uin = CoefficientFunction( (1.5*4*y*(0.41-y)/(0.41*0.41), 0) )\n",
    "    gfu.Set(uin, definedon=mesh.Boundaries(\"inlet\"))\n",
    "    \n",
    "    \n",
    "    Qjacobi = Preconditioner(mp, \"local\")\n",
    "    Amg = Preconditioner(a, \"bddc\")\n",
    "    a.Assemble()\n",
    "    mp.Assemble()\n",
    "    K = BlockMatrix( [ [a.mat, b.mat.T], [b.mat, c.mat] ] )\n",
    "    C = BlockMatrix( [ [Amg.mat, None], [None, Qjacobi.mat] ] )\n",
    "    \n",
    "    rhs = BlockVector ( [f.vec, g.vec] )\n",
    "    sol = BlockVector( [gfu.vec, gfp.vec] )\n",
    "    t0 = perf_counter()\n",
    "    solvers.MinRes (mat=K, pre=C, rhs=rhs, sol=sol, printrates='\\r', initialize=False, maxsteps=500);\n",
    "    \n",
    "    tf = perf_counter() - t0\n",
    "    return tf\n"
   ]
  },
  {
   "cell_type": "code",
   "execution_count": 33,
   "id": "b70b47a3-ee87-4ce9-8dff-39a2aa9c9eee",
   "metadata": {
    "editable": true,
    "slideshow": {
     "slide_type": "slide"
    },
    "tags": []
   },
   "outputs": [
    {
     "name": "stdout",
     "output_type": "stream",
     "text": [
      "========= Solving for h=0.100\n",
      "\u001b[2KLinearSolver converged in 50 iterations to residual 1.3457563956106834e-07\n",
      "Direct: 0.001s, Iterative: 0.002s\n",
      "========= Solving for h=0.050\n",
      "\u001b[2KLinearSolver converged in 57 iterations to residual 2.8471627636712945e-07\n",
      "Direct: 0.003s, Iterative: 0.005s\n",
      "========= Solving for h=0.025\n",
      "\u001b[2KLinearSolver converged in 59 iterations to residual 5.387866364098964e-07\n",
      "Direct: 0.013s, Iterative: 0.016s\n",
      "========= Solving for h=0.013\n",
      "\u001b[2KLinearSolver converged in 59 iterations to residual 5.615921838603774e-07\n",
      "Direct: 0.072s, Iterative: 0.075s\n"
     ]
    }
   ],
   "source": [
    "maxh = 0.01\n",
    "tfds = []\n",
    "tfis = []\n",
    "maxhs = [0.1, 0.05, 0.025, 0.0125]\n",
    "for maxh in maxhs:\n",
    "    print(f\"========= Solving for h={maxh:1.3f}\")\n",
    "    tfd = solveDirect(maxh)\n",
    "    tfi = solveIterative(maxh)\n",
    "    tfis.append(tfi)\n",
    "    tfds.append(tfd)\n",
    "    print(f\"Direct: {tfd:1.3f}s, Iterative: {tfi:1.3f}s\")"
   ]
  },
  {
   "cell_type": "code",
   "execution_count": 34,
   "id": "d11fb1ab-7ad6-42fa-80d7-1cd43f9d73c7",
   "metadata": {
    "editable": true,
    "slideshow": {
     "slide_type": "slide"
    },
    "tags": []
   },
   "outputs": [
    {
     "data": {
      "image/png": "[encoded data removed]",
      "text/plain": [
       "<Figure size 640x480 with 1 Axes>"
      ]
     },
     "metadata": {},
     "output_type": "display_data"
    }
   ],
   "source": [
    "dofs = [1/h for h in maxhs]\n",
    "plt.loglog(maxhs, tfis, label=\"Iterative\")\n",
    "plt.loglog(maxhs, tfds, label=\"Direct\")\n",
    "plt.xlabel(\"Mesh size\")\n",
    "plt.ylabel(\"CPU time\")\n",
    "plt.legend()\n",
    "plt.show()"
   ]
  },
  {
   "cell_type": "markdown",
   "id": "d9b0b86c-d8b5-4be1-92b4-2b0d89e42aa0",
   "metadata": {
    "editable": true,
    "slideshow": {
     "slide_type": "slide"
    },
    "tags": []
   },
   "source": [
    "# Wrap up\n",
    "- Direct methods have very limited scalability (_fill in_)\n",
    "- Iterative methods overcome this but are more difficult\n",
    "- We will understand this better by the end of tomorrow :)"
   ]
  }
 ],
 "metadata": {
  "kernelspec": {
   "display_name": "Python 3 (ipykernel)",
   "language": "python",
   "name": "python3"
  },
  "language_info": {
   "codemirror_mode": {
    "name": "ipython",
    "version": 3
   },
   "file_extension": ".py",
   "mimetype": "text/x-python",
   "name": "python",
   "nbconvert_exporter": "python",
   "pygments_lexer": "ipython3",
   "version": "3.10.12"
  }
 },
 "nbformat": 4,
 "nbformat_minor": 5
}
