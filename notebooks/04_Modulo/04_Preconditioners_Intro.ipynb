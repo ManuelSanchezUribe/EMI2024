{
 "cells": [
  {
   "cell_type": "markdown",
   "id": "034f75a4-2a14-406f-8851-c5327cf5934a",
   "metadata": {
    "editable": true,
    "slideshow": {
     "slide_type": "slide"
    },
    "tags": []
   },
   "source": [
    "<hr style=\"border:2px solid #0176DE\"> </hr>\n",
    "<center><h1 style=\"color:#173F8A;\"> EMI 2024 - CMM Chile</h1></center>\n",
    "<hr style=\"border:2px solid #0176DE\"> </hr>\n",
    "<h3 style=\"color:#173F8A;text-align:right;\"> Profesores: &nbsp;Nicolás Barnafi<br>Manuel A. Sanchez<br></h3>\n",
    "\n",
    "<h3 style=\"color:#03122E;text-align:right;\"> \n",
    "    Centro de Modelamiento Matemático <br> \n",
    "    Instituto de Ingeniería Matemática y Computacional - IMC UC<br>  \n",
    "</h3>\n",
    "\n",
    "<hr style=\"border:2px solid #03122E\"> </hr>\n",
    "<center><h1 style=\"color:#173F8A;\"> Módulo 4: Precondicionadores</h1></center> \n",
    "<hr style=\"border:2px solid #03122E\"> </hr>\n",
    "\n",
    "<!-- Palette colors UC:\n",
    "Primaria: \n",
    "celeste:#0176DE, azul #173F8A, azul oscuro: #03122E, amarillo: #FEC60D, amarillo oscuro: #E3AE00 \n",
    "Secundaria\n",
    "gris oscuro: #707070\n",
    "-->"
   ]
  },
  {
   "cell_type": "markdown",
   "id": "d7697854-5115-4888-9429-087c7de26acb",
   "metadata": {
    "editable": true,
    "slideshow": {
     "slide_type": "slide"
    },
    "tags": []
   },
   "source": [
    "# Preconditioners\n",
    "\n",
    "From $A=M - N$ we had\n",
    "    $$ Ax = b \\quad \\Leftrightarrow Mx^k = Nx^{k-1} + b $$\n",
    "This gives the increment equation for $\\delta x^k = x^k - x^{k-1}$:\n",
    "    $$ M\\delta x^k = b - Ax^{k-1} $$\n",
    "This is a Richardson iteration for the following system:\n",
    "    $$ M^{-1}Ax = M^{-1}b $$\n",
    "We call $P^{-1}:=M^{-1}$ the preconditioner. We seek that\n",
    "    $$ \\rho(P^{-1} A) << \\rho(A) $$"
   ]
  },
  {
   "cell_type": "markdown",
   "id": "0c0f4673-d3a7-4daa-b338-0df4cee9f64f",
   "metadata": {
    "editable": true,
    "slideshow": {
     "slide_type": "slide"
    },
    "tags": []
   },
   "source": [
    "# Preconditioned systems\n",
    "\n",
    "$$ P^{-1}Ax = P^{-1}b $$\n",
    "    \n",
    "- The *ideal* preconditioner is $P=A$ as $\\rho(P^{-1}A) = 1$. We settle with $P\\approx A$.\n",
    "- Preconditioning can be \"left\" or \"right\" (or \"symmetrical\", which is purely theoretical)\n",
    "    $$ P^{-1}Ax = P^{-1}b \\qquad \\text{or} \\qquad (AP^{-1})(Px) = b $$\n",
    "  Difference: Left preconditioning modifies residual (important for error control)\n",
    "- $P$ can be any linear operator. E.g.: some iterations of an iterative method\n",
    "- Typical preconditioners: Jacobi, Gauss-Seidel, SOR, ILU, IC, AMG, DD"
   ]
  },
  {
   "cell_type": "markdown",
   "id": "51725810-cca9-4e83-b400-37a1a37d7a29",
   "metadata": {
    "editable": true,
    "slideshow": {
     "slide_type": "slide"
    },
    "tags": []
   },
   "source": [
    "# Jacobi\n",
    "$$P = \\mathrm{diag} A = \\begin{bmatrix}a_{11} & 0 &  \\\\ 0 & a_{22} & 0  \\\\ & & \\ddots \\end{bmatrix}$$\n",
    "This means trivially that\n",
    "$$ P^{-1} = (\\mathrm{diag} A)^{-1} = \\begin{bmatrix}1/a_{11} & 0 & 0 \\\\ 0 & 1/a_{22} & 0 & \\\\ 0 & 0 & \\ddots \\end{bmatrix} $$"
   ]
  },
  {
   "cell_type": "markdown",
   "id": "198a47ed-a8a1-47da-8323-e52c51c7aa02",
   "metadata": {
    "editable": true,
    "slideshow": {
     "slide_type": "slide"
    },
    "tags": []
   },
   "source": [
    "# Gauss-Seidel (lower)\n",
    "$$ P = \\mathrm{tril} A = \\begin{bmatrix}a_{11} & 0 &  \\\\ a_{21} & a_{22} & 0  \\\\ & & \\ddots \\end{bmatrix}$$\n",
    "This means that $P^{-1}$ is a forward substitution procedure."
   ]
  },
  {
   "cell_type": "markdown",
   "id": "0ec350a3-b6ca-4cc7-aea9-c0c58a08b3a8",
   "metadata": {
    "editable": true,
    "slideshow": {
     "slide_type": "slide"
    },
    "tags": []
   },
   "source": [
    "# Gauss-Seidel (upper)\n",
    "$$ P = \\mathrm{triu} A = \\begin{bmatrix}a_{11} & a_{12} &  \\\\ 0 & a_{22} & 0  \\\\ & & \\ddots \\end{bmatrix}$$\n",
    "This means that $P^{-1}$ is a backward substitution procedure."
   ]
  },
  {
   "cell_type": "markdown",
   "id": "923d94a8-a49b-49d4-9ff0-68e59b307aa7",
   "metadata": {
    "editable": true,
    "slideshow": {
     "slide_type": "slide"
    },
    "tags": []
   },
   "source": [
    "# Incomplete LU (ILU)\n",
    "\n",
    "- The idea is to *almost* factorize\n",
    "- Formulating an _almost_ factorization is non-trivial. Can you guess how?"
   ]
  },
  {
   "cell_type": "markdown",
   "id": "f9876f74-ea5a-4280-9c60-d4dd809c6592",
   "metadata": {
    "editable": true,
    "slideshow": {
     "slide_type": "slide"
    },
    "tags": []
   },
   "source": [
    "# ILU(0)\n",
    "\n",
    "ILU of matrix A:\n",
    "1. For i=2, $\\dots$, N:\n",
    "2. &emsp;For k=1, $\\dots$, i-1 and $\\color{red}{(i,k)\\in NZ(A)}$:\n",
    "3. &emsp;&emsp;Set $A_{ik} = A_{ik} / A_{kk}$\n",
    "4. &emsp;&emsp;For j=k+1, $\\dots$, N and $\\color{red}{ (i,j)\\in NZ(A)}$:\n",
    "5. &emsp;&emsp;&emsp;Set $A_{ij} = A_{ij} - A_{ik}A_{kj}$\n",
    "6. &emsp;&emsp;End\n",
    "7. &emsp;End\n",
    "8. End"
   ]
  },
  {
   "cell_type": "markdown",
   "id": "9b522c4c-2a97-48ef-a892-59d891e241f3",
   "metadata": {
    "editable": true,
    "slideshow": {
     "slide_type": "slide"
    },
    "tags": []
   },
   "source": [
    "# ILU(0)\n",
    "\n",
    "![ILU 0](/home/nico/EMI2024/notebooks/04_Modulo/ilu0.png)"
   ]
  },
  {
   "cell_type": "markdown",
   "id": "1b3cf1b4-2530-4e9c-8f7e-b736603b5fb5",
   "metadata": {
    "editable": true,
    "slideshow": {
     "slide_type": "slide"
    },
    "tags": []
   },
   "source": [
    "# ILU(p)\n",
    "\n",
    "Rough idea: the approximate LU is more dense than A\n",
    "\n",
    "- Compute the sparsity pattern of L(0) and U(0) (not the values)\n",
    "- Compute the sparsity pattern of PT(1)=L(0)U(0)\n",
    "- Use PT(1) for the non-zero locations of the new factorization\n",
    "- Repeat for ILU(p)"
   ]
  },
  {
   "cell_type": "markdown",
   "id": "fa04fb53-f195-4160-9701-4cd7fc3e4ae2",
   "metadata": {
    "editable": true,
    "slideshow": {
     "slide_type": "slide"
    },
    "tags": []
   },
   "source": [
    "# ILU(1)\n",
    "\n",
    "![ILU 1](/home/nico/EMI2024/notebooks/04_Modulo/ilu1.png)"
   ]
  },
  {
   "cell_type": "markdown",
   "id": "3494654f-56a1-4d4e-a405-69f4adea1d21",
   "metadata": {
    "editable": true,
    "slideshow": {
     "slide_type": "slide"
    },
    "tags": []
   },
   "source": [
    "Let's implement Jacobi, GS, ILU and see how they improve the convergence of CG."
   ]
  },
  {
   "cell_type": "code",
   "execution_count": 55,
   "id": "3d4f0cfb-77a2-4480-bf10-2cfa05a03185",
   "metadata": {
    "editable": true,
    "slideshow": {
     "slide_type": "slide"
    },
    "tags": []
   },
   "outputs": [],
   "source": [
    "from ngsolve import *\n",
    "from ngsolve.webgui import Draw\n",
    "from netgen.occ import *\n",
    "import scipy.sparse as sp\n",
    "from scipy.sparse.linalg import spilu\n",
    "import matplotlib.pylab as plt\n",
    "from ngsolve.la import EigenValues_Preconditioner\n",
    "import pandas as pd\n",
    "from ngsolve.krylovspace import CGSolver, GMRESSolver"
   ]
  },
  {
   "cell_type": "code",
   "execution_count": 56,
   "id": "afebba6b-9116-4990-b542-0ee35be7420e",
   "metadata": {
    "editable": true,
    "slideshow": {
     "slide_type": "slide"
    },
    "tags": []
   },
   "outputs": [],
   "source": [
    "def getSystem(maxh, p):\n",
    "    shape = Rectangle(1,1).Face()\n",
    "    geo = OCCGeometry(shape, dim=2)\n",
    "    mesh = Mesh(geo.GenerateMesh(maxh=maxh))\n",
    "    V = H1(mesh, order=p)\n",
    "    u, v = V.TnT()\n",
    "    form = InnerProduct(Grad(u), Grad(v))*dx + u * v * dx\n",
    "    a = BilinearForm(form).Assemble()\n",
    "    f = LinearForm(v*dx).Assemble()\n",
    "    gf = GridFunction(V)\n",
    "    return a, f, gf, V"
   ]
  },
  {
   "cell_type": "code",
   "execution_count": 57,
   "id": "e38c0372-38ac-44d2-aa61-3d3bf859bf28",
   "metadata": {
    "editable": true,
    "slideshow": {
     "slide_type": "slide"
    },
    "tags": []
   },
   "outputs": [],
   "source": [
    "# We can define our own abstract preconditioners through the NGSolve interface\n",
    "\n",
    "class NoPrec(BaseMatrix):\n",
    "    def __init__ (self, a):\n",
    "        super(NoPrec, self).__init__()\n",
    "        self.a = a\n",
    "    def Mult (self, x, y):\n",
    "        y[:] = x\n",
    "    def Height (self):\n",
    "        return self.a.mat.shape[0]\n",
    "    def Width (self):\n",
    "        return self.a.mat.shape[1]"
   ]
  },
  {
   "cell_type": "code",
   "execution_count": 58,
   "id": "79c69b7e-c5dd-47be-85cb-c9b70abecb94",
   "metadata": {
    "editable": true,
    "slideshow": {
     "slide_type": "slide"
    },
    "tags": []
   },
   "outputs": [],
   "source": [
    "class Jacobi(BaseMatrix):\n",
    "    def __init__ (self, smoother):\n",
    "        super(Jacobi, self).__init__()\n",
    "        self.smoother = smoother\n",
    "        self.steps = steps\n",
    "    def Mult (self, x, y):\n",
    "        y[:] = 0.0\n",
    "        self.smoother.Mult(x, y)\n",
    "    def Height (self):\n",
    "        return self.smoother.height\n",
    "    def Width (self):\n",
    "        return self.smoother.height\n"
   ]
  },
  {
   "cell_type": "code",
   "execution_count": 59,
   "id": "146053f6-b2d0-4048-ad18-bade971f6822",
   "metadata": {
    "editable": true,
    "slideshow": {
     "slide_type": "slide"
    },
    "tags": []
   },
   "outputs": [],
   "source": [
    "class GaussSeidelL(BaseMatrix):\n",
    "    def __init__ (self, smoother):\n",
    "        super(GaussSeidelL, self).__init__()\n",
    "        self.smoother = smoother\n",
    "    def Mult (self, x, y):\n",
    "        y[:] = 0.0\n",
    "        self.smoother.Smooth(y, x)\n",
    "    def Height (self):\n",
    "        return self.smoother.height\n",
    "    def Width (self):\n",
    "        return self.smoother.height"
   ]
  },
  {
   "cell_type": "code",
   "execution_count": 60,
   "id": "22211c47-15aa-438f-9a70-467d507d551a",
   "metadata": {
    "editable": true,
    "slideshow": {
     "slide_type": "slide"
    },
    "tags": []
   },
   "outputs": [],
   "source": [
    "class GaussSeidelU(BaseMatrix):\n",
    "    def __init__ (self, smoother, steps=1):\n",
    "        super(GaussSeidelU, self).__init__()\n",
    "        self.smoother = smoother\n",
    "        self.steps = steps\n",
    "    def Mult (self, x, y):\n",
    "        y[:] = 0.0\n",
    "        self.smoother.SmoothBack(y, x)\n",
    "    def Height (self):\n",
    "        return self.smoother.height\n",
    "    def Width (self):\n",
    "        return self.smoother.height"
   ]
  },
  {
   "cell_type": "code",
   "execution_count": 61,
   "id": "8b9fff21-5aaf-4ff3-8faa-c13d63a6f7eb",
   "metadata": {
    "editable": true,
    "slideshow": {
     "slide_type": "slide"
    },
    "tags": []
   },
   "outputs": [],
   "source": [
    "class GaussSeidelSym(BaseMatrix):\n",
    "    def __init__ (self, smoother, steps=1):\n",
    "        super(GaussSeidelSym, self).__init__()\n",
    "        self.smoother = smoother\n",
    "        self.steps = steps\n",
    "    def Mult (self, x, y):\n",
    "        y[:] = 0.0\n",
    "        self.smoother.Smooth(y, x)\n",
    "        self.smoother.SmoothBack(y, x)\n",
    "    def Height (self):\n",
    "        return self.smoother.height\n",
    "    def Width (self):\n",
    "        return self.smoother.height"
   ]
  },
  {
   "cell_type": "code",
   "execution_count": 62,
   "id": "8a22a8a4-ec4b-48ae-b6c4-8d9292d94b66",
   "metadata": {
    "editable": true,
    "slideshow": {
     "slide_type": "slide"
    },
    "tags": []
   },
   "outputs": [],
   "source": [
    "class ILU(BaseMatrix):\n",
    "    # Give a scipy.sparse mat\n",
    "    def __init__ (self, a):\n",
    "        super(ILU, self).__init__()\n",
    "        rows,cols,vals = a.mat.COO()\n",
    "        A = sp.csr_matrix((vals,(rows,cols))) # NGSolve mat to scipy.sparse\n",
    "        self.A = A\n",
    "        self.ilu = spilu(A)\n",
    "    def Mult (self, x, y):\n",
    "        x_vec = x.FV().NumPy()\n",
    "        y_vec = self.ilu.solve(x_vec)\n",
    "        y.FV()[:] = y_vec\n",
    "    def Height (self):\n",
    "        return self.A.shape[0]\n",
    "    def Width (self):\n",
    "        return self.A.shape[1]"
   ]
  },
  {
   "cell_type": "code",
   "execution_count": 64,
   "id": "8155f242-58ae-457f-be8f-282d218f08cd",
   "metadata": {
    "editable": true,
    "slideshow": {
     "slide_type": "slide"
    },
    "tags": []
   },
   "outputs": [
    {
     "name": "stdout",
     "output_type": "stream",
     "text": [
      "\u001b[2KCG converged in 94 iterations to residual 1.8340825998201136e-08\n"
     ]
    },
    {
     "data": {
      "text/plain": [
       "2755.047536434366"
      ]
     },
     "execution_count": 64,
     "metadata": {},
     "output_type": "execute_result"
    }
   ],
   "source": [
    "# Small validation\n",
    "a, f, gf, V = getSystem(maxh=0.05, p=1)\n",
    "preJpoint = a.mat.CreateSmoother(V.FreeDofs())\n",
    "preJ = Jacobi(preJpoint)\n",
    "solvers.CG(mat=a.mat, pre=preJ, rhs=f.vec, sol=gf.vec, printrates='\\r', tol=1e-6, maxsteps=1000)\n",
    "condest(a, preJ)"
   ]
  },
  {
   "cell_type": "code",
   "execution_count": 106,
   "id": "5cdb0136-210a-441e-a5c6-c0e8500fc396",
   "metadata": {
    "editable": true,
    "slideshow": {
     "slide_type": "slide"
    },
    "tags": []
   },
   "outputs": [],
   "source": [
    "def computeConditioning(maxh, p, method='CG', precon='Jacobi'):\n",
    "    a, f, gf, V = getSystem(maxh, p)\n",
    "    preJpoint = a.mat.CreateSmoother(V.FreeDofs()) # smoothing operations such as Jacobi step or GS step\n",
    "\n",
    "    if precon == 'None': prec = NoPrec(a)\n",
    "    elif precon == 'Jacobi': prec = Jacobi(preJpoint)\n",
    "    elif precon == 'GSL': prec = GaussSeidelL(preJpoint)\n",
    "    elif precon == 'GSU': prec = GaussSeidelU(preJpoint)\n",
    "    elif precon == 'GSS': prec = GaussSeidelSym(preJpoint)\n",
    "    else: prec = ILU(a)\n",
    "    if method == 'CG':\n",
    "        inv = CGSolver(mat=a.mat, pre=prec, printrates=False, maxiter=500, tol=1e-8) \n",
    "    else:\n",
    "        inv = GMResSolver(mat=a.mat, pre=prec, printrates=False, maxiter=500, tol=1e-8) \n",
    "    gf.vec.data = inv * f.vec\n",
    "    return inv.iterations"
   ]
  },
  {
   "cell_type": "code",
   "execution_count": 107,
   "id": "0a8d55c9-596a-4d51-aded-c01eee82e5f6",
   "metadata": {
    "editable": true,
    "slideshow": {
     "slide_type": "slide"
    },
    "tags": []
   },
   "outputs": [
    {
     "data": {
      "text/html": [
       "<style type=\"text/css\">\n",
       "#T_09c13 th {\n",
       "  text-align: center;\n",
       "}\n",
       "#T_09c13_row0_col0, #T_09c13_row0_col1, #T_09c13_row0_col2, #T_09c13_row0_col3, #T_09c13_row1_col0, #T_09c13_row1_col1, #T_09c13_row1_col2, #T_09c13_row1_col3, #T_09c13_row2_col0, #T_09c13_row2_col1, #T_09c13_row2_col2, #T_09c13_row2_col3, #T_09c13_row3_col0, #T_09c13_row3_col1, #T_09c13_row3_col2, #T_09c13_row3_col3 {\n",
       "  text-align: center;\n",
       "}\n",
       "</style>\n",
       "<table id=\"T_09c13\">\n",
       "  <caption>Iterations for No preconditioner</caption>\n",
       "  <thead>\n",
       "    <tr>\n",
       "      <th class=\"blank level0\" >&nbsp;</th>\n",
       "      <th id=\"T_09c13_level0_col0\" class=\"col_heading level0 col0\" >Mesh size</th>\n",
       "      <th id=\"T_09c13_level0_col1\" class=\"col_heading level0 col1\" >P1</th>\n",
       "      <th id=\"T_09c13_level0_col2\" class=\"col_heading level0 col2\" >P2</th>\n",
       "      <th id=\"T_09c13_level0_col3\" class=\"col_heading level0 col3\" >P3</th>\n",
       "    </tr>\n",
       "  </thead>\n",
       "  <tbody>\n",
       "    <tr>\n",
       "      <th id=\"T_09c13_level0_row0\" class=\"row_heading level0 row0\" >0</th>\n",
       "      <td id=\"T_09c13_row0_col0\" class=\"data row0 col0\" >0.100000</td>\n",
       "      <td id=\"T_09c13_row0_col1\" class=\"data row0 col1\" >61</td>\n",
       "      <td id=\"T_09c13_row0_col2\" class=\"data row0 col2\" >143</td>\n",
       "      <td id=\"T_09c13_row0_col3\" class=\"data row0 col3\" >262</td>\n",
       "    </tr>\n",
       "    <tr>\n",
       "      <th id=\"T_09c13_level0_row1\" class=\"row_heading level0 row1\" >1</th>\n",
       "      <td id=\"T_09c13_row1_col0\" class=\"data row1 col0\" >0.050000</td>\n",
       "      <td id=\"T_09c13_row1_col1\" class=\"data row1 col1\" >113</td>\n",
       "      <td id=\"T_09c13_row1_col2\" class=\"data row1 col2\" >183</td>\n",
       "      <td id=\"T_09c13_row1_col3\" class=\"data row1 col3\" >339</td>\n",
       "    </tr>\n",
       "    <tr>\n",
       "      <th id=\"T_09c13_level0_row2\" class=\"row_heading level0 row2\" >2</th>\n",
       "      <td id=\"T_09c13_row2_col0\" class=\"data row2 col0\" >0.025000</td>\n",
       "      <td id=\"T_09c13_row2_col1\" class=\"data row2 col1\" >214</td>\n",
       "      <td id=\"T_09c13_row2_col2\" class=\"data row2 col2\" >256</td>\n",
       "      <td id=\"T_09c13_row2_col3\" class=\"data row2 col3\" >409</td>\n",
       "    </tr>\n",
       "    <tr>\n",
       "      <th id=\"T_09c13_level0_row3\" class=\"row_heading level0 row3\" >3</th>\n",
       "      <td id=\"T_09c13_row3_col0\" class=\"data row3 col0\" >0.012500</td>\n",
       "      <td id=\"T_09c13_row3_col1\" class=\"data row3 col1\" >403</td>\n",
       "      <td id=\"T_09c13_row3_col2\" class=\"data row3 col2\" >422</td>\n",
       "      <td id=\"T_09c13_row3_col3\" class=\"data row3 col3\" >500</td>\n",
       "    </tr>\n",
       "  </tbody>\n",
       "</table>\n"
      ],
      "text/plain": [
       "<pandas.io.formats.style.Styler at 0x7f2ecfa956f0>"
      ]
     },
     "execution_count": 107,
     "metadata": {},
     "output_type": "execute_result"
    }
   ],
   "source": [
    "ps = [[], [], []]\n",
    "hs = [0.1, 0.05, 0.025, 0.0125]\n",
    "for p in [1,2,3]:\n",
    "    for h in hs:\n",
    "        ps[p-1].append(computeConditioning(h, p, 'CG', 'None'))\n",
    "tab1 = pd.DataFrame({'Mesh size':hs, \n",
    "                    \"P1\": ps[0], \"P2\": ps[1], \"P3\": ps[2]})\n",
    "\n",
    "display = tab1.style.set_caption('Iterations for No preconditioner').set_properties(**{'text-align': 'center'}).set_table_styles([dict(selector='th', props=[('text-align', 'center')])])\n",
    "display"
   ]
  },
  {
   "cell_type": "code",
   "execution_count": 108,
   "id": "b63dac6b-fde2-4ba7-9238-1249ad3e2a23",
   "metadata": {
    "editable": true,
    "slideshow": {
     "slide_type": "slide"
    },
    "tags": []
   },
   "outputs": [
    {
     "data": {
      "text/html": [
       "<style type=\"text/css\">\n",
       "#T_d3e83 th {\n",
       "  text-align: center;\n",
       "}\n",
       "#T_d3e83_row0_col0, #T_d3e83_row0_col1, #T_d3e83_row0_col2, #T_d3e83_row0_col3, #T_d3e83_row1_col0, #T_d3e83_row1_col1, #T_d3e83_row1_col2, #T_d3e83_row1_col3, #T_d3e83_row2_col0, #T_d3e83_row2_col1, #T_d3e83_row2_col2, #T_d3e83_row2_col3, #T_d3e83_row3_col0, #T_d3e83_row3_col1, #T_d3e83_row3_col2, #T_d3e83_row3_col3 {\n",
       "  text-align: center;\n",
       "}\n",
       "</style>\n",
       "<table id=\"T_d3e83\">\n",
       "  <caption>Iterations for Jacobi preconditioner</caption>\n",
       "  <thead>\n",
       "    <tr>\n",
       "      <th class=\"blank level0\" >&nbsp;</th>\n",
       "      <th id=\"T_d3e83_level0_col0\" class=\"col_heading level0 col0\" >Mesh size</th>\n",
       "      <th id=\"T_d3e83_level0_col1\" class=\"col_heading level0 col1\" >P1</th>\n",
       "      <th id=\"T_d3e83_level0_col2\" class=\"col_heading level0 col2\" >P2</th>\n",
       "      <th id=\"T_d3e83_level0_col3\" class=\"col_heading level0 col3\" >P3</th>\n",
       "    </tr>\n",
       "  </thead>\n",
       "  <tbody>\n",
       "    <tr>\n",
       "      <th id=\"T_d3e83_level0_row0\" class=\"row_heading level0 row0\" >0</th>\n",
       "      <td id=\"T_d3e83_row0_col0\" class=\"data row0 col0\" >0.100000</td>\n",
       "      <td id=\"T_d3e83_row0_col1\" class=\"data row0 col1\" >54</td>\n",
       "      <td id=\"T_d3e83_row0_col2\" class=\"data row0 col2\" >74</td>\n",
       "      <td id=\"T_d3e83_row0_col3\" class=\"data row0 col3\" >83</td>\n",
       "    </tr>\n",
       "    <tr>\n",
       "      <th id=\"T_d3e83_level0_row1\" class=\"row_heading level0 row1\" >1</th>\n",
       "      <td id=\"T_d3e83_row1_col0\" class=\"data row1 col0\" >0.050000</td>\n",
       "      <td id=\"T_d3e83_row1_col1\" class=\"data row1 col1\" >106</td>\n",
       "      <td id=\"T_d3e83_row1_col2\" class=\"data row1 col2\" >137</td>\n",
       "      <td id=\"T_d3e83_row1_col3\" class=\"data row1 col3\" >142</td>\n",
       "    </tr>\n",
       "    <tr>\n",
       "      <th id=\"T_d3e83_level0_row2\" class=\"row_heading level0 row2\" >2</th>\n",
       "      <td id=\"T_d3e83_row2_col0\" class=\"data row2 col0\" >0.025000</td>\n",
       "      <td id=\"T_d3e83_row2_col1\" class=\"data row2 col1\" >207</td>\n",
       "      <td id=\"T_d3e83_row2_col2\" class=\"data row2 col2\" >264</td>\n",
       "      <td id=\"T_d3e83_row2_col3\" class=\"data row2 col3\" >268</td>\n",
       "    </tr>\n",
       "    <tr>\n",
       "      <th id=\"T_d3e83_level0_row3\" class=\"row_heading level0 row3\" >3</th>\n",
       "      <td id=\"T_d3e83_row3_col0\" class=\"data row3 col0\" >0.012500</td>\n",
       "      <td id=\"T_d3e83_row3_col1\" class=\"data row3 col1\" >397</td>\n",
       "      <td id=\"T_d3e83_row3_col2\" class=\"data row3 col2\" >500</td>\n",
       "      <td id=\"T_d3e83_row3_col3\" class=\"data row3 col3\" >500</td>\n",
       "    </tr>\n",
       "  </tbody>\n",
       "</table>\n"
      ],
      "text/plain": [
       "<pandas.io.formats.style.Styler at 0x7f2ecfa96c80>"
      ]
     },
     "execution_count": 108,
     "metadata": {},
     "output_type": "execute_result"
    }
   ],
   "source": [
    "ps = [[], [], []]\n",
    "hs = [0.1, 0.05, 0.025, 0.0125]\n",
    "for p in [1,2,3]:\n",
    "    for h in hs:\n",
    "        ps[p-1].append(computeConditioning(h, p, 'CG', 'Jacobi'))\n",
    "tab1 = pd.DataFrame({'Mesh size':hs, \n",
    "                    \"P1\": ps[0], \"P2\": ps[1], \"P3\": ps[2]})\n",
    "\n",
    "display = tab1.style.set_caption('Iterations for Jacobi preconditioner').set_properties(**{'text-align': 'center'}).set_table_styles([dict(selector='th', props=[('text-align', 'center')])])\n",
    "display"
   ]
  },
  {
   "cell_type": "code",
   "execution_count": 109,
   "id": "74873ebf-ced7-4b1c-9448-6bf7bc53f96d",
   "metadata": {
    "editable": true,
    "slideshow": {
     "slide_type": "slide"
    },
    "tags": []
   },
   "outputs": [
    {
     "data": {
      "text/html": [
       "<style type=\"text/css\">\n",
       "#T_a6e15 th {\n",
       "  text-align: center;\n",
       "}\n",
       "#T_a6e15_row0_col0, #T_a6e15_row0_col1, #T_a6e15_row0_col2, #T_a6e15_row0_col3, #T_a6e15_row1_col0, #T_a6e15_row1_col1, #T_a6e15_row1_col2, #T_a6e15_row1_col3, #T_a6e15_row2_col0, #T_a6e15_row2_col1, #T_a6e15_row2_col2, #T_a6e15_row2_col3, #T_a6e15_row3_col0, #T_a6e15_row3_col1, #T_a6e15_row3_col2, #T_a6e15_row3_col3 {\n",
       "  text-align: center;\n",
       "}\n",
       "</style>\n",
       "<table id=\"T_a6e15\">\n",
       "  <caption>Iterations for CG+Gauss-Seidel</caption>\n",
       "  <thead>\n",
       "    <tr>\n",
       "      <th class=\"blank level0\" >&nbsp;</th>\n",
       "      <th id=\"T_a6e15_level0_col0\" class=\"col_heading level0 col0\" >Mesh size</th>\n",
       "      <th id=\"T_a6e15_level0_col1\" class=\"col_heading level0 col1\" >P1</th>\n",
       "      <th id=\"T_a6e15_level0_col2\" class=\"col_heading level0 col2\" >P2</th>\n",
       "      <th id=\"T_a6e15_level0_col3\" class=\"col_heading level0 col3\" >P3</th>\n",
       "    </tr>\n",
       "  </thead>\n",
       "  <tbody>\n",
       "    <tr>\n",
       "      <th id=\"T_a6e15_level0_row0\" class=\"row_heading level0 row0\" >0</th>\n",
       "      <td id=\"T_a6e15_row0_col0\" class=\"data row0 col0\" >0.100000</td>\n",
       "      <td id=\"T_a6e15_row0_col1\" class=\"data row0 col1\" >500</td>\n",
       "      <td id=\"T_a6e15_row0_col2\" class=\"data row0 col2\" >500</td>\n",
       "      <td id=\"T_a6e15_row0_col3\" class=\"data row0 col3\" >500</td>\n",
       "    </tr>\n",
       "    <tr>\n",
       "      <th id=\"T_a6e15_level0_row1\" class=\"row_heading level0 row1\" >1</th>\n",
       "      <td id=\"T_a6e15_row1_col0\" class=\"data row1 col0\" >0.050000</td>\n",
       "      <td id=\"T_a6e15_row1_col1\" class=\"data row1 col1\" >500</td>\n",
       "      <td id=\"T_a6e15_row1_col2\" class=\"data row1 col2\" >500</td>\n",
       "      <td id=\"T_a6e15_row1_col3\" class=\"data row1 col3\" >500</td>\n",
       "    </tr>\n",
       "    <tr>\n",
       "      <th id=\"T_a6e15_level0_row2\" class=\"row_heading level0 row2\" >2</th>\n",
       "      <td id=\"T_a6e15_row2_col0\" class=\"data row2 col0\" >0.025000</td>\n",
       "      <td id=\"T_a6e15_row2_col1\" class=\"data row2 col1\" >500</td>\n",
       "      <td id=\"T_a6e15_row2_col2\" class=\"data row2 col2\" >500</td>\n",
       "      <td id=\"T_a6e15_row2_col3\" class=\"data row2 col3\" >500</td>\n",
       "    </tr>\n",
       "    <tr>\n",
       "      <th id=\"T_a6e15_level0_row3\" class=\"row_heading level0 row3\" >3</th>\n",
       "      <td id=\"T_a6e15_row3_col0\" class=\"data row3 col0\" >0.012500</td>\n",
       "      <td id=\"T_a6e15_row3_col1\" class=\"data row3 col1\" >500</td>\n",
       "      <td id=\"T_a6e15_row3_col2\" class=\"data row3 col2\" >500</td>\n",
       "      <td id=\"T_a6e15_row3_col3\" class=\"data row3 col3\" >500</td>\n",
       "    </tr>\n",
       "  </tbody>\n",
       "</table>\n"
      ],
      "text/plain": [
       "<pandas.io.formats.style.Styler at 0x7f2ecf9ac7c0>"
      ]
     },
     "execution_count": 109,
     "metadata": {},
     "output_type": "execute_result"
    }
   ],
   "source": [
    "ps = [[], [], []]\n",
    "hs = [0.1, 0.05, 0.025, 0.0125]\n",
    "for p in [1,2,3]:\n",
    "    for h in hs:\n",
    "        ps[p-1].append(computeConditioning(h, p, 'CG', 'GSL'))\n",
    "tab1 = pd.DataFrame({'Mesh size':hs, \n",
    "                    \"P1\": ps[0], \"P2\": ps[1], \"P3\": ps[2]})\n",
    "\n",
    "display = tab1.style.set_caption('Iterations for CG+Gauss-Seidel').set_properties(**{'text-align': 'center'}).set_table_styles([dict(selector='th', props=[('text-align', 'center')])])\n",
    "display"
   ]
  },
  {
   "cell_type": "code",
   "execution_count": 110,
   "id": "2de46f50-e9e8-430f-9dc8-5490c9ef6cb1",
   "metadata": {
    "editable": true,
    "slideshow": {
     "slide_type": "slide"
    },
    "tags": []
   },
   "outputs": [
    {
     "data": {
      "text/html": [
       "<style type=\"text/css\">\n",
       "#T_f7ae6 th {\n",
       "  text-align: center;\n",
       "}\n",
       "#T_f7ae6_row0_col0, #T_f7ae6_row0_col1, #T_f7ae6_row0_col2, #T_f7ae6_row0_col3, #T_f7ae6_row1_col0, #T_f7ae6_row1_col1, #T_f7ae6_row1_col2, #T_f7ae6_row1_col3, #T_f7ae6_row2_col0, #T_f7ae6_row2_col1, #T_f7ae6_row2_col2, #T_f7ae6_row2_col3, #T_f7ae6_row3_col0, #T_f7ae6_row3_col1, #T_f7ae6_row3_col2, #T_f7ae6_row3_col3 {\n",
       "  text-align: center;\n",
       "}\n",
       "</style>\n",
       "<table id=\"T_f7ae6\">\n",
       "  <caption>Iterations for GMRES+Gauss-Seidel</caption>\n",
       "  <thead>\n",
       "    <tr>\n",
       "      <th class=\"blank level0\" >&nbsp;</th>\n",
       "      <th id=\"T_f7ae6_level0_col0\" class=\"col_heading level0 col0\" >Mesh size</th>\n",
       "      <th id=\"T_f7ae6_level0_col1\" class=\"col_heading level0 col1\" >P1</th>\n",
       "      <th id=\"T_f7ae6_level0_col2\" class=\"col_heading level0 col2\" >P2</th>\n",
       "      <th id=\"T_f7ae6_level0_col3\" class=\"col_heading level0 col3\" >P3</th>\n",
       "    </tr>\n",
       "  </thead>\n",
       "  <tbody>\n",
       "    <tr>\n",
       "      <th id=\"T_f7ae6_level0_row0\" class=\"row_heading level0 row0\" >0</th>\n",
       "      <td id=\"T_f7ae6_row0_col0\" class=\"data row0 col0\" >0.100000</td>\n",
       "      <td id=\"T_f7ae6_row0_col1\" class=\"data row0 col1\" >39</td>\n",
       "      <td id=\"T_f7ae6_row0_col2\" class=\"data row0 col2\" >45</td>\n",
       "      <td id=\"T_f7ae6_row0_col3\" class=\"data row0 col3\" >48</td>\n",
       "    </tr>\n",
       "    <tr>\n",
       "      <th id=\"T_f7ae6_level0_row1\" class=\"row_heading level0 row1\" >1</th>\n",
       "      <td id=\"T_f7ae6_row1_col0\" class=\"data row1 col0\" >0.050000</td>\n",
       "      <td id=\"T_f7ae6_row1_col1\" class=\"data row1 col1\" >78</td>\n",
       "      <td id=\"T_f7ae6_row1_col2\" class=\"data row1 col2\" >81</td>\n",
       "      <td id=\"T_f7ae6_row1_col3\" class=\"data row1 col3\" >81</td>\n",
       "    </tr>\n",
       "    <tr>\n",
       "      <th id=\"T_f7ae6_level0_row2\" class=\"row_heading level0 row2\" >2</th>\n",
       "      <td id=\"T_f7ae6_row2_col0\" class=\"data row2 col0\" >0.025000</td>\n",
       "      <td id=\"T_f7ae6_row2_col1\" class=\"data row2 col1\" >153</td>\n",
       "      <td id=\"T_f7ae6_row2_col2\" class=\"data row2 col2\" >153</td>\n",
       "      <td id=\"T_f7ae6_row2_col3\" class=\"data row2 col3\" >150</td>\n",
       "    </tr>\n",
       "    <tr>\n",
       "      <th id=\"T_f7ae6_level0_row3\" class=\"row_heading level0 row3\" >3</th>\n",
       "      <td id=\"T_f7ae6_row3_col0\" class=\"data row3 col0\" >0.012500</td>\n",
       "      <td id=\"T_f7ae6_row3_col1\" class=\"data row3 col1\" >300</td>\n",
       "      <td id=\"T_f7ae6_row3_col2\" class=\"data row3 col2\" >297</td>\n",
       "      <td id=\"T_f7ae6_row3_col3\" class=\"data row3 col3\" >288</td>\n",
       "    </tr>\n",
       "  </tbody>\n",
       "</table>\n"
      ],
      "text/plain": [
       "<pandas.io.formats.style.Styler at 0x7f2ecfb4c220>"
      ]
     },
     "execution_count": 110,
     "metadata": {},
     "output_type": "execute_result"
    }
   ],
   "source": [
    "ps = [[], [], []]\n",
    "hs = [0.1, 0.05, 0.025, 0.0125]\n",
    "for p in [1,2,3]:\n",
    "    for h in hs:\n",
    "        ps[p-1].append(computeConditioning(h, p, 'GMRES', 'GSL'))\n",
    "tab1 = pd.DataFrame({'Mesh size':hs, \n",
    "                    \"P1\": ps[0], \"P2\": ps[1], \"P3\": ps[2]})\n",
    "\n",
    "display = tab1.style.set_caption('Iterations for GMRES+Gauss-Seidel').set_properties(**{'text-align': 'center'}).set_table_styles([dict(selector='th', props=[('text-align', 'center')])])\n",
    "display"
   ]
  },
  {
   "cell_type": "code",
   "execution_count": 111,
   "id": "6b1e9bb6-ead2-4958-9922-127326397f1b",
   "metadata": {
    "editable": true,
    "slideshow": {
     "slide_type": "slide"
    },
    "tags": []
   },
   "outputs": [
    {
     "data": {
      "text/html": [
       "<style type=\"text/css\">\n",
       "#T_bc0d0 th {\n",
       "  text-align: center;\n",
       "}\n",
       "#T_bc0d0_row0_col0, #T_bc0d0_row0_col1, #T_bc0d0_row0_col2, #T_bc0d0_row0_col3, #T_bc0d0_row1_col0, #T_bc0d0_row1_col1, #T_bc0d0_row1_col2, #T_bc0d0_row1_col3, #T_bc0d0_row2_col0, #T_bc0d0_row2_col1, #T_bc0d0_row2_col2, #T_bc0d0_row2_col3, #T_bc0d0_row3_col0, #T_bc0d0_row3_col1, #T_bc0d0_row3_col2, #T_bc0d0_row3_col3 {\n",
       "  text-align: center;\n",
       "}\n",
       "</style>\n",
       "<table id=\"T_bc0d0\">\n",
       "  <caption>Iterations for GMRES+Symmetric Gauss-Seidel preconditioner</caption>\n",
       "  <thead>\n",
       "    <tr>\n",
       "      <th class=\"blank level0\" >&nbsp;</th>\n",
       "      <th id=\"T_bc0d0_level0_col0\" class=\"col_heading level0 col0\" >Mesh size</th>\n",
       "      <th id=\"T_bc0d0_level0_col1\" class=\"col_heading level0 col1\" >P1</th>\n",
       "      <th id=\"T_bc0d0_level0_col2\" class=\"col_heading level0 col2\" >P2</th>\n",
       "      <th id=\"T_bc0d0_level0_col3\" class=\"col_heading level0 col3\" >P3</th>\n",
       "    </tr>\n",
       "  </thead>\n",
       "  <tbody>\n",
       "    <tr>\n",
       "      <th id=\"T_bc0d0_level0_row0\" class=\"row_heading level0 row0\" >0</th>\n",
       "      <td id=\"T_bc0d0_row0_col0\" class=\"data row0 col0\" >0.100000</td>\n",
       "      <td id=\"T_bc0d0_row0_col1\" class=\"data row0 col1\" >26</td>\n",
       "      <td id=\"T_bc0d0_row0_col2\" class=\"data row0 col2\" >27</td>\n",
       "      <td id=\"T_bc0d0_row0_col3\" class=\"data row0 col3\" >30</td>\n",
       "    </tr>\n",
       "    <tr>\n",
       "      <th id=\"T_bc0d0_level0_row1\" class=\"row_heading level0 row1\" >1</th>\n",
       "      <td id=\"T_bc0d0_row1_col0\" class=\"data row1 col0\" >0.050000</td>\n",
       "      <td id=\"T_bc0d0_row1_col1\" class=\"data row1 col1\" >46</td>\n",
       "      <td id=\"T_bc0d0_row1_col2\" class=\"data row1 col2\" >47</td>\n",
       "      <td id=\"T_bc0d0_row1_col3\" class=\"data row1 col3\" >49</td>\n",
       "    </tr>\n",
       "    <tr>\n",
       "      <th id=\"T_bc0d0_level0_row2\" class=\"row_heading level0 row2\" >2</th>\n",
       "      <td id=\"T_bc0d0_row2_col0\" class=\"data row2 col0\" >0.025000</td>\n",
       "      <td id=\"T_bc0d0_row2_col1\" class=\"data row2 col1\" >87</td>\n",
       "      <td id=\"T_bc0d0_row2_col2\" class=\"data row2 col2\" >87</td>\n",
       "      <td id=\"T_bc0d0_row2_col3\" class=\"data row2 col3\" >88</td>\n",
       "    </tr>\n",
       "    <tr>\n",
       "      <th id=\"T_bc0d0_level0_row3\" class=\"row_heading level0 row3\" >3</th>\n",
       "      <td id=\"T_bc0d0_row3_col0\" class=\"data row3 col0\" >0.012500</td>\n",
       "      <td id=\"T_bc0d0_row3_col1\" class=\"data row3 col1\" >166</td>\n",
       "      <td id=\"T_bc0d0_row3_col2\" class=\"data row3 col2\" >166</td>\n",
       "      <td id=\"T_bc0d0_row3_col3\" class=\"data row3 col3\" >167</td>\n",
       "    </tr>\n",
       "  </tbody>\n",
       "</table>\n"
      ],
      "text/plain": [
       "<pandas.io.formats.style.Styler at 0x7f2ecfa97790>"
      ]
     },
     "execution_count": 111,
     "metadata": {},
     "output_type": "execute_result"
    }
   ],
   "source": [
    "ps = [[], [], []]\n",
    "hs = [0.1, 0.05, 0.025, 0.0125]\n",
    "for p in [1,2,3]:\n",
    "    for h in hs:\n",
    "        ps[p-1].append(computeConditioning(h, p, 'CG', 'GSS'))\n",
    "tab1 = pd.DataFrame({'Mesh size':hs, \n",
    "                    \"P1\": ps[0], \"P2\": ps[1], \"P3\": ps[2]})\n",
    "\n",
    "display = tab1.style.set_caption('Iterations for CG+Symmetric Gauss-Seidel preconditioner').set_properties(**{'text-align': 'center'}).set_table_styles([dict(selector='th', props=[('text-align', 'center')])])\n",
    "display"
   ]
  },
  {
   "cell_type": "code",
   "execution_count": 112,
   "id": "bacc1aaa-e389-446b-a74b-32cd4275205e",
   "metadata": {
    "editable": true,
    "slideshow": {
     "slide_type": "slide"
    },
    "tags": []
   },
   "outputs": [
    {
     "data": {
      "text/html": [
       "<style type=\"text/css\">\n",
       "#T_45d41 th {\n",
       "  text-align: center;\n",
       "}\n",
       "#T_45d41_row0_col0, #T_45d41_row0_col1, #T_45d41_row0_col2, #T_45d41_row0_col3, #T_45d41_row1_col0, #T_45d41_row1_col1, #T_45d41_row1_col2, #T_45d41_row1_col3, #T_45d41_row2_col0, #T_45d41_row2_col1, #T_45d41_row2_col2, #T_45d41_row2_col3, #T_45d41_row3_col0, #T_45d41_row3_col1, #T_45d41_row3_col2, #T_45d41_row3_col3 {\n",
       "  text-align: center;\n",
       "}\n",
       "</style>\n",
       "<table id=\"T_45d41\">\n",
       "  <caption>Iterations for GMRES+Symmetric Gauss-Seidel preconditioner</caption>\n",
       "  <thead>\n",
       "    <tr>\n",
       "      <th class=\"blank level0\" >&nbsp;</th>\n",
       "      <th id=\"T_45d41_level0_col0\" class=\"col_heading level0 col0\" >Mesh size</th>\n",
       "      <th id=\"T_45d41_level0_col1\" class=\"col_heading level0 col1\" >P1</th>\n",
       "      <th id=\"T_45d41_level0_col2\" class=\"col_heading level0 col2\" >P2</th>\n",
       "      <th id=\"T_45d41_level0_col3\" class=\"col_heading level0 col3\" >P3</th>\n",
       "    </tr>\n",
       "  </thead>\n",
       "  <tbody>\n",
       "    <tr>\n",
       "      <th id=\"T_45d41_level0_row0\" class=\"row_heading level0 row0\" >0</th>\n",
       "      <td id=\"T_45d41_row0_col0\" class=\"data row0 col0\" >0.100000</td>\n",
       "      <td id=\"T_45d41_row0_col1\" class=\"data row0 col1\" >25</td>\n",
       "      <td id=\"T_45d41_row0_col2\" class=\"data row0 col2\" >27</td>\n",
       "      <td id=\"T_45d41_row0_col3\" class=\"data row0 col3\" >31</td>\n",
       "    </tr>\n",
       "    <tr>\n",
       "      <th id=\"T_45d41_level0_row1\" class=\"row_heading level0 row1\" >1</th>\n",
       "      <td id=\"T_45d41_row1_col0\" class=\"data row1 col0\" >0.050000</td>\n",
       "      <td id=\"T_45d41_row1_col1\" class=\"data row1 col1\" >46</td>\n",
       "      <td id=\"T_45d41_row1_col2\" class=\"data row1 col2\" >47</td>\n",
       "      <td id=\"T_45d41_row1_col3\" class=\"data row1 col3\" >49</td>\n",
       "    </tr>\n",
       "    <tr>\n",
       "      <th id=\"T_45d41_level0_row2\" class=\"row_heading level0 row2\" >2</th>\n",
       "      <td id=\"T_45d41_row2_col0\" class=\"data row2 col0\" >0.025000</td>\n",
       "      <td id=\"T_45d41_row2_col1\" class=\"data row2 col1\" >87</td>\n",
       "      <td id=\"T_45d41_row2_col2\" class=\"data row2 col2\" >86</td>\n",
       "      <td id=\"T_45d41_row2_col3\" class=\"data row2 col3\" >87</td>\n",
       "    </tr>\n",
       "    <tr>\n",
       "      <th id=\"T_45d41_level0_row3\" class=\"row_heading level0 row3\" >3</th>\n",
       "      <td id=\"T_45d41_row3_col0\" class=\"data row3 col0\" >0.012500</td>\n",
       "      <td id=\"T_45d41_row3_col1\" class=\"data row3 col1\" >165</td>\n",
       "      <td id=\"T_45d41_row3_col2\" class=\"data row3 col2\" >162</td>\n",
       "      <td id=\"T_45d41_row3_col3\" class=\"data row3 col3\" >164</td>\n",
       "    </tr>\n",
       "  </tbody>\n",
       "</table>\n"
      ],
      "text/plain": [
       "<pandas.io.formats.style.Styler at 0x7f2ecf9aafe0>"
      ]
     },
     "execution_count": 112,
     "metadata": {},
     "output_type": "execute_result"
    }
   ],
   "source": [
    "ps = [[], [], []]\n",
    "hs = [0.1, 0.05, 0.025, 0.0125]\n",
    "for p in [1,2,3]:\n",
    "    for h in hs:\n",
    "        ps[p-1].append(computeConditioning(h, p, 'GMRES', 'GSS'))\n",
    "tab1 = pd.DataFrame({'Mesh size':hs, \n",
    "                    \"P1\": ps[0], \"P2\": ps[1], \"P3\": ps[2]})\n",
    "\n",
    "display = tab1.style.set_caption('Iterations for GMRES+Symmetric Gauss-Seidel preconditioner').set_properties(**{'text-align': 'center'}).set_table_styles([dict(selector='th', props=[('text-align', 'center')])])\n",
    "display"
   ]
  },
  {
   "cell_type": "code",
   "execution_count": 113,
   "id": "d9b39ac9-0d11-4722-939b-1fc436079d74",
   "metadata": {
    "editable": true,
    "slideshow": {
     "slide_type": "slide"
    },
    "tags": []
   },
   "outputs": [
    {
     "data": {
      "text/html": [
       "<style type=\"text/css\">\n",
       "#T_f9263 th {\n",
       "  text-align: center;\n",
       "}\n",
       "#T_f9263_row0_col0, #T_f9263_row0_col1, #T_f9263_row0_col2, #T_f9263_row0_col3, #T_f9263_row1_col0, #T_f9263_row1_col1, #T_f9263_row1_col2, #T_f9263_row1_col3, #T_f9263_row2_col0, #T_f9263_row2_col1, #T_f9263_row2_col2, #T_f9263_row2_col3, #T_f9263_row3_col0, #T_f9263_row3_col1, #T_f9263_row3_col2, #T_f9263_row3_col3 {\n",
       "  text-align: center;\n",
       "}\n",
       "</style>\n",
       "<table id=\"T_f9263\">\n",
       "  <caption>Iterations for CG+ILU preconditioner</caption>\n",
       "  <thead>\n",
       "    <tr>\n",
       "      <th class=\"blank level0\" >&nbsp;</th>\n",
       "      <th id=\"T_f9263_level0_col0\" class=\"col_heading level0 col0\" >Mesh size</th>\n",
       "      <th id=\"T_f9263_level0_col1\" class=\"col_heading level0 col1\" >P1</th>\n",
       "      <th id=\"T_f9263_level0_col2\" class=\"col_heading level0 col2\" >P2</th>\n",
       "      <th id=\"T_f9263_level0_col3\" class=\"col_heading level0 col3\" >P3</th>\n",
       "    </tr>\n",
       "  </thead>\n",
       "  <tbody>\n",
       "    <tr>\n",
       "      <th id=\"T_f9263_level0_row0\" class=\"row_heading level0 row0\" >0</th>\n",
       "      <td id=\"T_f9263_row0_col0\" class=\"data row0 col0\" >0.100000</td>\n",
       "      <td id=\"T_f9263_row0_col1\" class=\"data row0 col1\" >4</td>\n",
       "      <td id=\"T_f9263_row0_col2\" class=\"data row0 col2\" >7</td>\n",
       "      <td id=\"T_f9263_row0_col3\" class=\"data row0 col3\" >15</td>\n",
       "    </tr>\n",
       "    <tr>\n",
       "      <th id=\"T_f9263_level0_row1\" class=\"row_heading level0 row1\" >1</th>\n",
       "      <td id=\"T_f9263_row1_col0\" class=\"data row1 col0\" >0.050000</td>\n",
       "      <td id=\"T_f9263_row1_col1\" class=\"data row1 col1\" >5</td>\n",
       "      <td id=\"T_f9263_row1_col2\" class=\"data row1 col2\" >16</td>\n",
       "      <td id=\"T_f9263_row1_col3\" class=\"data row1 col3\" >500</td>\n",
       "    </tr>\n",
       "    <tr>\n",
       "      <th id=\"T_f9263_level0_row2\" class=\"row_heading level0 row2\" >2</th>\n",
       "      <td id=\"T_f9263_row2_col0\" class=\"data row2 col0\" >0.025000</td>\n",
       "      <td id=\"T_f9263_row2_col1\" class=\"data row2 col1\" >7</td>\n",
       "      <td id=\"T_f9263_row2_col2\" class=\"data row2 col2\" >500</td>\n",
       "      <td id=\"T_f9263_row2_col3\" class=\"data row2 col3\" >500</td>\n",
       "    </tr>\n",
       "    <tr>\n",
       "      <th id=\"T_f9263_level0_row3\" class=\"row_heading level0 row3\" >3</th>\n",
       "      <td id=\"T_f9263_row3_col0\" class=\"data row3 col0\" >0.012500</td>\n",
       "      <td id=\"T_f9263_row3_col1\" class=\"data row3 col1\" >500</td>\n",
       "      <td id=\"T_f9263_row3_col2\" class=\"data row3 col2\" >500</td>\n",
       "      <td id=\"T_f9263_row3_col3\" class=\"data row3 col3\" >500</td>\n",
       "    </tr>\n",
       "  </tbody>\n",
       "</table>\n"
      ],
      "text/plain": [
       "<pandas.io.formats.style.Styler at 0x7f2ecf9ab070>"
      ]
     },
     "execution_count": 113,
     "metadata": {},
     "output_type": "execute_result"
    }
   ],
   "source": [
    "ps = [[], [], []]\n",
    "hs = [0.1, 0.05, 0.025, 0.0125]\n",
    "for p in [1,2,3]:\n",
    "    for h in hs:\n",
    "        ps[p-1].append(computeConditioning(h, p, 'CG', 'ILU'))\n",
    "tab1 = pd.DataFrame({'Mesh size':hs, \n",
    "                    \"P1\": ps[0], \"P2\": ps[1], \"P3\": ps[2]})\n",
    "\n",
    "display = tab1.style.set_caption('Iterations for CG+ILU preconditioner').set_properties(**{'text-align': 'center'}).set_table_styles([dict(selector='th', props=[('text-align', 'center')])])\n",
    "display"
   ]
  },
  {
   "cell_type": "code",
   "execution_count": 114,
   "id": "8242cd5a-bcd9-4564-a9c3-95cd6976e8e3",
   "metadata": {
    "editable": true,
    "slideshow": {
     "slide_type": "slide"
    },
    "tags": []
   },
   "outputs": [
    {
     "data": {
      "text/html": [
       "<style type=\"text/css\">\n",
       "#T_34f67 th {\n",
       "  text-align: center;\n",
       "}\n",
       "#T_34f67_row0_col0, #T_34f67_row0_col1, #T_34f67_row0_col2, #T_34f67_row0_col3, #T_34f67_row1_col0, #T_34f67_row1_col1, #T_34f67_row1_col2, #T_34f67_row1_col3, #T_34f67_row2_col0, #T_34f67_row2_col1, #T_34f67_row2_col2, #T_34f67_row2_col3, #T_34f67_row3_col0, #T_34f67_row3_col1, #T_34f67_row3_col2, #T_34f67_row3_col3 {\n",
       "  text-align: center;\n",
       "}\n",
       "</style>\n",
       "<table id=\"T_34f67\">\n",
       "  <caption>Iterations for GMRES+ILU preconditioner</caption>\n",
       "  <thead>\n",
       "    <tr>\n",
       "      <th class=\"blank level0\" >&nbsp;</th>\n",
       "      <th id=\"T_34f67_level0_col0\" class=\"col_heading level0 col0\" >Mesh size</th>\n",
       "      <th id=\"T_34f67_level0_col1\" class=\"col_heading level0 col1\" >P1</th>\n",
       "      <th id=\"T_34f67_level0_col2\" class=\"col_heading level0 col2\" >P2</th>\n",
       "      <th id=\"T_34f67_level0_col3\" class=\"col_heading level0 col3\" >P3</th>\n",
       "    </tr>\n",
       "  </thead>\n",
       "  <tbody>\n",
       "    <tr>\n",
       "      <th id=\"T_34f67_level0_row0\" class=\"row_heading level0 row0\" >0</th>\n",
       "      <td id=\"T_34f67_row0_col0\" class=\"data row0 col0\" >0.100000</td>\n",
       "      <td id=\"T_34f67_row0_col1\" class=\"data row0 col1\" >3</td>\n",
       "      <td id=\"T_34f67_row0_col2\" class=\"data row0 col2\" >4</td>\n",
       "      <td id=\"T_34f67_row0_col3\" class=\"data row0 col3\" >5</td>\n",
       "    </tr>\n",
       "    <tr>\n",
       "      <th id=\"T_34f67_level0_row1\" class=\"row_heading level0 row1\" >1</th>\n",
       "      <td id=\"T_34f67_row1_col0\" class=\"data row1 col0\" >0.050000</td>\n",
       "      <td id=\"T_34f67_row1_col1\" class=\"data row1 col1\" >4</td>\n",
       "      <td id=\"T_34f67_row1_col2\" class=\"data row1 col2\" >5</td>\n",
       "      <td id=\"T_34f67_row1_col3\" class=\"data row1 col3\" >5</td>\n",
       "    </tr>\n",
       "    <tr>\n",
       "      <th id=\"T_34f67_level0_row2\" class=\"row_heading level0 row2\" >2</th>\n",
       "      <td id=\"T_34f67_row2_col0\" class=\"data row2 col0\" >0.025000</td>\n",
       "      <td id=\"T_34f67_row2_col1\" class=\"data row2 col1\" >4</td>\n",
       "      <td id=\"T_34f67_row2_col2\" class=\"data row2 col2\" >5</td>\n",
       "      <td id=\"T_34f67_row2_col3\" class=\"data row2 col3\" >5</td>\n",
       "    </tr>\n",
       "    <tr>\n",
       "      <th id=\"T_34f67_level0_row3\" class=\"row_heading level0 row3\" >3</th>\n",
       "      <td id=\"T_34f67_row3_col0\" class=\"data row3 col0\" >0.012500</td>\n",
       "      <td id=\"T_34f67_row3_col1\" class=\"data row3 col1\" >66</td>\n",
       "      <td id=\"T_34f67_row3_col2\" class=\"data row3 col2\" >71</td>\n",
       "      <td id=\"T_34f67_row3_col3\" class=\"data row3 col3\" >7</td>\n",
       "    </tr>\n",
       "  </tbody>\n",
       "</table>\n"
      ],
      "text/plain": [
       "<pandas.io.formats.style.Styler at 0x7f2ecf9ab130>"
      ]
     },
     "execution_count": 114,
     "metadata": {},
     "output_type": "execute_result"
    }
   ],
   "source": [
    "ps = [[], [], []]\n",
    "hs = [0.1, 0.05, 0.025, 0.0125]\n",
    "for p in [1,2,3]:\n",
    "    for h in hs:\n",
    "        ps[p-1].append(computeConditioning(h, p, 'GMRES', 'ILU'))\n",
    "tab1 = pd.DataFrame({'Mesh size':hs, \n",
    "                    \"P1\": ps[0], \"P2\": ps[1], \"P3\": ps[2]})\n",
    "\n",
    "display = tab1.style.set_caption('Iterations for GMRES+ILU preconditioner').set_properties(**{'text-align': 'center'}).set_table_styles([dict(selector='th', props=[('text-align', 'center')])])\n",
    "display"
   ]
  },
  {
   "cell_type": "markdown",
   "id": "c7afd0f6-1188-4ccd-b5d1-9eba0b5706ec",
   "metadata": {
    "editable": true,
    "slideshow": {
     "slide_type": "slide"
    },
    "tags": []
   },
   "source": [
    "# Intuitions\n",
    "\n",
    "- The preconditioner _approximates_ the inverse\n",
    "- SPD hypothesis of CG is FUNDAMENTAL\n",
    "- GMRES is more robust than CG\n",
    "- GMRES is NOT better than CG when CG can be used\n",
    "- FEM problems are ill-posed"
   ]
  }
 ],
 "metadata": {
  "kernelspec": {
   "display_name": "Python 3 (ipykernel)",
   "language": "python",
   "name": "python3"
  },
  "language_info": {
   "codemirror_mode": {
    "name": "ipython",
    "version": 3
   },
   "file_extension": ".py",
   "mimetype": "text/x-python",
   "name": "python",
   "nbconvert_exporter": "python",
   "pygments_lexer": "ipython3",
   "version": "3.10.12"
  }
 },
 "nbformat": 4,
 "nbformat_minor": 5
}
