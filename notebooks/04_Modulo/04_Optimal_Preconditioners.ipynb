{
 "cells": [
  {
   "cell_type": "markdown",
   "id": "034f75a4-2a14-406f-8851-c5327cf5934a",
   "metadata": {
    "editable": true,
    "jp-MarkdownHeadingCollapsed": true,
    "slideshow": {
     "slide_type": "slide"
    },
    "tags": []
   },
   "source": [
    "<hr style=\"border:2px solid #0176DE\"> </hr>\n",
    "<center><h1 style=\"color:#173F8A;\"> EMI 2024 - CMM Chile</h1></center>\n",
    "<hr style=\"border:2px solid #0176DE\"> </hr>\n",
    "<h3 style=\"color:#173F8A;text-align:right;\"> Profesores: &nbsp;Nicolás Barnafi<br>Manuel A. Sanchez<br></h3>\n",
    "\n",
    "<h3 style=\"color:#03122E;text-align:right;\"> \n",
    "    Centro de Modelamiento Matematico <br> \n",
    "    Instituto de Ingenieria Matematica y Computacional - IMC UC<br>  \n",
    "</h3>\n",
    "\n",
    "<hr style=\"border:2px solid #03122E\"> </hr>\n",
    "<center><h1 style=\"color:#173F8A;\"> Modulo 4: Precondicionadores optimales</h1></center> \n",
    "<hr style=\"border:2px solid #03122E\"> </hr>\n",
    "\n",
    "<!-- Palette colors UC:\n",
    "Primaria: \n",
    "celeste:#0176DE, azul #173F8A, azul oscuro: #03122E, amarillo: #FEC60D, amarillo oscuro: #E3AE00 \n",
    "Secundaria\n",
    "gris oscuro: #707070\n",
    "-->"
   ]
  },
  {
   "cell_type": "markdown",
   "id": "0c0f4673-d3a7-4daa-b338-0df4cee9f64f",
   "metadata": {
    "editable": true,
    "slideshow": {
     "slide_type": "slide"
    },
    "tags": []
   },
   "source": [
    "# Optimal preconditioners\n",
    "\n",
    "$$ P^{-1}Ax = P^{-1}b $$\n",
    "    \n",
    "- In FEM, a preconditioner is optimal if\n",
    "    $$ \\rho( P_h^{-1} A_h ) < C\\qquad \\forall h>0 $$\n",
    "- One fundamental concept to understand: *spectral equivalence*\n",
    "- The best candidates for optimal preconditioners: Domain decomposition & (Algebraic) Multigrid\n",
    "- For block systems, we have block factorization:\n",
    "      $$ \\newcommand{\\mat}{\\mathbf} \\begin{bmatrix} \\mat A&\\mat B^T\\\\ \\mat B &-\\mat C\\end{bmatrix} =\n",
    "        \\begin{bmatrix} \\mat I & \\\\ \\mat B\\mat A^{-1} & \\mat I \\end{bmatrix}\n",
    "        \\begin{bmatrix} \\mat A & \\\\ & \\mat S \\end{bmatrix}\n",
    "        \\begin{bmatrix} \\mat I & \\mat A^{-1} \\mat B^T \\\\ & \\mat I \\end{bmatrix} $$\n",
    "  where $ \\mathbf S = -\\mathbf C -\\mathbf B \\mathbf A^{-1} \\mathbf B^T $ "
   ]
  },
  {
   "cell_type": "markdown",
   "id": "35e0fb79-75e0-4a8f-ad26-2192c0bb2308",
   "metadata": {
    "editable": true,
    "slideshow": {
     "slide_type": "slide"
    },
    "tags": []
   },
   "source": [
    "# Spectral equivalence\n",
    "\n",
    "Def: $A,B$ are *spectrally equivalent* if the eigenvalues $\\lambda$ of $B^{-1}A$ satisfy $c_1 \\leq \\lambda \\leq c_2$\n",
    "\n",
    "- A common technique to show that two _operators_ are spectrally equivalent is to show instead that\n",
    "    $$ c_1 \\langle Bx, x\\rangle \\leq \\langle Ax, x\\rangle \\leq c_2 \\langle Bx, x\\rangle $$ \n",
    "-  A simple example: $A= -\\mathrm{div}\\,\\kappa \\nabla u $ with $B=-\\Delta u$\n",
    "-  A much less simple example from CFD: $A=\\mathrm{div}(\\Delta)^{-1}\\nabla$ and $P=I$ "
   ]
  },
  {
   "cell_type": "markdown",
   "id": "a10fed74-ddd2-44fb-bc72-37462d799eb0",
   "metadata": {
    "editable": true,
    "slideshow": {
     "slide_type": "slide"
    },
    "tags": []
   },
   "source": [
    "Now we solve the following problem\n",
    "    $$ \\mathcal L_\\mu u = -\\mathrm{div}\\,\\mu(x,y)\\nabla u = 1 $$\n",
    "where $\\mu = 1 +\\omega\\sin(4\\pi x)\\sin(4\\pi y)$. We test the following 4 cases:\n",
    "1. $\\mathbf A = \\mathbf P = \\mathcal L_\\mu$, $\\omega=0.3$ -> \"Direct solver\"\n",
    "2. $\\mathbf A = \\mathcal L_\\mu$, $\\mathbf P = -\\Delta$, $\\omega=0.3$ -> \"Spectrally equivalent direct solver\"\n",
    "3. Case 1 with big $\\omega=0.9$\n",
    "4. Case 2 with big $\\omega=0.9$"
   ]
  },
  {
   "cell_type": "code",
   "execution_count": 1,
   "id": "1c68e6e0-04e0-49aa-aada-17ebcc88478d",
   "metadata": {
    "editable": true,
    "slideshow": {
     "slide_type": "subslide"
    },
    "tags": []
   },
   "outputs": [
    {
     "data": {
      "text/html": [
       "<script src='https://cdnjs.cloudflare.com/ajax/libs/mathjax/2.7.3/latest.js?config=default'></script>"
      ],
      "text/plain": [
       "<IPython.core.display.HTML object>"
      ]
     },
     "metadata": {},
     "output_type": "display_data"
    }
   ],
   "source": [
    "from ngsolve import *\n",
    "from ngsolve.webgui import Draw\n",
    "from netgen.geom2d import unit_square\n",
    "from ngsolve.krylovspace import CGSolver\n",
    "import pandas as pd\n",
    "\n",
    "# These two lines include mathjax, so that pandas can diplay LaTeX\n",
    "from IPython.display import HTML, Math\n",
    "display(HTML(\"<script src='https://cdnjs.cloudflare.com/ajax/libs/mathjax/2.7.3/\"\n",
    "             \"latest.js?config=default'></script>\"))"
   ]
  },
  {
   "cell_type": "code",
   "execution_count": null,
   "id": "25eeac01-d101-4947-974e-b029f66a487b",
   "metadata": {
    "editable": true,
    "slideshow": {
     "slide_type": "subslide"
    },
    "tags": []
   },
   "outputs": [],
   "source": [
    "def getSystem(maxh, p, omega, preconditioner, use_equivalent=False):\n",
    "    mesh = Mesh(unit_square.GenerateMesh(maxh=maxh))\n",
    "    V = H1(mesh, order=p, dirichlet=\"left\")\n",
    "    u, v = V.TnT()\n",
    "    mu = 1 + omega * sin(4 * pi * x) * sin(4 * pi * y)\n",
    "    form = InnerProduct(mu * Grad(u), Grad(v))*dx #+ u * v * dx\n",
    "    formP = InnerProduct(Grad(u), Grad(v))*dx #+ u * v * dx\n",
    "    a = BilinearForm(form)\n",
    "    aP_form = BilinearForm(formP) if use_equivalent else a \n",
    "    aP = Preconditioner(aP_form, preconditioner)\n",
    "    a.Assemble()\n",
    "    aP_form.Assemble()\n",
    "    f = LinearForm(v*dx).Assemble()\n",
    "    gf = GridFunction(V)\n",
    "    return a, aP, f, gf, V"
   ]
  },
  {
   "cell_type": "code",
   "execution_count": null,
   "id": "62ebe56a-aad7-41b9-98ff-8d49012e816c",
   "metadata": {
    "editable": true,
    "slideshow": {
     "slide_type": "subslide"
    },
    "tags": []
   },
   "outputs": [],
   "source": [
    "def getIts(a, aP, f, gf):\n",
    "    inv = CGSolver(mat=a.mat, pre=aP.mat, printrates=False, maxiter=200) \n",
    "    gf.vec.data = inv * f.vec\n",
    "    return inv.iterations"
   ]
  },
  {
   "cell_type": "code",
   "execution_count": 12,
   "id": "b5d6ca70-65ee-4691-b815-ae963648d711",
   "metadata": {
    "editable": true,
    "slideshow": {
     "slide_type": "subslide"
    },
    "tags": []
   },
   "outputs": [],
   "source": [
    "# Direct solver on spectrally equivalent operator\n",
    "hs = [0.05, 0.02, 0.01]#, 0.0075, 0.005, 0.0025]\n",
    "\n",
    "dofs = []\n",
    "iterations_direct_no_equiv = []\n",
    "iterations_direct_equiv = []\n",
    "iterations_direct_no_equiv_big_omega = []\n",
    "iterations_direct_equiv_big_omega = []\n",
    "omega_small = 0.3\n",
    "omega_big = 0.9\n",
    "for h in hs:\n",
    "    #print(\"========= Running h={:1.4f}\".format(h))\n",
    "    a, aP, f, gf, V = getSystem(h, 1, omega_small, \"direct\", False)\n",
    "    dofs.append(V.ndofglobal)\n",
    "    # Direct, no equiv\n",
    "    iterations_direct_no_equiv.append(getIts(a, aP, f, gf))\n",
    "    # Direct, equiv\n",
    "    a, aP, f, gf, V = getSystem(h, 1, omega_small, \"direct\", True)\n",
    "    iterations_direct_equiv.append(getIts(a, aP, f, gf))\n",
    "    # Same with big omegas\n",
    "    a, aP, f, gf, V = getSystem(h, 1, omega_big, \"direct\", False)\n",
    "    iterations_direct_no_equiv_big_omega.append(getIts(a, aP, f, gf))\n",
    "    # Direct, equiv\n",
    "    a, aP, f, gf, V = getSystem(h, 1, omega_big, \"direct\", True)\n",
    "    iterations_direct_equiv_big_omega.append(getIts(a, aP, f, gf))"
   ]
  },
  {
   "cell_type": "code",
   "execution_count": 15,
   "id": "9e5cbd2d-a924-4f6a-a393-51d70780c539",
   "metadata": {
    "editable": true,
    "slideshow": {
     "slide_type": "subslide"
    },
    "tags": []
   },
   "outputs": [],
   "source": [
    "tab1 = pd.DataFrame({'DoFs':dofs, \n",
    "                    \"$\\mathbf P = \\mathcal L_\\mu$\": iterations_direct_no_equiv,\n",
    "                    \"$\\mathbf P = \\Delta$\": iterations_direct_equiv,\n",
    "                    '$\\mathbf P = \\mathcal L_\\mu$, [big $\\omega$]': iterations_direct_no_equiv_big_omega,\n",
    "                    '$\\mathbf P = \\Delta$, [big $\\omega$]': iterations_direct_equiv_big_omega})"
   ]
  },
  {
   "cell_type": "code",
   "execution_count": 16,
   "id": "a3820cea-cfc9-40b4-82ce-9f0e3db6d41b",
   "metadata": {
    "editable": true,
    "slideshow": {
     "slide_type": "slide"
    },
    "tags": []
   },
   "outputs": [
    {
     "data": {
      "text/html": [
       "<style type=\"text/css\">\n",
       "#T_4c278_row0_col0, #T_4c278_row0_col1, #T_4c278_row0_col2, #T_4c278_row0_col3, #T_4c278_row0_col4, #T_4c278_row1_col0, #T_4c278_row1_col1, #T_4c278_row1_col2, #T_4c278_row1_col3, #T_4c278_row1_col4, #T_4c278_row2_col0, #T_4c278_row2_col1, #T_4c278_row2_col2, #T_4c278_row2_col3, #T_4c278_row2_col4 {\n",
       "  text-align: center;\n",
       "}\n",
       "</style>\n",
       "<table id=\"T_4c278\">\n",
       "  <caption>Number of CG iterations</caption>\n",
       "  <thead>\n",
       "    <tr>\n",
       "      <th class=\"blank level0\" >&nbsp;</th>\n",
       "      <th id=\"T_4c278_level0_col0\" class=\"col_heading level0 col0\" >DoFs</th>\n",
       "      <th id=\"T_4c278_level0_col1\" class=\"col_heading level0 col1\" >$\\mathbf P = \\mathcal L_\\mu$</th>\n",
       "      <th id=\"T_4c278_level0_col2\" class=\"col_heading level0 col2\" >$\\mathbf P = \\Delta$</th>\n",
       "      <th id=\"T_4c278_level0_col3\" class=\"col_heading level0 col3\" >$\\mathbf P = \\mathcal L_\\mu$ [big $\\omega$]</th>\n",
       "      <th id=\"T_4c278_level0_col4\" class=\"col_heading level0 col4\" >$\\mathbf P = \\Delta$, [big $\\omega$]</th>\n",
       "    </tr>\n",
       "  </thead>\n",
       "  <tbody>\n",
       "    <tr>\n",
       "      <th id=\"T_4c278_level0_row0\" class=\"row_heading level0 row0\" >0</th>\n",
       "      <td id=\"T_4c278_row0_col0\" class=\"data row0 col0\" >511</td>\n",
       "      <td id=\"T_4c278_row0_col1\" class=\"data row0 col1\" >2</td>\n",
       "      <td id=\"T_4c278_row0_col2\" class=\"data row0 col2\" >15</td>\n",
       "      <td id=\"T_4c278_row0_col3\" class=\"data row0 col3\" >2</td>\n",
       "      <td id=\"T_4c278_row0_col4\" class=\"data row0 col4\" >44</td>\n",
       "    </tr>\n",
       "    <tr>\n",
       "      <th id=\"T_4c278_level0_row1\" class=\"row_heading level0 row1\" >1</th>\n",
       "      <td id=\"T_4c278_row1_col0\" class=\"data row1 col0\" >3007</td>\n",
       "      <td id=\"T_4c278_row1_col1\" class=\"data row1 col1\" >2</td>\n",
       "      <td id=\"T_4c278_row1_col2\" class=\"data row1 col2\" >16</td>\n",
       "      <td id=\"T_4c278_row1_col3\" class=\"data row1 col3\" >2</td>\n",
       "      <td id=\"T_4c278_row1_col4\" class=\"data row1 col4\" >54</td>\n",
       "    </tr>\n",
       "    <tr>\n",
       "      <th id=\"T_4c278_level0_row2\" class=\"row_heading level0 row2\" >2</th>\n",
       "      <td id=\"T_4c278_row2_col0\" class=\"data row2 col0\" >11786</td>\n",
       "      <td id=\"T_4c278_row2_col1\" class=\"data row2 col1\" >2</td>\n",
       "      <td id=\"T_4c278_row2_col2\" class=\"data row2 col2\" >16</td>\n",
       "      <td id=\"T_4c278_row2_col3\" class=\"data row2 col3\" >2</td>\n",
       "      <td id=\"T_4c278_row2_col4\" class=\"data row2 col4\" >55</td>\n",
       "    </tr>\n",
       "  </tbody>\n",
       "</table>\n"
      ],
      "text/plain": [
       "<pandas.io.formats.style.Styler at 0x7f43cf58f640>"
      ]
     },
     "execution_count": 16,
     "metadata": {},
     "output_type": "execute_result"
    }
   ],
   "source": [
    "display = tab1.style.set_caption('Number of CG iterations').set_properties(**{'text-align': 'center'})\n",
    "display"
   ]
  },
  {
   "cell_type": "markdown",
   "id": "1ec633f9-61d2-4e19-98ec-291dd4500114",
   "metadata": {
    "editable": true,
    "slideshow": {
     "slide_type": "slide"
    },
    "tags": []
   },
   "source": [
    "Now we solve the same problem\n",
    "    $$ \\mathcal L_\\mu u = -\\mathrm{div}\\,\\mu(x,y)\\nabla u = 1 $$\n",
    "where $\\mu = 1 +\\omega\\sin(4\\pi x)\\sin(4\\pi y)$. We test the following 4 cases:\n",
    "1. $\\mathbf A = \\mathbf P = \\mathcal L_\\mu$, $\\omega=0.3$ -> \"Direct solver\"\n",
    "2. $\\mathbf A = \\mathcal L_\\mu$, $\\mathbf P = -\\mathrm{MG}[\\mathcal L_\\mu]$, $\\omega=0.3$ -> \"Spectrally equivalent direct solver\"\n",
    "3. Case 1 with spectrally equivalent operator $\\mathbf P = -\\Delta$\n",
    "4. Case 2 with spectrally equivalent operator $\\mathbf P = -\\Delta$"
   ]
  },
  {
   "cell_type": "code",
   "execution_count": 17,
   "id": "94d95759-14e1-425d-821e-831a1f3f9701",
   "metadata": {
    "editable": true,
    "slideshow": {
     "slide_type": "subslide"
    },
    "tags": []
   },
   "outputs": [
    {
     "name": "stdout",
     "output_type": "stream",
     "text": [
      "========= Running h=0.0500\n",
      "========= Running h=0.0200\n",
      "========= Running h=0.0100\n"
     ]
    }
   ],
   "source": [
    "# Same with optimal preconditioner (AMG)\n",
    "iterations_precon_no_equiv = []\n",
    "iterations_precon_equiv = []\n",
    "omega = omega_big\n",
    "for h in hs:\n",
    "    print(\"========= Running h={:1.4f}\".format(h))\n",
    "    # Preconditioned, no equiv\n",
    "    a, aP, f, gf, V = getSystem(h, 1, omega, \"h1amg\", False)\n",
    "    iterations_precon_no_equiv.append(getIts(a, aP, f, gf))\n",
    "    # Preconditioned, equiv\n",
    "    a, aP, f, gf, V = getSystem(h, 1, omega, \"h1amg\", True)\n",
    "    iterations_precon_equiv.append(getIts(a, aP, f, gf))"
   ]
  },
  {
   "cell_type": "code",
   "execution_count": 26,
   "id": "a081ebe9-f2de-45c5-96ee-d9307997825f",
   "metadata": {
    "editable": true,
    "slideshow": {
     "slide_type": "subslide"
    },
    "tags": []
   },
   "outputs": [],
   "source": [
    "tab2 = pd.DataFrame({'DoFs':dofs, \n",
    "                    '$\\mathbf P = \\mathcal L_\\mu$': iterations_direct_no_equiv,\n",
    "                    '$\\mathbf P$ &asymp; $\\mathcal L_\\mu$': iterations_precon_no_equiv,\n",
    "                    '$\\mathbf P = \\Delta$': iterations_direct_equiv,\n",
    "                    '$\\mathbf P$ &asymp; $\\Delta$': iterations_precon_equiv})"
   ]
  },
  {
   "cell_type": "code",
   "execution_count": 27,
   "id": "da6d8fcf-a417-43ce-a617-362b207097f1",
   "metadata": {
    "editable": true,
    "slideshow": {
     "slide_type": "slide"
    },
    "tags": []
   },
   "outputs": [
    {
     "data": {
      "text/html": [
       "<style type=\"text/css\">\n",
       "#T_356fd_row0_col0, #T_356fd_row0_col1, #T_356fd_row0_col2, #T_356fd_row0_col3, #T_356fd_row0_col4, #T_356fd_row1_col0, #T_356fd_row1_col1, #T_356fd_row1_col2, #T_356fd_row1_col3, #T_356fd_row1_col4, #T_356fd_row2_col0, #T_356fd_row2_col1, #T_356fd_row2_col2, #T_356fd_row2_col3, #T_356fd_row2_col4 {\n",
       "  text-align: center;\n",
       "}\n",
       "</style>\n",
       "<table id=\"T_356fd\">\n",
       "  <caption>Number of CG iterations</caption>\n",
       "  <thead>\n",
       "    <tr>\n",
       "      <th class=\"blank level0\" >&nbsp;</th>\n",
       "      <th id=\"T_356fd_level0_col0\" class=\"col_heading level0 col0\" >DoFs</th>\n",
       "      <th id=\"T_356fd_level0_col1\" class=\"col_heading level0 col1\" >$\\mathbf P = \\mathcal L_\\mu$</th>\n",
       "      <th id=\"T_356fd_level0_col2\" class=\"col_heading level0 col2\" >$\\mathbf P$ &asymp; $\\mathcal L_\\mu$</th>\n",
       "      <th id=\"T_356fd_level0_col3\" class=\"col_heading level0 col3\" >$\\mathbf P = \\Delta$</th>\n",
       "      <th id=\"T_356fd_level0_col4\" class=\"col_heading level0 col4\" >$\\mathbf P$ &asymp; $\\Delta$</th>\n",
       "    </tr>\n",
       "  </thead>\n",
       "  <tbody>\n",
       "    <tr>\n",
       "      <th id=\"T_356fd_level0_row0\" class=\"row_heading level0 row0\" >0</th>\n",
       "      <td id=\"T_356fd_row0_col0\" class=\"data row0 col0\" >511</td>\n",
       "      <td id=\"T_356fd_row0_col1\" class=\"data row0 col1\" >2</td>\n",
       "      <td id=\"T_356fd_row0_col2\" class=\"data row0 col2\" >19</td>\n",
       "      <td id=\"T_356fd_row0_col3\" class=\"data row0 col3\" >15</td>\n",
       "      <td id=\"T_356fd_row0_col4\" class=\"data row0 col4\" >45</td>\n",
       "    </tr>\n",
       "    <tr>\n",
       "      <th id=\"T_356fd_level0_row1\" class=\"row_heading level0 row1\" >1</th>\n",
       "      <td id=\"T_356fd_row1_col0\" class=\"data row1 col0\" >3007</td>\n",
       "      <td id=\"T_356fd_row1_col1\" class=\"data row1 col1\" >2</td>\n",
       "      <td id=\"T_356fd_row1_col2\" class=\"data row1 col2\" >25</td>\n",
       "      <td id=\"T_356fd_row1_col3\" class=\"data row1 col3\" >16</td>\n",
       "      <td id=\"T_356fd_row1_col4\" class=\"data row1 col4\" >58</td>\n",
       "    </tr>\n",
       "    <tr>\n",
       "      <th id=\"T_356fd_level0_row2\" class=\"row_heading level0 row2\" >2</th>\n",
       "      <td id=\"T_356fd_row2_col0\" class=\"data row2 col0\" >11786</td>\n",
       "      <td id=\"T_356fd_row2_col1\" class=\"data row2 col1\" >2</td>\n",
       "      <td id=\"T_356fd_row2_col2\" class=\"data row2 col2\" >30</td>\n",
       "      <td id=\"T_356fd_row2_col3\" class=\"data row2 col3\" >16</td>\n",
       "      <td id=\"T_356fd_row2_col4\" class=\"data row2 col4\" >66</td>\n",
       "    </tr>\n",
       "  </tbody>\n",
       "</table>\n"
      ],
      "text/plain": [
       "<pandas.io.formats.style.Styler at 0x7f43cf58f7c0>"
      ]
     },
     "execution_count": 27,
     "metadata": {},
     "output_type": "execute_result"
    }
   ],
   "source": [
    "display = tab2.style.set_caption('Number of CG iterations').set_properties(**{'text-align': 'center'})\n",
    "display"
   ]
  },
  {
   "cell_type": "markdown",
   "id": "29cc77fe-7f23-4394-94a3-f14b30805a96",
   "metadata": {
    "editable": true,
    "slideshow": {
     "slide_type": "slide"
    },
    "tags": []
   },
   "source": [
    "# Multilevel methods\n",
    "\n",
    "- Recursive\n",
    "- Optimal\n",
    "- Scalable\n",
    "- Taylored for each specific problem...\n",
    "\n",
    "  $$\\rho( \\mathbf P_\\text{ML}^{-1} \\mathbf A) < C$$"
   ]
  },
  {
   "cell_type": "markdown",
   "id": "cd6e9561-5679-42df-b7d5-68b6cc75abdb",
   "metadata": {
    "editable": true,
    "slideshow": {
     "slide_type": "slide"
    },
    "tags": []
   },
   "source": [
    "# Multigrid method skeleton\n",
    "\n",
    "We require a projection operator $\\mathbf \\Pi$ (extension is $\\mathbf \\Pi^T$). Iteration $z = \\mathrm{MG}[b - \\mathbf A x, k]$:\n",
    "1. Pre-smoothing: $$ x \\leftarrow x + \\mathbf P_\\text{pre}^{-1}(b - \\mathbf A x) $$\n",
    "2. Coarse solve: $$ x \\leftarrow x + \\mathbf \\Pi^T \\mathrm{MG}(\\mathbf \\Pi[b - \\mathbf A x, k-1]) $$\n",
    "3. Post-smoothing: $$ x \\leftarrow x + \\mathbf P_\\text{post}^{-1}(b - \\mathbf A x) $$\n",
    "\n",
    "- $\\mathrm{MG}[\\cdot, 0]$ is (usually) a direct solver\n",
    "- $\\mathbf P_{\\star}$ is (usually) a smoother method (Jacobi, Gauss-Seidel, SOR, etc)"
   ]
  },
  {
   "cell_type": "markdown",
   "id": "251e4ea9-23d8-423d-b9c9-1dd7d6990c3f",
   "metadata": {
    "editable": true,
    "slideshow": {
     "slide_type": "slide"
    },
    "tags": []
   },
   "source": [
    "![Multigrid depiction](https://www.researchgate.net/profile/Piotr-Sypek-2/publication/4104513/figure/fig2/AS:669977363349515@1536746459391/The-examples-of-multigrid-schemes-The-V-cycle-is-the-basic-component-of-multigrid.png)"
   ]
  },
  {
   "cell_type": "code",
   "execution_count": 6,
   "id": "929791df-4fe1-4de4-b3ac-56f936c0a402",
   "metadata": {
    "editable": true,
    "slideshow": {
     "slide_type": "slide"
    },
    "tags": []
   },
   "outputs": [],
   "source": [
    "class MGPreconditioner(BaseMatrix):\n",
    "    def __init__ (self, fes, level, mat, coarsepre):\n",
    "        super().__init__()\n",
    "        self.fes = fes\n",
    "        self.level = level\n",
    "        self.mat = mat\n",
    "        self.coarsepre = coarsepre\n",
    "        self.localpre = mat.CreateSmoother(fes.FreeDofs()) \\\n",
    "                            if level > 0 else mat.Inverse(fes.FreeDofs())\n",
    "    def Mult (self, d, w):\n",
    "        if self.level == 0:\n",
    "            w.data = self.localpre * d\n",
    "            return\n",
    "\n",
    "        prol = self.fes.Prolongation().Operator(self.level)\n",
    "\n",
    "        w[:] = 0\n",
    "        self.localpre.Smooth(w,d)\n",
    "        res  = d - self.mat * w\n",
    "        w += prol @ self.coarsepre @ prol.T * res\n",
    "        self.localpre.SmoothBack(w,d)\n",
    "\n",
    "\n",
    "    def Shape (self):\n",
    "        return self.localpre.shape\n",
    "    def CreateVector (self, col):\n",
    "        return self.localpre.CreateVector(col)\n",
    "\n"
   ]
  },
  {
   "cell_type": "code",
   "execution_count": 28,
   "id": "214d5608-ec5d-44ac-8f90-2c11574729a4",
   "metadata": {
    "editable": true,
    "slideshow": {
     "slide_type": "subslide"
    },
    "tags": []
   },
   "outputs": [],
   "source": [
    "from time import perf_counter as time\n",
    "mesh = Mesh(unit_square.GenerateMesh(maxh=0.3))\n",
    "\n",
    "fes = H1(mesh,order=1, dirichlet=\".*\", autoupdate=True)\n",
    "u,v = fes.TnT()\n",
    "a = BilinearForm(grad(u)*grad(v)*dx)\n",
    "a.Assemble()\n",
    "pre = MGPreconditioner(fes, 0, a.mat, None)\n",
    "from ngsolve.krylovspace import CGSolver\n",
    "\n",
    "dofs = []\n",
    "iterations = []\n",
    "times = []\n",
    "levels = 9\n",
    "for l in range(levels):\n",
    "    mesh.Refine()\n",
    "    a.Assemble()\n",
    "    t0 = time()\n",
    "    pre = MGPreconditioner(fes,l+1, a.mat, pre)\n",
    "    inv = CGSolver(mat=a.mat, pre=pre, printrates=False, maxiter=200, tol=1e-8) \n",
    "    f = LinearForm(1*v*dx).Assemble()\n",
    "    gf = GridFunction(fes)\n",
    "    gf.vec.data = inv * f.vec\n",
    "    tf = time() - t0\n",
    "    dofs.append(fes.ndofglobal)\n",
    "    iterations.append(inv.iterations)\n",
    "    times.append(tf)"
   ]
  },
  {
   "cell_type": "code",
   "execution_count": 30,
   "id": "3a0ea5ac-d5da-4130-9b0b-d8622ac4ae06",
   "metadata": {
    "editable": true,
    "slideshow": {
     "slide_type": "slide"
    },
    "tags": []
   },
   "outputs": [
    {
     "data": {
      "text/html": [
       "<style type=\"text/css\">\n",
       "#T_86241_row0_col0, #T_86241_row0_col1, #T_86241_row0_col2, #T_86241_row1_col0, #T_86241_row1_col1, #T_86241_row1_col2, #T_86241_row2_col0, #T_86241_row2_col1, #T_86241_row2_col2, #T_86241_row3_col0, #T_86241_row3_col1, #T_86241_row3_col2, #T_86241_row4_col0, #T_86241_row4_col1, #T_86241_row4_col2, #T_86241_row5_col0, #T_86241_row5_col1, #T_86241_row5_col2, #T_86241_row6_col0, #T_86241_row6_col1, #T_86241_row6_col2, #T_86241_row7_col0, #T_86241_row7_col1, #T_86241_row7_col2, #T_86241_row8_col0, #T_86241_row8_col1, #T_86241_row8_col2 {\n",
       "  text-align: center;\n",
       "}\n",
       "</style>\n",
       "<table id=\"T_86241\">\n",
       "  <caption>CG+MG iterations</caption>\n",
       "  <thead>\n",
       "    <tr>\n",
       "      <th class=\"blank level0\" >&nbsp;</th>\n",
       "      <th id=\"T_86241_level0_col0\" class=\"col_heading level0 col0\" >Dofs</th>\n",
       "      <th id=\"T_86241_level0_col1\" class=\"col_heading level0 col1\" >Iterations</th>\n",
       "      <th id=\"T_86241_level0_col2\" class=\"col_heading level0 col2\" >CPU time</th>\n",
       "    </tr>\n",
       "  </thead>\n",
       "  <tbody>\n",
       "    <tr>\n",
       "      <th id=\"T_86241_level0_row0\" class=\"row_heading level0 row0\" >0</th>\n",
       "      <td id=\"T_86241_row0_col0\" class=\"data row0 col0\" >61</td>\n",
       "      <td id=\"T_86241_row0_col1\" class=\"data row0 col1\" >8</td>\n",
       "      <td id=\"T_86241_row0_col2\" class=\"data row0 col2\" >0.134305</td>\n",
       "    </tr>\n",
       "    <tr>\n",
       "      <th id=\"T_86241_level0_row1\" class=\"row_heading level0 row1\" >1</th>\n",
       "      <td id=\"T_86241_row1_col0\" class=\"data row1 col0\" >217</td>\n",
       "      <td id=\"T_86241_row1_col1\" class=\"data row1 col1\" >10</td>\n",
       "      <td id=\"T_86241_row1_col2\" class=\"data row1 col2\" >0.001351</td>\n",
       "    </tr>\n",
       "    <tr>\n",
       "      <th id=\"T_86241_level0_row2\" class=\"row_heading level0 row2\" >2</th>\n",
       "      <td id=\"T_86241_row2_col0\" class=\"data row2 col0\" >817</td>\n",
       "      <td id=\"T_86241_row2_col1\" class=\"data row2 col1\" >11</td>\n",
       "      <td id=\"T_86241_row2_col2\" class=\"data row2 col2\" >0.002235</td>\n",
       "    </tr>\n",
       "    <tr>\n",
       "      <th id=\"T_86241_level0_row3\" class=\"row_heading level0 row3\" >3</th>\n",
       "      <td id=\"T_86241_row3_col0\" class=\"data row3 col0\" >3169</td>\n",
       "      <td id=\"T_86241_row3_col1\" class=\"data row3 col1\" >11</td>\n",
       "      <td id=\"T_86241_row3_col2\" class=\"data row3 col2\" >0.004112</td>\n",
       "    </tr>\n",
       "    <tr>\n",
       "      <th id=\"T_86241_level0_row4\" class=\"row_heading level0 row4\" >4</th>\n",
       "      <td id=\"T_86241_row4_col0\" class=\"data row4 col0\" >12481</td>\n",
       "      <td id=\"T_86241_row4_col1\" class=\"data row4 col1\" >11</td>\n",
       "      <td id=\"T_86241_row4_col2\" class=\"data row4 col2\" >0.010370</td>\n",
       "    </tr>\n",
       "    <tr>\n",
       "      <th id=\"T_86241_level0_row5\" class=\"row_heading level0 row5\" >5</th>\n",
       "      <td id=\"T_86241_row5_col0\" class=\"data row5 col0\" >49537</td>\n",
       "      <td id=\"T_86241_row5_col1\" class=\"data row5 col1\" >11</td>\n",
       "      <td id=\"T_86241_row5_col2\" class=\"data row5 col2\" >0.033911</td>\n",
       "    </tr>\n",
       "    <tr>\n",
       "      <th id=\"T_86241_level0_row6\" class=\"row_heading level0 row6\" >6</th>\n",
       "      <td id=\"T_86241_row6_col0\" class=\"data row6 col0\" >197377</td>\n",
       "      <td id=\"T_86241_row6_col1\" class=\"data row6 col1\" >11</td>\n",
       "      <td id=\"T_86241_row6_col2\" class=\"data row6 col2\" >0.136172</td>\n",
       "    </tr>\n",
       "    <tr>\n",
       "      <th id=\"T_86241_level0_row7\" class=\"row_heading level0 row7\" >7</th>\n",
       "      <td id=\"T_86241_row7_col0\" class=\"data row7 col0\" >787969</td>\n",
       "      <td id=\"T_86241_row7_col1\" class=\"data row7 col1\" >11</td>\n",
       "      <td id=\"T_86241_row7_col2\" class=\"data row7 col2\" >0.572955</td>\n",
       "    </tr>\n",
       "    <tr>\n",
       "      <th id=\"T_86241_level0_row8\" class=\"row_heading level0 row8\" >8</th>\n",
       "      <td id=\"T_86241_row8_col0\" class=\"data row8 col0\" >3148801</td>\n",
       "      <td id=\"T_86241_row8_col1\" class=\"data row8 col1\" >11</td>\n",
       "      <td id=\"T_86241_row8_col2\" class=\"data row8 col2\" >2.481022</td>\n",
       "    </tr>\n",
       "  </tbody>\n",
       "</table>\n"
      ],
      "text/plain": [
       "<pandas.io.formats.style.Styler at 0x7f43cf620220>"
      ]
     },
     "execution_count": 30,
     "metadata": {},
     "output_type": "execute_result"
    }
   ],
   "source": [
    "tab3 = pd.DataFrame({'Dofs': dofs, 'Iterations': iterations, 'CPU time': times})\n",
    "display = tab3.style.set_properties(**{'text-align': 'center'}).set_caption('CG+MG iterations')\n",
    "display"
   ]
  },
  {
   "cell_type": "markdown",
   "id": "fba661aa-a5bc-4b66-ac56-a2f258a83615",
   "metadata": {
    "editable": true,
    "slideshow": {
     "slide_type": "slide"
    },
    "tags": []
   },
   "source": [
    "# Takeaways\n",
    "\n",
    "- PRECONDITIONED iterative methods are better than direct solvers\n",
    "- ... but harder\n",
    "- Optimal solvers give *predictable* performance\n",
    "- Preconditioners can be *anything*"
   ]
  }
 ],
 "metadata": {
  "kernelspec": {
   "display_name": "Python 3 (ipykernel)",
   "language": "python",
   "name": "python3"
  },
  "language_info": {
   "codemirror_mode": {
    "name": "ipython",
    "version": 3
   },
   "file_extension": ".py",
   "mimetype": "text/x-python",
   "name": "python",
   "nbconvert_exporter": "python",
   "pygments_lexer": "ipython3",
   "version": "3.10.12"
  }
 },
 "nbformat": 4,
 "nbformat_minor": 5
}
